{
 "cells": [
  {
   "cell_type": "code",
   "execution_count": 4,
   "id": "dbf89626-04a5-497e-b222-02a92fb911cf",
   "metadata": {},
   "outputs": [],
   "source": [
    "from huggingface_hub import login\n",
    "\n",
    "# hugging face api 토큰 입력\n",
    "api_token = \"****\"\n",
    "login(api_token)"
   ]
  },
  {
   "cell_type": "code",
   "execution_count": 5,
   "id": "00b4bf86-dca3-4147-8a4e-d162525f77cf",
   "metadata": {},
   "outputs": [
    {
     "data": {
      "application/vnd.jupyter.widget-view+json": {
       "model_id": "8b06929144f14717be4f2f3818f85370",
       "version_major": 2,
       "version_minor": 0
      },
      "text/plain": [
       "config.json:   0%|          | 0.00/627 [00:00<?, ?B/s]"
      ]
     },
     "metadata": {},
     "output_type": "display_data"
    },
    {
     "data": {
      "application/vnd.jupyter.widget-view+json": {
       "model_id": "cb3c90128efb423182f9ddf2647fb04f",
       "version_major": 2,
       "version_minor": 0
      },
      "text/plain": [
       "model.safetensors.index.json:   0%|          | 0.00/13.5k [00:00<?, ?B/s]"
      ]
     },
     "metadata": {},
     "output_type": "display_data"
    },
    {
     "data": {
      "application/vnd.jupyter.widget-view+json": {
       "model_id": "1043d12d6e5f420d834a79ed6c2b168f",
       "version_major": 2,
       "version_minor": 0
      },
      "text/plain": [
       "Downloading shards:   0%|          | 0/2 [00:00<?, ?it/s]"
      ]
     },
     "metadata": {},
     "output_type": "display_data"
    },
    {
     "data": {
      "application/vnd.jupyter.widget-view+json": {
       "model_id": "7fc9c1ba040f4cf48902b342640dba6a",
       "version_major": 2,
       "version_minor": 0
      },
      "text/plain": [
       "model-00001-of-00002.safetensors:   0%|          | 0.00/4.95G [00:00<?, ?B/s]"
      ]
     },
     "metadata": {},
     "output_type": "display_data"
    },
    {
     "data": {
      "application/vnd.jupyter.widget-view+json": {
       "model_id": "57236b4a8cd347e3b7235688bff166d2",
       "version_major": 2,
       "version_minor": 0
      },
      "text/plain": [
       "model-00002-of-00002.safetensors:   0%|          | 0.00/67.1M [00:00<?, ?B/s]"
      ]
     },
     "metadata": {},
     "output_type": "display_data"
    },
    {
     "data": {
      "application/vnd.jupyter.widget-view+json": {
       "model_id": "754ddcf9838c43d9ba3b6bb239374ff6",
       "version_major": 2,
       "version_minor": 0
      },
      "text/plain": [
       "Loading checkpoint shards:   0%|          | 0/2 [00:00<?, ?it/s]"
      ]
     },
     "metadata": {},
     "output_type": "display_data"
    },
    {
     "data": {
      "application/vnd.jupyter.widget-view+json": {
       "model_id": "3621fa260e544215a7ee086235f2dee4",
       "version_major": 2,
       "version_minor": 0
      },
      "text/plain": [
       "generation_config.json:   0%|          | 0.00/137 [00:00<?, ?B/s]"
      ]
     },
     "metadata": {},
     "output_type": "display_data"
    },
    {
     "data": {
      "application/vnd.jupyter.widget-view+json": {
       "model_id": "c253ee23a3af4053ba7228a4c4cf57d4",
       "version_major": 2,
       "version_minor": 0
      },
      "text/plain": [
       "tokenizer_config.json:   0%|          | 0.00/34.2k [00:00<?, ?B/s]"
      ]
     },
     "metadata": {},
     "output_type": "display_data"
    },
    {
     "data": {
      "application/vnd.jupyter.widget-view+json": {
       "model_id": "1b75f684f4184b339ef5f64a8f95f4d4",
       "version_major": 2,
       "version_minor": 0
      },
      "text/plain": [
       "tokenizer.model:   0%|          | 0.00/4.24M [00:00<?, ?B/s]"
      ]
     },
     "metadata": {},
     "output_type": "display_data"
    },
    {
     "data": {
      "application/vnd.jupyter.widget-view+json": {
       "model_id": "ddeaf63cf22547389a80bb6210bcc32a",
       "version_major": 2,
       "version_minor": 0
      },
      "text/plain": [
       "tokenizer.json:   0%|          | 0.00/17.5M [00:00<?, ?B/s]"
      ]
     },
     "metadata": {},
     "output_type": "display_data"
    },
    {
     "data": {
      "application/vnd.jupyter.widget-view+json": {
       "model_id": "bac0a21a76b54635ab5a6a10d9e8c2c0",
       "version_major": 2,
       "version_minor": 0
      },
      "text/plain": [
       "special_tokens_map.json:   0%|          | 0.00/636 [00:00<?, ?B/s]"
      ]
     },
     "metadata": {},
     "output_type": "display_data"
    }
   ],
   "source": [
    "import torch\n",
    "import wandb\n",
    "\n",
    "from sklearn.model_selection import train_test_split\n",
    "\n",
    "from transformers import (\n",
    "    AutoModelForCausalLM,\n",
    "    AutoTokenizer,\n",
    "    TrainingArguments,\n",
    "    pipeline, \n",
    "    Trainer\n",
    ")\n",
    "from transformers.integrations import WandbCallback\n",
    "from trl import DataCollatorForCompletionOnlyLM\n",
    "import evaluate\n",
    "\n",
    "# 모델과 토크나이저 불러오기 \n",
    "model_name = \"google/gemma-2b-it\"\n",
    "model = AutoModelForCausalLM.from_pretrained(model_name,\n",
    "    use_cache=False,    # 캐시 사용 안함\n",
    "    device_map=\"auto\",  # 장치 설정, GPU가 있으면 GPU가 선택되고, GPU가 없으면 CPU가 선택\n",
    "    torch_dtype=torch.bfloat16,  # 파이토치에서 사용할 데이터 형식, bfloat16: 16비트는 사용하는 부동소수점 형식, float16보다 더 넓은 범위 수 표현, 수치 안정성\n",
    "    low_cpu_mem_usage=True,      # CPU 메모리를 최소화 하면서 모델을 불러옴\n",
    "    attn_implementation=\"eager\",  # 어떤 어텐션 메커니즘을 사용할건지, eager: 기본 메커니즘, 저사양용\n",
    ")\n",
    "tokenizer = AutoTokenizer.from_pretrained(model_name)"
   ]
  },
  {
   "cell_type": "code",
   "execution_count": 6,
   "id": "dc40839d-67ec-4e78-9e0b-7688e10cec54",
   "metadata": {},
   "outputs": [
    {
     "data": {
      "application/vnd.jupyter.widget-view+json": {
       "model_id": "31defd5b6f2b4c18a56c72716ac35322",
       "version_major": 2,
       "version_minor": 0
      },
      "text/plain": [
       "dataset (1).csv:   0%|          | 0.00/77.8M [00:00<?, ?B/s]"
      ]
     },
     "metadata": {},
     "output_type": "display_data"
    },
    {
     "data": {
      "application/vnd.jupyter.widget-view+json": {
       "model_id": "6fe4c2c593d842e6a3c6e4a7ce3e7385",
       "version_major": 2,
       "version_minor": 0
      },
      "text/plain": [
       "Generating train split:   0%|          | 0/24300 [00:00<?, ? examples/s]"
      ]
     },
     "metadata": {},
     "output_type": "display_data"
    },
    {
     "data": {
      "text/plain": [
       "{'original': ' “동선 봐도 도움이 안 되는 것 같아요.\\n  어딘지 알아야 피해가고 조심할 텐데요.\\n ”“확진자가 다녀간 곳은 방역 마쳤는데 동선 공개는 그 부근 일대를 싹 다 죽이자는 것 같아요.\\n ” 최근 부천시 페이스북 신종 코로나바이러스 감염증(코로나19) 관련 게시물에는 확진자 동선 공개 범위를 성토하는 댓글이 여럿 달렸다.\\n  물류센터·교회 발 코로나19 확산이 지역사회 N차 감염으로 이어지면서 확진자 동선을 확대 공개해야 한다는 주장이 제기된 가운데 사생활 침해 등을 근거로 반대하는 의견도 나오면서 동선공개 논란에 다시 불이 붙는 모양새다.\\n  지난 2월 코로나19 초기엔 확진자 동선이 대부분 공개됐다.\\n  쇼핑몰을 방문한 확진자가 시간대별로 어느 매장을 찾았는지 등의 동선이 지자체 소셜네트워크서비스(SNS)에 게재됐다.\\n  이후 사생활 침해 논란이 일자 질본은 감염병 예방에 필요한 정보에 한해 확진자 정보를 공개하라는 권고사항을 발표했다.\\n  권고사항에는 증상 발생 2일 전부터 격리일까지의 시간, 감염을 우려할 만큼의 확진자와의 접촉이 일어난 장소 및 수단 등을 공개한다는 내용이 담겼다.\\n  해당 공간 내 모든 접촉자가 파악되면 공개하지 않을 수 있다는 단서도 추가됐다.\\n  확진자가 마지막 접촉자와 만날 일로부터 14일이 지나면 공개한 동선을 삭제할 것도 권고했다.\\n  확진 늘자 동선공개 확대 나선 지자체 물류센터·교회 등 집단감염에 이어 감염경로가 특정되지 않은 확진 사례가 늘면서 일부 지자체는 동선 공개 범위를 확대하고 있다.\\n  김포시는 지난 2일부터 확진자 이동 경로에 따른 동선 공개 원칙을 제한적으로 확대했다.\\n  시민 우려 불식을 위해 확진자 방문으로 접촉자가 다수 발생하고 확산이 우려되는 장소는 상호를 공개하기로 한 것이다.\\n  앞서 부천 118번 확진자인 A씨(31)가 한 제약회사 영업사원인 사실이 알려지면서 SNS에 그가 다닌 병원 정보가 공유됐다.\\n  장덕천 부천시장은 “SNS에 A씨가 평소 다니는 병원이 공유되고 있는데 평소 영업하는 곳이 모두 문제 되는 것이 아니라 증상발현 이틀 전 이후 방문한 곳이 문제가 된다.\\n  잘못된 정보를 경계해달라”고 말했다.\\n  이에 확진자 관련해 잘못된 정보가 퍼지는 것을 막기 위해서라도 보건당국이 확진자 정보를 자세히 공개해야 하다는 지적이 나왔다.\\n  부천시에 사는 김모(32)씨는 “깜깜이 확진자가 늘어서 걱정인데 온라인에 확진자 관련 루머가 많다”며 “관련 사항을 명확히 알려줬으면 좋겠다”고 말했다.\\n ',\n",
       " 'summary': '물류센터·교회 발 코로나19 확산이 지역사회 N차 감염으로 이어지면서 확진자 동선을 확대 공개해야 한다는 주장이 제기된 가운데 사생활 침해 등을 근거로 반대하는 의견도 나오면서 동선공개 논란에 다시 불이 붙는 모양새다. 이후 사생활 침해 논란이 일자 질본은 감염병 예방에 필요한 정보에 한해 확진자 정보를 공개하라는 권고사항을 발표했다.'}"
      ]
     },
     "execution_count": 6,
     "metadata": {},
     "output_type": "execute_result"
    }
   ],
   "source": [
    "# 데이터셋 준비\n",
    "import datasets\n",
    "dataset = datasets.load_dataset(\"jaehy12/news3\")  # original에는 뉴스의 원문이, summary에는 해당 원문을 한두 문장 정도로 요약한 내용이 들어있음\n",
    "element = dataset[\"train\"][1]\n",
    "element"
   ]
  },
  {
   "cell_type": "code",
   "execution_count": 7,
   "id": "07659c94-74ce-443e-ad46-e0fa591322c5",
   "metadata": {},
   "outputs": [],
   "source": [
    "# Gemma 모델 기본 기능 확인하기\n",
    "# 1. 키워드 추출 기능 확인\n",
    "input_text = \"\"\"\n",
    "다음 텍스트를 한국어로 간단히 요약해주세요: \\n 김해국제공항에서 발생한 에어부산(BX391편) 여객기 화재 사고 원인을 규명하기 위한 조사가 한창인 가운데 에어부산이\n",
    "기내 화재 위험 최소화 정책을 발표했다. 해당 정책에는 휴대 수하물 내 보조배터리 소지 유무를 사전 확인·통제하고 안내방송 확대와 객실승무원 훈련을 강화하는 내용 등이 담겼다.\n",
    "에어부산은 4일 보조배터리 기내 탑재 사례가 증가하며 발열 등 이상 현상 발생 빈도가 높아진 데 따라 이 같은 정책을 수립했다고 밝혔다. 에어부산이 내놓은 정책에서 주목할 부분은\n",
    "휴대 수하물 내 보조배터리 소지 유무를 사전 확인하는 절차다. 에어부산은 탑승구에서 휴대 수하물 내 배터리 소지 유무를 사전 확인하고, 기내에서는 탑승구에서 확인을 완료한 수하물만\n",
    "선반에 보관될 수 있도록 통제를 강화할 방침이다. 이는 탑승구에서 휴대 수하물 내 배터리가 있는지를 점검해 스티커나 택(TAG) 등의 별도 표식을 부착하고 기내에서는 표식이 부착된\n",
    "수하물만 선반 보관이 가능하도록 허용하겠다는 의미다. 해당 정책은 오는 7일부터 일부 노선에서 시범 운영을 거쳐 전 노선으로 확대 운영할 계획이다. 이 외에도 예약·발권과 탑승수속\n",
    "단계에서 기존 안내에 더해 보조배터리 기내 선반 탑재 금지에 대한 동의 절차를 시행하고, 출발 1일 전 예약 고객 대상 별도의 안내 문자를 발송하는 등 안내도 강화한다.\n",
    "기내 안내 방송도 기존 2회에서 3회로 확대 시행하기로 했다. 에어부산은 한층 구체적이고 명확한 내용으로 기내 안내 방송문을 보완해 지난달 말부터 변경 적용한 바 있다.\n",
    "이 외에도 객실승무원 훈련도 강화할 방침이다. 또 배터리 화재 발생 시 열폭주와 폭발 위험을 최소화할 수 있는 장비(Lithium battery fire containment pouch)와 방화장갑\n",
    "등을 구매·구비할 계획도 밝혔다. 최근 조사당국은 화재 원인을 규명하기 위해 합동 감식에 나서는 등 사고 관련 조사 진행이 한창이다. 항공·철도사고조사위원회와 프랑스\n",
    "사고조사당국(BEA), 국립과학수사연구원, 경찰 과학수사대, 소방으로 구성된 합동조사팀은 현장에서 수집한 증거물을 국립과학수사연구원 등으로 옮겨 정밀 감식을 진행 중인 것으로\n",
    "알려졌다. 이 외에도 사조위는 관계자와 목격자 진술을 받고 폐쇄회로(CC)TV 영상과 블랙박스를 분석하는 등의 조사를 진행 중이다. 정병섭 에어부산 대표이사는\n",
    "\"기내 화재에 대한 손님들의 우려와 불안을 해소하고 안전한 여행 환경을 확보하기 위해 에어부산이 선제적으로 강화 정책을 수립하게 됐다\"며 \"사내 종사자들의 안전의식 고취와\n",
    "역량 강화를 비롯해 항공 안전 문화 확산을 위해서도 지속적으로 노력해 나가겠다\"고 밝혔다. 앞서 지난달 28일 오후 부산에서 홍콩으로 운항하려던 에어부산 BX391편은 김해공항\n",
    "계류장에 머무르던 중 항공기 내부 뒤편에서 불이 나기 시작해 동체 상부를 태웠다. 당시 탑승했던 170명 승객과 6명의 승무원은 비상 슬라이드를 통해 탈출했으며,\n",
    "이 과정에서 7명이 경상을 입었다.\n",
    "\"\"\""
   ]
  },
  {
   "cell_type": "code",
   "execution_count": 8,
   "id": "c9a69323-540c-4e15-a14a-b859170d79ba",
   "metadata": {},
   "outputs": [
    {
     "data": {
      "text/plain": [
       "[{'role': 'user',\n",
       "  'content': '\\n다음 텍스트를 한국어로 간단히 요약해주세요: \\n 김해국제공항에서 발생한 에어부산(BX391편) 여객기 화재 사고 원인을 규명하기 위한 조사가 한창인 가운데 에어부산이\\n기내 화재 위험 최소화 정책을 발표했다. 해당 정책에는 휴대 수하물 내 보조배터리 소지 유무를 사전 확인·통제하고 안내방송 확대와 객실승무원 훈련을 강화하는 내용 등이 담겼다.\\n에어부산은 4일 보조배터리 기내 탑재 사례가 증가하며 발열 등 이상 현상 발생 빈도가 높아진 데 따라 이 같은 정책을 수립했다고 밝혔다. 에어부산이 내놓은 정책에서 주목할 부분은\\n휴대 수하물 내 보조배터리 소지 유무를 사전 확인하는 절차다. 에어부산은 탑승구에서 휴대 수하물 내 배터리 소지 유무를 사전 확인하고, 기내에서는 탑승구에서 확인을 완료한 수하물만\\n선반에 보관될 수 있도록 통제를 강화할 방침이다. 이는 탑승구에서 휴대 수하물 내 배터리가 있는지를 점검해 스티커나 택(TAG) 등의 별도 표식을 부착하고 기내에서는 표식이 부착된\\n수하물만 선반 보관이 가능하도록 허용하겠다는 의미다. 해당 정책은 오는 7일부터 일부 노선에서 시범 운영을 거쳐 전 노선으로 확대 운영할 계획이다. 이 외에도 예약·발권과 탑승수속\\n단계에서 기존 안내에 더해 보조배터리 기내 선반 탑재 금지에 대한 동의 절차를 시행하고, 출발 1일 전 예약 고객 대상 별도의 안내 문자를 발송하는 등 안내도 강화한다.\\n기내 안내 방송도 기존 2회에서 3회로 확대 시행하기로 했다. 에어부산은 한층 구체적이고 명확한 내용으로 기내 안내 방송문을 보완해 지난달 말부터 변경 적용한 바 있다.\\n이 외에도 객실승무원 훈련도 강화할 방침이다. 또 배터리 화재 발생 시 열폭주와 폭발 위험을 최소화할 수 있는 장비(Lithium battery fire containment pouch)와 방화장갑\\n등을 구매·구비할 계획도 밝혔다. 최근 조사당국은 화재 원인을 규명하기 위해 합동 감식에 나서는 등 사고 관련 조사 진행이 한창이다. 항공·철도사고조사위원회와 프랑스\\n사고조사당국(BEA), 국립과학수사연구원, 경찰 과학수사대, 소방으로 구성된 합동조사팀은 현장에서 수집한 증거물을 국립과학수사연구원 등으로 옮겨 정밀 감식을 진행 중인 것으로\\n알려졌다. 이 외에도 사조위는 관계자와 목격자 진술을 받고 폐쇄회로(CC)TV 영상과 블랙박스를 분석하는 등의 조사를 진행 중이다. 정병섭 에어부산 대표이사는\\n\"기내 화재에 대한 손님들의 우려와 불안을 해소하고 안전한 여행 환경을 확보하기 위해 에어부산이 선제적으로 강화 정책을 수립하게 됐다\"며 \"사내 종사자들의 안전의식 고취와\\n역량 강화를 비롯해 항공 안전 문화 확산을 위해서도 지속적으로 노력해 나가겠다\"고 밝혔다. 앞서 지난달 28일 오후 부산에서 홍콩으로 운항하려던 에어부산 BX391편은 김해공항\\n계류장에 머무르던 중 항공기 내부 뒤편에서 불이 나기 시작해 동체 상부를 태웠다. 당시 탑승했던 170명 승객과 6명의 승무원은 비상 슬라이드를 통해 탈출했으며,\\n이 과정에서 7명이 경상을 입었다.\\n'},\n",
       " {'role': 'assistant',\n",
       "  'content': '\\n            김해국제공항에서 발생한 에어부산(BX391편) 여객기 화재 사고 원인을 규명하기 위한 조사가 한창인 가운데 에어부산이\\n            기내 화재 위험 최소화 정책을 발표했다.'},\n",
       " {'role': 'user', 'content': '중요한 키워드 5개를 뽑아주세요.'},\n",
       " {'role': 'assistant', 'content': ''}]"
      ]
     },
     "execution_count": 8,
     "metadata": {},
     "output_type": "execute_result"
    }
   ],
   "source": [
    "def change_inference_chat_format(input_text):  # 모델이 학습할 때 사용한 대화 형식을 적용하기 위해 위의 로우 데이터를 대화 형식 포맷으로 변경하는 함수\n",
    "    return[\n",
    "        {\"role\": \"user\", \"content\": f\"{input_text}\"},\n",
    "        {\"role\": \"assistant\", \"content\": \"\"\"\n",
    "            김해국제공항에서 발생한 에어부산(BX391편) 여객기 화재 사고 원인을 규명하기 위한 조사가 한창인 가운데 에어부산이\n",
    "            기내 화재 위험 최소화 정책을 발표했다.\"\"\" },\n",
    "        {\"role\": \"user\", \"content\": \"중요한 키워드 5개를 뽑아주세요.\"},\n",
    "        {\"role\": \"assistant\", \"content\": \"\"}\n",
    "    ]\n",
    "\n",
    "prompt = change_inference_chat_format(input_text)\n",
    "prompt"
   ]
  },
  {
   "cell_type": "code",
   "execution_count": 9,
   "id": "caae7ca0-7d68-4079-96d1-a97763fa4495",
   "metadata": {},
   "outputs": [
    {
     "name": "stdout",
     "output_type": "stream",
     "text": [
      "user\n",
      "다음 텍스트를 한국어로 간단히 요약해주세요: \n",
      " 김해국제공항에서 발생한 에어부산(BX391편) 여객기 화재 사고 원인을 규명하기 위한 조사가 한창인 가운데 에어부산이\n",
      "기내 화재 위험 최소화 정책을 발표했다. 해당 정책에는 휴대 수하물 내 보조배터리 소지 유무를 사전 확인·통제하고 안내방송 확대와 객실승무원 훈련을 강화하는 내용 등이 담겼다.\n",
      "에어부산은 4일 보조배터리 기내 탑재 사례가 증가하며 발열 등 이상 현상 발생 빈도가 높아진 데 따라 이 같은 정책을 수립했다고 밝혔다. 에어부산이 내놓은 정책에서 주목할 부분은\n",
      "휴대 수하물 내 보조배터리 소지 유무를 사전 확인하는 절차다. 에어부산은 탑승구에서 휴대 수하물 내 배터리 소지 유무를 사전 확인하고, 기내에서는 탑승구에서 확인을 완료한 수하물만\n",
      "선반에 보관될 수 있도록 통제를 강화할 방침이다. 이는 탑승구에서 휴대 수하물 내 배터리가 있는지를 점검해 스티커나 택(TAG) 등의 별도 표식을 부착하고 기내에서는 표식이 부착된\n",
      "수하물만 선반 보관이 가능하도록 허용하겠다는 의미다. 해당 정책은 오는 7일부터 일부 노선에서 시범 운영을 거쳐 전 노선으로 확대 운영할 계획이다. 이 외에도 예약·발권과 탑승수속\n",
      "단계에서 기존 안내에 더해 보조배터리 기내 선반 탑재 금지에 대한 동의 절차를 시행하고, 출발 1일 전 예약 고객 대상 별도의 안내 문자를 발송하는 등 안내도 강화한다.\n",
      "기내 안내 방송도 기존 2회에서 3회로 확대 시행하기로 했다. 에어부산은 한층 구체적이고 명확한 내용으로 기내 안내 방송문을 보완해 지난달 말부터 변경 적용한 바 있다.\n",
      "이 외에도 객실승무원 훈련도 강화할 방침이다. 또 배터리 화재 발생 시 열폭주와 폭발 위험을 최소화할 수 있는 장비(Lithium battery fire containment pouch)와 방화장갑\n",
      "등을 구매·구비할 계획도 밝혔다. 최근 조사당국은 화재 원인을 규명하기 위해 합동 감식에 나서는 등 사고 관련 조사 진행이 한창이다. 항공·철도사고조사위원회와 프랑스\n",
      "사고조사당국(BEA), 국립과학수사연구원, 경찰 과학수사대, 소방으로 구성된 합동조사팀은 현장에서 수집한 증거물을 국립과학수사연구원 등으로 옮겨 정밀 감식을 진행 중인 것으로\n",
      "알려졌다. 이 외에도 사조위는 관계자와 목격자 진술을 받고 폐쇄회로(CC)TV 영상과 블랙박스를 분석하는 등의 조사를 진행 중이다. 정병섭 에어부산 대표이사는\n",
      "\"기내 화재에 대한 손님들의 우려와 불안을 해소하고 안전한 여행 환경을 확보하기 위해 에어부산이 선제적으로 강화 정책을 수립하게 됐다\"며 \"사내 종사자들의 안전의식 고취와\n",
      "역량 강화를 비롯해 항공 안전 문화 확산을 위해서도 지속적으로 노력해 나가겠다\"고 밝혔다. 앞서 지난달 28일 오후 부산에서 홍콩으로 운항하려던 에어부산 BX391편은 김해공항\n",
      "계류장에 머무르던 중 항공기 내부 뒤편에서 불이 나기 시작해 동체 상부를 태웠다. 당시 탑승했던 170명 승객과 6명의 승무원은 비상 슬라이드를 통해 탈출했으며,\n",
      "이 과정에서 7명이 경상을 입었다.\n",
      "model\n",
      "김해국제공항에서 발생한 에어부산(BX391편) 여객기 화재 사고 원인을 규명하기 위한 조사가 한창인 가운데 에어부산이\n",
      "            기내 화재 위험 최소화 정책을 발표했다.\n",
      "user\n",
      "중요한 키워드 5개를 뽑아주세요.\n",
      "model\n",
      "\n",
      "model\n",
      "1. 에어부산 화재\n",
      "2. 기내 화재 위험 최소화 정책\n",
      "3. 휴대 수하물 보조배터리 소지\n",
      "4. 기내 안내 방송\n",
      "5. 객실승무원 훈련\n"
     ]
    }
   ],
   "source": [
    "# 토크나이저 초기화 및 적용\n",
    "inputs = tokenizer.apply_chat_template(prompt, tokenize=True,\n",
    "                                       add_generation_prompt=True, return_tensors=\"pt\").to(model.device)\n",
    "outputs = model.generate(input_ids=inputs.to(model.device), max_new_tokens=256)\n",
    "print(tokenizer.decode(outputs[0], skip_special_tokens=True))"
   ]
  },
  {
   "cell_type": "code",
   "execution_count": 10,
   "id": "dd820b70-1579-4d1b-970a-25cb03756bd6",
   "metadata": {},
   "outputs": [
    {
     "name": "stdout",
     "output_type": "stream",
     "text": [
      "user\n",
      "다음 텍스트를 한국어로 간단히 요약해주세요: \n",
      " 김해국제공항에서 발생한 에어부산(BX391편) 여객기 화재 사고 원인을 규명하기 위한 조사가 한창인 가운데 에어부산이\n",
      "기내 화재 위험 최소화 정책을 발표했다. 해당 정책에는 휴대 수하물 내 보조배터리 소지 유무를 사전 확인·통제하고 안내방송 확대와 객실승무원 훈련을 강화하는 내용 등이 담겼다.\n",
      "에어부산은 4일 보조배터리 기내 탑재 사례가 증가하며 발열 등 이상 현상 발생 빈도가 높아진 데 따라 이 같은 정책을 수립했다고 밝혔다. 에어부산이 내놓은 정책에서 주목할 부분은\n",
      "휴대 수하물 내 보조배터리 소지 유무를 사전 확인하는 절차다. 에어부산은 탑승구에서 휴대 수하물 내 배터리 소지 유무를 사전 확인하고, 기내에서는 탑승구에서 확인을 완료한 수하물만\n",
      "선반에 보관될 수 있도록 통제를 강화할 방침이다. 이는 탑승구에서 휴대 수하물 내 배터리가 있는지를 점검해 스티커나 택(TAG) 등의 별도 표식을 부착하고 기내에서는 표식이 부착된\n",
      "수하물만 선반 보관이 가능하도록 허용하겠다는 의미다. 해당 정책은 오는 7일부터 일부 노선에서 시범 운영을 거쳐 전 노선으로 확대 운영할 계획이다. 이 외에도 예약·발권과 탑승수속\n",
      "단계에서 기존 안내에 더해 보조배터리 기내 선반 탑재 금지에 대한 동의 절차를 시행하고, 출발 1일 전 예약 고객 대상 별도의 안내 문자를 발송하는 등 안내도 강화한다.\n",
      "기내 안내 방송도 기존 2회에서 3회로 확대 시행하기로 했다. 에어부산은 한층 구체적이고 명확한 내용으로 기내 안내 방송문을 보완해 지난달 말부터 변경 적용한 바 있다.\n",
      "이 외에도 객실승무원 훈련도 강화할 방침이다. 또 배터리 화재 발생 시 열폭주와 폭발 위험을 최소화할 수 있는 장비(Lithium battery fire containment pouch)와 방화장갑\n",
      "등을 구매·구비할 계획도 밝혔다. 최근 조사당국은 화재 원인을 규명하기 위해 합동 감식에 나서는 등 사고 관련 조사 진행이 한창이다. 항공·철도사고조사위원회와 프랑스\n",
      "사고조사당국(BEA), 국립과학수사연구원, 경찰 과학수사대, 소방으로 구성된 합동조사팀은 현장에서 수집한 증거물을 국립과학수사연구원 등으로 옮겨 정밀 감식을 진행 중인 것으로\n",
      "알려졌다. 이 외에도 사조위는 관계자와 목격자 진술을 받고 폐쇄회로(CC)TV 영상과 블랙박스를 분석하는 등의 조사를 진행 중이다. 정병섭 에어부산 대표이사는\n",
      "\"기내 화재에 대한 손님들의 우려와 불안을 해소하고 안전한 여행 환경을 확보하기 위해 에어부산이 선제적으로 강화 정책을 수립하게 됐다\"며 \"사내 종사자들의 안전의식 고취와\n",
      "역량 강화를 비롯해 항공 안전 문화 확산을 위해서도 지속적으로 노력해 나가겠다\"고 밝혔다. 앞서 지난달 28일 오후 부산에서 홍콩으로 운항하려던 에어부산 BX391편은 김해공항\n",
      "계류장에 머무르던 중 항공기 내부 뒤편에서 불이 나기 시작해 동체 상부를 태웠다. 당시 탑승했던 170명 승객과 6명의 승무원은 비상 슬라이드를 통해 탈출했으며,\n",
      "이 과정에서 7명이 경상을 입었다.\n",
      "model\n",
      "한국어 요약:\n",
      "model\n",
      "김해국제공항에서 발생한 에어부산(BX391편) 여객기 화재 사고 원인을 규명하기 위한 조사가 진행되고 있습니다. 해당 정책에는 휴대 수하물 내 보조배터리 소지 유무를 사전 확인·통제하고 안내방송 확대와 객실승무원 훈련을 강화하는 내용이 포함됩니다.\n"
     ]
    }
   ],
   "source": [
    "# 2. 요약 기능 확인\n",
    "def change_inference_chat_format(input_text):\n",
    "    return[\n",
    "        {\"role\": \"user\", \"content\": f\"{input_text}\"},\n",
    "        {\"role\": \"assistant\", \"content\": \"한국어 요약:\\n\"}\n",
    "    ]\n",
    "\n",
    "# chat template 적용\n",
    "prompt = change_inference_chat_format(input_text)\n",
    "\n",
    "# 생성\n",
    "inputs = tokenizer.apply_chat_template(prompt, tokenize=True,\n",
    "                                       add_generation_prompt=True, return_tensors=\"pt\").to(model.device)\n",
    "outputs = model.generate(inputs, max_new_tokens=256, use_cache=True)\n",
    "print(tokenizer.decode(outputs[0], skip_special_tokens=True))"
   ]
  },
  {
   "cell_type": "code",
   "execution_count": 11,
   "id": "dc0c0c97-8037-40e6-8931-00f90062ddf2",
   "metadata": {},
   "outputs": [
    {
     "name": "stdout",
     "output_type": "stream",
     "text": [
      "user\n",
      "다음 텍스트를 한국어로 간단히 요약하고, 관련된 5개의 키워드를 추출해주세요:\n",
      "\n",
      "다음 텍스트를 한국어로 간단히 요약해주세요: \n",
      " 김해국제공항에서 발생한 에어부산(BX391편) 여객기 화재 사고 원인을 규명하기 위한 조사가 한창인 가운데 에어부산이\n",
      "기내 화재 위험 최소화 정책을 발표했다. 해당 정책에는 휴대 수하물 내 보조배터리 소지 유무를 사전 확인·통제하고 안내방송 확대와 객실승무원 훈련을 강화하는 내용 등이 담겼다.\n",
      "에어부산은 4일 보조배터리 기내 탑재 사례가 증가하며 발열 등 이상 현상 발생 빈도가 높아진 데 따라 이 같은 정책을 수립했다고 밝혔다. 에어부산이 내놓은 정책에서 주목할 부분은\n",
      "휴대 수하물 내 보조배터리 소지 유무를 사전 확인하는 절차다. 에어부산은 탑승구에서 휴대 수하물 내 배터리 소지 유무를 사전 확인하고, 기내에서는 탑승구에서 확인을 완료한 수하물만\n",
      "선반에 보관될 수 있도록 통제를 강화할 방침이다. 이는 탑승구에서 휴대 수하물 내 배터리가 있는지를 점검해 스티커나 택(TAG) 등의 별도 표식을 부착하고 기내에서는 표식이 부착된\n",
      "수하물만 선반 보관이 가능하도록 허용하겠다는 의미다. 해당 정책은 오는 7일부터 일부 노선에서 시범 운영을 거쳐 전 노선으로 확대 운영할 계획이다. 이 외에도 예약·발권과 탑승수속\n",
      "단계에서 기존 안내에 더해 보조배터리 기내 선반 탑재 금지에 대한 동의 절차를 시행하고, 출발 1일 전 예약 고객 대상 별도의 안내 문자를 발송하는 등 안내도 강화한다.\n",
      "기내 안내 방송도 기존 2회에서 3회로 확대 시행하기로 했다. 에어부산은 한층 구체적이고 명확한 내용으로 기내 안내 방송문을 보완해 지난달 말부터 변경 적용한 바 있다.\n",
      "이 외에도 객실승무원 훈련도 강화할 방침이다. 또 배터리 화재 발생 시 열폭주와 폭발 위험을 최소화할 수 있는 장비(Lithium battery fire containment pouch)와 방화장갑\n",
      "등을 구매·구비할 계획도 밝혔다. 최근 조사당국은 화재 원인을 규명하기 위해 합동 감식에 나서는 등 사고 관련 조사 진행이 한창이다. 항공·철도사고조사위원회와 프랑스\n",
      "사고조사당국(BEA), 국립과학수사연구원, 경찰 과학수사대, 소방으로 구성된 합동조사팀은 현장에서 수집한 증거물을 국립과학수사연구원 등으로 옮겨 정밀 감식을 진행 중인 것으로\n",
      "알려졌다. 이 외에도 사조위는 관계자와 목격자 진술을 받고 폐쇄회로(CC)TV 영상과 블랙박스를 분석하는 등의 조사를 진행 중이다. 정병섭 에어부산 대표이사는\n",
      "\"기내 화재에 대한 손님들의 우려와 불안을 해소하고 안전한 여행 환경을 확보하기 위해 에어부산이 선제적으로 강화 정책을 수립하게 됐다\"며 \"사내 종사자들의 안전의식 고취와\n",
      "역량 강화를 비롯해 항공 안전 문화 확산을 위해서도 지속적으로 노력해 나가겠다\"고 밝혔다. 앞서 지난달 28일 오후 부산에서 홍콩으로 운항하려던 에어부산 BX391편은 김해공항\n",
      "계류장에 머무르던 중 항공기 내부 뒤편에서 불이 나기 시작해 동체 상부를 태웠다. 당시 탑승했던 170명 승객과 6명의 승무원은 비상 슬라이드를 통해 탈출했으며,\n",
      "이 과정에서 7명이 경상을 입었다.\n",
      "model\n",
      "\n",
      "model\n",
      "**요약:**\n",
      "\n",
      "* 에어부산은 4일 보조배터리 기내 탑재 사례가 증가하며 발열 등 이상 현상 발생 빈도가 높아진 데 따라 이 같은 정책을 수립했다.\n",
      "* 해당 정책에서 주목할 부분은 휴대 수하물 내 보조배터리 소지 유무를 사전 확인하는 절차다.\n",
      "* 기내 안내 방송도 기존 2회에서 3회로 확대 시행하기로 했다.\n",
      "* 객실승무원 훈련도 강화할 방침이다.\n",
      "* 최근 조사당국은 화재 원인을 규명하기 위해 합동 감식에 나서는 등 사고 관련 조사 진행이 한창이다.\n",
      "\n",
      "**키워드:**\n",
      "\n",
      "* 에어부산\n",
      "* 보조배터리\n",
      "* 안내방송\n",
      "* 객실승무원\n",
      "* 화재\n"
     ]
    }
   ],
   "source": [
    "# 3. 키워드 추출 및 요약 기능 확인\n",
    "def change_inference_chat_format(input_text):\n",
    "    return[\n",
    "        {\"role\": \"user\", \"content\": f\"다음 텍스트를 한국어로 간단히 요약하고, 관련된 5개의 키워드를 추출해주세요:\\n{input_text}\"},\n",
    "        {\"role\": \"assistant\", \"content\": \"\"}\n",
    "    ]\n",
    "\n",
    "# chat template 적용\n",
    "prompt = change_inference_chat_format(input_text)\n",
    "\n",
    "# 생성\n",
    "inputs = tokenizer.apply_chat_template(prompt, tokenize=True,\n",
    "                                       add_generation_prompt=True, return_tensors=\"pt\").to(model.device)\n",
    "outputs = model.generate(inputs, max_new_tokens=256, use_cache=True)\n",
    "print(tokenizer.decode(outputs[0], skip_special_tokens=True))"
   ]
  },
  {
   "cell_type": "code",
   "execution_count": 9,
   "id": "3f933745-8e1a-47d6-a668-821d536c2465",
   "metadata": {},
   "outputs": [
    {
     "name": "stderr",
     "output_type": "stream",
     "text": [
      "Device set to use cuda:0\n"
     ]
    }
   ],
   "source": [
    "# 데이터셋에서 키워드 데이터 생성\n",
    "pipe = pipeline(\"text-generation\", model=model, tokenizer=tokenizer, device_map=\"auto\")\n",
    "def key_word_prompt(input_text, summary_text):\n",
    "    return [\n",
    "    {\"role\": \"user\", \"content\": f\"{input_text}\"},\n",
    "    {\"role\": \"assistant\", \"content\": f\"{summary_text}\"},\n",
    "    {\"role\": \"user\", \"content\": \"중요한 키워드 5개를 뽑아주세요.\"},\n",
    "    {\"role\": \"assistant\", \"content\": \"\"}\n",
    "    ]\n",
    "\n",
    "def extract_keywords_batch(batch):\n",
    "    prompts = [ key_word_prompt(original, summary) for original, summary in zip(batch[\"original\"], batch[\"summary\"]) ]\n",
    "\n",
    "    generated_texts = pipe(prompts, max_new_tokens=150, return_full_text=False)\n",
    "    keywords = [ gen_text[0][\"generated_text\"] for gen_text in generated_texts ]\n",
    "    batch[\"keywords\"] = keywords\n",
    "    return batch"
   ]
  },
  {
   "cell_type": "code",
   "execution_count": 10,
   "id": "2242bd49-cd2a-4e91-a9a1-1ca366732ccc",
   "metadata": {},
   "outputs": [
    {
     "data": {
      "application/vnd.jupyter.widget-view+json": {
       "model_id": "6ad42716164e481da18cd943dc92574c",
       "version_major": 2,
       "version_minor": 0
      },
      "text/plain": [
       "Map:   0%|          | 0/1000 [00:00<?, ? examples/s]"
      ]
     },
     "metadata": {},
     "output_type": "display_data"
    },
    {
     "name": "stderr",
     "output_type": "stream",
     "text": [
      "You seem to be using the pipelines sequentially on GPU. In order to maximize efficiency please use a dataset\n"
     ]
    },
    {
     "data": {
      "text/plain": [
       "Dataset({\n",
       "    features: ['original', 'summary', 'keywords'],\n",
       "    num_rows: 1000\n",
       "})"
      ]
     },
     "execution_count": 10,
     "metadata": {},
     "output_type": "execute_result"
    }
   ],
   "source": [
    "# dataset에 keyword 열 추가 (batch 단위로 처리)\n",
    "sample_dataset = dataset[\"train\"].shuffle(seed=42).select(range(1000))\n",
    "sample_dataset = sample_dataset.map(extract_keywords_batch, batched=True, batch_size=20)  # 배치사이즈 선택\n",
    "\n",
    "sample_dataset"
   ]
  },
  {
   "cell_type": "code",
   "execution_count": 11,
   "id": "a5e2ff1d-b4dc-452b-ba58-24b957cce826",
   "metadata": {},
   "outputs": [
    {
     "name": "stdout",
     "output_type": "stream",
     "text": [
      "<bos><start_of_turn>user\n",
      "다음 텍스트를 한국어로 간단히 요약 및 관련 키워드를 추출해주세요:\n",
      "전두환 정권을 흔들었던 '큰 손' 장영자의 네 번째 유죄가 확정됐다.\n",
      "  혐의는 사기, 징역은 4년이다.\n",
      "  대법원 2부(주심 박상옥 대법관)는 9일 무죄를 주장한 장씨의 상고를 기각했다.\n",
      "  장씨는 지인들에게서 세 차례에 걸쳐 6억여원을 가로채고 이들에게 위조 수표로 수억원을 요구한 혐의를 받는다.\n",
      "  올해로 76세를 맞은 장씨는 이미 복역을 마친 29년을 포함해 인생의 절반가량인 33년을 감옥에서 보내게됐다.\n",
      "   우수한 인재에게만 허락된다는 숙명여대 '5월의 여왕(메이퀸)' 출신인 장영자의 노년이 씁쓸하다.\n",
      "  장씨는 전두환 전 대통령의 처삼촌인 고(故) 이규광씨의 처제이자, 중앙정보부 차장이었던 고(故) 이철희씨의 아내였다.\n",
      "  전두환 정권 흔든 장영자의 삶장씨의 앞선 범행과 비교해 네 번째 사기 액수는 그 규모가 상당히 줄어든 편이다.\n",
      "  장씨는 1980년대 전두환 전 대통령과 남편을 내세워 자금 압박에 시달리던 기업에 자금을 빌려준 뒤 몇 배에 달하는 어음을 할인 유통하며 이득을 챙겼다.\n",
      "  그 규모가 총 7111억원에 달했다.\n",
      "  장씨는 이중 6404억원의 어음을 할인해 사용했다.\n",
      "   실체가 없던 어음은 부도가 났고 기업들은 도산했다.\n",
      "  장씨는 이 첫 번째 사기로 15년형을 선고받았다.\n",
      "  10년만인 1992년에 가석방됐다.\n",
      "  전두환 전 대통령의 부인 이순자씨는 자서전 『당신은 외롭지 않다』에서 이를 \"조금씩 민심도 안정되고 경제도 생기를 되찾아 (남편이) 자신감을 얻던 시점에 날벼락같이 찾아온 횡액과도 같은 사건\"이라 회고했다.\n",
      "  장씨가 당시 법정에서 아직 시중에 유통중인 어음이 있다며 \"경제는 유통\"\"나는 권력투쟁의 희생양이라\"이라 했던 말은 유행어가 됐다.\n",
      "  '장영자 어음할인 사건' 수사 축소 의혹으로 두 명의 법무부 장관이 경질됐다.\n",
      "   \"누나 성질 급하다\" 70대 장영자의 돈 요구장씨는 출소한지 2년만인 1994년에 140억원대 차용 사기를 저질렀다.\n",
      "  두 번째 사기로 징역 4년을 받았다.\n",
      "  장씨는 1998년 광복절 특사로 풀려났다.\n",
      "  하지만 2년만인 2000년 220억원대 구권화폐 사기로 또다시 구속돼 15년형을 받았다.\n",
      "  그게 세 번째 사기다.\n",
      "  이날 확정이 된 장씨의 네 번째 사기는 2015년 1월 출소하고 7개월 만에 저지른 범행이다.\n",
      "  장씨에게 유죄를 선고한 1·2심 재판장은 \"장씨가 동종범죄로 처벌받은 전력이 있고 누범기간 중에 범죄를 저질렀다\"고 지적했다.<end_of_turn>\n",
      "<start_of_turn>model\n",
      "한국어 요약:전두환 정권을 흔들었던 '큰 손' 장영자의 네 번째 유죄가 확정됐다. 장씨는 지인들에게서 세 차례에 걸쳐 6억여원을 가로채고 이들에게 위조 수표로 수억원을 요구한 혐의를 받는다. 올해로 76세를 맞은 장씨는 이미 복역을 마친 29년을 포함해 인생의 절반가량인 33년을 감옥에서 보내게됐다.\n",
      "키워드:1. '큰 손' 장영자\n",
      "2. 전두환 정권\n",
      "3. 유죄\n",
      "4. 6억여원\n",
      "5. 위조 수표<end_of_turn>\n",
      "\n"
     ]
    }
   ],
   "source": [
    "# 데이터 전처리\n",
    "def chat_keyword_summary_format(example):\n",
    "\n",
    "        return [\n",
    "            {\"role\": \"user\", \"content\": f\"다음 텍스트를 한국어로 간단히 요약 및 관련 키워드를 추출해주세요:\\n{example['original']}\"},\n",
    "            {\"role\": \"assistant\", \"content\": f\"한국어 요약:{example['summary']}\\n키워드:{example['keywords']}\"}\n",
    "        ]\n",
    "\n",
    "formatted = tokenizer.apply_chat_template(\n",
    "    chat_keyword_summary_format(sample_dataset[0]), tokenize=False\n",
    ")\n",
    "print(formatted)"
   ]
  },
  {
   "cell_type": "code",
   "execution_count": 12,
   "id": "acbfc791-6c53-449a-89ac-a93570387b70",
   "metadata": {},
   "outputs": [
    {
     "data": {
      "application/vnd.jupyter.widget-view+json": {
       "model_id": "da576f8ec859453b8623a860430a791b",
       "version_major": 2,
       "version_minor": 0
      },
      "text/plain": [
       "Map:   0%|          | 0/1000 [00:00<?, ? examples/s]"
      ]
     },
     "metadata": {},
     "output_type": "display_data"
    }
   ],
   "source": [
    "EOS_TOKEN = tokenizer.eos_token  # 대화의 종료를 알리는 eos 토큰\n",
    "\n",
    "def tokenize(element):\n",
    "    formatted = tokenizer.apply_chat_template(\n",
    "        chat_keyword_summary_format(element), tokenize=False  # 아직 eos 토큰이 포함되어 있지 않기 때문에 tokenize=False로 문자가 한 번에 숫자로 바뀌는 것을 방지\n",
    "    ) + EOS_TOKEN  # eos 토큰 추가\n",
    "    outputs = tokenizer(formatted)\n",
    "    return {\n",
    "        \"input_ids\": outputs[\"input_ids\"],\n",
    "        \"attention_mask\": outputs[\"attention_mask\"],\n",
    "    }\n",
    "\n",
    "tokenized_sample_dataset = sample_dataset.map(tokenize)"
   ]
  },
  {
   "cell_type": "code",
   "execution_count": 13,
   "id": "58c1b040-74e0-4a45-9009-d26ec56d4b29",
   "metadata": {},
   "outputs": [
    {
     "data": {
      "text/plain": [
       "DatasetDict({\n",
       "    train: Dataset({\n",
       "        features: ['original', 'summary', 'keywords', 'input_ids', 'attention_mask'],\n",
       "        num_rows: 900\n",
       "    })\n",
       "    test: Dataset({\n",
       "        features: ['original', 'summary', 'keywords', 'input_ids', 'attention_mask'],\n",
       "        num_rows: 100\n",
       "    })\n",
       "})"
      ]
     },
     "execution_count": 13,
     "metadata": {},
     "output_type": "execute_result"
    }
   ],
   "source": [
    "# 데이터셋 분리 및 콜레이터 설정\n",
    "tokenized_sample_dataset = tokenized_sample_dataset.train_test_split(test_size=0.1, seed=42)\n",
    "tokenized_sample_dataset"
   ]
  },
  {
   "cell_type": "code",
   "execution_count": 14,
   "id": "576e8580-4f33-4f59-97f1-46460585ef0f",
   "metadata": {},
   "outputs": [],
   "source": [
    "response_template_ids = tokenizer.encode(\n",
    "    \"<start_of_turn>model\\n\",\n",
    "    add_special_tokens=False\n",
    ")\n",
    "\n",
    "collator = DataCollatorForCompletionOnlyLM(\n",
    "    response_template_ids, tokenizer=tokenizer\n",
    ")"
   ]
  },
  {
   "cell_type": "code",
   "execution_count": 15,
   "id": "bdc25d74-0e32-46f9-9de6-1cea3d4c1f99",
   "metadata": {},
   "outputs": [
    {
     "name": "stdout",
     "output_type": "stream",
     "text": [
      "\u001b[34m\u001b[1mwandb\u001b[0m: Currently logged in as: \u001b[33mdgriii0606\u001b[0m (\u001b[33mdgriii0606-student\u001b[0m) to \u001b[32mhttps://api.wandb.ai\u001b[0m. Use \u001b[1m`wandb login --relogin`\u001b[0m to force relogin\n"
     ]
    }
   ],
   "source": [
    "!wandb login"
   ]
  },
  {
   "cell_type": "code",
   "execution_count": 57,
   "id": "ca881619-b1f6-4147-900f-c652d7fedbdc",
   "metadata": {},
   "outputs": [],
   "source": [
    "# 학습 파라미터 설정\n",
    "wandb.init(project=\"gemma-2B-it-Full-FIne-Tuning\", entity=\"****\")\n",
    "\n",
    "training_args = TrainingArguments(\n",
    "    output_dir=\"./keywords_gemma_results\",  # 체크포인트 저장 위치\n",
    "    max_steps=800,  # 몇 스텝을 학습할지 설정\n",
    "    per_device_train_batch_size=2,  # 학습할 때, 한 번에 처리할 데이터 샘플 수\n",
    "    per_device_eval_batch_size=4,   # 평가할 때, 한 번에 처리할 데이터 샘플 수\n",
    "    warmup_steps=0,\n",
    "    weight_decay=0.01,   # 모델 가중치를 조절하는 강도, 과적합 방지\n",
    "    learning_rate=2e-4,  # 러닝레이트 \n",
    "    logging_dir=\"./logs\",  # 로그 파일 저장 위치\n",
    "    logging_steps=100,  # 100스텝마다 학습이 어떻게 진행되고 있는지 기록함\n",
    "    report_to=\"wandb\",  # 학습 현황 관찰 도구\n",
    ")"
   ]
  },
  {
   "cell_type": "code",
   "execution_count": 69,
   "id": "c2581eb5-4a84-42dd-9ad0-6fb6b4f161b5",
   "metadata": {},
   "outputs": [],
   "source": [
    "# 평가 메트릭 정의\n",
    "bleu = evaluate.load(\"bleu\")  # 주로 기계 번역 품질을 측정하는 지표\n",
    "acc = evaluate.load(\"accuracy\")  # 예측결과가 실제 정답고 얼마나 일치하는지 확인\n",
    "\n",
    "def preprocess_logits_for_metrics(logits, labels):\n",
    "    if isinstance(logits, tuple):\n",
    "        # 모델과 설정에 따라 logits에는 추가적인 텐서들이 포함될 수 있음\n",
    "        # 예를 들어, past_key_values 같은 것들이 있을 수 있지만 logits는 항상 첫번째 요소임\n",
    "        logits = logits[0]\n",
    "    # 토큰 ID를 얻기 위해 argmax를 수행\n",
    "    return logits.argmax(dim=-1)\n",
    "\n",
    "def compute_metrics(eval_preds):\n",
    "    preds, labels = eval_preds\n",
    "    # preds는 labels와 같은 형태를 가짐\n",
    "    # preprocess_logits_for_metrics(logits, labels) 함수로 argmax(-1)가 계산된 후\n",
    "    # 하지만 labels를 한 칸 이동해야 함\n",
    "    labels = labels[:, 1:]\n",
    "    preds = preds[:, :-1]\n",
    "\n",
    "    # -100은 DataCollatorForCompletionOnlyLM에서 사용되는 ignore_index의 기본값\n",
    "    mask = labels == -100  # 무시해야 할 토큰을 나타내는 특별한 값\n",
    "    # -100을 토크나이저가 디코드할 수 있는 값으로 대체\n",
    "    labels[mask] = tokenizer.pad_token_id\n",
    "    preds[mask] = tokenizer.pad_token_id\n",
    "\n",
    "    # bleu 점수는 텍스트를 입력으로 받기 때문에 토큰 ID에서 텍스트로 변환해야 됨\n",
    "    decoded_labels = tokenizer.batch_decode(labels, skip_special_tokens=True)\n",
    "    decoded_preds = tokenizer.batch_decode(preds, skip_special_tokens=True)\n",
    "    bleu_score = bleu.compute(predictions=decoded_preds, references=decoded_labels)\n",
    "\n",
    "    # accuracy는 정수 리스트를 입력으로 받음  # -100이 아닌 부분만 평가하고 싶으므로 마스크에 부정(~)을 사용\n",
    "    accuracy = acc.compute(predictions=preds[~mask], references=labels[~mask])\n",
    "\n",
    "    return {**bleu_score, **accuracy}"
   ]
  },
  {
   "cell_type": "code",
   "execution_count": 38,
   "id": "40c8b993-c161-4dde-ba5d-90d5a9f5e080",
   "metadata": {},
   "outputs": [],
   "source": [
    "## 참고서랑 다르게 Trainer에 'num_items_in_batch' 인자가 없는 이슈로 해당 인자를 받지않는 커스텀 트레이너 생성후 해당 커스텀 트레이너로 학습"
   ]
  },
  {
   "cell_type": "code",
   "execution_count": 70,
   "id": "e01e3c0e-5b4a-4685-9f46-55bd29aa59b4",
   "metadata": {},
   "outputs": [],
   "source": [
    "from transformers import Trainer\n",
    "\n",
    "# 1. 불필요한 인자(num_items_in_batch)를 자동으로 제거\n",
    "# 2. 입력 데이터가 model.forward()가 받을 수 있는 인자만 유지하도록 변경\n",
    "class CustomTrainer(Trainer):\n",
    "    def compute_loss(self, model, inputs, return_outputs=False, **kwargs):\n",
    "        \"\"\" 불필요한 인자 제거 및 텐서 변환 \"\"\"\n",
    "        inputs = {k: v for k, v in inputs.items() if k in model.forward.__code__.co_varnames}\n",
    "\n",
    "        # 모델 실행\n",
    "        outputs = model(**inputs)\n",
    "        loss = outputs.loss\n",
    "\n",
    "        return (loss, outputs) if return_outputs else loss"
   ]
  },
  {
   "cell_type": "code",
   "execution_count": 71,
   "id": "1bf13059-5612-4d6c-b141-c46349a9d9b6",
   "metadata": {},
   "outputs": [
    {
     "name": "stderr",
     "output_type": "stream",
     "text": [
      "/tmp/ipykernel_1690/3379539505.py:2: FutureWarning: `tokenizer` is deprecated and will be removed in version 5.0.0 for `CustomTrainer.__init__`. Use `processing_class` instead.\n",
      "  trainer = CustomTrainer(\n",
      "You are adding a <class 'transformers.integrations.integration_utils.WandbCallback'> to the callbacks of this Trainer, but there is already one. The currentlist of callbacks is\n",
      ":DefaultFlowCallback\n",
      "WandbCallback\n"
     ]
    }
   ],
   "source": [
    "# 모델 학습 및 평가\n",
    "trainer = CustomTrainer(\n",
    "    args=training_args,\n",
    "    model=model,\n",
    "    tokenizer=tokenizer,\n",
    "    data_collator=collator,\n",
    "    train_dataset=tokenized_sample_dataset[\"train\"],\n",
    "    eval_dataset=tokenized_sample_dataset[\"test\"],\n",
    "    preprocess_logits_for_metrics=preprocess_logits_for_metrics,\n",
    "    compute_metrics=compute_metrics,\n",
    "    callbacks=[WandbCallback()]\n",
    ")"
   ]
  },
  {
   "cell_type": "code",
   "execution_count": 72,
   "id": "ea805437-6768-4eca-9aa5-99d5bd0dc6ac",
   "metadata": {},
   "outputs": [
    {
     "name": "stderr",
     "output_type": "stream",
     "text": [
      "/usr/local/lib/python3.10/dist-packages/torch/cuda/memory.py:329: FutureWarning: torch.cuda.reset_max_memory_allocated now calls torch.cuda.reset_peak_memory_stats, which resets /all/ peak memory stats.\n",
      "  warnings.warn(\n"
     ]
    }
   ],
   "source": [
    "# GPU 메모리 캐시 정리\n",
    "import torch\n",
    "torch.cuda.empty_cache()\n",
    "torch.cuda.reset_max_memory_allocated()"
   ]
  },
  {
   "cell_type": "code",
   "execution_count": 73,
   "id": "e15e5e47-7779-4456-81dd-90aafa7a5d58",
   "metadata": {},
   "outputs": [
    {
     "data": {
      "text/html": [
       "\n",
       "    <div>\n",
       "      \n",
       "      <progress value='800' max='800' style='width:300px; height:20px; vertical-align: middle;'></progress>\n",
       "      [800/800 04:14, Epoch 1/2]\n",
       "    </div>\n",
       "    <table border=\"1\" class=\"dataframe\">\n",
       "  <thead>\n",
       " <tr style=\"text-align: left;\">\n",
       "      <th>Step</th>\n",
       "      <th>Training Loss</th>\n",
       "    </tr>\n",
       "  </thead>\n",
       "  <tbody>\n",
       "    <tr>\n",
       "      <td>100</td>\n",
       "      <td>1.315600</td>\n",
       "    </tr>\n",
       "    <tr>\n",
       "      <td>200</td>\n",
       "      <td>1.444400</td>\n",
       "    </tr>\n",
       "    <tr>\n",
       "      <td>300</td>\n",
       "      <td>1.543400</td>\n",
       "    </tr>\n",
       "    <tr>\n",
       "      <td>400</td>\n",
       "      <td>1.508400</td>\n",
       "    </tr>\n",
       "    <tr>\n",
       "      <td>500</td>\n",
       "      <td>1.102800</td>\n",
       "    </tr>\n",
       "    <tr>\n",
       "      <td>600</td>\n",
       "      <td>0.697300</td>\n",
       "    </tr>\n",
       "    <tr>\n",
       "      <td>700</td>\n",
       "      <td>0.716000</td>\n",
       "    </tr>\n",
       "    <tr>\n",
       "      <td>800</td>\n",
       "      <td>0.832800</td>\n",
       "    </tr>\n",
       "  </tbody>\n",
       "</table><p>"
      ],
      "text/plain": [
       "<IPython.core.display.HTML object>"
      ]
     },
     "metadata": {},
     "output_type": "display_data"
    },
    {
     "data": {
      "text/plain": [
       "TrainOutput(global_step=800, training_loss=1.1450815296173096, metrics={'train_runtime': 254.4269, 'train_samples_per_second': 6.289, 'train_steps_per_second': 3.144, 'total_flos': 2.113522764418253e+16, 'train_loss': 1.1450815296173096, 'epoch': 1.7777777777777777})"
      ]
     },
     "execution_count": 73,
     "metadata": {},
     "output_type": "execute_result"
    }
   ],
   "source": [
    "trainer.train()"
   ]
  },
  {
   "cell_type": "code",
   "execution_count": 75,
   "id": "e265c969-3881-42bf-9c05-2cf19a52f457",
   "metadata": {},
   "outputs": [
    {
     "data": {
      "text/plain": [
       "{'eval_loss': 5.749093055725098,\n",
       " 'eval_bleu': 0.08622845185337392,\n",
       " 'eval_precisions': [0.29428172942817293,\n",
       "  0.14332181337670258,\n",
       "  0.06910147333471675,\n",
       "  0.024793388429752067],\n",
       " 'eval_brevity_penalty': 0.9352460710784825,\n",
       " 'eval_length_ratio': 0.9372549019607843,\n",
       " 'eval_translation_length': 5019,\n",
       " 'eval_reference_length': 5355,\n",
       " 'eval_accuracy': 0.3418083130981288,\n",
       " 'eval_runtime': 3.5201,\n",
       " 'eval_samples_per_second': 28.408,\n",
       " 'eval_steps_per_second': 7.102,\n",
       " 'epoch': 1.7777777777777777}"
      ]
     },
     "execution_count": 75,
     "metadata": {},
     "output_type": "execute_result"
    }
   ],
   "source": [
    "trainer.evaluate()"
   ]
  },
  {
   "cell_type": "code",
   "execution_count": 77,
   "id": "05e15785-4b7b-415a-93cf-32562596b678",
   "metadata": {},
   "outputs": [
    {
     "name": "stdout",
     "output_type": "stream",
     "text": [
      "user\n",
      "다음 텍스트를 한국어로 간단히 요약해주세요: \n",
      " 김해국제공항에서 발생한 에어부산(BX391편) 여객기 화재 사고 원인을 규명하기 위한 조사가 한창인 가운데 에어부산이\n",
      "기내 화재 위험 최소화 정책을 발표했다. 해당 정책에는 휴대 수하물 내 보조배터리 소지 유무를 사전 확인·통제하고 안내방송 확대와 객실승무원 훈련을 강화하는 내용 등이 담겼다.\n",
      "에어부산은 4일 보조배터리 기내 탑재 사례가 증가하며 발열 등 이상 현상 발생 빈도가 높아진 데 따라 이 같은 정책을 수립했다고 밝혔다. 에어부산이 내놓은 정책에서 주목할 부분은\n",
      "휴대 수하물 내 보조배터리 소지 유무를 사전 확인하는 절차다. 에어부산은 탑승구에서 휴대 수하물 내 배터리 소지 유무를 사전 확인하고, 기내에서는 탑승구에서 확인을 완료한 수하물만\n",
      "선반에 보관될 수 있도록 통제를 강화할 방침이다. 이는 탑승구에서 휴대 수하물 내 배터리가 있는지를 점검해 스티커나 택(TAG) 등의 별도 표식을 부착하고 기내에서는 표식이 부착된\n",
      "수하물만 선반 보관이 가능하도록 허용하겠다는 의미다. 해당 정책은 오는 7일부터 일부 노선에서 시범 운영을 거쳐 전 노선으로 확대 운영할 계획이다. 이 외에도 예약·발권과 탑승수속\n",
      "단계에서 기존 안내에 더해 보조배터리 기내 선반 탑재 금지에 대한 동의 절차를 시행하고, 출발 1일 전 예약 고객 대상 별도의 안내 문자를 발송하는 등 안내도 강화한다.\n",
      "기내 안내 방송도 기존 2회에서 3회로 확대 시행하기로 했다. 에어부산은 한층 구체적이고 명확한 내용으로 기내 안내 방송문을 보완해 지난달 말부터 변경 적용한 바 있다.\n",
      "이 외에도 객실승무원 훈련도 강화할 방침이다. 또 배터리 화재 발생 시 열폭주와 폭발 위험을 최소화할 수 있는 장비(Lithium battery fire containment pouch)와 방화장갑\n",
      "등을 구매·구비할 계획도 밝혔다. 최근 조사당국은 화재 원인을 규명하기 위해 합동 감식에 나서는 등 사고 관련 조사 진행이 한창이다. 항공·철도사고조사위원회와 프랑스\n",
      "사고조사당국(BEA), 국립과학수사연구원, 경찰 과학수사대, 소방으로 구성된 합동조사팀은 현장에서 수집한 증거물을 국립과학수사연구원 등으로 옮겨 정밀 감식을 진행 중인 것으로\n",
      "알려졌다. 이 외에도 사조위는 관계자와 목격자 진술을 받고 폐쇄회로(CC)TV 영상과 블랙박스를 분석하는 등의 조사를 진행 중이다. 정병섭 에어부산 대표이사는\n",
      "\"기내 화재에 대한 손님들의 우려와 불안을 해소하고 안전한 여행 환경을 확보하기 위해 에어부산이 선제적으로 강화 정책을 수립하게 됐다\"며 \"사내 종사자들의 안전의식 고취와\n",
      "역량 강화를 비롯해 항공 안전 문화 확산을 위해서도 지속적으로 노력해 나가겠다\"고 밝혔다. 앞서 지난달 28일 오후 부산에서 홍콩으로 운항하려던 에어부산 BX391편은 김해공항\n",
      "계류장에 머무르던 중 항공기 내부 뒤편에서 불이 나기 시작해 동체 상부를 태웠다. 당시 탑승했던 170명 승객과 6명의 승무원은 비상 슬라이드를 통해 탈출했으며,\n",
      "이 과정에서 7명이 경상을 입었다.\n",
      "model\n",
      "\n",
      "model\n",
      "한국어 요약:2019년대 212건으로 2017년 5월 12일 삼성전자의 파운드에서 30분 정도 일반화된다.\n",
      "키워드:- 김종인\n",
      "- 70-5총선\n",
      "- 재검토될 가능성\n",
      "- 밀집도\n",
      "- 국회의원\n",
      "- 부실\n",
      "\n"
     ]
    }
   ],
   "source": [
    "input_text = \"\"\"\n",
    "다음 텍스트를 한국어로 간단히 요약해주세요: \\n 김해국제공항에서 발생한 에어부산(BX391편) 여객기 화재 사고 원인을 규명하기 위한 조사가 한창인 가운데 에어부산이\n",
    "기내 화재 위험 최소화 정책을 발표했다. 해당 정책에는 휴대 수하물 내 보조배터리 소지 유무를 사전 확인·통제하고 안내방송 확대와 객실승무원 훈련을 강화하는 내용 등이 담겼다.\n",
    "에어부산은 4일 보조배터리 기내 탑재 사례가 증가하며 발열 등 이상 현상 발생 빈도가 높아진 데 따라 이 같은 정책을 수립했다고 밝혔다. 에어부산이 내놓은 정책에서 주목할 부분은\n",
    "휴대 수하물 내 보조배터리 소지 유무를 사전 확인하는 절차다. 에어부산은 탑승구에서 휴대 수하물 내 배터리 소지 유무를 사전 확인하고, 기내에서는 탑승구에서 확인을 완료한 수하물만\n",
    "선반에 보관될 수 있도록 통제를 강화할 방침이다. 이는 탑승구에서 휴대 수하물 내 배터리가 있는지를 점검해 스티커나 택(TAG) 등의 별도 표식을 부착하고 기내에서는 표식이 부착된\n",
    "수하물만 선반 보관이 가능하도록 허용하겠다는 의미다. 해당 정책은 오는 7일부터 일부 노선에서 시범 운영을 거쳐 전 노선으로 확대 운영할 계획이다. 이 외에도 예약·발권과 탑승수속\n",
    "단계에서 기존 안내에 더해 보조배터리 기내 선반 탑재 금지에 대한 동의 절차를 시행하고, 출발 1일 전 예약 고객 대상 별도의 안내 문자를 발송하는 등 안내도 강화한다.\n",
    "기내 안내 방송도 기존 2회에서 3회로 확대 시행하기로 했다. 에어부산은 한층 구체적이고 명확한 내용으로 기내 안내 방송문을 보완해 지난달 말부터 변경 적용한 바 있다.\n",
    "이 외에도 객실승무원 훈련도 강화할 방침이다. 또 배터리 화재 발생 시 열폭주와 폭발 위험을 최소화할 수 있는 장비(Lithium battery fire containment pouch)와 방화장갑\n",
    "등을 구매·구비할 계획도 밝혔다. 최근 조사당국은 화재 원인을 규명하기 위해 합동 감식에 나서는 등 사고 관련 조사 진행이 한창이다. 항공·철도사고조사위원회와 프랑스\n",
    "사고조사당국(BEA), 국립과학수사연구원, 경찰 과학수사대, 소방으로 구성된 합동조사팀은 현장에서 수집한 증거물을 국립과학수사연구원 등으로 옮겨 정밀 감식을 진행 중인 것으로\n",
    "알려졌다. 이 외에도 사조위는 관계자와 목격자 진술을 받고 폐쇄회로(CC)TV 영상과 블랙박스를 분석하는 등의 조사를 진행 중이다. 정병섭 에어부산 대표이사는\n",
    "\"기내 화재에 대한 손님들의 우려와 불안을 해소하고 안전한 여행 환경을 확보하기 위해 에어부산이 선제적으로 강화 정책을 수립하게 됐다\"며 \"사내 종사자들의 안전의식 고취와\n",
    "역량 강화를 비롯해 항공 안전 문화 확산을 위해서도 지속적으로 노력해 나가겠다\"고 밝혔다. 앞서 지난달 28일 오후 부산에서 홍콩으로 운항하려던 에어부산 BX391편은 김해공항\n",
    "계류장에 머무르던 중 항공기 내부 뒤편에서 불이 나기 시작해 동체 상부를 태웠다. 당시 탑승했던 170명 승객과 6명의 승무원은 비상 슬라이드를 통해 탈출했으며,\n",
    "이 과정에서 7명이 경상을 입었다.\n",
    "\"\"\"\n",
    "\n",
    "def get_chat_format(input_text):\n",
    "\n",
    "        return [\n",
    "            {\"role\": \"user\", \"content\": f\"다음 텍스트를 한국어로 간단히 요약 및 관련 키워드를 추출해주세요:\\n{input_text}\"},\n",
    "            {\"role\": \"assistant\", \"content\": \"한국어 요약:\\n키워드:\"}\n",
    "        ]\n",
    "\n",
    "\n",
    "def change_inference_chat_format(input_text):\n",
    "    return [\n",
    "    {\"role\": \"user\", \"content\": f\"{input_text}\"},\n",
    "    {\"role\": \"assistant\", \"content\": \"\"}\n",
    "    ]\n",
    "prompt = change_inference_chat_format(input_text)\n",
    "\n",
    "# tokenizer 초기화 및 적용\n",
    "inputs = tokenizer.apply_chat_template(prompt, tokenize=True, add_generation_prompt=True, return_tensors=\"pt\").to(\"cuda\")\n",
    "outputs = model.generate(inputs, max_new_tokens=512, use_cache=True)\n",
    "print(tokenizer.decode(outputs[0], skip_special_tokens=True))  ## 오히려 미세 조정하기 전이 더 출력 결과가 올바름..ㅜㅜ"
   ]
  }
 ],
 "metadata": {
  "kernelspec": {
   "display_name": "Python 3 (ipykernel)",
   "language": "python",
   "name": "python3"
  },
  "language_info": {
   "codemirror_mode": {
    "name": "ipython",
    "version": 3
   },
   "file_extension": ".py",
   "mimetype": "text/x-python",
   "name": "python",
   "nbconvert_exporter": "python",
   "pygments_lexer": "ipython3",
   "version": "3.10.12"
  }
 },
 "nbformat": 4,
 "nbformat_minor": 5
}
