{
 "cells": [
  {
   "cell_type": "code",
   "execution_count": null,
   "metadata": {
    "colab": {
     "base_uri": "https://localhost:8080/"
    },
    "collapsed": true,
    "executionInfo": {
     "elapsed": 126077,
     "status": "ok",
     "timestamp": 1737383109086,
     "user": {
      "displayName": "이동근 (동글)",
      "userId": "10838143575112387769"
     },
     "user_tz": -540
    },
    "id": "7mdrq5Sy5K8P",
    "outputId": "6e7d23b1-6f57-4726-e7c0-046a0db3d477"
   },
   "outputs": [],
   "source": [
    "## 출처: 딥러닝을 이용한 자연어 처리 입문\n",
    "## RNN을 이용한 텍스트 분류 - 네이버 쇼핑 리뷰 감정 분석\n",
    "\n",
    "# Mecab 모듈 설치\n",
    "!pip install konlpy\n",
    "!pip install mecab-python\n",
    "!bash <(curl -s https://raw.githubusercontent.com/konlpy/konlpy/master/scripts/mecab.sh)"
   ]
  },
  {
   "cell_type": "code",
   "execution_count": 2,
   "metadata": {
    "executionInfo": {
     "elapsed": 6168,
     "status": "ok",
     "timestamp": 1737383130356,
     "user": {
      "displayName": "이동근 (동글)",
      "userId": "10838143575112387769"
     },
     "user_tz": -540
    },
    "id": "NXFt4r1x6dyH"
   },
   "outputs": [],
   "source": [
    "# 리뷰 데이터 전처리를 위한 모듈 불러오기\n",
    "import re\n",
    "import pandas as pd\n",
    "import numpy as np\n",
    "import matplotlib.pyplot as plt\n",
    "import urllib.request\n",
    "from collections import Counter\n",
    "from konlpy.tag import Mecab\n",
    "from sklearn.model_selection import train_test_split\n",
    "from tensorflow.keras.preprocessing.text import Tokenizer\n",
    "from tensorflow.keras.preprocessing.sequence import pad_sequences"
   ]
  },
  {
   "cell_type": "code",
   "execution_count": 3,
   "metadata": {
    "colab": {
     "base_uri": "https://localhost:8080/"
    },
    "executionInfo": {
     "elapsed": 681,
     "status": "ok",
     "timestamp": 1737383171554,
     "user": {
      "displayName": "이동근 (동글)",
      "userId": "10838143575112387769"
     },
     "user_tz": -540
    },
    "id": "__DxAGEl8asS",
    "outputId": "86f9c8bf-fd0a-4663-c2b4-4e77af4937ca"
   },
   "outputs": [
    {
     "data": {
      "text/plain": [
       "('ratings_total.txt', <http.client.HTTPMessage at 0x7f2261591210>)"
      ]
     },
     "execution_count": 3,
     "metadata": {},
     "output_type": "execute_result"
    }
   ],
   "source": [
    "# 데이터 다운받기\n",
    "## 데이터 출처: 20.6~7월 동안의 네이버 쇼핑 제품들의 후기 20만 건 데이터, 별점(1, 2, 4, 5)과 후기 텍스트로 구성\n",
    "urllib.request.urlretrieve(\"https://raw.githubusercontent.com/bab2min/corpus/master/sentiment/naver_shopping.txt\", filename=\"ratings_total.txt\")"
   ]
  },
  {
   "cell_type": "code",
   "execution_count": 4,
   "metadata": {
    "colab": {
     "base_uri": "https://localhost:8080/"
    },
    "executionInfo": {
     "elapsed": 1388,
     "status": "ok",
     "timestamp": 1737383175126,
     "user": {
      "displayName": "이동근 (동글)",
      "userId": "10838143575112387769"
     },
     "user_tz": -540
    },
    "id": "Z4Q6kzP68p8R",
    "outputId": "2dcf63de-667a-4adb-d051-c250e7a0653e"
   },
   "outputs": [
    {
     "data": {
      "text/plain": [
       "200000"
      ]
     },
     "execution_count": 4,
     "metadata": {},
     "output_type": "execute_result"
    }
   ],
   "source": [
    "# txt 파일 불러와서 컬럼 추가\n",
    "total_data = pd.read_table('ratings_total.txt', names=['ratings', 'reviews'])\n",
    "\n",
    "# 전체 리뷰 갯수 출력\n",
    "len(total_data)  # 200000"
   ]
  },
  {
   "cell_type": "code",
   "execution_count": 6,
   "metadata": {
    "colab": {
     "base_uri": "https://localhost:8080/",
     "height": 204
    },
    "executionInfo": {
     "elapsed": 1014,
     "status": "ok",
     "timestamp": 1737383191938,
     "user": {
      "displayName": "이동근 (동글)",
      "userId": "10838143575112387769"
     },
     "user_tz": -540
    },
    "id": "QUS02DGI9NcK",
    "outputId": "1f8563d2-fea8-4bf5-adec-a97f7e0c0a53"
   },
   "outputs": [
    {
     "data": {
      "application/vnd.google.colaboratory.intrinsic+json": {
       "type": "dataframe",
       "variable_name": "total_data"
      },
      "text/html": [
       "\n",
       "  <div id=\"df-dc606d4f-c5a5-462d-9322-8ec4afb1527b\" class=\"colab-df-container\">\n",
       "    <div>\n",
       "<style scoped>\n",
       "    .dataframe tbody tr th:only-of-type {\n",
       "        vertical-align: middle;\n",
       "    }\n",
       "\n",
       "    .dataframe tbody tr th {\n",
       "        vertical-align: top;\n",
       "    }\n",
       "\n",
       "    .dataframe thead th {\n",
       "        text-align: right;\n",
       "    }\n",
       "</style>\n",
       "<table border=\"1\" class=\"dataframe\">\n",
       "  <thead>\n",
       "    <tr style=\"text-align: right;\">\n",
       "      <th></th>\n",
       "      <th>ratings</th>\n",
       "      <th>reviews</th>\n",
       "    </tr>\n",
       "  </thead>\n",
       "  <tbody>\n",
       "    <tr>\n",
       "      <th>0</th>\n",
       "      <td>5</td>\n",
       "      <td>배공빠르고 굿</td>\n",
       "    </tr>\n",
       "    <tr>\n",
       "      <th>1</th>\n",
       "      <td>2</td>\n",
       "      <td>택배가 엉망이네용 저희집 밑에층에 말도없이 놔두고가고</td>\n",
       "    </tr>\n",
       "    <tr>\n",
       "      <th>2</th>\n",
       "      <td>5</td>\n",
       "      <td>아주좋아요 바지 정말 좋아서2개 더 구매했어요 이가격에 대박입니다. 바느질이 조금 ...</td>\n",
       "    </tr>\n",
       "    <tr>\n",
       "      <th>3</th>\n",
       "      <td>2</td>\n",
       "      <td>선물용으로 빨리 받아서 전달했어야 하는 상품이었는데 머그컵만 와서 당황했습니다. 전...</td>\n",
       "    </tr>\n",
       "    <tr>\n",
       "      <th>4</th>\n",
       "      <td>5</td>\n",
       "      <td>민트색상 예뻐요. 옆 손잡이는 거는 용도로도 사용되네요 ㅎㅎ</td>\n",
       "    </tr>\n",
       "  </tbody>\n",
       "</table>\n",
       "</div>\n",
       "    <div class=\"colab-df-buttons\">\n",
       "\n",
       "  <div class=\"colab-df-container\">\n",
       "    <button class=\"colab-df-convert\" onclick=\"convertToInteractive('df-dc606d4f-c5a5-462d-9322-8ec4afb1527b')\"\n",
       "            title=\"Convert this dataframe to an interactive table.\"\n",
       "            style=\"display:none;\">\n",
       "\n",
       "  <svg xmlns=\"http://www.w3.org/2000/svg\" height=\"24px\" viewBox=\"0 -960 960 960\">\n",
       "    <path d=\"M120-120v-720h720v720H120Zm60-500h600v-160H180v160Zm220 220h160v-160H400v160Zm0 220h160v-160H400v160ZM180-400h160v-160H180v160Zm440 0h160v-160H620v160ZM180-180h160v-160H180v160Zm440 0h160v-160H620v160Z\"/>\n",
       "  </svg>\n",
       "    </button>\n",
       "\n",
       "  <style>\n",
       "    .colab-df-container {\n",
       "      display:flex;\n",
       "      gap: 12px;\n",
       "    }\n",
       "\n",
       "    .colab-df-convert {\n",
       "      background-color: #E8F0FE;\n",
       "      border: none;\n",
       "      border-radius: 50%;\n",
       "      cursor: pointer;\n",
       "      display: none;\n",
       "      fill: #1967D2;\n",
       "      height: 32px;\n",
       "      padding: 0 0 0 0;\n",
       "      width: 32px;\n",
       "    }\n",
       "\n",
       "    .colab-df-convert:hover {\n",
       "      background-color: #E2EBFA;\n",
       "      box-shadow: 0px 1px 2px rgba(60, 64, 67, 0.3), 0px 1px 3px 1px rgba(60, 64, 67, 0.15);\n",
       "      fill: #174EA6;\n",
       "    }\n",
       "\n",
       "    .colab-df-buttons div {\n",
       "      margin-bottom: 4px;\n",
       "    }\n",
       "\n",
       "    [theme=dark] .colab-df-convert {\n",
       "      background-color: #3B4455;\n",
       "      fill: #D2E3FC;\n",
       "    }\n",
       "\n",
       "    [theme=dark] .colab-df-convert:hover {\n",
       "      background-color: #434B5C;\n",
       "      box-shadow: 0px 1px 3px 1px rgba(0, 0, 0, 0.15);\n",
       "      filter: drop-shadow(0px 1px 2px rgba(0, 0, 0, 0.3));\n",
       "      fill: #FFFFFF;\n",
       "    }\n",
       "  </style>\n",
       "\n",
       "    <script>\n",
       "      const buttonEl =\n",
       "        document.querySelector('#df-dc606d4f-c5a5-462d-9322-8ec4afb1527b button.colab-df-convert');\n",
       "      buttonEl.style.display =\n",
       "        google.colab.kernel.accessAllowed ? 'block' : 'none';\n",
       "\n",
       "      async function convertToInteractive(key) {\n",
       "        const element = document.querySelector('#df-dc606d4f-c5a5-462d-9322-8ec4afb1527b');\n",
       "        const dataTable =\n",
       "          await google.colab.kernel.invokeFunction('convertToInteractive',\n",
       "                                                    [key], {});\n",
       "        if (!dataTable) return;\n",
       "\n",
       "        const docLinkHtml = 'Like what you see? Visit the ' +\n",
       "          '<a target=\"_blank\" href=https://colab.research.google.com/notebooks/data_table.ipynb>data table notebook</a>'\n",
       "          + ' to learn more about interactive tables.';\n",
       "        element.innerHTML = '';\n",
       "        dataTable['output_type'] = 'display_data';\n",
       "        await google.colab.output.renderOutput(dataTable, element);\n",
       "        const docLink = document.createElement('div');\n",
       "        docLink.innerHTML = docLinkHtml;\n",
       "        element.appendChild(docLink);\n",
       "      }\n",
       "    </script>\n",
       "  </div>\n",
       "\n",
       "\n",
       "<div id=\"df-91241e95-59e3-4735-a61b-7d49ee4ef1bd\">\n",
       "  <button class=\"colab-df-quickchart\" onclick=\"quickchart('df-91241e95-59e3-4735-a61b-7d49ee4ef1bd')\"\n",
       "            title=\"Suggest charts\"\n",
       "            style=\"display:none;\">\n",
       "\n",
       "<svg xmlns=\"http://www.w3.org/2000/svg\" height=\"24px\"viewBox=\"0 0 24 24\"\n",
       "     width=\"24px\">\n",
       "    <g>\n",
       "        <path d=\"M19 3H5c-1.1 0-2 .9-2 2v14c0 1.1.9 2 2 2h14c1.1 0 2-.9 2-2V5c0-1.1-.9-2-2-2zM9 17H7v-7h2v7zm4 0h-2V7h2v10zm4 0h-2v-4h2v4z\"/>\n",
       "    </g>\n",
       "</svg>\n",
       "  </button>\n",
       "\n",
       "<style>\n",
       "  .colab-df-quickchart {\n",
       "      --bg-color: #E8F0FE;\n",
       "      --fill-color: #1967D2;\n",
       "      --hover-bg-color: #E2EBFA;\n",
       "      --hover-fill-color: #174EA6;\n",
       "      --disabled-fill-color: #AAA;\n",
       "      --disabled-bg-color: #DDD;\n",
       "  }\n",
       "\n",
       "  [theme=dark] .colab-df-quickchart {\n",
       "      --bg-color: #3B4455;\n",
       "      --fill-color: #D2E3FC;\n",
       "      --hover-bg-color: #434B5C;\n",
       "      --hover-fill-color: #FFFFFF;\n",
       "      --disabled-bg-color: #3B4455;\n",
       "      --disabled-fill-color: #666;\n",
       "  }\n",
       "\n",
       "  .colab-df-quickchart {\n",
       "    background-color: var(--bg-color);\n",
       "    border: none;\n",
       "    border-radius: 50%;\n",
       "    cursor: pointer;\n",
       "    display: none;\n",
       "    fill: var(--fill-color);\n",
       "    height: 32px;\n",
       "    padding: 0;\n",
       "    width: 32px;\n",
       "  }\n",
       "\n",
       "  .colab-df-quickchart:hover {\n",
       "    background-color: var(--hover-bg-color);\n",
       "    box-shadow: 0 1px 2px rgba(60, 64, 67, 0.3), 0 1px 3px 1px rgba(60, 64, 67, 0.15);\n",
       "    fill: var(--button-hover-fill-color);\n",
       "  }\n",
       "\n",
       "  .colab-df-quickchart-complete:disabled,\n",
       "  .colab-df-quickchart-complete:disabled:hover {\n",
       "    background-color: var(--disabled-bg-color);\n",
       "    fill: var(--disabled-fill-color);\n",
       "    box-shadow: none;\n",
       "  }\n",
       "\n",
       "  .colab-df-spinner {\n",
       "    border: 2px solid var(--fill-color);\n",
       "    border-color: transparent;\n",
       "    border-bottom-color: var(--fill-color);\n",
       "    animation:\n",
       "      spin 1s steps(1) infinite;\n",
       "  }\n",
       "\n",
       "  @keyframes spin {\n",
       "    0% {\n",
       "      border-color: transparent;\n",
       "      border-bottom-color: var(--fill-color);\n",
       "      border-left-color: var(--fill-color);\n",
       "    }\n",
       "    20% {\n",
       "      border-color: transparent;\n",
       "      border-left-color: var(--fill-color);\n",
       "      border-top-color: var(--fill-color);\n",
       "    }\n",
       "    30% {\n",
       "      border-color: transparent;\n",
       "      border-left-color: var(--fill-color);\n",
       "      border-top-color: var(--fill-color);\n",
       "      border-right-color: var(--fill-color);\n",
       "    }\n",
       "    40% {\n",
       "      border-color: transparent;\n",
       "      border-right-color: var(--fill-color);\n",
       "      border-top-color: var(--fill-color);\n",
       "    }\n",
       "    60% {\n",
       "      border-color: transparent;\n",
       "      border-right-color: var(--fill-color);\n",
       "    }\n",
       "    80% {\n",
       "      border-color: transparent;\n",
       "      border-right-color: var(--fill-color);\n",
       "      border-bottom-color: var(--fill-color);\n",
       "    }\n",
       "    90% {\n",
       "      border-color: transparent;\n",
       "      border-bottom-color: var(--fill-color);\n",
       "    }\n",
       "  }\n",
       "</style>\n",
       "\n",
       "  <script>\n",
       "    async function quickchart(key) {\n",
       "      const quickchartButtonEl =\n",
       "        document.querySelector('#' + key + ' button');\n",
       "      quickchartButtonEl.disabled = true;  // To prevent multiple clicks.\n",
       "      quickchartButtonEl.classList.add('colab-df-spinner');\n",
       "      try {\n",
       "        const charts = await google.colab.kernel.invokeFunction(\n",
       "            'suggestCharts', [key], {});\n",
       "      } catch (error) {\n",
       "        console.error('Error during call to suggestCharts:', error);\n",
       "      }\n",
       "      quickchartButtonEl.classList.remove('colab-df-spinner');\n",
       "      quickchartButtonEl.classList.add('colab-df-quickchart-complete');\n",
       "    }\n",
       "    (() => {\n",
       "      let quickchartButtonEl =\n",
       "        document.querySelector('#df-91241e95-59e3-4735-a61b-7d49ee4ef1bd button');\n",
       "      quickchartButtonEl.style.display =\n",
       "        google.colab.kernel.accessAllowed ? 'block' : 'none';\n",
       "    })();\n",
       "  </script>\n",
       "</div>\n",
       "\n",
       "    </div>\n",
       "  </div>\n"
      ],
      "text/plain": [
       "   ratings                                            reviews\n",
       "0        5                                            배공빠르고 굿\n",
       "1        2                      택배가 엉망이네용 저희집 밑에층에 말도없이 놔두고가고\n",
       "2        5  아주좋아요 바지 정말 좋아서2개 더 구매했어요 이가격에 대박입니다. 바느질이 조금 ...\n",
       "3        2  선물용으로 빨리 받아서 전달했어야 하는 상품이었는데 머그컵만 와서 당황했습니다. 전...\n",
       "4        5                  민트색상 예뻐요. 옆 손잡이는 거는 용도로도 사용되네요 ㅎㅎ"
      ]
     },
     "execution_count": 6,
     "metadata": {},
     "output_type": "execute_result"
    }
   ],
   "source": [
    "# 데이터 샘플 5개 출력\n",
    "total_data.head(5)"
   ]
  },
  {
   "cell_type": "code",
   "execution_count": 7,
   "metadata": {
    "colab": {
     "base_uri": "https://localhost:8080/",
     "height": 204
    },
    "executionInfo": {
     "elapsed": 446,
     "status": "ok",
     "timestamp": 1737383211330,
     "user": {
      "displayName": "이동근 (동글)",
      "userId": "10838143575112387769"
     },
     "user_tz": -540
    },
    "id": "so5BvwpV9cW8",
    "outputId": "e0d411f3-fe5d-45ef-d119-bbb1b7fd14f5"
   },
   "outputs": [
    {
     "data": {
      "application/vnd.google.colaboratory.intrinsic+json": {
       "type": "dataframe",
       "variable_name": "total_data"
      },
      "text/html": [
       "\n",
       "  <div id=\"df-c0ead1ef-65d7-48d5-9879-27c09d2e69be\" class=\"colab-df-container\">\n",
       "    <div>\n",
       "<style scoped>\n",
       "    .dataframe tbody tr th:only-of-type {\n",
       "        vertical-align: middle;\n",
       "    }\n",
       "\n",
       "    .dataframe tbody tr th {\n",
       "        vertical-align: top;\n",
       "    }\n",
       "\n",
       "    .dataframe thead th {\n",
       "        text-align: right;\n",
       "    }\n",
       "</style>\n",
       "<table border=\"1\" class=\"dataframe\">\n",
       "  <thead>\n",
       "    <tr style=\"text-align: right;\">\n",
       "      <th></th>\n",
       "      <th>ratings</th>\n",
       "      <th>reviews</th>\n",
       "      <th>label</th>\n",
       "    </tr>\n",
       "  </thead>\n",
       "  <tbody>\n",
       "    <tr>\n",
       "      <th>0</th>\n",
       "      <td>5</td>\n",
       "      <td>배공빠르고 굿</td>\n",
       "      <td>1</td>\n",
       "    </tr>\n",
       "    <tr>\n",
       "      <th>1</th>\n",
       "      <td>2</td>\n",
       "      <td>택배가 엉망이네용 저희집 밑에층에 말도없이 놔두고가고</td>\n",
       "      <td>0</td>\n",
       "    </tr>\n",
       "    <tr>\n",
       "      <th>2</th>\n",
       "      <td>5</td>\n",
       "      <td>아주좋아요 바지 정말 좋아서2개 더 구매했어요 이가격에 대박입니다. 바느질이 조금 ...</td>\n",
       "      <td>1</td>\n",
       "    </tr>\n",
       "    <tr>\n",
       "      <th>3</th>\n",
       "      <td>2</td>\n",
       "      <td>선물용으로 빨리 받아서 전달했어야 하는 상품이었는데 머그컵만 와서 당황했습니다. 전...</td>\n",
       "      <td>0</td>\n",
       "    </tr>\n",
       "    <tr>\n",
       "      <th>4</th>\n",
       "      <td>5</td>\n",
       "      <td>민트색상 예뻐요. 옆 손잡이는 거는 용도로도 사용되네요 ㅎㅎ</td>\n",
       "      <td>1</td>\n",
       "    </tr>\n",
       "  </tbody>\n",
       "</table>\n",
       "</div>\n",
       "    <div class=\"colab-df-buttons\">\n",
       "\n",
       "  <div class=\"colab-df-container\">\n",
       "    <button class=\"colab-df-convert\" onclick=\"convertToInteractive('df-c0ead1ef-65d7-48d5-9879-27c09d2e69be')\"\n",
       "            title=\"Convert this dataframe to an interactive table.\"\n",
       "            style=\"display:none;\">\n",
       "\n",
       "  <svg xmlns=\"http://www.w3.org/2000/svg\" height=\"24px\" viewBox=\"0 -960 960 960\">\n",
       "    <path d=\"M120-120v-720h720v720H120Zm60-500h600v-160H180v160Zm220 220h160v-160H400v160Zm0 220h160v-160H400v160ZM180-400h160v-160H180v160Zm440 0h160v-160H620v160ZM180-180h160v-160H180v160Zm440 0h160v-160H620v160Z\"/>\n",
       "  </svg>\n",
       "    </button>\n",
       "\n",
       "  <style>\n",
       "    .colab-df-container {\n",
       "      display:flex;\n",
       "      gap: 12px;\n",
       "    }\n",
       "\n",
       "    .colab-df-convert {\n",
       "      background-color: #E8F0FE;\n",
       "      border: none;\n",
       "      border-radius: 50%;\n",
       "      cursor: pointer;\n",
       "      display: none;\n",
       "      fill: #1967D2;\n",
       "      height: 32px;\n",
       "      padding: 0 0 0 0;\n",
       "      width: 32px;\n",
       "    }\n",
       "\n",
       "    .colab-df-convert:hover {\n",
       "      background-color: #E2EBFA;\n",
       "      box-shadow: 0px 1px 2px rgba(60, 64, 67, 0.3), 0px 1px 3px 1px rgba(60, 64, 67, 0.15);\n",
       "      fill: #174EA6;\n",
       "    }\n",
       "\n",
       "    .colab-df-buttons div {\n",
       "      margin-bottom: 4px;\n",
       "    }\n",
       "\n",
       "    [theme=dark] .colab-df-convert {\n",
       "      background-color: #3B4455;\n",
       "      fill: #D2E3FC;\n",
       "    }\n",
       "\n",
       "    [theme=dark] .colab-df-convert:hover {\n",
       "      background-color: #434B5C;\n",
       "      box-shadow: 0px 1px 3px 1px rgba(0, 0, 0, 0.15);\n",
       "      filter: drop-shadow(0px 1px 2px rgba(0, 0, 0, 0.3));\n",
       "      fill: #FFFFFF;\n",
       "    }\n",
       "  </style>\n",
       "\n",
       "    <script>\n",
       "      const buttonEl =\n",
       "        document.querySelector('#df-c0ead1ef-65d7-48d5-9879-27c09d2e69be button.colab-df-convert');\n",
       "      buttonEl.style.display =\n",
       "        google.colab.kernel.accessAllowed ? 'block' : 'none';\n",
       "\n",
       "      async function convertToInteractive(key) {\n",
       "        const element = document.querySelector('#df-c0ead1ef-65d7-48d5-9879-27c09d2e69be');\n",
       "        const dataTable =\n",
       "          await google.colab.kernel.invokeFunction('convertToInteractive',\n",
       "                                                    [key], {});\n",
       "        if (!dataTable) return;\n",
       "\n",
       "        const docLinkHtml = 'Like what you see? Visit the ' +\n",
       "          '<a target=\"_blank\" href=https://colab.research.google.com/notebooks/data_table.ipynb>data table notebook</a>'\n",
       "          + ' to learn more about interactive tables.';\n",
       "        element.innerHTML = '';\n",
       "        dataTable['output_type'] = 'display_data';\n",
       "        await google.colab.output.renderOutput(dataTable, element);\n",
       "        const docLink = document.createElement('div');\n",
       "        docLink.innerHTML = docLinkHtml;\n",
       "        element.appendChild(docLink);\n",
       "      }\n",
       "    </script>\n",
       "  </div>\n",
       "\n",
       "\n",
       "<div id=\"df-d045f0cb-1f97-4ae7-a2a1-f85f7dee7d81\">\n",
       "  <button class=\"colab-df-quickchart\" onclick=\"quickchart('df-d045f0cb-1f97-4ae7-a2a1-f85f7dee7d81')\"\n",
       "            title=\"Suggest charts\"\n",
       "            style=\"display:none;\">\n",
       "\n",
       "<svg xmlns=\"http://www.w3.org/2000/svg\" height=\"24px\"viewBox=\"0 0 24 24\"\n",
       "     width=\"24px\">\n",
       "    <g>\n",
       "        <path d=\"M19 3H5c-1.1 0-2 .9-2 2v14c0 1.1.9 2 2 2h14c1.1 0 2-.9 2-2V5c0-1.1-.9-2-2-2zM9 17H7v-7h2v7zm4 0h-2V7h2v10zm4 0h-2v-4h2v4z\"/>\n",
       "    </g>\n",
       "</svg>\n",
       "  </button>\n",
       "\n",
       "<style>\n",
       "  .colab-df-quickchart {\n",
       "      --bg-color: #E8F0FE;\n",
       "      --fill-color: #1967D2;\n",
       "      --hover-bg-color: #E2EBFA;\n",
       "      --hover-fill-color: #174EA6;\n",
       "      --disabled-fill-color: #AAA;\n",
       "      --disabled-bg-color: #DDD;\n",
       "  }\n",
       "\n",
       "  [theme=dark] .colab-df-quickchart {\n",
       "      --bg-color: #3B4455;\n",
       "      --fill-color: #D2E3FC;\n",
       "      --hover-bg-color: #434B5C;\n",
       "      --hover-fill-color: #FFFFFF;\n",
       "      --disabled-bg-color: #3B4455;\n",
       "      --disabled-fill-color: #666;\n",
       "  }\n",
       "\n",
       "  .colab-df-quickchart {\n",
       "    background-color: var(--bg-color);\n",
       "    border: none;\n",
       "    border-radius: 50%;\n",
       "    cursor: pointer;\n",
       "    display: none;\n",
       "    fill: var(--fill-color);\n",
       "    height: 32px;\n",
       "    padding: 0;\n",
       "    width: 32px;\n",
       "  }\n",
       "\n",
       "  .colab-df-quickchart:hover {\n",
       "    background-color: var(--hover-bg-color);\n",
       "    box-shadow: 0 1px 2px rgba(60, 64, 67, 0.3), 0 1px 3px 1px rgba(60, 64, 67, 0.15);\n",
       "    fill: var(--button-hover-fill-color);\n",
       "  }\n",
       "\n",
       "  .colab-df-quickchart-complete:disabled,\n",
       "  .colab-df-quickchart-complete:disabled:hover {\n",
       "    background-color: var(--disabled-bg-color);\n",
       "    fill: var(--disabled-fill-color);\n",
       "    box-shadow: none;\n",
       "  }\n",
       "\n",
       "  .colab-df-spinner {\n",
       "    border: 2px solid var(--fill-color);\n",
       "    border-color: transparent;\n",
       "    border-bottom-color: var(--fill-color);\n",
       "    animation:\n",
       "      spin 1s steps(1) infinite;\n",
       "  }\n",
       "\n",
       "  @keyframes spin {\n",
       "    0% {\n",
       "      border-color: transparent;\n",
       "      border-bottom-color: var(--fill-color);\n",
       "      border-left-color: var(--fill-color);\n",
       "    }\n",
       "    20% {\n",
       "      border-color: transparent;\n",
       "      border-left-color: var(--fill-color);\n",
       "      border-top-color: var(--fill-color);\n",
       "    }\n",
       "    30% {\n",
       "      border-color: transparent;\n",
       "      border-left-color: var(--fill-color);\n",
       "      border-top-color: var(--fill-color);\n",
       "      border-right-color: var(--fill-color);\n",
       "    }\n",
       "    40% {\n",
       "      border-color: transparent;\n",
       "      border-right-color: var(--fill-color);\n",
       "      border-top-color: var(--fill-color);\n",
       "    }\n",
       "    60% {\n",
       "      border-color: transparent;\n",
       "      border-right-color: var(--fill-color);\n",
       "    }\n",
       "    80% {\n",
       "      border-color: transparent;\n",
       "      border-right-color: var(--fill-color);\n",
       "      border-bottom-color: var(--fill-color);\n",
       "    }\n",
       "    90% {\n",
       "      border-color: transparent;\n",
       "      border-bottom-color: var(--fill-color);\n",
       "    }\n",
       "  }\n",
       "</style>\n",
       "\n",
       "  <script>\n",
       "    async function quickchart(key) {\n",
       "      const quickchartButtonEl =\n",
       "        document.querySelector('#' + key + ' button');\n",
       "      quickchartButtonEl.disabled = true;  // To prevent multiple clicks.\n",
       "      quickchartButtonEl.classList.add('colab-df-spinner');\n",
       "      try {\n",
       "        const charts = await google.colab.kernel.invokeFunction(\n",
       "            'suggestCharts', [key], {});\n",
       "      } catch (error) {\n",
       "        console.error('Error during call to suggestCharts:', error);\n",
       "      }\n",
       "      quickchartButtonEl.classList.remove('colab-df-spinner');\n",
       "      quickchartButtonEl.classList.add('colab-df-quickchart-complete');\n",
       "    }\n",
       "    (() => {\n",
       "      let quickchartButtonEl =\n",
       "        document.querySelector('#df-d045f0cb-1f97-4ae7-a2a1-f85f7dee7d81 button');\n",
       "      quickchartButtonEl.style.display =\n",
       "        google.colab.kernel.accessAllowed ? 'block' : 'none';\n",
       "    })();\n",
       "  </script>\n",
       "</div>\n",
       "\n",
       "    </div>\n",
       "  </div>\n"
      ],
      "text/plain": [
       "   ratings                                            reviews  label\n",
       "0        5                                            배공빠르고 굿      1\n",
       "1        2                      택배가 엉망이네용 저희집 밑에층에 말도없이 놔두고가고      0\n",
       "2        5  아주좋아요 바지 정말 좋아서2개 더 구매했어요 이가격에 대박입니다. 바느질이 조금 ...      1\n",
       "3        2  선물용으로 빨리 받아서 전달했어야 하는 상품이었는데 머그컵만 와서 당황했습니다. 전...      0\n",
       "4        5                  민트색상 예뻐요. 옆 손잡이는 거는 용도로도 사용되네요 ㅎㅎ      1"
      ]
     },
     "execution_count": 7,
     "metadata": {},
     "output_type": "execute_result"
    }
   ],
   "source": [
    "# 평점 데이터로 레이블 데이터 생성\n",
    "## 평점이 4, 5면 레이블 -> 1\n",
    "## 평점이 1, 2면 레이블 -> 0 (평점 3점이 없음)\n",
    "total_data['label'] = np.select([total_data.ratings > 3], [1], default=0)\n",
    "# numpy 사용 하지 않고 lambda 함수로 적으면\n",
    "# total_data['label'] = total_data['reviews'].apply(lambda x: 1 if x in [4, 5] else 0)\n",
    "\n",
    "total_data.head(5)"
   ]
  },
  {
   "cell_type": "code",
   "execution_count": 8,
   "metadata": {
    "colab": {
     "base_uri": "https://localhost:8080/"
    },
    "executionInfo": {
     "elapsed": 503,
     "status": "ok",
     "timestamp": 1737383232233,
     "user": {
      "displayName": "이동근 (동글)",
      "userId": "10838143575112387769"
     },
     "user_tz": -540
    },
    "id": "tRNz8zmCEmTF",
    "outputId": "57390c68-ea1a-457d-8e6e-f801d1b2a7ec"
   },
   "outputs": [
    {
     "name": "stdout",
     "output_type": "stream",
     "text": [
      "4\n",
      "199908\n",
      "2\n"
     ]
    }
   ],
   "source": [
    "# 중복을 제외한 각 컬럼의 샘플의 수 카운트\n",
    "print(total_data['ratings'].nunique())  # unique 앞에 n을 붙이면 갯수를 출력\n",
    "print(total_data['reviews'].nunique())\n",
    "print(total_data['label'].nunique())"
   ]
  },
  {
   "cell_type": "code",
   "execution_count": 9,
   "metadata": {
    "colab": {
     "base_uri": "https://localhost:8080/"
    },
    "executionInfo": {
     "elapsed": 404,
     "status": "ok",
     "timestamp": 1737383234485,
     "user": {
      "displayName": "이동근 (동글)",
      "userId": "10838143575112387769"
     },
     "user_tz": -540
    },
    "id": "E_trbAwHGVV4",
    "outputId": "ab05b3aa-8c49-451e-9f08-176a2b36853d"
   },
   "outputs": [
    {
     "data": {
      "text/plain": [
       "199908"
      ]
     },
     "execution_count": 9,
     "metadata": {},
     "output_type": "execute_result"
    }
   ],
   "source": [
    "# 리뷰 컬럼에서 중복 데이터 제거\n",
    "total_data.drop_duplicates(subset=['reviews'], inplace=True)\n",
    "len(total_data)  # 중복 데이터 제거하고 총 갯수 200000 -> 199908"
   ]
  },
  {
   "cell_type": "code",
   "execution_count": 10,
   "metadata": {
    "colab": {
     "base_uri": "https://localhost:8080/",
     "height": 176
    },
    "executionInfo": {
     "elapsed": 506,
     "status": "ok",
     "timestamp": 1737383236790,
     "user": {
      "displayName": "이동근 (동글)",
      "userId": "10838143575112387769"
     },
     "user_tz": -540
    },
    "id": "2sDsX5ZPFgPe",
    "outputId": "5db58757-95cf-4bf8-d2df-513bd0cabed6"
   },
   "outputs": [
    {
     "data": {
      "text/html": [
       "<div>\n",
       "<style scoped>\n",
       "    .dataframe tbody tr th:only-of-type {\n",
       "        vertical-align: middle;\n",
       "    }\n",
       "\n",
       "    .dataframe tbody tr th {\n",
       "        vertical-align: top;\n",
       "    }\n",
       "\n",
       "    .dataframe thead th {\n",
       "        text-align: right;\n",
       "    }\n",
       "</style>\n",
       "<table border=\"1\" class=\"dataframe\">\n",
       "  <thead>\n",
       "    <tr style=\"text-align: right;\">\n",
       "      <th></th>\n",
       "      <th>0</th>\n",
       "    </tr>\n",
       "  </thead>\n",
       "  <tbody>\n",
       "    <tr>\n",
       "      <th>ratings</th>\n",
       "      <td>0</td>\n",
       "    </tr>\n",
       "    <tr>\n",
       "      <th>reviews</th>\n",
       "      <td>0</td>\n",
       "    </tr>\n",
       "    <tr>\n",
       "      <th>label</th>\n",
       "      <td>0</td>\n",
       "    </tr>\n",
       "  </tbody>\n",
       "</table>\n",
       "</div><br><label><b>dtype:</b> int64</label>"
      ],
      "text/plain": [
       "ratings    0\n",
       "reviews    0\n",
       "label      0\n",
       "dtype: int64"
      ]
     },
     "execution_count": 10,
     "metadata": {},
     "output_type": "execute_result"
    }
   ],
   "source": [
    "# 결측치 확인\n",
    "total_data.isnull().sum()"
   ]
  },
  {
   "cell_type": "code",
   "execution_count": 11,
   "metadata": {
    "colab": {
     "base_uri": "https://localhost:8080/"
    },
    "executionInfo": {
     "elapsed": 394,
     "status": "ok",
     "timestamp": 1737383249611,
     "user": {
      "displayName": "이동근 (동글)",
      "userId": "10838143575112387769"
     },
     "user_tz": -540
    },
    "id": "zyplUUupFslW",
    "outputId": "8a4fe2a2-4a86-4618-d061-fd6e4c43dba5"
   },
   "outputs": [
    {
     "name": "stdout",
     "output_type": "stream",
     "text": [
      "(149931, 3) (49977, 3)\n"
     ]
    }
   ],
   "source": [
    "# 훈련, 테스트 데이터 분리\n",
    "train_data, test_data = train_test_split(total_data, test_size=0.25, random_state=42)\n",
    "print(train_data.shape, test_data.shape)"
   ]
  },
  {
   "cell_type": "code",
   "execution_count": 12,
   "metadata": {
    "colab": {
     "base_uri": "https://localhost:8080/",
     "height": 461
    },
    "executionInfo": {
     "elapsed": 540,
     "status": "ok",
     "timestamp": 1737383257022,
     "user": {
      "displayName": "이동근 (동글)",
      "userId": "10838143575112387769"
     },
     "user_tz": -540
    },
    "id": "cwxVS6x1G3O3",
    "outputId": "d3c56338-20ef-40ba-913b-396bd633d66e"
   },
   "outputs": [
    {
     "data": {
      "text/plain": [
       "<Axes: xlabel='label'>"
      ]
     },
     "execution_count": 12,
     "metadata": {},
     "output_type": "execute_result"
    },
    {
     "data": {
      "image/png": "[encoded data removed]",
      "text/plain": [
       "<Figure size 640x480 with 1 Axes>"
      ]
     },
     "metadata": {},
     "output_type": "display_data"
    }
   ],
   "source": [
    "# 레이블 데이터의 분포 확인(비율 확인) - 그래프로 확인\n",
    "train_data['label'].value_counts().plot(kind='bar')"
   ]
  },
  {
   "cell_type": "code",
   "execution_count": 13,
   "metadata": {
    "colab": {
     "base_uri": "https://localhost:8080/",
     "height": 111
    },
    "executionInfo": {
     "elapsed": 555,
     "status": "ok",
     "timestamp": 1737383275036,
     "user": {
      "displayName": "이동근 (동글)",
      "userId": "10838143575112387769"
     },
     "user_tz": -540
    },
    "id": "spROprLZHaQj",
    "outputId": "0cede301-44ae-403d-cb75-c1569253ba8d"
   },
   "outputs": [
    {
     "data": {
      "application/vnd.google.colaboratory.intrinsic+json": {
       "summary": "{\n  \"name\": \"train_data\",\n  \"rows\": 2,\n  \"fields\": [\n    {\n      \"column\": \"label\",\n      \"properties\": {\n        \"dtype\": \"number\",\n        \"std\": 0,\n        \"min\": 0,\n        \"max\": 1,\n        \"num_unique_values\": 2,\n        \"samples\": [\n          1,\n          0\n        ],\n        \"semantic_type\": \"\",\n        \"description\": \"\"\n      }\n    },\n    {\n      \"column\": \"count\",\n      \"properties\": {\n        \"dtype\": \"number\",\n        \"std\": 67,\n        \"min\": 74918,\n        \"max\": 75013,\n        \"num_unique_values\": 2,\n        \"samples\": [\n          75013,\n          74918\n        ],\n        \"semantic_type\": \"\",\n        \"description\": \"\"\n      }\n    }\n  ]\n}",
       "type": "dataframe"
      },
      "text/html": [
       "\n",
       "  <div id=\"df-fc18b26f-a8f2-4eaa-9e9c-11617be2dd53\" class=\"colab-df-container\">\n",
       "    <div>\n",
       "<style scoped>\n",
       "    .dataframe tbody tr th:only-of-type {\n",
       "        vertical-align: middle;\n",
       "    }\n",
       "\n",
       "    .dataframe tbody tr th {\n",
       "        vertical-align: top;\n",
       "    }\n",
       "\n",
       "    .dataframe thead th {\n",
       "        text-align: right;\n",
       "    }\n",
       "</style>\n",
       "<table border=\"1\" class=\"dataframe\">\n",
       "  <thead>\n",
       "    <tr style=\"text-align: right;\">\n",
       "      <th></th>\n",
       "      <th>label</th>\n",
       "      <th>count</th>\n",
       "    </tr>\n",
       "  </thead>\n",
       "  <tbody>\n",
       "    <tr>\n",
       "      <th>0</th>\n",
       "      <td>0</td>\n",
       "      <td>74918</td>\n",
       "    </tr>\n",
       "    <tr>\n",
       "      <th>1</th>\n",
       "      <td>1</td>\n",
       "      <td>75013</td>\n",
       "    </tr>\n",
       "  </tbody>\n",
       "</table>\n",
       "</div>\n",
       "    <div class=\"colab-df-buttons\">\n",
       "\n",
       "  <div class=\"colab-df-container\">\n",
       "    <button class=\"colab-df-convert\" onclick=\"convertToInteractive('df-fc18b26f-a8f2-4eaa-9e9c-11617be2dd53')\"\n",
       "            title=\"Convert this dataframe to an interactive table.\"\n",
       "            style=\"display:none;\">\n",
       "\n",
       "  <svg xmlns=\"http://www.w3.org/2000/svg\" height=\"24px\" viewBox=\"0 -960 960 960\">\n",
       "    <path d=\"M120-120v-720h720v720H120Zm60-500h600v-160H180v160Zm220 220h160v-160H400v160Zm0 220h160v-160H400v160ZM180-400h160v-160H180v160Zm440 0h160v-160H620v160ZM180-180h160v-160H180v160Zm440 0h160v-160H620v160Z\"/>\n",
       "  </svg>\n",
       "    </button>\n",
       "\n",
       "  <style>\n",
       "    .colab-df-container {\n",
       "      display:flex;\n",
       "      gap: 12px;\n",
       "    }\n",
       "\n",
       "    .colab-df-convert {\n",
       "      background-color: #E8F0FE;\n",
       "      border: none;\n",
       "      border-radius: 50%;\n",
       "      cursor: pointer;\n",
       "      display: none;\n",
       "      fill: #1967D2;\n",
       "      height: 32px;\n",
       "      padding: 0 0 0 0;\n",
       "      width: 32px;\n",
       "    }\n",
       "\n",
       "    .colab-df-convert:hover {\n",
       "      background-color: #E2EBFA;\n",
       "      box-shadow: 0px 1px 2px rgba(60, 64, 67, 0.3), 0px 1px 3px 1px rgba(60, 64, 67, 0.15);\n",
       "      fill: #174EA6;\n",
       "    }\n",
       "\n",
       "    .colab-df-buttons div {\n",
       "      margin-bottom: 4px;\n",
       "    }\n",
       "\n",
       "    [theme=dark] .colab-df-convert {\n",
       "      background-color: #3B4455;\n",
       "      fill: #D2E3FC;\n",
       "    }\n",
       "\n",
       "    [theme=dark] .colab-df-convert:hover {\n",
       "      background-color: #434B5C;\n",
       "      box-shadow: 0px 1px 3px 1px rgba(0, 0, 0, 0.15);\n",
       "      filter: drop-shadow(0px 1px 2px rgba(0, 0, 0, 0.3));\n",
       "      fill: #FFFFFF;\n",
       "    }\n",
       "  </style>\n",
       "\n",
       "    <script>\n",
       "      const buttonEl =\n",
       "        document.querySelector('#df-fc18b26f-a8f2-4eaa-9e9c-11617be2dd53 button.colab-df-convert');\n",
       "      buttonEl.style.display =\n",
       "        google.colab.kernel.accessAllowed ? 'block' : 'none';\n",
       "\n",
       "      async function convertToInteractive(key) {\n",
       "        const element = document.querySelector('#df-fc18b26f-a8f2-4eaa-9e9c-11617be2dd53');\n",
       "        const dataTable =\n",
       "          await google.colab.kernel.invokeFunction('convertToInteractive',\n",
       "                                                    [key], {});\n",
       "        if (!dataTable) return;\n",
       "\n",
       "        const docLinkHtml = 'Like what you see? Visit the ' +\n",
       "          '<a target=\"_blank\" href=https://colab.research.google.com/notebooks/data_table.ipynb>data table notebook</a>'\n",
       "          + ' to learn more about interactive tables.';\n",
       "        element.innerHTML = '';\n",
       "        dataTable['output_type'] = 'display_data';\n",
       "        await google.colab.output.renderOutput(dataTable, element);\n",
       "        const docLink = document.createElement('div');\n",
       "        docLink.innerHTML = docLinkHtml;\n",
       "        element.appendChild(docLink);\n",
       "      }\n",
       "    </script>\n",
       "  </div>\n",
       "\n",
       "\n",
       "<div id=\"df-b601fabd-a76f-44fd-b2e0-0d4be979e1a7\">\n",
       "  <button class=\"colab-df-quickchart\" onclick=\"quickchart('df-b601fabd-a76f-44fd-b2e0-0d4be979e1a7')\"\n",
       "            title=\"Suggest charts\"\n",
       "            style=\"display:none;\">\n",
       "\n",
       "<svg xmlns=\"http://www.w3.org/2000/svg\" height=\"24px\"viewBox=\"0 0 24 24\"\n",
       "     width=\"24px\">\n",
       "    <g>\n",
       "        <path d=\"M19 3H5c-1.1 0-2 .9-2 2v14c0 1.1.9 2 2 2h14c1.1 0 2-.9 2-2V5c0-1.1-.9-2-2-2zM9 17H7v-7h2v7zm4 0h-2V7h2v10zm4 0h-2v-4h2v4z\"/>\n",
       "    </g>\n",
       "</svg>\n",
       "  </button>\n",
       "\n",
       "<style>\n",
       "  .colab-df-quickchart {\n",
       "      --bg-color: #E8F0FE;\n",
       "      --fill-color: #1967D2;\n",
       "      --hover-bg-color: #E2EBFA;\n",
       "      --hover-fill-color: #174EA6;\n",
       "      --disabled-fill-color: #AAA;\n",
       "      --disabled-bg-color: #DDD;\n",
       "  }\n",
       "\n",
       "  [theme=dark] .colab-df-quickchart {\n",
       "      --bg-color: #3B4455;\n",
       "      --fill-color: #D2E3FC;\n",
       "      --hover-bg-color: #434B5C;\n",
       "      --hover-fill-color: #FFFFFF;\n",
       "      --disabled-bg-color: #3B4455;\n",
       "      --disabled-fill-color: #666;\n",
       "  }\n",
       "\n",
       "  .colab-df-quickchart {\n",
       "    background-color: var(--bg-color);\n",
       "    border: none;\n",
       "    border-radius: 50%;\n",
       "    cursor: pointer;\n",
       "    display: none;\n",
       "    fill: var(--fill-color);\n",
       "    height: 32px;\n",
       "    padding: 0;\n",
       "    width: 32px;\n",
       "  }\n",
       "\n",
       "  .colab-df-quickchart:hover {\n",
       "    background-color: var(--hover-bg-color);\n",
       "    box-shadow: 0 1px 2px rgba(60, 64, 67, 0.3), 0 1px 3px 1px rgba(60, 64, 67, 0.15);\n",
       "    fill: var(--button-hover-fill-color);\n",
       "  }\n",
       "\n",
       "  .colab-df-quickchart-complete:disabled,\n",
       "  .colab-df-quickchart-complete:disabled:hover {\n",
       "    background-color: var(--disabled-bg-color);\n",
       "    fill: var(--disabled-fill-color);\n",
       "    box-shadow: none;\n",
       "  }\n",
       "\n",
       "  .colab-df-spinner {\n",
       "    border: 2px solid var(--fill-color);\n",
       "    border-color: transparent;\n",
       "    border-bottom-color: var(--fill-color);\n",
       "    animation:\n",
       "      spin 1s steps(1) infinite;\n",
       "  }\n",
       "\n",
       "  @keyframes spin {\n",
       "    0% {\n",
       "      border-color: transparent;\n",
       "      border-bottom-color: var(--fill-color);\n",
       "      border-left-color: var(--fill-color);\n",
       "    }\n",
       "    20% {\n",
       "      border-color: transparent;\n",
       "      border-left-color: var(--fill-color);\n",
       "      border-top-color: var(--fill-color);\n",
       "    }\n",
       "    30% {\n",
       "      border-color: transparent;\n",
       "      border-left-color: var(--fill-color);\n",
       "      border-top-color: var(--fill-color);\n",
       "      border-right-color: var(--fill-color);\n",
       "    }\n",
       "    40% {\n",
       "      border-color: transparent;\n",
       "      border-right-color: var(--fill-color);\n",
       "      border-top-color: var(--fill-color);\n",
       "    }\n",
       "    60% {\n",
       "      border-color: transparent;\n",
       "      border-right-color: var(--fill-color);\n",
       "    }\n",
       "    80% {\n",
       "      border-color: transparent;\n",
       "      border-right-color: var(--fill-color);\n",
       "      border-bottom-color: var(--fill-color);\n",
       "    }\n",
       "    90% {\n",
       "      border-color: transparent;\n",
       "      border-bottom-color: var(--fill-color);\n",
       "    }\n",
       "  }\n",
       "</style>\n",
       "\n",
       "  <script>\n",
       "    async function quickchart(key) {\n",
       "      const quickchartButtonEl =\n",
       "        document.querySelector('#' + key + ' button');\n",
       "      quickchartButtonEl.disabled = true;  // To prevent multiple clicks.\n",
       "      quickchartButtonEl.classList.add('colab-df-spinner');\n",
       "      try {\n",
       "        const charts = await google.colab.kernel.invokeFunction(\n",
       "            'suggestCharts', [key], {});\n",
       "      } catch (error) {\n",
       "        console.error('Error during call to suggestCharts:', error);\n",
       "      }\n",
       "      quickchartButtonEl.classList.remove('colab-df-spinner');\n",
       "      quickchartButtonEl.classList.add('colab-df-quickchart-complete');\n",
       "    }\n",
       "    (() => {\n",
       "      let quickchartButtonEl =\n",
       "        document.querySelector('#df-b601fabd-a76f-44fd-b2e0-0d4be979e1a7 button');\n",
       "      quickchartButtonEl.style.display =\n",
       "        google.colab.kernel.accessAllowed ? 'block' : 'none';\n",
       "    })();\n",
       "  </script>\n",
       "</div>\n",
       "\n",
       "    </div>\n",
       "  </div>\n"
      ],
      "text/plain": [
       "   label  count\n",
       "0      0  74918\n",
       "1      1  75013"
      ]
     },
     "execution_count": 13,
     "metadata": {},
     "output_type": "execute_result"
    }
   ],
   "source": [
    "# 분포 레이블 갯수 확인\n",
    "train_data.groupby('label').size().reset_index(name='count')  # 50:50 비율로 레이블이 분포함"
   ]
  },
  {
   "cell_type": "code",
   "execution_count": 14,
   "metadata": {
    "colab": {
     "base_uri": "https://localhost:8080/",
     "height": 176
    },
    "executionInfo": {
     "elapsed": 840,
     "status": "ok",
     "timestamp": 1737383289397,
     "user": {
      "displayName": "이동근 (동글)",
      "userId": "10838143575112387769"
     },
     "user_tz": -540
    },
    "id": "ASqogQs7H9bQ",
    "outputId": "06d97504-8ee3-4891-df32-7e5a1e720d4f"
   },
   "outputs": [
    {
     "data": {
      "text/html": [
       "<div>\n",
       "<style scoped>\n",
       "    .dataframe tbody tr th:only-of-type {\n",
       "        vertical-align: middle;\n",
       "    }\n",
       "\n",
       "    .dataframe tbody tr th {\n",
       "        vertical-align: top;\n",
       "    }\n",
       "\n",
       "    .dataframe thead th {\n",
       "        text-align: right;\n",
       "    }\n",
       "</style>\n",
       "<table border=\"1\" class=\"dataframe\">\n",
       "  <thead>\n",
       "    <tr style=\"text-align: right;\">\n",
       "      <th></th>\n",
       "      <th>0</th>\n",
       "    </tr>\n",
       "  </thead>\n",
       "  <tbody>\n",
       "    <tr>\n",
       "      <th>ratings</th>\n",
       "      <td>0</td>\n",
       "    </tr>\n",
       "    <tr>\n",
       "      <th>reviews</th>\n",
       "      <td>0</td>\n",
       "    </tr>\n",
       "    <tr>\n",
       "      <th>label</th>\n",
       "      <td>0</td>\n",
       "    </tr>\n",
       "  </tbody>\n",
       "</table>\n",
       "</div><br><label><b>dtype:</b> int64</label>"
      ],
      "text/plain": [
       "ratings    0\n",
       "reviews    0\n",
       "label      0\n",
       "dtype: int64"
      ]
     },
     "execution_count": 14,
     "metadata": {},
     "output_type": "execute_result"
    }
   ],
   "source": [
    "# 텍스트 데이터 정제하기\n",
    "## 정규 표현식을 사용해서 한글을 제외하고 모두 제거하고, 공백을 null 값으로 대치\n",
    "train_data['reviews'] = train_data['reviews'].str.replace(\"[^ㄱ-ㅎㅏ-ㅣ가-힣 ]\", \"\", regex=True)\n",
    "train_data['reviews'] = train_data['reviews'].replace('', np.nan)\n",
    "train_data.isnull().sum()"
   ]
  },
  {
   "cell_type": "code",
   "execution_count": 15,
   "metadata": {
    "colab": {
     "base_uri": "https://localhost:8080/"
    },
    "executionInfo": {
     "elapsed": 380,
     "status": "ok",
     "timestamp": 1737383303491,
     "user": {
      "displayName": "이동근 (동글)",
      "userId": "10838143575112387769"
     },
     "user_tz": -540
    },
    "id": "Bki6plTSJkIQ",
    "outputId": "fef7bf55-6ab1-4cb1-cb59-fb660e3bc7cf"
   },
   "outputs": [
    {
     "data": {
      "text/plain": [
       "49977"
      ]
     },
     "execution_count": 15,
     "metadata": {},
     "output_type": "execute_result"
    }
   ],
   "source": [
    "# 테스트 데이터도 위 작업 적용 (중복 데이터 제거 -> 한글 외 제거 -> 공백 null로 대치)\n",
    "test_data.drop_duplicates(subset=['reviews'], inplace=True)\n",
    "test_data['reviews'] = test_data['reviews'].str.replace(\"[^ㄱ-ㅎㅏ-ㅣ가-힣 ]\", \"\", regex=True)\n",
    "test_data['reviews'] = test_data['reviews'].replace('', np.nan)\n",
    "test_data = test_data.dropna(how='any')  # null 값 제거\n",
    "len(test_data)"
   ]
  },
  {
   "cell_type": "code",
   "execution_count": 16,
   "metadata": {
    "executionInfo": {
     "elapsed": 441,
     "status": "ok",
     "timestamp": 1737383307491,
     "user": {
      "displayName": "이동근 (동글)",
      "userId": "10838143575112387769"
     },
     "user_tz": -540
    },
    "id": "uuybxyxKKwOl"
   },
   "outputs": [],
   "source": [
    "# 토큰화 작업\n",
    "mecab = Mecab()\n",
    "stopwords = [ '도', '는', '다', '의', '가', '이', '은', '한', '에', '하',\n",
    "              '고', '을', '를', '인', '듯', '과', '와', '네', '들', '지',\n",
    "              '임', '게' ]  # 분석에 의미없는 불용어를 먼저 지정 (후에 불용어 제거 수행)"
   ]
  },
  {
   "cell_type": "code",
   "execution_count": 17,
   "metadata": {
    "executionInfo": {
     "elapsed": 12299,
     "status": "ok",
     "timestamp": 1737383323146,
     "user": {
      "displayName": "이동근 (동글)",
      "userId": "10838143575112387769"
     },
     "user_tz": -540
    },
    "id": "qLmxoNSTLXo0"
   },
   "outputs": [],
   "source": [
    "# 훈련 데이터 토큰화 과정 수행\n",
    "train_data['tokenized'] = train_data['reviews'].apply(mecab.morphs)\n",
    "train_data['tokenized'] = train_data['tokenized'].apply(lambda x: [item for item in x if item not in stopwords])  # 불용어 제거"
   ]
  },
  {
   "cell_type": "code",
   "execution_count": 18,
   "metadata": {
    "executionInfo": {
     "elapsed": 4338,
     "status": "ok",
     "timestamp": 1737383329455,
     "user": {
      "displayName": "이동근 (동글)",
      "userId": "10838143575112387769"
     },
     "user_tz": -540
    },
    "id": "C9tISgh3NMwO"
   },
   "outputs": [],
   "source": [
    "# 테스트 데이터 토큰화 과정 수행\n",
    "test_data['tokenized'] = test_data['reviews'].apply(mecab.morphs)\n",
    "test_data['tokenized'] = test_data['tokenized'].apply(lambda x: [item for item in x if item not in stopwords])  # 불용어 제거"
   ]
  },
  {
   "cell_type": "code",
   "execution_count": 19,
   "metadata": {
    "executionInfo": {
     "elapsed": 1038,
     "status": "ok",
     "timestamp": 1737383332452,
     "user": {
      "displayName": "이동근 (동글)",
      "userId": "10838143575112387769"
     },
     "user_tz": -540
    },
    "id": "UGvBZ7ECNWcj"
   },
   "outputs": [],
   "source": [
    "# 단어와 길이 분포 확인하기\n",
    "## 라벨 데이터 0, 1에 따라 각 부정, 긍정 단어에 할당\n",
    "negative_words = np.hstack(train_data[train_data.label == 0]['tokenized'].values)\n",
    "positive_words = np.hstack(train_data[train_data.label == 1]['tokenized'].values)"
   ]
  },
  {
   "cell_type": "code",
   "execution_count": 20,
   "metadata": {
    "colab": {
     "base_uri": "https://localhost:8080/"
    },
    "executionInfo": {
     "elapsed": 1452,
     "status": "ok",
     "timestamp": 1737383335301,
     "user": {
      "displayName": "이동근 (동글)",
      "userId": "10838143575112387769"
     },
     "user_tz": -540
    },
    "id": "FuGCMk-5Tqd3",
    "outputId": "6b09078a-dae3-4843-bce5-8c479365462d"
   },
   "outputs": [
    {
     "data": {
      "text/plain": [
       "[('네요', 31802),\n",
       " ('는데', 20197),\n",
       " ('안', 19719),\n",
       " ('어요', 14838),\n",
       " ('있', 13200),\n",
       " ('너무', 13057),\n",
       " ('했', 11766),\n",
       " ('좋', 9803),\n",
       " ('배송', 9677),\n",
       " ('같', 8997),\n",
       " ('어', 8929),\n",
       " ('구매', 8869),\n",
       " ('거', 8861),\n",
       " ('없', 8672),\n",
       " ('아요', 8640),\n",
       " ('습니다', 8436),\n",
       " ('그냥', 8355),\n",
       " ('되', 8345),\n",
       " ('잘', 8029),\n",
       " ('않', 7985)]"
      ]
     },
     "execution_count": 20,
     "metadata": {},
     "output_type": "execute_result"
    }
   ],
   "source": [
    "# 각 단어별 빈도수 카운트\n",
    "## 부정 단어 카운트\n",
    "negative_word_count = Counter(negative_words)\n",
    "negative_word_count.most_common(20)  # 빈도수가 높은 상위 20개 단어 출력"
   ]
  },
  {
   "cell_type": "code",
   "execution_count": 21,
   "metadata": {
    "colab": {
     "base_uri": "https://localhost:8080/"
    },
    "executionInfo": {
     "elapsed": 583,
     "status": "ok",
     "timestamp": 1737383338196,
     "user": {
      "displayName": "이동근 (동글)",
      "userId": "10838143575112387769"
     },
     "user_tz": -540
    },
    "id": "7sc056goVLBa",
    "outputId": "2204a587-cbb0-4328-95c3-3c9b27e57e28"
   },
   "outputs": [
    {
     "data": {
      "text/plain": [
       "[('좋', 39422),\n",
       " ('아요', 21186),\n",
       " ('네요', 19894),\n",
       " ('어요', 18673),\n",
       " ('잘', 18603),\n",
       " ('구매', 16165),\n",
       " ('습니다', 13320),\n",
       " ('있', 12391),\n",
       " ('배송', 12274),\n",
       " ('는데', 11635),\n",
       " ('합니다', 9801),\n",
       " ('했', 9783),\n",
       " ('먹', 9640),\n",
       " ('재', 9274),\n",
       " ('너무', 8398),\n",
       " ('같', 7867),\n",
       " ('만족', 7259),\n",
       " ('거', 6484),\n",
       " ('어', 6330),\n",
       " ('쓰', 6291)]"
      ]
     },
     "execution_count": 21,
     "metadata": {},
     "output_type": "execute_result"
    }
   ],
   "source": [
    "## 긍정 단어 카운트\n",
    "positive_word_count = Counter(positive_words)\n",
    "positive_word_count.most_common(20)"
   ]
  },
  {
   "cell_type": "code",
   "execution_count": 23,
   "metadata": {
    "colab": {
     "base_uri": "https://localhost:8080/",
     "height": 566
    },
    "executionInfo": {
     "elapsed": 1661,
     "status": "ok",
     "timestamp": 1737383390830,
     "user": {
      "displayName": "이동근 (동글)",
      "userId": "10838143575112387769"
     },
     "user_tz": -540
    },
    "id": "RPFipQLvVbwH",
    "outputId": "95baf061-3dcf-4c33-f91f-337e61f4dfaf"
   },
   "outputs": [
    {
     "name": "stdout",
     "output_type": "stream",
     "text": [
      "긍정 리뷰의 평균 길이: 13.579646194659592\n",
      "부정 리뷰의 평균 길이: 17.031501107877947\n"
     ]
    },
    {
     "data": {
      "text/plain": [
       "Text(0.5, 0.98, 'Words in texts')"
      ]
     },
     "execution_count": 23,
     "metadata": {},
     "output_type": "execute_result"
    },
    {
     "data": {
      "image/png": "[encoded data removed]",
      "text/plain": [
       "<Figure size 1000x500 with 2 Axes>"
      ]
     },
     "metadata": {},
     "output_type": "display_data"
    }
   ],
   "source": [
    "# 각 단어의 길이 분포 그래프로 확인\n",
    "fig, (ax1, ax2) = plt.subplots(1, 2, figsize=(10, 5))  # 그래프 틀 생성\n",
    "text_len = train_data[train_data['label'] == 1]['tokenized'].map(lambda x: len(x))\n",
    "ax1.hist(text_len, color='red') # 히스토그램\n",
    "ax1.set_title('Positive Reviews')\n",
    "ax1.set_xlabel('length of samples')\n",
    "ax1.set_ylabel('number of samples')\n",
    "print('긍정 리뷰의 평균 길이:', np.mean(text_len))\n",
    "\n",
    "text_len = train_data[train_data['label'] == 0]['tokenized'].map(lambda x: len(x))\n",
    "ax2.hist(text_len, color='blue')\n",
    "ax2.set_title('Negative Reviews')\n",
    "ax2.set_xlabel('length of samples')\n",
    "ax2.set_ylabel('number of samples')\n",
    "print('부정 리뷰의 평균 길이:', np.mean(text_len))\n",
    "\n",
    "fig.suptitle('Words in texts')\n",
    "\n",
    "# 긍정 리뷰(왼쪽) 보다는 부정 리뷰(오른쪽)가 더 길게 작성된 경향이 있다."
   ]
  },
  {
   "cell_type": "code",
   "execution_count": 24,
   "metadata": {
    "colab": {
     "base_uri": "https://localhost:8080/"
    },
    "executionInfo": {
     "elapsed": 313,
     "status": "ok",
     "timestamp": 1737383404542,
     "user": {
      "displayName": "이동근 (동글)",
      "userId": "10838143575112387769"
     },
     "user_tz": -540
    },
    "id": "ZF0RreKAZyCG",
    "outputId": "47e5e789-7c90-4d3a-878b-861dabfd492c"
   },
   "outputs": [
    {
     "name": "stdout",
     "output_type": "stream",
     "text": [
      "(149931,) (149931,) (49977,) (49977,)\n"
     ]
    }
   ],
   "source": [
    "# 훈련, 테스트 데이터에서 레이블(y) 분할\n",
    "X_train = train_data['tokenized'].values\n",
    "y_train = train_data['label'].values\n",
    "X_test = test_data['tokenized'].values\n",
    "y_test = test_data['label'].values\n",
    "\n",
    "print(X_train.shape, y_train.shape, X_test.shape, y_test.shape)"
   ]
  },
  {
   "cell_type": "code",
   "execution_count": 25,
   "metadata": {
    "executionInfo": {
     "elapsed": 3032,
     "status": "ok",
     "timestamp": 1737383409905,
     "user": {
      "displayName": "이동근 (동글)",
      "userId": "10838143575112387769"
     },
     "user_tz": -540
    },
    "id": "OTqS34vdabjH"
   },
   "outputs": [],
   "source": [
    "# 정수로 인코딩하기\n",
    "tokenizer = Tokenizer()\n",
    "tokenizer.fit_on_texts(X_train)  # 훈련 데이터에 대해서 단어 집합 만들기"
   ]
  },
  {
   "cell_type": "code",
   "execution_count": 26,
   "metadata": {
    "colab": {
     "base_uri": "https://localhost:8080/"
    },
    "executionInfo": {
     "elapsed": 432,
     "status": "ok",
     "timestamp": 1737383419936,
     "user": {
      "displayName": "이동근 (동글)",
      "userId": "10838143575112387769"
     },
     "user_tz": -540
    },
    "id": "GbgLTCywa0M9",
    "outputId": "b90903a9-da5e-4dbd-84ef-9ed6a77100ff"
   },
   "outputs": [
    {
     "name": "stdout",
     "output_type": "stream",
     "text": [
      "단어 집합(vocabulary)의 크기: 40126\n",
      "등장 빈도가 1번 이하인 희귀 단어의 수: 18274\n",
      "단어 집합에서 희귀 단어(등장 횟수 1번)의 비율: 45.54154413597169\n",
      "전체 등장 빈도에서 희귀 단어 등장 빈도 비율(전체 등장 빈도 중 1번만 등장하는 비율): 0.7963859748210594\n"
     ]
    }
   ],
   "source": [
    "# 등장 횟수가 1회인 단어들은 자연어 처리에서 배제\n",
    "threshold = 2\n",
    "total_cnt = len(tokenizer.word_index)  # 단어의 수\n",
    "rare_cnt = 0  # 등장 빈도수가 threshold 보다 작은 단어의 갯수를 카운트\n",
    "total_freq = 0  # 훈련 데이터의 전체 단어 빈도수 총 합\n",
    "rare_freq = 0  # 등장 빈도수가 threshold 보다 작은 단어의 등장 빈도수의 총 합\n",
    "\n",
    "# 단어와 빈도수의 쌍을 key와 value로 받음\n",
    "for key, value in tokenizer.word_counts.items():\n",
    "    total_freq = total_freq + value\n",
    "\n",
    "    if(value < threshold):  # 만약 단어의 등장 빈도수가 threshold 보다 작으면\n",
    "        rare_cnt = rare_cnt + 1  # rare_cnt를 1개씩 세고(1을 더하고)\n",
    "        rare_freq = rare_freq + value  # value 값을 rare 빈도수 총 합에 합산해라\n",
    "\n",
    "print('단어 집합(vocabulary)의 크기:', total_cnt)\n",
    "print('등장 빈도가 %s번 이하인 희귀 단어의 수: %s' %(threshold - 1, rare_cnt))  # 문자열 포맷팅: %s는 문자열, %d는 정수\n",
    "print('단어 집합에서 희귀 단어(등장 횟수 1번)의 비율:', (rare_cnt / total_cnt) * 100)\n",
    "print('전체 등장 빈도에서 희귀 단어 등장 빈도 비율(전체 등장 빈도 중 1번만 등장하는 비율):', (rare_freq / total_freq) * 100)"
   ]
  },
  {
   "cell_type": "code",
   "execution_count": 27,
   "metadata": {
    "executionInfo": {
     "elapsed": 437,
     "status": "ok",
     "timestamp": 1737383424703,
     "user": {
      "displayName": "이동근 (동글)",
      "userId": "10838143575112387769"
     },
     "user_tz": -540
    },
    "id": "SLGTx76re72e"
   },
   "outputs": [],
   "source": [
    "## 위 수치를 해석하면\n",
    "# 단어가 약 40,000개 존재\n",
    "# 그 중에서 등장 빈도가 1회인 단어들은 단어 집합에서 약 45%를 차지\n",
    "# 하지만 훈련 데이터에서 등장 빈도로 차지하는 비중은 약 0.8%로 매우 작은 수치\n",
    "# 차지하는 비중이 매우 적으므로 자연어 처리에서 중요하지 않을 것으로 판단 -> 인코딩 과정에서 배제\n",
    "# 등장 빈도수가 1인 단어들의 수를 제외한 단어의 갯수를 단어 집합의 최대 크기로 제한"
   ]
  },
  {
   "cell_type": "code",
   "execution_count": 28,
   "metadata": {
    "colab": {
     "base_uri": "https://localhost:8080/"
    },
    "executionInfo": {
     "elapsed": 446,
     "status": "ok",
     "timestamp": 1737383431625,
     "user": {
      "displayName": "이동근 (동글)",
      "userId": "10838143575112387769"
     },
     "user_tz": -540
    },
    "id": "YwHXXRDLfog1",
    "outputId": "119a50e2-1675-4264-e885-0e67e9c99f2c"
   },
   "outputs": [
    {
     "data": {
      "text/plain": [
       "21854"
      ]
     },
     "execution_count": 28,
     "metadata": {},
     "output_type": "execute_result"
    }
   ],
   "source": [
    "# 전체 단어 갯수 중 빈도수 2 이하인 단어 갯수는 제거\n",
    "# 0번 패딩 토큰과 1번 00V 토큰을 고려하여 +2 적어 줌\n",
    "vocab_size = total_cnt - rare_cnt + 2\n",
    "vocab_size  # 단어 집합의 크기: 21854 -> 이 숫자를 토크나이저의 인자로 넘겨준다."
   ]
  },
  {
   "cell_type": "code",
   "execution_count": 29,
   "metadata": {
    "executionInfo": {
     "elapsed": 4090,
     "status": "ok",
     "timestamp": 1737383447136,
     "user": {
      "displayName": "이동근 (동글)",
      "userId": "10838143575112387769"
     },
     "user_tz": -540
    },
    "id": "PKwpbpeRgapf"
   },
   "outputs": [],
   "source": [
    "tokenizer = Tokenizer(vocab_size, oov_token='OOV')\n",
    "tokenizer.fit_on_texts(X_train)\n",
    "X_train = tokenizer.texts_to_sequences(X_train)\n",
    "X_test = tokenizer.texts_to_sequences(X_test)"
   ]
  },
  {
   "cell_type": "code",
   "execution_count": 30,
   "metadata": {
    "colab": {
     "base_uri": "https://localhost:8080/"
    },
    "executionInfo": {
     "elapsed": 593,
     "status": "ok",
     "timestamp": 1737383449347,
     "user": {
      "displayName": "이동근 (동글)",
      "userId": "10838143575112387769"
     },
     "user_tz": -540
    },
    "id": "IcpBgn7Rhah9",
    "outputId": "0f6e711a-6ba4-4d47-d7b3-a3099fee83d4"
   },
   "outputs": [
    {
     "data": {
      "text/plain": [
       "[[67,\n",
       "  2060,\n",
       "  300,\n",
       "  14295,\n",
       "  263,\n",
       "  73,\n",
       "  6,\n",
       "  237,\n",
       "  168,\n",
       "  136,\n",
       "  801,\n",
       "  2940,\n",
       "  626,\n",
       "  2,\n",
       "  76,\n",
       "  62,\n",
       "  207,\n",
       "  40,\n",
       "  1344,\n",
       "  155,\n",
       "  3,\n",
       "  6],\n",
       " [482, 400, 52, 8525, 2592, 2450, 338, 2941, 251, 2351, 39, 473, 2],\n",
       " [45,\n",
       "  24,\n",
       "  832,\n",
       "  104,\n",
       "  35,\n",
       "  2366,\n",
       "  160,\n",
       "  7,\n",
       "  10,\n",
       "  8058,\n",
       "  4,\n",
       "  1319,\n",
       "  30,\n",
       "  138,\n",
       "  323,\n",
       "  44,\n",
       "  59,\n",
       "  160,\n",
       "  138,\n",
       "  7,\n",
       "  1916,\n",
       "  2,\n",
       "  113,\n",
       "  163,\n",
       "  1385,\n",
       "  307,\n",
       "  119,\n",
       "  135]]"
      ]
     },
     "execution_count": 30,
     "metadata": {},
     "output_type": "execute_result"
    }
   ],
   "source": [
    "# X_train, X_test 상위 3개 샘플 출력\n",
    "X_train[:3]"
   ]
  },
  {
   "cell_type": "code",
   "execution_count": 31,
   "metadata": {
    "colab": {
     "base_uri": "https://localhost:8080/"
    },
    "executionInfo": {
     "elapsed": 394,
     "status": "ok",
     "timestamp": 1737383453118,
     "user": {
      "displayName": "이동근 (동글)",
      "userId": "10838143575112387769"
     },
     "user_tz": -540
    },
    "id": "jArHp-3Whm2N",
    "outputId": "ffc08297-91ac-4e2f-e366-c98e0321479b"
   },
   "outputs": [
    {
     "data": {
      "text/plain": [
       "[[14, 704, 767, 115, 186, 252, 12],\n",
       " [338, 3907, 62, 3819, 1624],\n",
       " [11, 69, 2, 49, 164, 3, 27, 15, 6, 514, 289, 17, 92, 110, 584, 59, 7, 2]]"
      ]
     },
     "execution_count": 31,
     "metadata": {},
     "output_type": "execute_result"
    }
   ],
   "source": [
    "X_test[:3]"
   ]
  },
  {
   "cell_type": "code",
   "execution_count": 32,
   "metadata": {
    "colab": {
     "base_uri": "https://localhost:8080/",
     "height": 449
    },
    "executionInfo": {
     "elapsed": 898,
     "status": "ok",
     "timestamp": 1737383461522,
     "user": {
      "displayName": "이동근 (동글)",
      "userId": "10838143575112387769"
     },
     "user_tz": -540
    },
    "id": "7qMan7KKiwEO",
    "outputId": "6f1c5999-732e-4453-88a0-4ab4d7d55a1e"
   },
   "outputs": [
    {
     "data": {
      "image/png": "[encoded data removed]",
      "text/plain": [
       "<Figure size 640x480 with 1 Axes>"
      ]
     },
     "metadata": {},
     "output_type": "display_data"
    }
   ],
   "source": [
    "# 패딩 작업 - 서로 다른 길이의 샘플들의 길이를 동일하게 맞춰 줌\n",
    "## 샘플 길이 분포 파악\n",
    "max(len(review) for review in X_train)  # 리뷰 최대 길이: 85\n",
    "sum(map(len, X_train))/len(X_train)  # 리뷰 평균 길이: 약 15.30\n",
    "plt.hist([len(review) for review in X_train], bins=50)\n",
    "plt.xlabel('length of samples')\n",
    "plt.ylabel('number of samples')\n",
    "plt.show()"
   ]
  },
  {
   "cell_type": "code",
   "execution_count": 33,
   "metadata": {
    "colab": {
     "base_uri": "https://localhost:8080/"
    },
    "executionInfo": {
     "elapsed": 588,
     "status": "ok",
     "timestamp": 1737383479750,
     "user": {
      "displayName": "이동근 (동글)",
      "userId": "10838143575112387769"
     },
     "user_tz": -540
    },
    "id": "4yTy9x9OYo_9",
    "outputId": "f607fe61-80dd-4fe5-f1d4-4b7b085e8269"
   },
   "outputs": [
    {
     "name": "stdout",
     "output_type": "stream",
     "text": [
      "80 99.99933302652553\n"
     ]
    }
   ],
   "source": [
    "# 적절한 패딩 수치를 찾기 위해 해당 임계값 이하인 샘플 비율 구하는 함수 생성\n",
    "def below_threshold_len(max_len, nested_list):\n",
    "    count = 0\n",
    "    for sentence in nested_list:\n",
    "        if(len(sentence) <= max_len):\n",
    "            count = count + 1\n",
    "    print(max_len, (count / len(nested_list)) * 100)\n",
    "\n",
    "max_len = 80 # 문장 최대 길이가 80일 경우 몇개의 샘플을 보전할 수 있는지 확인\n",
    "below_threshold_len(max_len, X_train)  # 99.99%가 80이하의 길이를 가짐"
   ]
  },
  {
   "cell_type": "code",
   "execution_count": 34,
   "metadata": {
    "executionInfo": {
     "elapsed": 856,
     "status": "ok",
     "timestamp": 1737383484015,
     "user": {
      "displayName": "이동근 (동글)",
      "userId": "10838143575112387769"
     },
     "user_tz": -540
    },
    "id": "f5L2k_VfZ_wA"
   },
   "outputs": [],
   "source": [
    "# 길이 80으로 훈련용 리뷰 데이터 패딩\n",
    "X_train = pad_sequences(X_train, maxlen=max_len)\n",
    "X_test = pad_sequences(X_test, maxlen=max_len)"
   ]
  },
  {
   "cell_type": "code",
   "execution_count": 35,
   "metadata": {
    "colab": {
     "base_uri": "https://localhost:8080/"
    },
    "executionInfo": {
     "elapsed": 141330,
     "status": "ok",
     "timestamp": 1737383629564,
     "user": {
      "displayName": "이동근 (동글)",
      "userId": "10838143575112387769"
     },
     "user_tz": -540
    },
    "id": "IQm9ZKfQaE1t",
    "outputId": "841b4441-5ce6-4d1e-c9dd-afca7057b177"
   },
   "outputs": [
    {
     "name": "stdout",
     "output_type": "stream",
     "text": [
      "Epoch 1/20\n",
      "\u001b[1m1875/1875\u001b[0m \u001b[32m━━━━━━━━━━━━━━━━━━━━\u001b[0m\u001b[37m\u001b[0m \u001b[1m0s\u001b[0m 8ms/step - acc: 0.8511 - loss: 0.3559\n",
      "Epoch 1: val_acc improved from -inf to 0.91293, saving model to best_model.keras\n",
      "\u001b[1m1875/1875\u001b[0m \u001b[32m━━━━━━━━━━━━━━━━━━━━\u001b[0m\u001b[37m\u001b[0m \u001b[1m22s\u001b[0m 9ms/step - acc: 0.8512 - loss: 0.3558 - val_acc: 0.9129 - val_loss: 0.2409\n",
      "Epoch 2/20\n",
      "\u001b[1m1875/1875\u001b[0m \u001b[32m━━━━━━━━━━━━━━━━━━━━\u001b[0m\u001b[37m\u001b[0m \u001b[1m0s\u001b[0m 8ms/step - acc: 0.9173 - loss: 0.2297\n",
      "Epoch 2: val_acc did not improve from 0.91293\n",
      "\u001b[1m1875/1875\u001b[0m \u001b[32m━━━━━━━━━━━━━━━━━━━━\u001b[0m\u001b[37m\u001b[0m \u001b[1m16s\u001b[0m 8ms/step - acc: 0.9173 - loss: 0.2297 - val_acc: 0.9098 - val_loss: 0.2363\n",
      "Epoch 3/20\n",
      "\u001b[1m1872/1875\u001b[0m \u001b[32m━━━━━━━━━━━━━━━━━━━\u001b[0m\u001b[37m━\u001b[0m \u001b[1m0s\u001b[0m 8ms/step - acc: 0.9270 - loss: 0.2043\n",
      "Epoch 3: val_acc improved from 0.91293 to 0.92057, saving model to best_model.keras\n",
      "\u001b[1m1875/1875\u001b[0m \u001b[32m━━━━━━━━━━━━━━━━━━━━\u001b[0m\u001b[37m\u001b[0m \u001b[1m16s\u001b[0m 8ms/step - acc: 0.9270 - loss: 0.2043 - val_acc: 0.9206 - val_loss: 0.2181\n",
      "Epoch 4/20\n",
      "\u001b[1m1868/1875\u001b[0m \u001b[32m━━━━━━━━━━━━━━━━━━━\u001b[0m\u001b[37m━\u001b[0m \u001b[1m0s\u001b[0m 8ms/step - acc: 0.9334 - loss: 0.1896\n",
      "Epoch 4: val_acc improved from 0.92057 to 0.92323, saving model to best_model.keras\n",
      "\u001b[1m1875/1875\u001b[0m \u001b[32m━━━━━━━━━━━━━━━━━━━━\u001b[0m\u001b[37m\u001b[0m \u001b[1m20s\u001b[0m 8ms/step - acc: 0.9334 - loss: 0.1896 - val_acc: 0.9232 - val_loss: 0.2133\n",
      "Epoch 5/20\n",
      "\u001b[1m1875/1875\u001b[0m \u001b[32m━━━━━━━━━━━━━━━━━━━━\u001b[0m\u001b[37m\u001b[0m \u001b[1m0s\u001b[0m 7ms/step - acc: 0.9382 - loss: 0.1778\n",
      "Epoch 5: val_acc did not improve from 0.92323\n",
      "\u001b[1m1875/1875\u001b[0m \u001b[32m━━━━━━━━━━━━━━━━━━━━\u001b[0m\u001b[37m\u001b[0m \u001b[1m15s\u001b[0m 8ms/step - acc: 0.9382 - loss: 0.1778 - val_acc: 0.9231 - val_loss: 0.2136\n",
      "Epoch 6/20\n",
      "\u001b[1m1872/1875\u001b[0m \u001b[32m━━━━━━━━━━━━━━━━━━━\u001b[0m\u001b[37m━\u001b[0m \u001b[1m0s\u001b[0m 7ms/step - acc: 0.9440 - loss: 0.1657\n",
      "Epoch 6: val_acc did not improve from 0.92323\n",
      "\u001b[1m1875/1875\u001b[0m \u001b[32m━━━━━━━━━━━━━━━━━━━━\u001b[0m\u001b[37m\u001b[0m \u001b[1m16s\u001b[0m 8ms/step - acc: 0.9440 - loss: 0.1657 - val_acc: 0.9224 - val_loss: 0.2199\n",
      "Epoch 7/20\n",
      "\u001b[1m1874/1875\u001b[0m \u001b[32m━━━━━━━━━━━━━━━━━━━\u001b[0m\u001b[37m━\u001b[0m \u001b[1m0s\u001b[0m 7ms/step - acc: 0.9478 - loss: 0.1556\n",
      "Epoch 7: val_acc did not improve from 0.92323\n",
      "\u001b[1m1875/1875\u001b[0m \u001b[32m━━━━━━━━━━━━━━━━━━━━\u001b[0m\u001b[37m\u001b[0m \u001b[1m15s\u001b[0m 8ms/step - acc: 0.9478 - loss: 0.1556 - val_acc: 0.9213 - val_loss: 0.2200\n",
      "Epoch 8/20\n",
      "\u001b[1m1874/1875\u001b[0m \u001b[32m━━━━━━━━━━━━━━━━━━━\u001b[0m\u001b[37m━\u001b[0m \u001b[1m0s\u001b[0m 8ms/step - acc: 0.9515 - loss: 0.1471\n",
      "Epoch 8: val_acc did not improve from 0.92323\n",
      "\u001b[1m1875/1875\u001b[0m \u001b[32m━━━━━━━━━━━━━━━━━━━━\u001b[0m\u001b[37m\u001b[0m \u001b[1m15s\u001b[0m 8ms/step - acc: 0.9515 - loss: 0.1471 - val_acc: 0.9195 - val_loss: 0.2292\n",
      "Epoch 8: early stopping\n"
     ]
    }
   ],
   "source": [
    "# GRU 모델로 네이버 쇼핑 리뷰 감성 분류하기\n",
    "from tensorflow.keras.layers import Embedding, Dense, GRU\n",
    "from tensorflow.keras.models import Sequential\n",
    "from tensorflow.keras.models import load_model\n",
    "from tensorflow.keras.callbacks import EarlyStopping, ModelCheckpoint\n",
    "\n",
    "embedding_dim = 100  # 임베딩 벡터 차원 100\n",
    "hidden_units = 128   # 은닉 상태의 크기 128\n",
    "\n",
    "model = Sequential()\n",
    "model.add(Embedding(vocab_size, embedding_dim))\n",
    "model.add(GRU(hidden_units))\n",
    "model.add(Dense(1, activation='sigmoid'))\n",
    "\n",
    "es = EarlyStopping(monitor='val_loss', mode='min', verbose=1, patience=4)\n",
    "mc = ModelCheckpoint('best_model.keras', monitor='val_acc', mode='max', verbose=1, save_best_only=True)\n",
    "\n",
    "model.compile(optimizer='rmsprop', loss='binary_crossentropy', metrics=['acc'])\n",
    "history = model.fit(X_train, y_train, epochs=20, callbacks=[es, mc], batch_size=64, validation_split=0.2)"
   ]
  },
  {
   "cell_type": "code",
   "execution_count": 36,
   "metadata": {
    "colab": {
     "base_uri": "https://localhost:8080/"
    },
    "executionInfo": {
     "elapsed": 13268,
     "status": "ok",
     "timestamp": 1737383657079,
     "user": {
      "displayName": "이동근 (동글)",
      "userId": "10838143575112387769"
     },
     "user_tz": -540
    },
    "id": "nApVehZDsG4g",
    "outputId": "c516a52f-1105-4653-ba90-69f02a4847c6"
   },
   "outputs": [
    {
     "name": "stdout",
     "output_type": "stream",
     "text": [
      "\u001b[1m1562/1562\u001b[0m \u001b[32m━━━━━━━━━━━━━━━━━━━━\u001b[0m\u001b[37m\u001b[0m \u001b[1m6s\u001b[0m 3ms/step - acc: 0.9235 - loss: 0.2150\n"
     ]
    },
    {
     "data": {
      "text/plain": [
       "0.9217039942741394"
      ]
     },
     "execution_count": 36,
     "metadata": {},
     "output_type": "execute_result"
    }
   ],
   "source": [
    "# 저장한 모델 불러와서 모델 지표 확인\n",
    "loaded_model = load_model('best_model.keras')\n",
    "loaded_model.evaluate(X_test, y_test)[1]  # 테스트 정확도: 0.9217"
   ]
  },
  {
   "cell_type": "code",
   "execution_count": 44,
   "metadata": {
    "executionInfo": {
     "elapsed": 516,
     "status": "ok",
     "timestamp": 1737383812608,
     "user": {
      "displayName": "이동근 (동글)",
      "userId": "10838143575112387769"
     },
     "user_tz": -540
    },
    "id": "dzziFJ4u3OK6"
   },
   "outputs": [],
   "source": [
    "# 새로 작성한 문장으로 예측하기 위해 함수 생성\n",
    "## 새 입력 데이터 동일한 전처리 수행  # 한국어 외 문자 제거, 토큰화, 불용어 제거, 정수 인코딩, 패딩\n",
    "def sentiment_predict(new_sentence):\n",
    "    new_sentence = re.sub(r'[^ㄱ-ㅎㅏ-ㅣ가-힣]', '', new_sentence)\n",
    "    new_sentence = mecab.morphs(new_sentence)\n",
    "    new_sentence = [word for word in new_sentence if not word in stopwords]\n",
    "    encoded = tokenizer.texts_to_sequences([new_sentence])\n",
    "    pad_new = pad_sequences(encoded, maxlen=max_len)\n",
    "\n",
    "    score = float(loaded_model.predict(pad_new))\n",
    "    if(score > 0.5):\n",
    "        print(\"{:.2f}% 확률로 긍정 리뷰입니다.\".format(score * 100))\n",
    "    else:\n",
    "        print(\"{:.2f}% 확률로 부정 리뷰입니다.\".format((1 - score) * 100))"
   ]
  },
  {
   "cell_type": "code",
   "execution_count": 38,
   "metadata": {
    "colab": {
     "base_uri": "https://localhost:8080/"
    },
    "executionInfo": {
     "elapsed": 365,
     "status": "ok",
     "timestamp": 1737383674456,
     "user": {
      "displayName": "이동근 (동글)",
      "userId": "10838143575112387769"
     },
     "user_tz": -540
    },
    "id": "IrWj7gpw9_p5",
    "outputId": "8c92e3e1-c2d8-4c46-9d7a-744116aba464"
   },
   "outputs": [
    {
     "name": "stdout",
     "output_type": "stream",
     "text": [
      "\u001b[1m1/1\u001b[0m \u001b[32m━━━━━━━━━━━━━━━━━━━━\u001b[0m\u001b[37m\u001b[0m \u001b[1m0s\u001b[0m 99ms/step\n",
      "95.72% 확률로 긍정 리뷰입니다.\n"
     ]
    },
    {
     "name": "stderr",
     "output_type": "stream",
     "text": [
      "<ipython-input-37-583ac4ea179e>:10: DeprecationWarning: Conversion of an array with ndim > 0 to a scalar is deprecated, and will error in future. Ensure you extract a single element from your array before performing this operation. (Deprecated NumPy 1.25.)\n",
      "  score = float(loaded_model.predict(pad_new))\n"
     ]
    }
   ],
   "source": [
    "# 새 리뷰 예측\n",
    "sentiment_predict('이 상품 진짜 좋아요... 강추합니다. 대박')"
   ]
  },
  {
   "cell_type": "code",
   "execution_count": 39,
   "metadata": {
    "colab": {
     "base_uri": "https://localhost:8080/"
    },
    "executionInfo": {
     "elapsed": 456,
     "status": "ok",
     "timestamp": 1737383739845,
     "user": {
      "displayName": "이동근 (동글)",
      "userId": "10838143575112387769"
     },
     "user_tz": -540
    },
    "id": "jL7Z_JBbI7uL",
    "outputId": "6fe1e048-75f0-47ff-f93a-34203492a607"
   },
   "outputs": [
    {
     "name": "stdout",
     "output_type": "stream",
     "text": [
      "\u001b[1m1/1\u001b[0m \u001b[32m━━━━━━━━━━━━━━━━━━━━\u001b[0m\u001b[37m\u001b[0m \u001b[1m0s\u001b[0m 25ms/step\n",
      "84.52% 확률로 긍정 리뷰입니다.\n"
     ]
    },
    {
     "name": "stderr",
     "output_type": "stream",
     "text": [
      "<ipython-input-37-583ac4ea179e>:10: DeprecationWarning: Conversion of an array with ndim > 0 to a scalar is deprecated, and will error in future. Ensure you extract a single element from your array before performing this operation. (Deprecated NumPy 1.25.)\n",
      "  score = float(loaded_model.predict(pad_new))\n"
     ]
    }
   ],
   "source": [
    "sentiment_predict('재구매 의향 있어요!!')"
   ]
  },
  {
   "cell_type": "code",
   "execution_count": 52,
   "metadata": {
    "colab": {
     "base_uri": "https://localhost:8080/"
    },
    "executionInfo": {
     "elapsed": 474,
     "status": "ok",
     "timestamp": 1737384434564,
     "user": {
      "displayName": "이동근 (동글)",
      "userId": "10838143575112387769"
     },
     "user_tz": -540
    },
    "id": "rYUENX_uLa0o",
    "outputId": "3746f2ed-3d85-4461-89c7-d07930356195"
   },
   "outputs": [
    {
     "name": "stdout",
     "output_type": "stream",
     "text": [
      "\u001b[1m1/1\u001b[0m \u001b[32m━━━━━━━━━━━━━━━━━━━━\u001b[0m\u001b[37m\u001b[0m \u001b[1m0s\u001b[0m 18ms/step\n",
      "81.75% 확률로 긍정 리뷰입니다.\n"
     ]
    },
    {
     "name": "stderr",
     "output_type": "stream",
     "text": [
      "<ipython-input-44-ba0d510064c5>:10: DeprecationWarning: Conversion of an array with ndim > 0 to a scalar is deprecated, and will error in future. Ensure you extract a single element from your array before performing this operation. (Deprecated NumPy 1.25.)\n",
      "  score = float(loaded_model.predict(pad_new))\n"
     ]
    }
   ],
   "source": [
    "sentiment_predict('판매자님 사랑합니다! 많이 파세요~~')"
   ]
  },
  {
   "cell_type": "code",
   "execution_count": 46,
   "metadata": {
    "colab": {
     "base_uri": "https://localhost:8080/"
    },
    "executionInfo": {
     "elapsed": 471,
     "status": "ok",
     "timestamp": 1737383830467,
     "user": {
      "displayName": "이동근 (동글)",
      "userId": "10838143575112387769"
     },
     "user_tz": -540
    },
    "id": "dbgOGrtjJB8m",
    "outputId": "53ef23c4-649d-4c79-c862-222b7770ab61"
   },
   "outputs": [
    {
     "name": "stdout",
     "output_type": "stream",
     "text": [
      "\u001b[1m1/1\u001b[0m \u001b[32m━━━━━━━━━━━━━━━━━━━━\u001b[0m\u001b[37m\u001b[0m \u001b[1m0s\u001b[0m 17ms/step\n",
      "99.89% 확률로 부정 리뷰입니다.\n"
     ]
    },
    {
     "name": "stderr",
     "output_type": "stream",
     "text": [
      "<ipython-input-44-ba0d510064c5>:10: DeprecationWarning: Conversion of an array with ndim > 0 to a scalar is deprecated, and will error in future. Ensure you extract a single element from your array before performing this operation. (Deprecated NumPy 1.25.)\n",
      "  score = float(loaded_model.predict(pad_new))\n"
     ]
    }
   ],
   "source": [
    "sentiment_predict('별로에요..')"
   ]
  },
  {
   "cell_type": "code",
   "execution_count": 47,
   "metadata": {
    "colab": {
     "base_uri": "https://localhost:8080/"
    },
    "executionInfo": {
     "elapsed": 655,
     "status": "ok",
     "timestamp": 1737384358515,
     "user": {
      "displayName": "이동근 (동글)",
      "userId": "10838143575112387769"
     },
     "user_tz": -540
    },
    "id": "wp4Dvxl2LTPW",
    "outputId": "33d6bd1d-4e5e-4214-a2c9-137593e38b7b"
   },
   "outputs": [
    {
     "name": "stdout",
     "output_type": "stream",
     "text": [
      "\u001b[1m1/1\u001b[0m \u001b[32m━━━━━━━━━━━━━━━━━━━━\u001b[0m\u001b[37m\u001b[0m \u001b[1m0s\u001b[0m 17ms/step\n",
      "99.67% 확률로 부정 리뷰입니다.\n"
     ]
    },
    {
     "name": "stderr",
     "output_type": "stream",
     "text": [
      "<ipython-input-44-ba0d510064c5>:10: DeprecationWarning: Conversion of an array with ndim > 0 to a scalar is deprecated, and will error in future. Ensure you extract a single element from your array before performing this operation. (Deprecated NumPy 1.25.)\n",
      "  score = float(loaded_model.predict(pad_new))\n"
     ]
    }
   ],
   "source": [
    "sentiment_predict('돈이 너무 아까워요..')"
   ]
  }
 ],
 "metadata": {
  "accelerator": "GPU",
  "colab": {
   "authorship_tag": "ABX9TyOtvO6P6FG8jo+wvxyGx+vn",
   "gpuType": "T4",
   "mount_file_id": "1DyY5FWCiXm4K1XnhANAM9GIMFm4PBhnf",
   "provenance": []
  },
  "kernelspec": {
   "display_name": "Python 3",
   "name": "python3"
  },
  "language_info": {
   "name": "python"
  }
 },
 "nbformat": 4,
 "nbformat_minor": 0
}
