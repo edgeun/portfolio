{
 "cells": [
  {
   "cell_type": "markdown",
   "metadata": {
    "id": "nHfTf_VxzRst"
   },
   "source": [
    "### BERT Score로 입력문을 요약하는 모델이 생성한 요약문이 입력한 문장을 얼마나 잘 요약하는지 평가해보기\n",
    "- 인코더로 입력 문장을 이해하는 Bert 모델을 활용해 두 문장이 의미적으로 유사한지 평가\n",
    "- ex) \"강아지가 뛰어놀고 있다\" <-> \"개의 활동성이 높다\" 의 두 문장은 일치하는 단어는 없지만 의미적으로 유사하면 높은 점수 부여\n",
    "- 평가 데이터 셋 : 한국어 기사 본문을 요약한 'daekeun-ml/naver-news-summarization-ko'의 test 데이터셋 중 100개를 추출하여 사용"
   ]
  },
  {
   "cell_type": "code",
   "execution_count": null,
   "metadata": {
    "colab": {
     "base_uri": "https://localhost:8080/"
    },
    "id": "fp290YQCQci6",
    "outputId": "209ca71c-b7ea-4e24-c432-cb8ab7d175de"
   },
   "outputs": [
    {
     "name": "stderr",
     "output_type": "stream",
     "text": [
      "Device set to use cuda:0\n"
     ]
    }
   ],
   "source": [
    "# Use a pipeline as a high-level helper\n",
    "from transformers import pipeline\n",
    "\n",
    "pipe = pipeline(\"text2text-generation\", max_length=128, model=\"edgeun/t5-small-korean-news-summarizer\")"
   ]
  },
  {
   "cell_type": "code",
   "execution_count": null,
   "metadata": {
    "id": "3kt8wJlwVzxB"
   },
   "outputs": [],
   "source": [
    "inputs = \"summarize: \" + \"\"\"\n",
    "달력은 봄에 가까워지고 있지만, 아직 두터운 겨울 외투 없이는 바깥에 나서기가 어렵습니다.\n",
    "막바지 강추위는 이번 주말까지 이어지겠는데요.\n",
    "서울의 아침 기온이 영하 7도 선을 유지하면서 평년 기온을 4도 가량 밑돌겠습니다.\n",
    "특히, 한파특보가 내려진 일부 중부와 경북 지역은 영하 10도 안팎까지 내려가겠고, 전국에 바람이 강하게 불며 체감 온도를 뚝뚝 떨어트리겠습니다.\n",
    "맑은 날씨가 이어지면서 건조특보 지역은 나날이 확대되고 있는데요.\n",
    "동해안을 따라서는 건조경보가, 서울 등 중부와 동쪽 많은 지역에는 건조주의보가 내려졌습니다. 꺼진 불씨도 다시 한번 확인하시기 바랍니다.\n",
    "아침 기온은 서울 영하 7도, 청주와 대구가 영하 5도로 오늘만큼 춥겠고요.\n",
    "낮에도 서울은 2도, 광주는 3도에 머물겠습니다.\n",
    "일요일에는 충남과 호남, 제주에 비나 눈이 내리겠고, 다음 주부터는 서서히 봄기운이 느껴지겠습니다.\n",
    "\"\"\"\n",
    "\n",
    "result = pipe(inputs)"
   ]
  },
  {
   "cell_type": "code",
   "execution_count": null,
   "metadata": {
    "colab": {
     "base_uri": "https://localhost:8080/",
     "height": 54
    },
    "id": "Sza-8XtXXo_i",
    "outputId": "4d80b499-bbbb-464f-b0a6-0aca1ed791af"
   },
   "outputs": [
    {
     "data": {
      "application/vnd.google.colaboratory.intrinsic+json": {
       "type": "string"
      },
      "text/plain": [
       "'서울의 아침 기온이 영하 7도 선을 유지하면서 평년 기온을 4도 가량 밑돌겠고, 낮에도 서울은 2도, 광주는 3도에 머물겠고, 전국에 바람이 강하게 불며 체감 온도를 뚝뚝 떨어트리며, 낮에도 서울은 2도, 광주는 3도에 머물겠습니다.'"
      ]
     },
     "execution_count": 17,
     "metadata": {},
     "output_type": "execute_result"
    }
   ],
   "source": [
    "result[0]['generated_text']"
   ]
  },
  {
   "cell_type": "code",
   "execution_count": 1,
   "metadata": {
    "colab": {
     "base_uri": "https://localhost:8080/",
     "height": 440,
     "referenced_widgets": [
      "35fff5f090bb4c629eb0a7d206a77064",
      "30d3765d780a4bf68d05c3cb86b9c7a8",
      "1c1950f5fb984e2a9eefd36098c3a570",
      "fab8f033a9464c6c822111639a460f9e",
      "ad7136fbb30f4f329b4167020b39bb5d",
      "7cdab8ecf3a94fac885278239e151c8f",
      "e06d39196a0440a096da24bae9f53218",
      "87f793c8f9284c9b985b97f1f8b91714",
      "48887dc698ca47878254464c46d50f36",
      "0566e5857802449694cd357c54bf9727",
      "7a7279e67524495f82a39c227972dd01",
      "53b3828ee93b44c4a98f478936085ba9",
      "9124fc96db72485f8c8e7889f53b622d",
      "e374d5700fe242899256411f8d05a465",
      "6d7fc2219321420b89b41aa083040663",
      "c617861269164dac8cad63e19f0bca2b",
      "e4fba22abb82426b97204c269ca706d2",
      "a7cd8a3bb6b548f0bb309bc581d8be4c",
      "a05efa16761541be90ad219531d80ff8",
      "bda37ebc3ccf41bca01feb67431c2b46",
      "2d5bbcc0c7a54b14815963b55d5e81ac",
      "fb1308c1036e493fa9be46208b3fec5a",
      "693c6282388048b1b7ca56f4677091eb",
      "9a8c66e0788d421b8d65e8361f3449bb",
      "30152af8882c4f9c8f6e749ae373279e",
      "75cbb26607814e6490d25e8275c9ae76",
      "b8e4ed23043c4c55b935c2cb4111b4b0",
      "a937379098d9437b8c137dc801e28ff7",
      "d7a8e817617f474185ce6f087ca7b00e",
      "76c1cf75321748609a41d3bb55a9dde1",
      "20d1f7fad9214ede9c6d3fd2ef240687",
      "ab08802931ef4834b81080ae2398ff85",
      "3af1d5d4d22445bdb198b23634581569",
      "87cded09eb0848c8b8c15f200595e4b2",
      "661a4afe7779410fbc08c62b48036df0",
      "9b1115f7934b4cf0b7987dc242b27058",
      "2be8ad1d841d4769a6232699650f5bba",
      "543bd95629824a9b92e6137229ea95db",
      "2697b8a6655541efabbd015e8415295f",
      "6780ab0d169840f386aeaa0c509e9d70",
      "686285d056714c38b717a1efde9f6558",
      "7c55cb2a7d374a73b4e94de0c30a4d7a",
      "e629c175233a4487a4223d5b130764ef",
      "e6ceaea9cc0c494198297dba0ec70e23",
      "4cbd294e7e3c460590f160f90fe1d29c",
      "3e78d214a9dc4a0aa58d1deb2df26600",
      "ffe267157cea47c0b8b69e497ee03821",
      "7082e9fef3014afcb6a78bff8deed9cb",
      "fcf6b2ccacdb47ceb1f169a093c7b77b",
      "dfeee40180204eb7a8f78f8e472e9dd3",
      "f7836662ebb44b26a3dae77da47a097f",
      "4e4ed7e1971e4352b150668e8118d8af",
      "32a057295c2840e2aabf4bc3da48c484",
      "7b7bd2e89b9c4ab3816eca78667c42d2",
      "701f5b5d9cab419baa9668f978c3ec01",
      "93765f411a6642ecacf5ff6ab1543ad0",
      "82aa6859f62b4942a66e60cb858090f7",
      "29d805d245484facaff191ba57c5449d",
      "df2742e7c5fe440b804615f06be092b5",
      "080eb7ca64064b7f8e365b29816c74fc",
      "18ff092679364653b47d9449dea8b24a",
      "cbbbba0f0eab4514ad52857f4420598e",
      "43d86361ed9e40828b1b824d104eacaf",
      "bca57097317646cf9fc935b07b71babc",
      "763b8fd7cc504b7499a5ea338684efb6",
      "6de144d847bd4abe9b14d43f96db57c2",
      "beb6ac87fe62449e861121b1d4e18bed",
      "99f4507cd3d847d4bd6e0b721a822a6d",
      "e30ddadaeae84625a761df7c8ad82529",
      "2091e28c0c99477aabd3308894edd9d8",
      "6ce53532ded7442f8a81475be66dc957",
      "7f6670cf977745d58fc99b7213d890b3",
      "2a58abb6e9154dd3ad426ca4421a9e93",
      "8a54a85e81994889939010d72ab6a68b",
      "69087d129a5e4e35b687b6f14cfa0e12",
      "2dd500d2cecf45ac8cc5958813917d20",
      "1448633f063d45768cff5ce524556a01"
     ]
    },
    "id": "jAVTdyMFY-hb",
    "outputId": "9570da61-abbe-4b84-fdae-e6707cd423d1"
   },
   "outputs": [
    {
     "name": "stdout",
     "output_type": "stream",
     "text": [
      "\u001b[?25l   \u001b[90m━━━━━━━━━━━━━━━━━━━━━━━━━━━━━━━━━━━━━━━━\u001b[0m \u001b[32m0.0/485.4 kB\u001b[0m \u001b[31m?\u001b[0m eta \u001b[36m-:--:--\u001b[0m\r",
      "\u001b[2K   \u001b[91m━━━━━━━━━━━━━━━━━━━━━━━━━━━━━━━━━━━━━━━\u001b[0m\u001b[91m╸\u001b[0m \u001b[32m481.3/485.4 kB\u001b[0m \u001b[31m14.4 MB/s\u001b[0m eta \u001b[36m0:00:01\u001b[0m\r",
      "\u001b[2K   \u001b[90m━━━━━━━━━━━━━━━━━━━━━━━━━━━━━━━━━━━━━━━━\u001b[0m \u001b[32m485.4/485.4 kB\u001b[0m \u001b[31m8.8 MB/s\u001b[0m eta \u001b[36m0:00:00\u001b[0m\n",
      "\u001b[?25h\u001b[?25l   \u001b[90m━━━━━━━━━━━━━━━━━━━━━━━━━━━━━━━━━━━━━━━━\u001b[0m \u001b[32m0.0/116.3 kB\u001b[0m \u001b[31m?\u001b[0m eta \u001b[36m-:--:--\u001b[0m\r",
      "\u001b[2K   \u001b[90m━━━━━━━━━━━━━━━━━━━━━━━━━━━━━━━━━━━━━━━━\u001b[0m \u001b[32m116.3/116.3 kB\u001b[0m \u001b[31m9.1 MB/s\u001b[0m eta \u001b[36m0:00:00\u001b[0m\n",
      "\u001b[?25h\u001b[?25l   \u001b[90m━━━━━━━━━━━━━━━━━━━━━━━━━━━━━━━━━━━━━━━━\u001b[0m \u001b[32m0.0/143.5 kB\u001b[0m \u001b[31m?\u001b[0m eta \u001b[36m-:--:--\u001b[0m\r",
      "\u001b[2K   \u001b[90m━━━━━━━━━━━━━━━━━━━━━━━━━━━━━━━━━━━━━━━━\u001b[0m \u001b[32m143.5/143.5 kB\u001b[0m \u001b[31m10.5 MB/s\u001b[0m eta \u001b[36m0:00:00\u001b[0m\n",
      "\u001b[?25h\u001b[?25l   \u001b[90m━━━━━━━━━━━━━━━━━━━━━━━━━━━━━━━━━━━━━━━━\u001b[0m \u001b[32m0.0/194.8 kB\u001b[0m \u001b[31m?\u001b[0m eta \u001b[36m-:--:--\u001b[0m\r",
      "\u001b[2K   \u001b[90m━━━━━━━━━━━━━━━━━━━━━━━━━━━━━━━━━━━━━━━━\u001b[0m \u001b[32m194.8/194.8 kB\u001b[0m \u001b[31m15.7 MB/s\u001b[0m eta \u001b[36m0:00:00\u001b[0m\n",
      "\u001b[?25h"
     ]
    },
    {
     "name": "stderr",
     "output_type": "stream",
     "text": [
      "/usr/local/lib/python3.11/dist-packages/huggingface_hub/utils/_auth.py:94: UserWarning: \n",
      "The secret `HF_TOKEN` does not exist in your Colab secrets.\n",
      "To authenticate with the Hugging Face Hub, create a token in your settings tab (https://huggingface.co/settings/tokens), set it as secret in your Google Colab and restart your session.\n",
      "You will be able to reuse this secret in all of your notebooks.\n",
      "Please note that authentication is recommended but still optional to access public models or datasets.\n",
      "  warnings.warn(\n"
     ]
    },
    {
     "data": {
      "application/vnd.jupyter.widget-view+json": {
       "model_id": "35fff5f090bb4c629eb0a7d206a77064",
       "version_major": 2,
       "version_minor": 0
      },
      "text/plain": [
       "README.md:   0%|          | 0.00/787 [00:00<?, ?B/s]"
      ]
     },
     "metadata": {},
     "output_type": "display_data"
    },
    {
     "data": {
      "application/vnd.jupyter.widget-view+json": {
       "model_id": "53b3828ee93b44c4a98f478936085ba9",
       "version_major": 2,
       "version_minor": 0
      },
      "text/plain": [
       "train.csv:   0%|          | 0.00/66.3M [00:00<?, ?B/s]"
      ]
     },
     "metadata": {},
     "output_type": "display_data"
    },
    {
     "data": {
      "application/vnd.jupyter.widget-view+json": {
       "model_id": "693c6282388048b1b7ca56f4677091eb",
       "version_major": 2,
       "version_minor": 0
      },
      "text/plain": [
       "validation.csv:   0%|          | 0.00/7.45M [00:00<?, ?B/s]"
      ]
     },
     "metadata": {},
     "output_type": "display_data"
    },
    {
     "data": {
      "application/vnd.jupyter.widget-view+json": {
       "model_id": "87cded09eb0848c8b8c15f200595e4b2",
       "version_major": 2,
       "version_minor": 0
      },
      "text/plain": [
       "test.csv:   0%|          | 0.00/8.17M [00:00<?, ?B/s]"
      ]
     },
     "metadata": {},
     "output_type": "display_data"
    },
    {
     "data": {
      "application/vnd.jupyter.widget-view+json": {
       "model_id": "4cbd294e7e3c460590f160f90fe1d29c",
       "version_major": 2,
       "version_minor": 0
      },
      "text/plain": [
       "Generating train split:   0%|          | 0/22194 [00:00<?, ? examples/s]"
      ]
     },
     "metadata": {},
     "output_type": "display_data"
    },
    {
     "data": {
      "application/vnd.jupyter.widget-view+json": {
       "model_id": "93765f411a6642ecacf5ff6ab1543ad0",
       "version_major": 2,
       "version_minor": 0
      },
      "text/plain": [
       "Generating validation split:   0%|          | 0/2466 [00:00<?, ? examples/s]"
      ]
     },
     "metadata": {},
     "output_type": "display_data"
    },
    {
     "data": {
      "application/vnd.jupyter.widget-view+json": {
       "model_id": "beb6ac87fe62449e861121b1d4e18bed",
       "version_major": 2,
       "version_minor": 0
      },
      "text/plain": [
       "Generating test split:   0%|          | 0/2740 [00:00<?, ? examples/s]"
      ]
     },
     "metadata": {},
     "output_type": "display_data"
    }
   ],
   "source": [
    "!pip install datasets -qqq\n",
    "from datasets import load_dataset\n",
    "\n",
    "test_dataset = load_dataset(\"daekeun-ml/naver-news-summarization-ko\", split='test').shuffle(seed=42).select(range(100))"
   ]
  },
  {
   "cell_type": "code",
   "execution_count": 2,
   "metadata": {
    "colab": {
     "base_uri": "https://localhost:8080/"
    },
    "id": "1XY2GEF7Z9uW",
    "outputId": "88c1a31d-4d1c-4a9e-e7f9-973c2896ef11"
   },
   "outputs": [
    {
     "data": {
      "text/plain": [
       "Dataset({\n",
       "    features: ['date', 'category', 'press', 'title', 'document', 'link', 'summary'],\n",
       "    num_rows: 100\n",
       "})"
      ]
     },
     "execution_count": 2,
     "metadata": {},
     "output_type": "execute_result"
    }
   ],
   "source": [
    "test_dataset"
   ]
  },
  {
   "cell_type": "code",
   "execution_count": 3,
   "metadata": {
    "colab": {
     "base_uri": "https://localhost:8080/",
     "height": 161
    },
    "id": "E8msZIngA7Yu",
    "outputId": "5c53b04a-42cb-4bc4-b76d-af588bad8ea5"
   },
   "outputs": [
    {
     "data": {
      "application/vnd.google.colaboratory.intrinsic+json": {
       "type": "string"
      },
      "text/plain": [
       "'요새 가장 뜨거운 화두는 환율인 듯합니다. 서울 외환시장에서 원 달러 환율이 1300원을 예사로 넘으면서 여기저기서 우려의 목소리가 나오죠. 달러를 기준통화 base currency 로 하는 우리 환율 표기상 환율이 오르면 그만큼 원화 가치가 낮아졌다는 뜻입니다. 그런데 가끔 이런 궁금증을 제기하는 분들이 계십니다. 1990년대 말 외환위기 전엔 달러당 700 800원 수준이었던 원 달러 환율이 왜 국민들이 더 잘 살게 되고 나가경제도 발전한 지금 1300원을 넘나드냐는 것이죠. 나라가 더 잘살게 됐는데 그 나라의 통화 가치는 왜 떨어졌냐는 의문입니다. 우리가 잘 살게 되면 그만큼 국가 경제도 튼튼해졌단 뜻이니 원화도 강해져야 맞는 것 아니냐는 것이죠. 일단 이는 나라 경제가 곤두박질치면서 화폐 가치가 폭락한 일부 나라들 아프리카 짐바브웨나 중남미 베네수엘라 같은 나라들 때문에 생긴 오해인 것 같습니다. 인터넷에서 판매하는 100조 짐바브웨 달러 지폐 연합 당장 내일 환율이 어떻게 될지는 환율 전략가가 아니라 뭐라고 말씀은 못 드리겠고 다만 장기적으로 환율이 어떻게 결정되는지 경제학 이론적으로 설명을 드릴까 합니다. 수학식이 계속 나오고 좀 재미가 없을 수 있습니다. 아래쪽에 결론만 보셔도 됩니다 가장 먼저 살펴볼 건 이자율평가설 Interest rate parity 입니다. Parity라는 건 우리말로 동등성 등가 등으로 해석이 되는데 서로 다른 두 변수 간 일정한 어떤 관계가 있다는 것으로 반드시 성립해야 하는 방정식 과는 다릅니다. X국의 통화가 기준통화고 Y국 통화가 상품통화 price currency 일 때 1년 뒤 선도금리는 F 와 현재 금리 S 의 관계는 아래와 같습니다. 그 차이 F S 가 바로 프리미엄으로 두 나라 간 명목 이자율 차이와 같습니다. 엄밀히 말하면 근사값입니다 예를 들어 Y국 이자율이 3%고 X국 이자율이 5%면 선도금리와 현재 금리 간 차이인 프리미엄은 2% 입니다. 근데 만약 기준통화인 X가 선물환 시장에서 2%만큼 프리미엄을 받고 있다면 이는 그만큼 절하돼 거래되고 있다는 의미입니다. 때문에 내가 이를 헤지 hedge 해버리면 양국의 수익률은 3%로 동일해집니다. IRP가 성립하면 X Y 어느 나라에 투자하든 수익률은 같아지게 되는 것입니다. 이제 두번째로 알아볼 게 인터내셔널 피셔 관계식 International Fisher Relation 입니다. 피셔라는 유명한 경제학자가 명목이자율은 실질 이자율과 기대인플레이션의 합과 같다고 정리한 것입니다. 이를 X Y 두 나라로 확장해보죠. 그러면 결과적으로 양국의 명목 이자율 차이는 기대 인플레이션의 차이라는 결과가 나옵니다. 이건 어려울 게 없죠 자 마지막 세번째 입니다. 그 유명한 구매력평가설 Purchasing Power Parity 입니다. 일물일가 법칙 law of one price 에 기반한 것으로 같은 물건이면 어느 나라에서든 같은 가격에 팔려야 한다는 아이디어입니다. 맥도날드 빅맥 버거 가격을 나라별로 비교한 빅맥지수 나 스타벅스 카페라테 가격을 비교한 라테지수 같은 것들이 바로 이 PPP의 예입니다. 하지만 PPP는 실제로는 잘 들어맞지 않습니다. 관세나 운송 비용 같은 것들을 고려하지 않았기 때문이죠. 특정 물건이 아닌 물가로 변환해도 마찬가지입니다. 미국과 유럽의 물가지수 구성 품목이 동일하지 않을 뿐더러 설사 같더라도 그 비중이 다릅니다. 때문에 실제로는 별로 맞지 않습니다. 그런데 물가지수가 아닌 인플레이션으로 바꾸면 이야기가 좀 됩니다. 인플레이션이 높은 국가의 통화가치가 떨어진다는 것을 보여줍니다. 근데 인플레이션이란 건 시간이 지나서야 알 수 있으니 대신 기대인플레이션 expected inflation 을 쓰면 앞으로 환율이 어떻게 될 것인지 알 수 있습니다. 단 Parity에 대해 앞서 설명해드린대로 성립하지 않는다고 해서 당장 차익거래 arbitrage 를 할 수 있는 건 아닙니다. Ex Ante version of PPP는 장기적으로 환율을 예측하는 도구일뿐 당장 단기적으로 환율 투자의 수단이 되지는 못합니다. 이제 다 왔습니다. 3개의 식을 보여드렸습니다. 이제 하나씩 궤를 맞춰볼까요. 기대인플레이션으로 인해 명목이자율의 차이가 발생하고 이로 인해 미래 환율이 변동한다는 논리가 완성됩니다. 즉 장기적으로 환율이 바뀌는 요인은 기대인플레이션이란 결론을 얻을 수 있습니다. 그러니깐 1990년대 미국과 우리나라 기대인플레이션과 최근의 두 나라 기대인플레이션이 환율을 이렇게 추세적으로 바꿔놓은 것입니다. 다시 한 번 명심하실 건 제가 말씀드린 환율 변동 결정 요인은 장기적인 환율 예측에 해당하는 것으로 단기적인 환율 변동을 설명하는 건 아닙니다. 환율은 정말 많은 변수를 고려해야 합니다. 단기적으로는 대규모 수주만 해도 꿈틀대는 게 환율입니다. 경제와는 무관한 정치 사회적 이벤트에도 반응하는 게 환율입니다. 때문에 환율을 목적으로 투자하는 건 그다지 바람직하지 않다고 전문가들은 지적합니다. 그보다는 환 변동 위험을 헤지하는 차원에서 환 투자 수단을 이용하는 게 옳지 않나 저는 생각합니다. 일반적으로 단기 투자를 할 땐 환 변동 위험을 헤지하는 게 좋다고 합니다. 기껏 내가 투자를 잘해놨는데 환율이 망가져서 손실을 보거나 이익을 깎아 먹으면 억울하잖아요. 반면 장기투자라면 환 변동 위험에 그대로 노출하는 것도 나쁘지 않습니다. 환율이란 건 결국 출렁이다 장기평균에 수렴하는 경향이 있으니까요. 오늘 환율이 내렸어도 내일은 오르고 하다보면 장기적으로 결국 헤지가 돼 있는 것과 같은 효과를 얻습니다. 이를 자연헤지 natural hedge 라고 합니다. 또 헤지를 하는데 드는 비용을 고려하면 장기적으로 계속 헤지를 하는 것이 수익률을 깎아먹는 원흉이 될 수 있습니다. 김우영 기자 CFA 헤럴드경제에서 증권기사를 쓰고 있습니다. CFA 자격증을 취득한 뒤 CFA한국협회 금융지성위원회에서 활동하고 있습니다. 정보를 알기 쉽게 전달해야 하는 기자로서 사명감에 CFA의 전문성을 더해 독자 여러분께 동화처럼 재미있게 금융투자 뉴스를 설명드리도록 하겠습니다.'"
      ]
     },
     "execution_count": 3,
     "metadata": {},
     "output_type": "execute_result"
    }
   ],
   "source": [
    "test_dataset[0]['document']"
   ]
  },
  {
   "cell_type": "code",
   "execution_count": null,
   "metadata": {
    "id": "Kt1g3hZNbaN0"
   },
   "outputs": [],
   "source": [
    "from huggingface_hub import login\n",
    "\n",
    "login(token=\"****\")"
   ]
  },
  {
   "cell_type": "code",
   "execution_count": 5,
   "metadata": {
    "colab": {
     "base_uri": "https://localhost:8080/",
     "height": 279,
     "referenced_widgets": [
      "0eb0119f11a64e78996c8433f4138239",
      "0dd35141aab944fc9238ab9b945e5a48",
      "52e22e01b4dc477187a2da6eb94792a1",
      "701707aa85ff4c52944661345b544ef8",
      "8540929537004288800cabbd539877bc",
      "80fcb1833b104c06a44a1e3fa538b1f5",
      "dc5103b5b50946acaad70ac8beeb5b87",
      "36544e9a1d594b709e17fd139dc8d074",
      "272dc2c71dac401893585415e2c67bfe",
      "662a252997d24db89b7e76300bcefe60",
      "28c2bbfa78b642e4be8af840ecd22a3f",
      "d70136a2b4f64befa38a9cb05ce9cf55",
      "c74a9e2fc79848d480c0c4336020082a",
      "828fd3ee040b4955a5181aab0edb7090",
      "9c4a55c46bac4cb381de38ad0bf9e155",
      "590a4898c0a6484e9fcdc27736d2df5c",
      "c264bb1cd0574de49ae39e2b0b8f69fb",
      "b25b3979c5b74a51a562e116ff80bffd",
      "515496ecdf3e48d69cc2e234da8cdb66",
      "b58b191f36bf46c48100410b9c15de54",
      "96359d913bb64109a0537b082b5f8bfa",
      "33e59fd0d5bc48d7864aebfa44deffb0",
      "b263a96e44e640b9acb6acf865fd8048",
      "b4a384acd2944c5186cd41fc5c02e3b3",
      "a1973387921445b4a2b47420208f5883",
      "77d8937d39394ad8b579b4367c379c6e",
      "5a60588282184f878c7b99d02ed5923b",
      "36e7f7395fd24f20bb748c375e1b05f6",
      "e334f42a23ec415fa811519dbb36be3a",
      "a1fe458085d64d2091cce037bac508e7",
      "fbe933fae6ec420da53852ec848c5259",
      "6d0dc692c8ff401a9c21fd67d8a6677a",
      "58d3469d37ab4f848604b6aebece5276",
      "a9c0a2a8b55842a0a7c6c491a7a1e62e",
      "f28540edb7c440e9bb561ee51067ee11",
      "869d073e2735433c8bc48af756fe886e",
      "c5738d097d734cf49bb9c8860425a28e",
      "4b5b208d25a24cf4982d23b7841bea37",
      "fc6a708d1956460c9fe2d2c3cb3f24bc",
      "611a492f9b944569943c260597af945d",
      "b572815190d44bd69ff41a04ce37dd46",
      "75a70a8f52e643898f0b4277921a92bd",
      "43812243a2ea4aa3b8817eebcb5f95f3",
      "ab3b65e207a042099658fef1211bc630",
      "6ad11db7d180463f87a0f507c2ee406b",
      "4f761e1706454fe3a1b7487fe3fa7b16",
      "d3af40a7d141487581af1612edbf37e6",
      "90f6af0384f144e9b57ecfb875d0ee2b",
      "27564f3c47e344169ca2933f81ff52d8",
      "220ef54a7cbf46f785047647f1f2e2c9",
      "a42c9a09050a4c95b002baa65c27a470",
      "67969135985d41d588b292db81b2e430",
      "34e6f59637364014ba9f219ca94cf72d",
      "e39560fcd13f4645876092e2d0c52191",
      "f44a287bd72543f48aefdac6c48a65f2",
      "461c4b63f47843fb9865d6a8d0de91c3",
      "cf7f08300fb44d03a03d0016dc8f0c4d",
      "c4e59ad66fc14247a2a7797956f8a6e8",
      "7941e01b9ca44436b456c223ca6ff72c",
      "046235808d964b83b0a81d70a4c469be",
      "cea7b6ac017a4b3eb309796bac1c925a",
      "d5dc174f84e447a1a4b0b995a743e94f",
      "468c035a27d546e58e9b8a6ee1aff31a",
      "92a946f460a44842abeb1eae7d6596bf",
      "639ca4f077e1430c8f43c0c855e44653",
      "0a26a52161e5448594639e0d1a5e07b8",
      "8be6b3f34f2d47dbb61f64c1801872e5",
      "817ff1b44b0c4ee98b7fce6b7671c6f0",
      "cb21fb5939ad47bca3a76fa1a1e450a2",
      "84618959d1e044e185b4c93082ced45c",
      "d89c78b47f7d4a32a5fbd7e926af8954",
      "4943eecc9f3541bd95990f6ad8a5e4e7",
      "aba5df260a8b4901a40999cc69fbcbed",
      "c3cf098609a54a7b8ec3296fc3fe4183",
      "bf86eebcf4c64319aa6e5cf43c1ee0e9",
      "1010ed52d1af4eda8f297f6c57a6c620",
      "5214c79af08c4e9d8b0c56eac9c64fd6"
     ]
    },
    "id": "SF9NP30vbDbW",
    "outputId": "dc1b8434-926d-465f-8c22-bc4170111b92"
   },
   "outputs": [
    {
     "name": "stderr",
     "output_type": "stream",
     "text": [
      "The cache for model files in Transformers v4.22.0 has been updated. Migrating your old cache. This is a one-time only operation. You can interrupt this and resume the migration later on by calling `transformers.utils.move_cache()`.\n"
     ]
    },
    {
     "data": {
      "application/vnd.jupyter.widget-view+json": {
       "model_id": "0eb0119f11a64e78996c8433f4138239",
       "version_major": 2,
       "version_minor": 0
      },
      "text/plain": [
       "0it [00:00, ?it/s]"
      ]
     },
     "metadata": {},
     "output_type": "display_data"
    },
    {
     "data": {
      "application/vnd.jupyter.widget-view+json": {
       "model_id": "d70136a2b4f64befa38a9cb05ce9cf55",
       "version_major": 2,
       "version_minor": 0
      },
      "text/plain": [
       "tokenizer_config.json:   0%|          | 0.00/20.8k [00:00<?, ?B/s]"
      ]
     },
     "metadata": {},
     "output_type": "display_data"
    },
    {
     "data": {
      "application/vnd.jupyter.widget-view+json": {
       "model_id": "b263a96e44e640b9acb6acf865fd8048",
       "version_major": 2,
       "version_minor": 0
      },
      "text/plain": [
       "tokenizer.json:   0%|          | 0.00/4.37M [00:00<?, ?B/s]"
      ]
     },
     "metadata": {},
     "output_type": "display_data"
    },
    {
     "data": {
      "application/vnd.jupyter.widget-view+json": {
       "model_id": "a9c0a2a8b55842a0a7c6c491a7a1e62e",
       "version_major": 2,
       "version_minor": 0
      },
      "text/plain": [
       "special_tokens_map.json:   0%|          | 0.00/2.54k [00:00<?, ?B/s]"
      ]
     },
     "metadata": {},
     "output_type": "display_data"
    },
    {
     "data": {
      "application/vnd.jupyter.widget-view+json": {
       "model_id": "6ad11db7d180463f87a0f507c2ee406b",
       "version_major": 2,
       "version_minor": 0
      },
      "text/plain": [
       "config.json:   0%|          | 0.00/788 [00:00<?, ?B/s]"
      ]
     },
     "metadata": {},
     "output_type": "display_data"
    },
    {
     "data": {
      "application/vnd.jupyter.widget-view+json": {
       "model_id": "461c4b63f47843fb9865d6a8d0de91c3",
       "version_major": 2,
       "version_minor": 0
      },
      "text/plain": [
       "model.safetensors:   0%|          | 0.00/383M [00:00<?, ?B/s]"
      ]
     },
     "metadata": {},
     "output_type": "display_data"
    },
    {
     "data": {
      "application/vnd.jupyter.widget-view+json": {
       "model_id": "8be6b3f34f2d47dbb61f64c1801872e5",
       "version_major": 2,
       "version_minor": 0
      },
      "text/plain": [
       "generation_config.json:   0%|          | 0.00/112 [00:00<?, ?B/s]"
      ]
     },
     "metadata": {},
     "output_type": "display_data"
    }
   ],
   "source": [
    "from transformers import AutoModelForSeq2SeqLM, AutoTokenizer\n",
    "\n",
    "model_id = \"edgeun/t5-small-korean-news-summarizer\"\n",
    "\n",
    "tokenizer = AutoTokenizer.from_pretrained(model_id)\n",
    "model = AutoModelForSeq2SeqLM.from_pretrained(model_id)"
   ]
  },
  {
   "cell_type": "code",
   "execution_count": 6,
   "metadata": {
    "colab": {
     "base_uri": "https://localhost:8080/"
    },
    "id": "-_hcZpfFlPTk",
    "outputId": "05743e3d-5038-49a7-e070-5fd5e7d7b3ab"
   },
   "outputs": [
    {
     "data": {
      "text/plain": [
       "device(type='cpu')"
      ]
     },
     "execution_count": 6,
     "metadata": {},
     "output_type": "execute_result"
    }
   ],
   "source": [
    "# 모델이 지금 어디에 있는지 확인\n",
    "model.device  # device(type='cpu') -> cpu에 모델이 있음"
   ]
  },
  {
   "cell_type": "code",
   "execution_count": 7,
   "metadata": {
    "colab": {
     "base_uri": "https://localhost:8080/"
    },
    "collapsed": true,
    "id": "__MAserHjxf2",
    "outputId": "5a3b325f-d1dc-4873-f45e-10eadae3650e"
   },
   "outputs": [
    {
     "data": {
      "text/plain": [
       "T5ForConditionalGeneration(\n",
       "  (shared): Embedding(50358, 512)\n",
       "  (encoder): T5Stack(\n",
       "    (embed_tokens): Embedding(50358, 512)\n",
       "    (block): ModuleList(\n",
       "      (0): T5Block(\n",
       "        (layer): ModuleList(\n",
       "          (0): T5LayerSelfAttention(\n",
       "            (SelfAttention): T5Attention(\n",
       "              (q): Linear(in_features=512, out_features=384, bias=False)\n",
       "              (k): Linear(in_features=512, out_features=384, bias=False)\n",
       "              (v): Linear(in_features=512, out_features=384, bias=False)\n",
       "              (o): Linear(in_features=384, out_features=512, bias=False)\n",
       "              (relative_attention_bias): Embedding(32, 6)\n",
       "            )\n",
       "            (layer_norm): T5LayerNorm()\n",
       "            (dropout): Dropout(p=0.1, inplace=False)\n",
       "          )\n",
       "          (1): T5LayerFF(\n",
       "            (DenseReluDense): T5DenseGatedActDense(\n",
       "              (wi_0): Linear(in_features=512, out_features=1024, bias=False)\n",
       "              (wi_1): Linear(in_features=512, out_features=1024, bias=False)\n",
       "              (wo): Linear(in_features=1024, out_features=512, bias=False)\n",
       "              (dropout): Dropout(p=0.1, inplace=False)\n",
       "              (act): NewGELUActivation()\n",
       "            )\n",
       "            (layer_norm): T5LayerNorm()\n",
       "            (dropout): Dropout(p=0.1, inplace=False)\n",
       "          )\n",
       "        )\n",
       "      )\n",
       "      (1-7): 7 x T5Block(\n",
       "        (layer): ModuleList(\n",
       "          (0): T5LayerSelfAttention(\n",
       "            (SelfAttention): T5Attention(\n",
       "              (q): Linear(in_features=512, out_features=384, bias=False)\n",
       "              (k): Linear(in_features=512, out_features=384, bias=False)\n",
       "              (v): Linear(in_features=512, out_features=384, bias=False)\n",
       "              (o): Linear(in_features=384, out_features=512, bias=False)\n",
       "            )\n",
       "            (layer_norm): T5LayerNorm()\n",
       "            (dropout): Dropout(p=0.1, inplace=False)\n",
       "          )\n",
       "          (1): T5LayerFF(\n",
       "            (DenseReluDense): T5DenseGatedActDense(\n",
       "              (wi_0): Linear(in_features=512, out_features=1024, bias=False)\n",
       "              (wi_1): Linear(in_features=512, out_features=1024, bias=False)\n",
       "              (wo): Linear(in_features=1024, out_features=512, bias=False)\n",
       "              (dropout): Dropout(p=0.1, inplace=False)\n",
       "              (act): NewGELUActivation()\n",
       "            )\n",
       "            (layer_norm): T5LayerNorm()\n",
       "            (dropout): Dropout(p=0.1, inplace=False)\n",
       "          )\n",
       "        )\n",
       "      )\n",
       "    )\n",
       "    (final_layer_norm): T5LayerNorm()\n",
       "    (dropout): Dropout(p=0.1, inplace=False)\n",
       "  )\n",
       "  (decoder): T5Stack(\n",
       "    (embed_tokens): Embedding(50358, 512)\n",
       "    (block): ModuleList(\n",
       "      (0): T5Block(\n",
       "        (layer): ModuleList(\n",
       "          (0): T5LayerSelfAttention(\n",
       "            (SelfAttention): T5Attention(\n",
       "              (q): Linear(in_features=512, out_features=384, bias=False)\n",
       "              (k): Linear(in_features=512, out_features=384, bias=False)\n",
       "              (v): Linear(in_features=512, out_features=384, bias=False)\n",
       "              (o): Linear(in_features=384, out_features=512, bias=False)\n",
       "              (relative_attention_bias): Embedding(32, 6)\n",
       "            )\n",
       "            (layer_norm): T5LayerNorm()\n",
       "            (dropout): Dropout(p=0.1, inplace=False)\n",
       "          )\n",
       "          (1): T5LayerCrossAttention(\n",
       "            (EncDecAttention): T5Attention(\n",
       "              (q): Linear(in_features=512, out_features=384, bias=False)\n",
       "              (k): Linear(in_features=512, out_features=384, bias=False)\n",
       "              (v): Linear(in_features=512, out_features=384, bias=False)\n",
       "              (o): Linear(in_features=384, out_features=512, bias=False)\n",
       "            )\n",
       "            (layer_norm): T5LayerNorm()\n",
       "            (dropout): Dropout(p=0.1, inplace=False)\n",
       "          )\n",
       "          (2): T5LayerFF(\n",
       "            (DenseReluDense): T5DenseGatedActDense(\n",
       "              (wi_0): Linear(in_features=512, out_features=1024, bias=False)\n",
       "              (wi_1): Linear(in_features=512, out_features=1024, bias=False)\n",
       "              (wo): Linear(in_features=1024, out_features=512, bias=False)\n",
       "              (dropout): Dropout(p=0.1, inplace=False)\n",
       "              (act): NewGELUActivation()\n",
       "            )\n",
       "            (layer_norm): T5LayerNorm()\n",
       "            (dropout): Dropout(p=0.1, inplace=False)\n",
       "          )\n",
       "        )\n",
       "      )\n",
       "      (1-7): 7 x T5Block(\n",
       "        (layer): ModuleList(\n",
       "          (0): T5LayerSelfAttention(\n",
       "            (SelfAttention): T5Attention(\n",
       "              (q): Linear(in_features=512, out_features=384, bias=False)\n",
       "              (k): Linear(in_features=512, out_features=384, bias=False)\n",
       "              (v): Linear(in_features=512, out_features=384, bias=False)\n",
       "              (o): Linear(in_features=384, out_features=512, bias=False)\n",
       "            )\n",
       "            (layer_norm): T5LayerNorm()\n",
       "            (dropout): Dropout(p=0.1, inplace=False)\n",
       "          )\n",
       "          (1): T5LayerCrossAttention(\n",
       "            (EncDecAttention): T5Attention(\n",
       "              (q): Linear(in_features=512, out_features=384, bias=False)\n",
       "              (k): Linear(in_features=512, out_features=384, bias=False)\n",
       "              (v): Linear(in_features=512, out_features=384, bias=False)\n",
       "              (o): Linear(in_features=384, out_features=512, bias=False)\n",
       "            )\n",
       "            (layer_norm): T5LayerNorm()\n",
       "            (dropout): Dropout(p=0.1, inplace=False)\n",
       "          )\n",
       "          (2): T5LayerFF(\n",
       "            (DenseReluDense): T5DenseGatedActDense(\n",
       "              (wi_0): Linear(in_features=512, out_features=1024, bias=False)\n",
       "              (wi_1): Linear(in_features=512, out_features=1024, bias=False)\n",
       "              (wo): Linear(in_features=1024, out_features=512, bias=False)\n",
       "              (dropout): Dropout(p=0.1, inplace=False)\n",
       "              (act): NewGELUActivation()\n",
       "            )\n",
       "            (layer_norm): T5LayerNorm()\n",
       "            (dropout): Dropout(p=0.1, inplace=False)\n",
       "          )\n",
       "        )\n",
       "      )\n",
       "    )\n",
       "    (final_layer_norm): T5LayerNorm()\n",
       "    (dropout): Dropout(p=0.1, inplace=False)\n",
       "  )\n",
       "  (lm_head): Linear(in_features=512, out_features=50358, bias=False)\n",
       ")"
      ]
     },
     "execution_count": 7,
     "metadata": {},
     "output_type": "execute_result"
    }
   ],
   "source": [
    "# 모델 GPU로 보내기\n",
    "import torch\n",
    "device = \"cuda\" if torch.cuda.is_available() else \"cpu\"\n",
    "model.to(device)"
   ]
  },
  {
   "cell_type": "code",
   "execution_count": 8,
   "metadata": {
    "colab": {
     "base_uri": "https://localhost:8080/"
    },
    "id": "CWDGl6pEpWR7",
    "outputId": "46761ce4-7419-49eb-c3a8-f2d247f676f5"
   },
   "outputs": [
    {
     "data": {
      "text/plain": [
       "T5ForConditionalGeneration(\n",
       "  (shared): Embedding(50358, 512)\n",
       "  (encoder): T5Stack(\n",
       "    (embed_tokens): Embedding(50358, 512)\n",
       "    (block): ModuleList(\n",
       "      (0): T5Block(\n",
       "        (layer): ModuleList(\n",
       "          (0): T5LayerSelfAttention(\n",
       "            (SelfAttention): T5Attention(\n",
       "              (q): Linear(in_features=512, out_features=384, bias=False)\n",
       "              (k): Linear(in_features=512, out_features=384, bias=False)\n",
       "              (v): Linear(in_features=512, out_features=384, bias=False)\n",
       "              (o): Linear(in_features=384, out_features=512, bias=False)\n",
       "              (relative_attention_bias): Embedding(32, 6)\n",
       "            )\n",
       "            (layer_norm): T5LayerNorm()\n",
       "            (dropout): Dropout(p=0.1, inplace=False)\n",
       "          )\n",
       "          (1): T5LayerFF(\n",
       "            (DenseReluDense): T5DenseGatedActDense(\n",
       "              (wi_0): Linear(in_features=512, out_features=1024, bias=False)\n",
       "              (wi_1): Linear(in_features=512, out_features=1024, bias=False)\n",
       "              (wo): Linear(in_features=1024, out_features=512, bias=False)\n",
       "              (dropout): Dropout(p=0.1, inplace=False)\n",
       "              (act): NewGELUActivation()\n",
       "            )\n",
       "            (layer_norm): T5LayerNorm()\n",
       "            (dropout): Dropout(p=0.1, inplace=False)\n",
       "          )\n",
       "        )\n",
       "      )\n",
       "      (1-7): 7 x T5Block(\n",
       "        (layer): ModuleList(\n",
       "          (0): T5LayerSelfAttention(\n",
       "            (SelfAttention): T5Attention(\n",
       "              (q): Linear(in_features=512, out_features=384, bias=False)\n",
       "              (k): Linear(in_features=512, out_features=384, bias=False)\n",
       "              (v): Linear(in_features=512, out_features=384, bias=False)\n",
       "              (o): Linear(in_features=384, out_features=512, bias=False)\n",
       "            )\n",
       "            (layer_norm): T5LayerNorm()\n",
       "            (dropout): Dropout(p=0.1, inplace=False)\n",
       "          )\n",
       "          (1): T5LayerFF(\n",
       "            (DenseReluDense): T5DenseGatedActDense(\n",
       "              (wi_0): Linear(in_features=512, out_features=1024, bias=False)\n",
       "              (wi_1): Linear(in_features=512, out_features=1024, bias=False)\n",
       "              (wo): Linear(in_features=1024, out_features=512, bias=False)\n",
       "              (dropout): Dropout(p=0.1, inplace=False)\n",
       "              (act): NewGELUActivation()\n",
       "            )\n",
       "            (layer_norm): T5LayerNorm()\n",
       "            (dropout): Dropout(p=0.1, inplace=False)\n",
       "          )\n",
       "        )\n",
       "      )\n",
       "    )\n",
       "    (final_layer_norm): T5LayerNorm()\n",
       "    (dropout): Dropout(p=0.1, inplace=False)\n",
       "  )\n",
       "  (decoder): T5Stack(\n",
       "    (embed_tokens): Embedding(50358, 512)\n",
       "    (block): ModuleList(\n",
       "      (0): T5Block(\n",
       "        (layer): ModuleList(\n",
       "          (0): T5LayerSelfAttention(\n",
       "            (SelfAttention): T5Attention(\n",
       "              (q): Linear(in_features=512, out_features=384, bias=False)\n",
       "              (k): Linear(in_features=512, out_features=384, bias=False)\n",
       "              (v): Linear(in_features=512, out_features=384, bias=False)\n",
       "              (o): Linear(in_features=384, out_features=512, bias=False)\n",
       "              (relative_attention_bias): Embedding(32, 6)\n",
       "            )\n",
       "            (layer_norm): T5LayerNorm()\n",
       "            (dropout): Dropout(p=0.1, inplace=False)\n",
       "          )\n",
       "          (1): T5LayerCrossAttention(\n",
       "            (EncDecAttention): T5Attention(\n",
       "              (q): Linear(in_features=512, out_features=384, bias=False)\n",
       "              (k): Linear(in_features=512, out_features=384, bias=False)\n",
       "              (v): Linear(in_features=512, out_features=384, bias=False)\n",
       "              (o): Linear(in_features=384, out_features=512, bias=False)\n",
       "            )\n",
       "            (layer_norm): T5LayerNorm()\n",
       "            (dropout): Dropout(p=0.1, inplace=False)\n",
       "          )\n",
       "          (2): T5LayerFF(\n",
       "            (DenseReluDense): T5DenseGatedActDense(\n",
       "              (wi_0): Linear(in_features=512, out_features=1024, bias=False)\n",
       "              (wi_1): Linear(in_features=512, out_features=1024, bias=False)\n",
       "              (wo): Linear(in_features=1024, out_features=512, bias=False)\n",
       "              (dropout): Dropout(p=0.1, inplace=False)\n",
       "              (act): NewGELUActivation()\n",
       "            )\n",
       "            (layer_norm): T5LayerNorm()\n",
       "            (dropout): Dropout(p=0.1, inplace=False)\n",
       "          )\n",
       "        )\n",
       "      )\n",
       "      (1-7): 7 x T5Block(\n",
       "        (layer): ModuleList(\n",
       "          (0): T5LayerSelfAttention(\n",
       "            (SelfAttention): T5Attention(\n",
       "              (q): Linear(in_features=512, out_features=384, bias=False)\n",
       "              (k): Linear(in_features=512, out_features=384, bias=False)\n",
       "              (v): Linear(in_features=512, out_features=384, bias=False)\n",
       "              (o): Linear(in_features=384, out_features=512, bias=False)\n",
       "            )\n",
       "            (layer_norm): T5LayerNorm()\n",
       "            (dropout): Dropout(p=0.1, inplace=False)\n",
       "          )\n",
       "          (1): T5LayerCrossAttention(\n",
       "            (EncDecAttention): T5Attention(\n",
       "              (q): Linear(in_features=512, out_features=384, bias=False)\n",
       "              (k): Linear(in_features=512, out_features=384, bias=False)\n",
       "              (v): Linear(in_features=512, out_features=384, bias=False)\n",
       "              (o): Linear(in_features=384, out_features=512, bias=False)\n",
       "            )\n",
       "            (layer_norm): T5LayerNorm()\n",
       "            (dropout): Dropout(p=0.1, inplace=False)\n",
       "          )\n",
       "          (2): T5LayerFF(\n",
       "            (DenseReluDense): T5DenseGatedActDense(\n",
       "              (wi_0): Linear(in_features=512, out_features=1024, bias=False)\n",
       "              (wi_1): Linear(in_features=512, out_features=1024, bias=False)\n",
       "              (wo): Linear(in_features=1024, out_features=512, bias=False)\n",
       "              (dropout): Dropout(p=0.1, inplace=False)\n",
       "              (act): NewGELUActivation()\n",
       "            )\n",
       "            (layer_norm): T5LayerNorm()\n",
       "            (dropout): Dropout(p=0.1, inplace=False)\n",
       "          )\n",
       "        )\n",
       "      )\n",
       "    )\n",
       "    (final_layer_norm): T5LayerNorm()\n",
       "    (dropout): Dropout(p=0.1, inplace=False)\n",
       "  )\n",
       "  (lm_head): Linear(in_features=512, out_features=50358, bias=False)\n",
       ")"
      ]
     },
     "execution_count": 8,
     "metadata": {},
     "output_type": "execute_result"
    }
   ],
   "source": [
    "model.eval()"
   ]
  },
  {
   "cell_type": "code",
   "execution_count": 9,
   "metadata": {
    "id": "CKH9XFH4bna3"
   },
   "outputs": [],
   "source": [
    "from torch.utils.data import DataLoader\n",
    "\n",
    "# DataLoader를 사용해서 배치 단위로 데이터 가져오기\n",
    "test_dataloader = DataLoader(test_dataset, batch_size=8, shuffle=False)"
   ]
  },
  {
   "cell_type": "code",
   "execution_count": 12,
   "metadata": {
    "colab": {
     "base_uri": "https://localhost:8080/"
    },
    "id": "d-4Xkjz8lqtY",
    "outputId": "3ae052d4-0be5-4332-d03c-28102ecdedfa"
   },
   "outputs": [
    {
     "name": "stderr",
     "output_type": "stream",
     "text": [
      "100%|██████████| 13/13 [00:47<00:00,  3.66s/it]\n"
     ]
    }
   ],
   "source": [
    "from tqdm import tqdm\n",
    "\n",
    "predictions = []\n",
    "references = []\n",
    "\n",
    "for batch in tqdm(test_dataloader):\n",
    "    input_texts = [\"summarize: \" + doc for doc in batch[\"document\"]]\n",
    "    reference_texts = batch[\"summary\"]\n",
    "\n",
    "    # 배치 토큰화\n",
    "    inputs = tokenizer(input_texts, return_tensors=\"pt\", padding=True, truncation=True, max_length=512)\n",
    "    inputs = {key: val.to(device) for key, val in inputs.items()}  # 입력 텐서를 GPU로 이동\n",
    "\n",
    "    # 모델 추론 (배치 처리)\n",
    "    output_ids = model.generate(**inputs, do_sample=True, max_length=128, num_beams=4, no_repeat_ngram_size=2)\n",
    "\n",
    "    # 배치 디코딩\n",
    "    batch_predictions = tokenizer.batch_decode(output_ids, skip_special_tokens=True)\n",
    "\n",
    "    # 결과 저장\n",
    "    predictions.extend(batch_predictions)\n",
    "    references.extend(reference_texts)"
   ]
  },
  {
   "cell_type": "code",
   "execution_count": 13,
   "metadata": {
    "colab": {
     "base_uri": "https://localhost:8080/"
    },
    "id": "AqHTS1GSmTCS",
    "outputId": "10a15aec-1d2d-42c4-96ef-10f4ecc400f2"
   },
   "outputs": [
    {
     "data": {
      "text/plain": [
       "['서울 외환시장에서 원 달러 환율이 1300원을 예사로 넘으면서 여기저기서 우려의 목소리가 나옵니다.',\n",
       " '금융권의 클라우드 도입이 궤도에 오르고 있는 가운데 안정적인 IT인프라 운영을 위한 금융 혁신 방안 를 주제로 경험과 공유할 계획이다.',\n",
       " '국내 연구진이 건축 자재로 쓰이는 폴리염화비닐 PVC 고분자 겔을 응용해 마찰전기 나노발전기를 구현하는 데 성공했으며, 3일 한국연구재단에 따르면 대구경북과학기술원 DGIST 이주혁 교수는 에너지 발전 소자로써 기계적 에너를 수확할 수 있을 뿐 아니라 전극 그리드 패턴 없이도 임의의 위치를',\n",
       " '산업통상자원부와 한국전력에 따르면 전기요금과 가스요금이 1일 함께 오르면서 물가 부담은 더 커질 전망이다.',\n",
       " '3일 정부서울청사에서 방기선 기획재정부 1차관 주재로 제2차 비상경제차관회의를 열고 물가 상승기 편승한 지역별 주유소 가격 담합 가짜석유 유통과 같은 불법행위가 엄단하고 인플레이션 압력이 계속 이어질 것이란 전망을 내놨다.']"
      ]
     },
     "execution_count": 13,
     "metadata": {},
     "output_type": "execute_result"
    }
   ],
   "source": [
    "predictions[:5]"
   ]
  },
  {
   "cell_type": "code",
   "execution_count": 15,
   "metadata": {
    "colab": {
     "base_uri": "https://localhost:8080/",
     "height": 461,
     "referenced_widgets": [
      "d01d49a63b484fec8c564f5c1d7e1b54",
      "dcb62f59e3664945bf2db3b09be97e35",
      "a7070f7779c542c18a749cddc951a403",
      "a83870d22c504bce8f8a20ab1eeb97b9",
      "32846d8dd52f4913950484a3283e09d4",
      "353b423520094fb7a91bbe0df04751dc",
      "a5bebf3214644cee84bf5202e52059bc",
      "393ce18c626c492786ec7d25cc154d31",
      "2e73eb81fea248c1bc069ab73ef86803",
      "d97478c130304d36b72f9ae0bfd9ebdf",
      "72a165a77de7451789dac04649d6f3c2",
      "b635acb3d3dc4d95a3c62f926e20608f",
      "45b6648027904e0e8ef880bbbd5ee1f7",
      "babe1cd7a08c47279dba2667cc373b26",
      "b713acf56a1e4b959bd47cfffc732306",
      "660938f09f0d4f85a333b52b672e0d32",
      "dd5c402e9bde46eea35b0d08f678dafa",
      "679e6331bc0b4d0b981acaabe71b566e",
      "ba39982788bc49ac8af9e4cbd6fd70c6",
      "d244c1e4147e424688cc4b306877cc3a",
      "780bafcb470f457a832605f9d1f6a452",
      "ca8458945a9940db9abe166682ab5f06",
      "f3ffe7e562cd48c1b10f9a685ed82241",
      "0b050b56022b4664927601c5cce26c3e",
      "3ef42d22fa7c41cdb25b7af005c30ab8",
      "08c954d6615442c981175dd1ebcdca4d",
      "53928fa7731a44b2bebb55840707a4ce",
      "9c187e0905cc45c59cac9f80687a52bc",
      "3eac93aba6d84155844ea1a0125ce30e",
      "b675a2ae337e4b7abd555d5d43c8ce66",
      "c89206b8fffa4a9ea6c8ca3adde60d6d",
      "92d57a5030204322a2759c5384c444d3",
      "b4d0c1c4232a4cea93ced479e5b941e6",
      "781b820a2198495fa06c89c0a162f038",
      "159704b64757490bbb3bfe97a66b650d",
      "adb45f5e2b4b4b90aa266a5cea869d13",
      "2c8c96abf4d54f5fb674ccda64174f94",
      "a34c86219ef74305a2e3a6f100e2b52d",
      "d84be4f9e0a240d2a44f5e87c0df3b6e",
      "06f004c596d54545888929f6fb242954",
      "4245a6c259a940bfafca5dea46422048",
      "3579315a3b3044f890a60cda2d604e7b",
      "0c15cb78c37e4cbeb02fcbe5e2169b0f",
      "93e7dd8ddda04850b0d4842492ac5760",
      "624bdff2caa746e382e5b525c364328b",
      "c9f80bd7ce604e0c9184b4d2e9953e08",
      "15377c19809b40adaa67f6f8bbf1e62b",
      "2d1d614c1bbf40d688daf491e5d16e02",
      "b6f868e99b4e429eb10f7843eb62ef77",
      "8c2de343ad8148e59af1b9c6786d3ee3",
      "bac388c2141c4a768813a87ab50dfacb",
      "85d04d1945964684b971d201a4ba9a69",
      "b66f1e344c9a489bba5a92a3984818d8",
      "dbcbb555a451456aaf79dd9d4954915f",
      "88461576692141588a7ddc310f4d368b",
      "aebac48b3a5844d09a6083193dc44eca",
      "70697ae2ddd445e281c0de343a302733",
      "363d907780064913bbc74077babda5e4",
      "9559013ed66443008fe67eb2d484dff4",
      "f7b44e4ee9834062b8b99904139e4b41",
      "1754d0513dec4cf2acad3ce2f48db6a3",
      "72ff5d73a6544bf09adba6630ba13c2e",
      "4765a69f8aab470dbef1ff2d674a1093",
      "9542c9ecffc948baae237d9d727e01d2",
      "6d32e58e0a2440b9a6bb20f6634dd12d",
      "b23da6c3160045b08b74a6a9bce3e2a2"
     ]
    },
    "id": "Y1Mt0pzoqSx4",
    "outputId": "d1d382aa-9af3-44fc-fb42-f24b8fef13d7"
   },
   "outputs": [
    {
     "name": "stdout",
     "output_type": "stream",
     "text": [
      "\u001b[2K   \u001b[90m━━━━━━━━━━━━━━━━━━━━━━━━━━━━━━━━━━━━━━━━\u001b[0m \u001b[32m61.1/61.1 kB\u001b[0m \u001b[31m2.9 MB/s\u001b[0m eta \u001b[36m0:00:00\u001b[0m\n",
      "\u001b[2K   \u001b[90m━━━━━━━━━━━━━━━━━━━━━━━━━━━━━━━━━━━━━━━━\u001b[0m \u001b[32m363.4/363.4 MB\u001b[0m \u001b[31m2.4 MB/s\u001b[0m eta \u001b[36m0:00:00\u001b[0m\n",
      "\u001b[2K   \u001b[90m━━━━━━━━━━━━━━━━━━━━━━━━━━━━━━━━━━━━━━━━\u001b[0m \u001b[32m13.8/13.8 MB\u001b[0m \u001b[31m105.0 MB/s\u001b[0m eta \u001b[36m0:00:00\u001b[0m\n",
      "\u001b[2K   \u001b[90m━━━━━━━━━━━━━━━━━━━━━━━━━━━━━━━━━━━━━━━━\u001b[0m \u001b[32m24.6/24.6 MB\u001b[0m \u001b[31m81.2 MB/s\u001b[0m eta \u001b[36m0:00:00\u001b[0m\n",
      "\u001b[2K   \u001b[90m━━━━━━━━━━━━━━━━━━━━━━━━━━━━━━━━━━━━━━━━\u001b[0m \u001b[32m883.7/883.7 kB\u001b[0m \u001b[31m55.9 MB/s\u001b[0m eta \u001b[36m0:00:00\u001b[0m\n",
      "\u001b[2K   \u001b[90m━━━━━━━━━━━━━━━━━━━━━━━━━━━━━━━━━━━━━━━━\u001b[0m \u001b[32m664.8/664.8 MB\u001b[0m \u001b[31m1.3 MB/s\u001b[0m eta \u001b[36m0:00:00\u001b[0m\n",
      "\u001b[2K   \u001b[90m━━━━━━━━━━━━━━━━━━━━━━━━━━━━━━━━━━━━━━━━\u001b[0m \u001b[32m211.5/211.5 MB\u001b[0m \u001b[31m9.3 MB/s\u001b[0m eta \u001b[36m0:00:00\u001b[0m\n",
      "\u001b[2K   \u001b[90m━━━━━━━━━━━━━━━━━━━━━━━━━━━━━━━━━━━━━━━━\u001b[0m \u001b[32m56.3/56.3 MB\u001b[0m \u001b[31m34.8 MB/s\u001b[0m eta \u001b[36m0:00:00\u001b[0m\n",
      "\u001b[2K   \u001b[90m━━━━━━━━━━━━━━━━━━━━━━━━━━━━━━━━━━━━━━━━\u001b[0m \u001b[32m127.9/127.9 MB\u001b[0m \u001b[31m8.6 MB/s\u001b[0m eta \u001b[36m0:00:00\u001b[0m\n",
      "\u001b[2K   \u001b[90m━━━━━━━━━━━━━━━━━━━━━━━━━━━━━━━━━━━━━━━━\u001b[0m \u001b[32m207.5/207.5 MB\u001b[0m \u001b[31m5.7 MB/s\u001b[0m eta \u001b[36m0:00:00\u001b[0m\n",
      "\u001b[2K   \u001b[90m━━━━━━━━━━━━━━━━━━━━━━━━━━━━━━━━━━━━━━━━\u001b[0m \u001b[32m21.1/21.1 MB\u001b[0m \u001b[31m93.3 MB/s\u001b[0m eta \u001b[36m0:00:00\u001b[0m\n",
      "\u001b[?25h"
     ]
    },
    {
     "data": {
      "application/vnd.jupyter.widget-view+json": {
       "model_id": "d01d49a63b484fec8c564f5c1d7e1b54",
       "version_major": 2,
       "version_minor": 0
      },
      "text/plain": [
       "tokenizer_config.json:   0%|          | 0.00/375 [00:00<?, ?B/s]"
      ]
     },
     "metadata": {},
     "output_type": "display_data"
    },
    {
     "data": {
      "application/vnd.jupyter.widget-view+json": {
       "model_id": "b635acb3d3dc4d95a3c62f926e20608f",
       "version_major": 2,
       "version_minor": 0
      },
      "text/plain": [
       "vocab.txt:   0%|          | 0.00/248k [00:00<?, ?B/s]"
      ]
     },
     "metadata": {},
     "output_type": "display_data"
    },
    {
     "data": {
      "application/vnd.jupyter.widget-view+json": {
       "model_id": "f3ffe7e562cd48c1b10f9a685ed82241",
       "version_major": 2,
       "version_minor": 0
      },
      "text/plain": [
       "special_tokens_map.json:   0%|          | 0.00/173 [00:00<?, ?B/s]"
      ]
     },
     "metadata": {},
     "output_type": "display_data"
    },
    {
     "data": {
      "application/vnd.jupyter.widget-view+json": {
       "model_id": "781b820a2198495fa06c89c0a162f038",
       "version_major": 2,
       "version_minor": 0
      },
      "text/plain": [
       "tokenizer.json:   0%|          | 0.00/752k [00:00<?, ?B/s]"
      ]
     },
     "metadata": {},
     "output_type": "display_data"
    },
    {
     "data": {
      "application/vnd.jupyter.widget-view+json": {
       "model_id": "624bdff2caa746e382e5b525c364328b",
       "version_major": 2,
       "version_minor": 0
      },
      "text/plain": [
       "config.json:   0%|          | 0.00/547 [00:00<?, ?B/s]"
      ]
     },
     "metadata": {},
     "output_type": "display_data"
    },
    {
     "data": {
      "application/vnd.jupyter.widget-view+json": {
       "model_id": "aebac48b3a5844d09a6083193dc44eca",
       "version_major": 2,
       "version_minor": 0
      },
      "text/plain": [
       "model.safetensors:   0%|          | 0.00/1.35G [00:00<?, ?B/s]"
      ]
     },
     "metadata": {},
     "output_type": "display_data"
    },
    {
     "name": "stderr",
     "output_type": "stream",
     "text": [
      "Some weights of RobertaModel were not initialized from the model checkpoint at klue/roberta-large and are newly initialized: ['roberta.pooler.dense.bias', 'roberta.pooler.dense.weight']\n",
      "You should probably TRAIN this model on a down-stream task to be able to use it for predictions and inference.\n"
     ]
    }
   ],
   "source": [
    "!pip install bert_score -qqq\n",
    "from bert_score import BERTScorer\n",
    "\n",
    "# BERTScore 초기화\n",
    "scorer = BERTScorer(model_type=\"klue/roberta-large\", num_layers=24, batch_size=8, lang=\"ko\", rescale_with_baseline=False, device=device)  # \"klue/roberta-large\": 한국어 모델"
   ]
  },
  {
   "cell_type": "code",
   "execution_count": 16,
   "metadata": {
    "id": "RinLCQuirWQu"
   },
   "outputs": [],
   "source": [
    "# Bert Score로 정밀도, 재현율, F1 스코어 계산\n",
    "P, R, F1 = scorer.score(predictions, references)"
   ]
  },
  {
   "cell_type": "code",
   "execution_count": 17,
   "metadata": {
    "colab": {
     "base_uri": "https://localhost:8080/"
    },
    "id": "QnkY64xS1qCv",
    "outputId": "6f17d37e-68db-4e3f-ba00-26cdab3be86d"
   },
   "outputs": [
    {
     "data": {
      "text/plain": [
       "tensor([0.7732, 0.8195, 0.8344, 0.8264, 0.7647, 0.8366, 0.7486, 0.6870, 0.9776,\n",
       "        0.8896, 0.8932, 0.7561, 0.7800, 0.9229, 0.9040, 0.8413, 0.9207, 0.7146,\n",
       "        0.9375, 0.8358, 0.8381, 0.7491, 0.9665, 0.6665, 0.8142, 0.7159, 0.8729,\n",
       "        0.9455, 0.8620, 0.9583, 0.8977, 0.8121, 0.8493, 0.8011, 0.7865, 0.7745,\n",
       "        0.7083, 0.9096, 0.9675, 0.8614, 0.9416, 0.9640, 0.8532, 0.9467, 0.9250,\n",
       "        0.9283, 0.8677, 0.8595, 0.8974, 0.8021, 0.8596, 0.8153, 0.7398, 0.8027,\n",
       "        0.8569, 0.8629, 0.7588, 0.8127, 0.7352, 0.8249, 0.9337, 0.7782, 0.7465,\n",
       "        0.9708, 0.8959, 0.8284, 0.7859, 0.9400, 0.9049, 0.8070, 0.9432, 0.7860,\n",
       "        0.6818, 0.8849, 0.7351, 0.8481, 0.7112, 0.9062, 0.9196, 0.8269, 0.7807,\n",
       "        0.9134, 0.7817, 0.7328, 0.8758, 0.7831, 0.8602, 0.9214, 0.9674, 0.8505,\n",
       "        0.7808, 0.9180, 0.8250, 0.8239, 0.8705, 0.9268, 0.8285, 0.7873, 0.7787,\n",
       "        0.8820])"
      ]
     },
     "execution_count": 17,
     "metadata": {},
     "output_type": "execute_result"
    }
   ],
   "source": [
    "P"
   ]
  },
  {
   "cell_type": "code",
   "execution_count": 18,
   "metadata": {
    "colab": {
     "base_uri": "https://localhost:8080/",
     "height": 424
    },
    "id": "ya8nI7Y3ystZ",
    "outputId": "f57d517c-0eeb-4dd1-fff6-d06f0ba77925"
   },
   "outputs": [
    {
     "data": {
      "application/vnd.google.colaboratory.intrinsic+json": {
       "summary": "{\n  \"name\": \"result\",\n  \"rows\": 100,\n  \"fields\": [\n    {\n      \"column\": \"\\uc0dd\\uc131\\ud55c \\uc694\\uc57d\\ubb38\",\n      \"properties\": {\n        \"dtype\": \"string\",\n        \"num_unique_values\": 100,\n        \"samples\": [\n          \"\\ud658\\uacbd\\ubd80\\ub294 5\\uc77c \\uad6d\\ub9bd\\uc0dd\\ud0dc\\uc6d0 \\uba78\\uc885\\uc704\\uae30\\uc885\\ubcf5\\uc6d0\\uc13c\\ud130\\ub294 \\uc9c0\\ub09c 2017\\ub144\\uc5d0 267\\uc885\\uc744 \\uc0dd\\ud0dc \\ubd84\\ub958\\uad70\\ubcc4\\ub85c \\uc804\\ubb38 \\ubd84\\uacfc\\uc704\\ub97c \\uc6b4\\uc601\\ud558\\uc5ec \\ub3d9\\ubb3c \\ubcf4\\ud638 \\ubc0f \\uad00\\ub9ac\\uc5d0\\uad00\\ud55c \\ubc95\\ub960 \\uc57c\\uc0dd\\uc0dd\\ubb3c\\uc758 \\ubaa9\\ub85d\\uacfc \\uc815\\ubd80 \\uc0b0\\ud558\\uae30\\uad00 \\uc9c0\\uc790\\uccb4 \\ubbfc\\u00b7\\uad00\\uc5f0\\uad6c\\uc18c \\ub4f1\\uc758\",\n          \"IAR\\uc2dc\\uc2a4\\ud15c\\uc988\\ub294 7\\uc77c \\ub974\\ub124\\uc0ac\\uc2a4\\uc758 \\ucd5c\\uc2e0 \\uba40\\ud2f0\\ucf54\\uc5b4 MCU \\ub514\\ubc14\\uc774\\uc2a4\\uc778 \\u2018RH850\\uc6a9 IaR \\uc784\\ubca0\\ub514\\ub4dc \\uc6cc\\ud06c\\ubca4\\uce58 \\uad00\\ub828 \\uac1c\\ubc1c \\ud234\\uc744 \\uc81c\\uacf5\\ud558\\ub294 \\uc720\\uc77c\\ud55c \\ubca4\\ub354\\ub85c \\uc774\\ubc88\\uc5d0 \\ubc1c\\ud45c\\ub41c \\uc8fc\\uc694 \\uae30\\ub2a5\\uc740 \\ube44\\uc8fc\\uc5bc \\uc2a4\\ud29c\\ub514\\uc624 \\ucf54\\ub4dc \\ub9c8\\ucf13\\ud50c\\ub808\\uc774\\uc2a4 Visual Studio Code\\uc640 \\uc6d0\\ud65c\\ud558\\uac8c \\ud638\\ud658\\ub418\\uba70 \\uc774\\ub294 \\uae30\\uc874 \\ubc84\\uc804 \\ubc30\\ud3ec\\ub97c \\ud1b5\\ud574 \\ucd9c\\uc2dc\\uc790\\ub4e4\\uc740 \\ub354\\uc6b1 \\ubcf5\\uc7a1\\ud560 \\uc218 \\uc788\\uac8c \\ub410\\ub2e4.\",\n          \"\\ucd94\\uacbd\\ud638 \\ubd80\\ucd1d\\ub9ac \\uacb8 \\uae30\\ud68d\\uc7ac\\uc815\\ubd80 \\uc7a5\\uad00\\uc740 1\\uc77c \\ud604\\uc7ac \\uc8fc 52\\uc2dc\\uac04\\uc81c\\ub3c4\\ub294 \\uacbd\\uc9c1\\uc801\\uc774\\uc5b4\\uc11c \\uae30\\uc5c5\\ub4e4\\uc774 \\uac1c\\uc120\\uc744 \\ub04a\\uc784\\uc5c6\\uc774 \\uc694\\uad6c\\ud558\\uace0 \\uc788\\uace0 \\uc804\\ubb38\\uac00\\uc640 \\uad00\\uacc4\\ubd80\\ucc98 \\ub178\\ub3d9\\uacc4\\uac00 \\ub300\\ud654\\ud574 \\uc0c1\\ud638 \\ub3c4\\uc6c0\\uc774 \\ub418\\uace0 \\uadfc\\ub85c\\uc790\\uac00 \\uac74\\uac15\\uad8c \\uc9c0\\ud0b4\\uc774\\ub85c \\uc774\\uc5b4\\uc9c0\\ub294 \\uad6c\\uc870\\ub97c \\ud1b5\\ud574 \\uc0b0\\uc5c5\\uc6a9 \\uc815\\ubc00 \\ubaa8\\ud130 \\uc5c5\\uccb4 \\uc5d0\\uc2a4\\ud53c\\uc9c0\\uc5d0\\uc11c \\uc5f4\\ub9b0 \\uc218\\ucd9c\\uc5c5\\uacc4 \\uac04\\ub2f4\\ud68c\\uc5d0\\uc11c\\ub294 \\uc720\\uc5f0\\ud558\\uac8c \\ud574\\uc57c \\ud55c\\ub2e4 \\uace0 \\uac15\\uc870\\ud588\\ub2e4.\"\n        ],\n        \"semantic_type\": \"\",\n        \"description\": \"\"\n      }\n    },\n    {\n      \"column\": \"\\uc815\\ubc00\\ub3c4\",\n      \"properties\": {\n        \"dtype\": \"number\",\n        \"std\": 0.07629579837455637,\n        \"min\": 0.6664942502975464,\n        \"max\": 0.9775809049606323,\n        \"num_unique_values\": 100,\n        \"samples\": [\n          0.7398486733436584,\n          0.7786670923233032,\n          0.7860058546066284\n        ],\n        \"semantic_type\": \"\",\n        \"description\": \"\"\n      }\n    },\n    {\n      \"column\": \"\\uc7ac\\ud604\\uc728\",\n      \"properties\": {\n        \"dtype\": \"number\",\n        \"std\": 0.08799480682592499,\n        \"min\": 0.4846191108226776,\n        \"max\": 0.958942174911499,\n        \"num_unique_values\": 100,\n        \"samples\": [\n          0.7478129863739014,\n          0.8409633636474609,\n          0.7713645696640015\n        ],\n        \"semantic_type\": \"\",\n        \"description\": \"\"\n      }\n    },\n    {\n      \"column\": \"F1\",\n      \"properties\": {\n        \"dtype\": \"number\",\n        \"std\": 0.07065743018692185,\n        \"min\": 0.61372971534729,\n        \"max\": 0.9627253413200378,\n        \"num_unique_values\": 100,\n        \"samples\": [\n          0.7438095211982727,\n          0.8086171746253967,\n          0.7786164283752441\n        ],\n        \"semantic_type\": \"\",\n        \"description\": \"\"\n      }\n    }\n  ]\n}",
       "type": "dataframe"
      },
      "text/html": [
       "\n",
       "  <div id=\"df-a936558d-d977-4320-a336-b7e891a25c79\" class=\"colab-df-container\">\n",
       "    <div>\n",
       "<style scoped>\n",
       "    .dataframe tbody tr th:only-of-type {\n",
       "        vertical-align: middle;\n",
       "    }\n",
       "\n",
       "    .dataframe tbody tr th {\n",
       "        vertical-align: top;\n",
       "    }\n",
       "\n",
       "    .dataframe thead th {\n",
       "        text-align: right;\n",
       "    }\n",
       "</style>\n",
       "<table border=\"1\" class=\"dataframe\">\n",
       "  <thead>\n",
       "    <tr style=\"text-align: right;\">\n",
       "      <th></th>\n",
       "      <th>생성한 요약문</th>\n",
       "      <th>정밀도</th>\n",
       "      <th>재현율</th>\n",
       "      <th>F1</th>\n",
       "    </tr>\n",
       "  </thead>\n",
       "  <tbody>\n",
       "    <tr>\n",
       "      <th>22</th>\n",
       "      <td>추경호 경제부총리 겸 기획재정부 장관이 3일 정부서울청사에서 열린 제3차 비상경제장...</td>\n",
       "      <td>0.966539</td>\n",
       "      <td>0.958942</td>\n",
       "      <td>0.962725</td>\n",
       "    </tr>\n",
       "    <tr>\n",
       "      <th>38</th>\n",
       "      <td>6일 오후 부산상공회의소 대강당에서 동남권관문공항추진위원회와 신항공추진범시민운동본부...</td>\n",
       "      <td>0.967548</td>\n",
       "      <td>0.904980</td>\n",
       "      <td>0.935219</td>\n",
       "    </tr>\n",
       "    <tr>\n",
       "      <th>70</th>\n",
       "      <td>삼성전자 홈캐스트는 삼성전기 베트남 법인과 스마트폰용 이미지센서 공급계약을 체결했다...</td>\n",
       "      <td>0.943158</td>\n",
       "      <td>0.907168</td>\n",
       "      <td>0.924813</td>\n",
       "    </tr>\n",
       "    <tr>\n",
       "      <th>78</th>\n",
       "      <td>한국우편사업진흥원 원장 민재석은 4일부터 17일까지 14일간 여름 제철 먹거리와 상...</td>\n",
       "      <td>0.919637</td>\n",
       "      <td>0.926250</td>\n",
       "      <td>0.922932</td>\n",
       "    </tr>\n",
       "    <tr>\n",
       "      <th>37</th>\n",
       "      <td>롯데바이오로직스는 1일 밀리포어 씨그마와의 이번 업무협약으로 차세대 치료제 등 바이...</td>\n",
       "      <td>0.909599</td>\n",
       "      <td>0.923934</td>\n",
       "      <td>0.916711</td>\n",
       "    </tr>\n",
       "    <tr>\n",
       "      <th>...</th>\n",
       "      <td>...</td>\n",
       "      <td>...</td>\n",
       "      <td>...</td>\n",
       "      <td>...</td>\n",
       "    </tr>\n",
       "    <tr>\n",
       "      <th>7</th>\n",
       "      <td>타다 서비스를 제공하는 VCNC에 따르면 총 80편 전체 18분 분량으로 제작된 이...</td>\n",
       "      <td>0.686996</td>\n",
       "      <td>0.659080</td>\n",
       "      <td>0.672749</td>\n",
       "    </tr>\n",
       "    <tr>\n",
       "      <th>72</th>\n",
       "      <td>6일 경기 고양시 킨텍스에서 열린 제20회 국제 나노기술심포지엄 및 융합전시회 20...</td>\n",
       "      <td>0.681832</td>\n",
       "      <td>0.661924</td>\n",
       "      <td>0.671731</td>\n",
       "    </tr>\n",
       "    <tr>\n",
       "      <th>23</th>\n",
       "      <td>8일 에스티팜은 지난 5월 북미 지역의 바이오텍과 mRNA 백신에 사용되는 지질나노...</td>\n",
       "      <td>0.666494</td>\n",
       "      <td>0.607477</td>\n",
       "      <td>0.635619</td>\n",
       "    </tr>\n",
       "    <tr>\n",
       "      <th>36</th>\n",
       "      <td>금융공기업이 입주한 부산국제금융센터 BIFC 전경.</td>\n",
       "      <td>0.708313</td>\n",
       "      <td>0.564580</td>\n",
       "      <td>0.628332</td>\n",
       "    </tr>\n",
       "    <tr>\n",
       "      <th>5</th>\n",
       "      <td>고승범 금융위원장이 5일 정부서울청사에서 취임식을 갖고 이임식 꽃다발을 받고 있다.</td>\n",
       "      <td>0.836619</td>\n",
       "      <td>0.484619</td>\n",
       "      <td>0.613730</td>\n",
       "    </tr>\n",
       "  </tbody>\n",
       "</table>\n",
       "<p>100 rows × 4 columns</p>\n",
       "</div>\n",
       "    <div class=\"colab-df-buttons\">\n",
       "\n",
       "  <div class=\"colab-df-container\">\n",
       "    <button class=\"colab-df-convert\" onclick=\"convertToInteractive('df-a936558d-d977-4320-a336-b7e891a25c79')\"\n",
       "            title=\"Convert this dataframe to an interactive table.\"\n",
       "            style=\"display:none;\">\n",
       "\n",
       "  <svg xmlns=\"http://www.w3.org/2000/svg\" height=\"24px\" viewBox=\"0 -960 960 960\">\n",
       "    <path d=\"M120-120v-720h720v720H120Zm60-500h600v-160H180v160Zm220 220h160v-160H400v160Zm0 220h160v-160H400v160ZM180-400h160v-160H180v160Zm440 0h160v-160H620v160ZM180-180h160v-160H180v160Zm440 0h160v-160H620v160Z\"/>\n",
       "  </svg>\n",
       "    </button>\n",
       "\n",
       "  <style>\n",
       "    .colab-df-container {\n",
       "      display:flex;\n",
       "      gap: 12px;\n",
       "    }\n",
       "\n",
       "    .colab-df-convert {\n",
       "      background-color: #E8F0FE;\n",
       "      border: none;\n",
       "      border-radius: 50%;\n",
       "      cursor: pointer;\n",
       "      display: none;\n",
       "      fill: #1967D2;\n",
       "      height: 32px;\n",
       "      padding: 0 0 0 0;\n",
       "      width: 32px;\n",
       "    }\n",
       "\n",
       "    .colab-df-convert:hover {\n",
       "      background-color: #E2EBFA;\n",
       "      box-shadow: 0px 1px 2px rgba(60, 64, 67, 0.3), 0px 1px 3px 1px rgba(60, 64, 67, 0.15);\n",
       "      fill: #174EA6;\n",
       "    }\n",
       "\n",
       "    .colab-df-buttons div {\n",
       "      margin-bottom: 4px;\n",
       "    }\n",
       "\n",
       "    [theme=dark] .colab-df-convert {\n",
       "      background-color: #3B4455;\n",
       "      fill: #D2E3FC;\n",
       "    }\n",
       "\n",
       "    [theme=dark] .colab-df-convert:hover {\n",
       "      background-color: #434B5C;\n",
       "      box-shadow: 0px 1px 3px 1px rgba(0, 0, 0, 0.15);\n",
       "      filter: drop-shadow(0px 1px 2px rgba(0, 0, 0, 0.3));\n",
       "      fill: #FFFFFF;\n",
       "    }\n",
       "  </style>\n",
       "\n",
       "    <script>\n",
       "      const buttonEl =\n",
       "        document.querySelector('#df-a936558d-d977-4320-a336-b7e891a25c79 button.colab-df-convert');\n",
       "      buttonEl.style.display =\n",
       "        google.colab.kernel.accessAllowed ? 'block' : 'none';\n",
       "\n",
       "      async function convertToInteractive(key) {\n",
       "        const element = document.querySelector('#df-a936558d-d977-4320-a336-b7e891a25c79');\n",
       "        const dataTable =\n",
       "          await google.colab.kernel.invokeFunction('convertToInteractive',\n",
       "                                                    [key], {});\n",
       "        if (!dataTable) return;\n",
       "\n",
       "        const docLinkHtml = 'Like what you see? Visit the ' +\n",
       "          '<a target=\"_blank\" href=https://colab.research.google.com/notebooks/data_table.ipynb>data table notebook</a>'\n",
       "          + ' to learn more about interactive tables.';\n",
       "        element.innerHTML = '';\n",
       "        dataTable['output_type'] = 'display_data';\n",
       "        await google.colab.output.renderOutput(dataTable, element);\n",
       "        const docLink = document.createElement('div');\n",
       "        docLink.innerHTML = docLinkHtml;\n",
       "        element.appendChild(docLink);\n",
       "      }\n",
       "    </script>\n",
       "  </div>\n",
       "\n",
       "\n",
       "<div id=\"df-bbd08d62-150c-447f-9d8a-f9f5be03e3fb\">\n",
       "  <button class=\"colab-df-quickchart\" onclick=\"quickchart('df-bbd08d62-150c-447f-9d8a-f9f5be03e3fb')\"\n",
       "            title=\"Suggest charts\"\n",
       "            style=\"display:none;\">\n",
       "\n",
       "<svg xmlns=\"http://www.w3.org/2000/svg\" height=\"24px\"viewBox=\"0 0 24 24\"\n",
       "     width=\"24px\">\n",
       "    <g>\n",
       "        <path d=\"M19 3H5c-1.1 0-2 .9-2 2v14c0 1.1.9 2 2 2h14c1.1 0 2-.9 2-2V5c0-1.1-.9-2-2-2zM9 17H7v-7h2v7zm4 0h-2V7h2v10zm4 0h-2v-4h2v4z\"/>\n",
       "    </g>\n",
       "</svg>\n",
       "  </button>\n",
       "\n",
       "<style>\n",
       "  .colab-df-quickchart {\n",
       "      --bg-color: #E8F0FE;\n",
       "      --fill-color: #1967D2;\n",
       "      --hover-bg-color: #E2EBFA;\n",
       "      --hover-fill-color: #174EA6;\n",
       "      --disabled-fill-color: #AAA;\n",
       "      --disabled-bg-color: #DDD;\n",
       "  }\n",
       "\n",
       "  [theme=dark] .colab-df-quickchart {\n",
       "      --bg-color: #3B4455;\n",
       "      --fill-color: #D2E3FC;\n",
       "      --hover-bg-color: #434B5C;\n",
       "      --hover-fill-color: #FFFFFF;\n",
       "      --disabled-bg-color: #3B4455;\n",
       "      --disabled-fill-color: #666;\n",
       "  }\n",
       "\n",
       "  .colab-df-quickchart {\n",
       "    background-color: var(--bg-color);\n",
       "    border: none;\n",
       "    border-radius: 50%;\n",
       "    cursor: pointer;\n",
       "    display: none;\n",
       "    fill: var(--fill-color);\n",
       "    height: 32px;\n",
       "    padding: 0;\n",
       "    width: 32px;\n",
       "  }\n",
       "\n",
       "  .colab-df-quickchart:hover {\n",
       "    background-color: var(--hover-bg-color);\n",
       "    box-shadow: 0 1px 2px rgba(60, 64, 67, 0.3), 0 1px 3px 1px rgba(60, 64, 67, 0.15);\n",
       "    fill: var(--button-hover-fill-color);\n",
       "  }\n",
       "\n",
       "  .colab-df-quickchart-complete:disabled,\n",
       "  .colab-df-quickchart-complete:disabled:hover {\n",
       "    background-color: var(--disabled-bg-color);\n",
       "    fill: var(--disabled-fill-color);\n",
       "    box-shadow: none;\n",
       "  }\n",
       "\n",
       "  .colab-df-spinner {\n",
       "    border: 2px solid var(--fill-color);\n",
       "    border-color: transparent;\n",
       "    border-bottom-color: var(--fill-color);\n",
       "    animation:\n",
       "      spin 1s steps(1) infinite;\n",
       "  }\n",
       "\n",
       "  @keyframes spin {\n",
       "    0% {\n",
       "      border-color: transparent;\n",
       "      border-bottom-color: var(--fill-color);\n",
       "      border-left-color: var(--fill-color);\n",
       "    }\n",
       "    20% {\n",
       "      border-color: transparent;\n",
       "      border-left-color: var(--fill-color);\n",
       "      border-top-color: var(--fill-color);\n",
       "    }\n",
       "    30% {\n",
       "      border-color: transparent;\n",
       "      border-left-color: var(--fill-color);\n",
       "      border-top-color: var(--fill-color);\n",
       "      border-right-color: var(--fill-color);\n",
       "    }\n",
       "    40% {\n",
       "      border-color: transparent;\n",
       "      border-right-color: var(--fill-color);\n",
       "      border-top-color: var(--fill-color);\n",
       "    }\n",
       "    60% {\n",
       "      border-color: transparent;\n",
       "      border-right-color: var(--fill-color);\n",
       "    }\n",
       "    80% {\n",
       "      border-color: transparent;\n",
       "      border-right-color: var(--fill-color);\n",
       "      border-bottom-color: var(--fill-color);\n",
       "    }\n",
       "    90% {\n",
       "      border-color: transparent;\n",
       "      border-bottom-color: var(--fill-color);\n",
       "    }\n",
       "  }\n",
       "</style>\n",
       "\n",
       "  <script>\n",
       "    async function quickchart(key) {\n",
       "      const quickchartButtonEl =\n",
       "        document.querySelector('#' + key + ' button');\n",
       "      quickchartButtonEl.disabled = true;  // To prevent multiple clicks.\n",
       "      quickchartButtonEl.classList.add('colab-df-spinner');\n",
       "      try {\n",
       "        const charts = await google.colab.kernel.invokeFunction(\n",
       "            'suggestCharts', [key], {});\n",
       "      } catch (error) {\n",
       "        console.error('Error during call to suggestCharts:', error);\n",
       "      }\n",
       "      quickchartButtonEl.classList.remove('colab-df-spinner');\n",
       "      quickchartButtonEl.classList.add('colab-df-quickchart-complete');\n",
       "    }\n",
       "    (() => {\n",
       "      let quickchartButtonEl =\n",
       "        document.querySelector('#df-bbd08d62-150c-447f-9d8a-f9f5be03e3fb button');\n",
       "      quickchartButtonEl.style.display =\n",
       "        google.colab.kernel.accessAllowed ? 'block' : 'none';\n",
       "    })();\n",
       "  </script>\n",
       "</div>\n",
       "\n",
       "    </div>\n",
       "  </div>\n"
      ],
      "text/plain": [
       "                                              생성한 요약문       정밀도       재현율  \\\n",
       "22  추경호 경제부총리 겸 기획재정부 장관이 3일 정부서울청사에서 열린 제3차 비상경제장...  0.966539  0.958942   \n",
       "38  6일 오후 부산상공회의소 대강당에서 동남권관문공항추진위원회와 신항공추진범시민운동본부...  0.967548  0.904980   \n",
       "70  삼성전자 홈캐스트는 삼성전기 베트남 법인과 스마트폰용 이미지센서 공급계약을 체결했다...  0.943158  0.907168   \n",
       "78  한국우편사업진흥원 원장 민재석은 4일부터 17일까지 14일간 여름 제철 먹거리와 상...  0.919637  0.926250   \n",
       "37  롯데바이오로직스는 1일 밀리포어 씨그마와의 이번 업무협약으로 차세대 치료제 등 바이...  0.909599  0.923934   \n",
       "..                                                ...       ...       ...   \n",
       "7   타다 서비스를 제공하는 VCNC에 따르면 총 80편 전체 18분 분량으로 제작된 이...  0.686996  0.659080   \n",
       "72  6일 경기 고양시 킨텍스에서 열린 제20회 국제 나노기술심포지엄 및 융합전시회 20...  0.681832  0.661924   \n",
       "23  8일 에스티팜은 지난 5월 북미 지역의 바이오텍과 mRNA 백신에 사용되는 지질나노...  0.666494  0.607477   \n",
       "36                       금융공기업이 입주한 부산국제금융센터 BIFC 전경.  0.708313  0.564580   \n",
       "5      고승범 금융위원장이 5일 정부서울청사에서 취임식을 갖고 이임식 꽃다발을 받고 있다.  0.836619  0.484619   \n",
       "\n",
       "          F1  \n",
       "22  0.962725  \n",
       "38  0.935219  \n",
       "70  0.924813  \n",
       "78  0.922932  \n",
       "37  0.916711  \n",
       "..       ...  \n",
       "7   0.672749  \n",
       "72  0.671731  \n",
       "23  0.635619  \n",
       "36  0.628332  \n",
       "5   0.613730  \n",
       "\n",
       "[100 rows x 4 columns]"
      ]
     },
     "execution_count": 18,
     "metadata": {},
     "output_type": "execute_result"
    }
   ],
   "source": [
    "import pandas as pd\n",
    "\n",
    "result = pd.DataFrame({\n",
    "        '생성한 요약문' : predictions,\n",
    "        '정밀도' : P.tolist(),\n",
    "        '재현율' : R.tolist(),\n",
    "        'F1' : F1.tolist() })\n",
    "\n",
    "result.sort_values(by='F1', ascending=False)"
   ]
  },
  {
   "cell_type": "code",
   "execution_count": 19,
   "metadata": {
    "colab": {
     "base_uri": "https://localhost:8080/",
     "height": 424
    },
    "id": "keXX_YAisJDr",
    "outputId": "beb6e94d-8d1a-4b53-e51a-1a82116a6059"
   },
   "outputs": [
    {
     "data": {
      "application/vnd.google.colaboratory.intrinsic+json": {
       "summary": "{\n  \"name\": \"result\",\n  \"rows\": 100,\n  \"fields\": [\n    {\n      \"column\": \"\\uc0dd\\uc131\\ud55c \\uc694\\uc57d\\ubb38\",\n      \"properties\": {\n        \"dtype\": \"string\",\n        \"num_unique_values\": 100,\n        \"samples\": [\n          \"\\uc6d0\\ud76c\\ub8e1 \\uad6d\\ud1a0\\ubd80 \\uc7a5\\uad00\\uc774 5\\uc77c \\uc815\\ubd80\\uc11c\\uc6b8\\uccad\\uc0ac\\uc5d0\\uc11c \\ud55c\\uad6d\\ud1a0\\uc9c0\\uc8fc\\ud0dd\\uacf5\\uc0ac \\ub4f1 \\uc0b0\\ud558 \\uacf5\\uacf5\\uae30\\uad00\\uc73c\\ub85c\\ubd80\\ud130 \\uc790\\uccb4 \\ud601\\uc2e0\\uc548\\uc744 \\uc81c\\ucd9c\\ubc1b\\uc544 \\ubbfc\\uad00\\ud569\\ub3d9\\uc73c\\ub85c \\ucca0\\uc800\\ud55c \\uac80\\uc99d\\uc744 \\ud558\\uae30\\ub85c \\ud588\\ub2e4\\uace0 \\ubc1d\\ud614\\uc73c\\uba70 \\uc81c\\uc8fc \\uc5f0\\ud569\\ub274\\uc2a4 \\uae40\\uc2b9\\ub450 \\uae30\\uc790, \\uc6d0\\ud76c\\ub8e1.\\uc81c\\uc8fc\",\n          \"4\\uc77c \\uc5d0\\uc774\\uce58\\uc2dc\\ud2f0 \\ubcf8\\uc0ac \\ub300\\ud68c\\uc758\\uc2e4\\uc5d0\\uc11c \\uc5f4\\ub9b0 \\ud569\\uc791\\ubc95\\uc778 \\uc124\\ub9bd \\uacc4\\uc57d\\uc744 \\uccb4\\uacb0\\ud55c \\ud6c4 \\uc2dc\\ud5d8\\uc778\\uc99d\\u00b7\\uad50\\uc815\\uc0b0\\uc5c5 \\uc120\\ub3c4\\uae30\\uc5c5 \\uc5d0\\uc774\\uc2dc\\ud2f0\\uc758 \\ub300\\ud45c \\ud5c8\\ubd09\\uc7ac \\ub294 \\ud638\\uc11c\\ub300 \\uc0b0\\ud559\\ud611\\ub825\\ub2e8\\uacfc \\ube44\\uc784\\uc0c1\\uc2dc\\ud5d8 \\uc218\\ud0c1\\uae30\\uad00 CRO Sontract Research Organization \\uc0ac\\uc5c5\\uacfc \\ud568\\uaed8 \\uc62c\\ud574\\uae4c\\uc9c0 \\ud68d\\ub4dd\\ud558\\uace0 \\uad6d\\ub0b4 \\uc548\\uc804\\uc131 \\ud3c9\\uac00\\uc640 \\ud638\\ud761\\uae30 \\uc9c8\\ud658 \\uc804\\ubb38 \\uc5f0\\uad6c\\uae30\\uad00\\uc73c\\ub85c\\uc11c \\uac70\\ub4ed\\ub0a0 \\uac83\\uc774\\ub77c\\uace0 \\ubc1d\\ud614\\ub2e4.\",\n          \"\\uad6d\\ub0b4 \\uc5f0\\uad6c\\uc9c4\\uc774 \\uac74\\ucd95 \\uc790\\uc7ac\\ub85c \\uc4f0\\uc774\\ub294 \\ud3f4\\ub9ac\\uc5fc\\ud654\\ube44\\ub2d0 PVC \\uace0\\ubd84\\uc790 \\uac94\\uc744 \\uc751\\uc6a9\\ud574 \\ub9c8\\ucc30\\uc804\\uae30 \\ub098\\ub178\\ubc1c\\uc804\\uae30\\ub97c \\uad6c\\ud604\\ud558\\ub294 \\ub370 \\uc131\\uacf5\\ud588\\uc73c\\uba70, 3\\uc77c \\ud55c\\uad6d\\uc5f0\\uad6c\\uc7ac\\ub2e8\\uc5d0 \\ub530\\ub974\\uba74 \\ub300\\uad6c\\uacbd\\ubd81\\uacfc\\ud559\\uae30\\uc220\\uc6d0 DGIST \\uc774\\uc8fc\\ud601 \\uad50\\uc218\\ub294 \\uc5d0\\ub108\\uc9c0 \\ubc1c\\uc804 \\uc18c\\uc790\\ub85c\\uc368 \\uae30\\uacc4\\uc801 \\uc5d0\\ub108\\ub97c \\uc218\\ud655\\ud560 \\uc218 \\uc788\\uc744 \\ubfd0 \\uc544\\ub2c8\\ub77c \\uc804\\uadf9 \\uadf8\\ub9ac\\ub4dc \\ud328\\ud134 \\uc5c6\\uc774\\ub3c4 \\uc784\\uc758\\uc758 \\uc704\\uce58\\ub97c\"\n        ],\n        \"semantic_type\": \"\",\n        \"description\": \"\"\n      }\n    },\n    {\n      \"column\": \"\\uc815\\ubc00\\ub3c4\",\n      \"properties\": {\n        \"dtype\": \"number\",\n        \"std\": 0.07629579837455637,\n        \"min\": 0.6664942502975464,\n        \"max\": 0.9775809049606323,\n        \"num_unique_values\": 100,\n        \"samples\": [\n          0.8757563829421997,\n          0.8284828662872314,\n          0.834365963935852\n        ],\n        \"semantic_type\": \"\",\n        \"description\": \"\"\n      }\n    },\n    {\n      \"column\": \"\\uc7ac\\ud604\\uc728\",\n      \"properties\": {\n        \"dtype\": \"number\",\n        \"std\": 0.08799480682592499,\n        \"min\": 0.4846191108226776,\n        \"max\": 0.958942174911499,\n        \"num_unique_values\": 100,\n        \"samples\": [\n          0.870968222618103,\n          0.8308334946632385,\n          0.8736295700073242\n        ],\n        \"semantic_type\": \"\",\n        \"description\": \"\"\n      }\n    },\n    {\n      \"column\": \"F1\",\n      \"properties\": {\n        \"dtype\": \"number\",\n        \"std\": 0.07065743018692185,\n        \"min\": 0.61372971534729,\n        \"max\": 0.9627253413200378,\n        \"num_unique_values\": 100,\n        \"samples\": [\n          0.8733557462692261,\n          0.8296565413475037,\n          0.8535464406013489\n        ],\n        \"semantic_type\": \"\",\n        \"description\": \"\"\n      }\n    }\n  ]\n}",
       "type": "dataframe"
      },
      "text/html": [
       "\n",
       "  <div id=\"df-c36d6bf8-1394-40c0-9340-529de46db759\" class=\"colab-df-container\">\n",
       "    <div>\n",
       "<style scoped>\n",
       "    .dataframe tbody tr th:only-of-type {\n",
       "        vertical-align: middle;\n",
       "    }\n",
       "\n",
       "    .dataframe tbody tr th {\n",
       "        vertical-align: top;\n",
       "    }\n",
       "\n",
       "    .dataframe thead th {\n",
       "        text-align: right;\n",
       "    }\n",
       "</style>\n",
       "<table border=\"1\" class=\"dataframe\">\n",
       "  <thead>\n",
       "    <tr style=\"text-align: right;\">\n",
       "      <th></th>\n",
       "      <th>생성한 요약문</th>\n",
       "      <th>정밀도</th>\n",
       "      <th>재현율</th>\n",
       "      <th>F1</th>\n",
       "    </tr>\n",
       "  </thead>\n",
       "  <tbody>\n",
       "    <tr>\n",
       "      <th>5</th>\n",
       "      <td>고승범 금융위원장이 5일 정부서울청사에서 취임식을 갖고 이임식 꽃다발을 받고 있다.</td>\n",
       "      <td>0.836619</td>\n",
       "      <td>0.484619</td>\n",
       "      <td>0.613730</td>\n",
       "    </tr>\n",
       "    <tr>\n",
       "      <th>36</th>\n",
       "      <td>금융공기업이 입주한 부산국제금융센터 BIFC 전경.</td>\n",
       "      <td>0.708313</td>\n",
       "      <td>0.564580</td>\n",
       "      <td>0.628332</td>\n",
       "    </tr>\n",
       "    <tr>\n",
       "      <th>23</th>\n",
       "      <td>8일 에스티팜은 지난 5월 북미 지역의 바이오텍과 mRNA 백신에 사용되는 지질나노...</td>\n",
       "      <td>0.666494</td>\n",
       "      <td>0.607477</td>\n",
       "      <td>0.635619</td>\n",
       "    </tr>\n",
       "    <tr>\n",
       "      <th>72</th>\n",
       "      <td>6일 경기 고양시 킨텍스에서 열린 제20회 국제 나노기술심포지엄 및 융합전시회 20...</td>\n",
       "      <td>0.681832</td>\n",
       "      <td>0.661924</td>\n",
       "      <td>0.671731</td>\n",
       "    </tr>\n",
       "    <tr>\n",
       "      <th>7</th>\n",
       "      <td>타다 서비스를 제공하는 VCNC에 따르면 총 80편 전체 18분 분량으로 제작된 이...</td>\n",
       "      <td>0.686996</td>\n",
       "      <td>0.659080</td>\n",
       "      <td>0.672749</td>\n",
       "    </tr>\n",
       "    <tr>\n",
       "      <th>...</th>\n",
       "      <td>...</td>\n",
       "      <td>...</td>\n",
       "      <td>...</td>\n",
       "      <td>...</td>\n",
       "    </tr>\n",
       "    <tr>\n",
       "      <th>37</th>\n",
       "      <td>롯데바이오로직스는 1일 밀리포어 씨그마와의 이번 업무협약으로 차세대 치료제 등 바이...</td>\n",
       "      <td>0.909599</td>\n",
       "      <td>0.923934</td>\n",
       "      <td>0.916711</td>\n",
       "    </tr>\n",
       "    <tr>\n",
       "      <th>78</th>\n",
       "      <td>한국우편사업진흥원 원장 민재석은 4일부터 17일까지 14일간 여름 제철 먹거리와 상...</td>\n",
       "      <td>0.919637</td>\n",
       "      <td>0.926250</td>\n",
       "      <td>0.922932</td>\n",
       "    </tr>\n",
       "    <tr>\n",
       "      <th>70</th>\n",
       "      <td>삼성전자 홈캐스트는 삼성전기 베트남 법인과 스마트폰용 이미지센서 공급계약을 체결했다...</td>\n",
       "      <td>0.943158</td>\n",
       "      <td>0.907168</td>\n",
       "      <td>0.924813</td>\n",
       "    </tr>\n",
       "    <tr>\n",
       "      <th>38</th>\n",
       "      <td>6일 오후 부산상공회의소 대강당에서 동남권관문공항추진위원회와 신항공추진범시민운동본부...</td>\n",
       "      <td>0.967548</td>\n",
       "      <td>0.904980</td>\n",
       "      <td>0.935219</td>\n",
       "    </tr>\n",
       "    <tr>\n",
       "      <th>22</th>\n",
       "      <td>추경호 경제부총리 겸 기획재정부 장관이 3일 정부서울청사에서 열린 제3차 비상경제장...</td>\n",
       "      <td>0.966539</td>\n",
       "      <td>0.958942</td>\n",
       "      <td>0.962725</td>\n",
       "    </tr>\n",
       "  </tbody>\n",
       "</table>\n",
       "<p>100 rows × 4 columns</p>\n",
       "</div>\n",
       "    <div class=\"colab-df-buttons\">\n",
       "\n",
       "  <div class=\"colab-df-container\">\n",
       "    <button class=\"colab-df-convert\" onclick=\"convertToInteractive('df-c36d6bf8-1394-40c0-9340-529de46db759')\"\n",
       "            title=\"Convert this dataframe to an interactive table.\"\n",
       "            style=\"display:none;\">\n",
       "\n",
       "  <svg xmlns=\"http://www.w3.org/2000/svg\" height=\"24px\" viewBox=\"0 -960 960 960\">\n",
       "    <path d=\"M120-120v-720h720v720H120Zm60-500h600v-160H180v160Zm220 220h160v-160H400v160Zm0 220h160v-160H400v160ZM180-400h160v-160H180v160Zm440 0h160v-160H620v160ZM180-180h160v-160H180v160Zm440 0h160v-160H620v160Z\"/>\n",
       "  </svg>\n",
       "    </button>\n",
       "\n",
       "  <style>\n",
       "    .colab-df-container {\n",
       "      display:flex;\n",
       "      gap: 12px;\n",
       "    }\n",
       "\n",
       "    .colab-df-convert {\n",
       "      background-color: #E8F0FE;\n",
       "      border: none;\n",
       "      border-radius: 50%;\n",
       "      cursor: pointer;\n",
       "      display: none;\n",
       "      fill: #1967D2;\n",
       "      height: 32px;\n",
       "      padding: 0 0 0 0;\n",
       "      width: 32px;\n",
       "    }\n",
       "\n",
       "    .colab-df-convert:hover {\n",
       "      background-color: #E2EBFA;\n",
       "      box-shadow: 0px 1px 2px rgba(60, 64, 67, 0.3), 0px 1px 3px 1px rgba(60, 64, 67, 0.15);\n",
       "      fill: #174EA6;\n",
       "    }\n",
       "\n",
       "    .colab-df-buttons div {\n",
       "      margin-bottom: 4px;\n",
       "    }\n",
       "\n",
       "    [theme=dark] .colab-df-convert {\n",
       "      background-color: #3B4455;\n",
       "      fill: #D2E3FC;\n",
       "    }\n",
       "\n",
       "    [theme=dark] .colab-df-convert:hover {\n",
       "      background-color: #434B5C;\n",
       "      box-shadow: 0px 1px 3px 1px rgba(0, 0, 0, 0.15);\n",
       "      filter: drop-shadow(0px 1px 2px rgba(0, 0, 0, 0.3));\n",
       "      fill: #FFFFFF;\n",
       "    }\n",
       "  </style>\n",
       "\n",
       "    <script>\n",
       "      const buttonEl =\n",
       "        document.querySelector('#df-c36d6bf8-1394-40c0-9340-529de46db759 button.colab-df-convert');\n",
       "      buttonEl.style.display =\n",
       "        google.colab.kernel.accessAllowed ? 'block' : 'none';\n",
       "\n",
       "      async function convertToInteractive(key) {\n",
       "        const element = document.querySelector('#df-c36d6bf8-1394-40c0-9340-529de46db759');\n",
       "        const dataTable =\n",
       "          await google.colab.kernel.invokeFunction('convertToInteractive',\n",
       "                                                    [key], {});\n",
       "        if (!dataTable) return;\n",
       "\n",
       "        const docLinkHtml = 'Like what you see? Visit the ' +\n",
       "          '<a target=\"_blank\" href=https://colab.research.google.com/notebooks/data_table.ipynb>data table notebook</a>'\n",
       "          + ' to learn more about interactive tables.';\n",
       "        element.innerHTML = '';\n",
       "        dataTable['output_type'] = 'display_data';\n",
       "        await google.colab.output.renderOutput(dataTable, element);\n",
       "        const docLink = document.createElement('div');\n",
       "        docLink.innerHTML = docLinkHtml;\n",
       "        element.appendChild(docLink);\n",
       "      }\n",
       "    </script>\n",
       "  </div>\n",
       "\n",
       "\n",
       "<div id=\"df-ad47eedc-7f53-4392-9db5-7f4076e17b66\">\n",
       "  <button class=\"colab-df-quickchart\" onclick=\"quickchart('df-ad47eedc-7f53-4392-9db5-7f4076e17b66')\"\n",
       "            title=\"Suggest charts\"\n",
       "            style=\"display:none;\">\n",
       "\n",
       "<svg xmlns=\"http://www.w3.org/2000/svg\" height=\"24px\"viewBox=\"0 0 24 24\"\n",
       "     width=\"24px\">\n",
       "    <g>\n",
       "        <path d=\"M19 3H5c-1.1 0-2 .9-2 2v14c0 1.1.9 2 2 2h14c1.1 0 2-.9 2-2V5c0-1.1-.9-2-2-2zM9 17H7v-7h2v7zm4 0h-2V7h2v10zm4 0h-2v-4h2v4z\"/>\n",
       "    </g>\n",
       "</svg>\n",
       "  </button>\n",
       "\n",
       "<style>\n",
       "  .colab-df-quickchart {\n",
       "      --bg-color: #E8F0FE;\n",
       "      --fill-color: #1967D2;\n",
       "      --hover-bg-color: #E2EBFA;\n",
       "      --hover-fill-color: #174EA6;\n",
       "      --disabled-fill-color: #AAA;\n",
       "      --disabled-bg-color: #DDD;\n",
       "  }\n",
       "\n",
       "  [theme=dark] .colab-df-quickchart {\n",
       "      --bg-color: #3B4455;\n",
       "      --fill-color: #D2E3FC;\n",
       "      --hover-bg-color: #434B5C;\n",
       "      --hover-fill-color: #FFFFFF;\n",
       "      --disabled-bg-color: #3B4455;\n",
       "      --disabled-fill-color: #666;\n",
       "  }\n",
       "\n",
       "  .colab-df-quickchart {\n",
       "    background-color: var(--bg-color);\n",
       "    border: none;\n",
       "    border-radius: 50%;\n",
       "    cursor: pointer;\n",
       "    display: none;\n",
       "    fill: var(--fill-color);\n",
       "    height: 32px;\n",
       "    padding: 0;\n",
       "    width: 32px;\n",
       "  }\n",
       "\n",
       "  .colab-df-quickchart:hover {\n",
       "    background-color: var(--hover-bg-color);\n",
       "    box-shadow: 0 1px 2px rgba(60, 64, 67, 0.3), 0 1px 3px 1px rgba(60, 64, 67, 0.15);\n",
       "    fill: var(--button-hover-fill-color);\n",
       "  }\n",
       "\n",
       "  .colab-df-quickchart-complete:disabled,\n",
       "  .colab-df-quickchart-complete:disabled:hover {\n",
       "    background-color: var(--disabled-bg-color);\n",
       "    fill: var(--disabled-fill-color);\n",
       "    box-shadow: none;\n",
       "  }\n",
       "\n",
       "  .colab-df-spinner {\n",
       "    border: 2px solid var(--fill-color);\n",
       "    border-color: transparent;\n",
       "    border-bottom-color: var(--fill-color);\n",
       "    animation:\n",
       "      spin 1s steps(1) infinite;\n",
       "  }\n",
       "\n",
       "  @keyframes spin {\n",
       "    0% {\n",
       "      border-color: transparent;\n",
       "      border-bottom-color: var(--fill-color);\n",
       "      border-left-color: var(--fill-color);\n",
       "    }\n",
       "    20% {\n",
       "      border-color: transparent;\n",
       "      border-left-color: var(--fill-color);\n",
       "      border-top-color: var(--fill-color);\n",
       "    }\n",
       "    30% {\n",
       "      border-color: transparent;\n",
       "      border-left-color: var(--fill-color);\n",
       "      border-top-color: var(--fill-color);\n",
       "      border-right-color: var(--fill-color);\n",
       "    }\n",
       "    40% {\n",
       "      border-color: transparent;\n",
       "      border-right-color: var(--fill-color);\n",
       "      border-top-color: var(--fill-color);\n",
       "    }\n",
       "    60% {\n",
       "      border-color: transparent;\n",
       "      border-right-color: var(--fill-color);\n",
       "    }\n",
       "    80% {\n",
       "      border-color: transparent;\n",
       "      border-right-color: var(--fill-color);\n",
       "      border-bottom-color: var(--fill-color);\n",
       "    }\n",
       "    90% {\n",
       "      border-color: transparent;\n",
       "      border-bottom-color: var(--fill-color);\n",
       "    }\n",
       "  }\n",
       "</style>\n",
       "\n",
       "  <script>\n",
       "    async function quickchart(key) {\n",
       "      const quickchartButtonEl =\n",
       "        document.querySelector('#' + key + ' button');\n",
       "      quickchartButtonEl.disabled = true;  // To prevent multiple clicks.\n",
       "      quickchartButtonEl.classList.add('colab-df-spinner');\n",
       "      try {\n",
       "        const charts = await google.colab.kernel.invokeFunction(\n",
       "            'suggestCharts', [key], {});\n",
       "      } catch (error) {\n",
       "        console.error('Error during call to suggestCharts:', error);\n",
       "      }\n",
       "      quickchartButtonEl.classList.remove('colab-df-spinner');\n",
       "      quickchartButtonEl.classList.add('colab-df-quickchart-complete');\n",
       "    }\n",
       "    (() => {\n",
       "      let quickchartButtonEl =\n",
       "        document.querySelector('#df-ad47eedc-7f53-4392-9db5-7f4076e17b66 button');\n",
       "      quickchartButtonEl.style.display =\n",
       "        google.colab.kernel.accessAllowed ? 'block' : 'none';\n",
       "    })();\n",
       "  </script>\n",
       "</div>\n",
       "\n",
       "    </div>\n",
       "  </div>\n"
      ],
      "text/plain": [
       "                                              생성한 요약문       정밀도       재현율  \\\n",
       "5      고승범 금융위원장이 5일 정부서울청사에서 취임식을 갖고 이임식 꽃다발을 받고 있다.  0.836619  0.484619   \n",
       "36                       금융공기업이 입주한 부산국제금융센터 BIFC 전경.  0.708313  0.564580   \n",
       "23  8일 에스티팜은 지난 5월 북미 지역의 바이오텍과 mRNA 백신에 사용되는 지질나노...  0.666494  0.607477   \n",
       "72  6일 경기 고양시 킨텍스에서 열린 제20회 국제 나노기술심포지엄 및 융합전시회 20...  0.681832  0.661924   \n",
       "7   타다 서비스를 제공하는 VCNC에 따르면 총 80편 전체 18분 분량으로 제작된 이...  0.686996  0.659080   \n",
       "..                                                ...       ...       ...   \n",
       "37  롯데바이오로직스는 1일 밀리포어 씨그마와의 이번 업무협약으로 차세대 치료제 등 바이...  0.909599  0.923934   \n",
       "78  한국우편사업진흥원 원장 민재석은 4일부터 17일까지 14일간 여름 제철 먹거리와 상...  0.919637  0.926250   \n",
       "70  삼성전자 홈캐스트는 삼성전기 베트남 법인과 스마트폰용 이미지센서 공급계약을 체결했다...  0.943158  0.907168   \n",
       "38  6일 오후 부산상공회의소 대강당에서 동남권관문공항추진위원회와 신항공추진범시민운동본부...  0.967548  0.904980   \n",
       "22  추경호 경제부총리 겸 기획재정부 장관이 3일 정부서울청사에서 열린 제3차 비상경제장...  0.966539  0.958942   \n",
       "\n",
       "          F1  \n",
       "5   0.613730  \n",
       "36  0.628332  \n",
       "23  0.635619  \n",
       "72  0.671731  \n",
       "7   0.672749  \n",
       "..       ...  \n",
       "37  0.916711  \n",
       "78  0.922932  \n",
       "70  0.924813  \n",
       "38  0.935219  \n",
       "22  0.962725  \n",
       "\n",
       "[100 rows x 4 columns]"
      ]
     },
     "execution_count": 19,
     "metadata": {},
     "output_type": "execute_result"
    }
   ],
   "source": [
    "result.sort_values(by='F1', ascending=True)"
   ]
  },
  {
   "cell_type": "code",
   "execution_count": 20,
   "metadata": {
    "colab": {
     "base_uri": "https://localhost:8080/"
    },
    "id": "Ks6FQXoHr6eO",
    "outputId": "d5217910-85f7-403a-fe88-f4e807e2517f"
   },
   "outputs": [
    {
     "name": "stdout",
     "output_type": "stream",
     "text": [
      "평균 정밀도: 0.842\n",
      "평균 재현율: 0.7876\n",
      "평균 F1 스코어: 0.8112\n"
     ]
    }
   ],
   "source": [
    "print(f\"평균 정밀도: {result['정밀도'].mean():.4}\")\n",
    "print(f\"평균 재현율: {result['재현율'].mean():.4}\")\n",
    "print(f\"평균 F1 스코어: {result['F1'].mean():.4}\")"
   ]
  }
 ],
 "metadata": {
  "accelerator": "GPU",
  "colab": {
   "gpuType": "A100",
   "machine_shape": "hm",
   "provenance": []
  },
  "kernelspec": {
   "display_name": "Python 3",
   "name": "python3"
  },
  "language_info": {
   "name": "python"
  }
 },
 "nbformat": 4,
 "nbformat_minor": 0
}
