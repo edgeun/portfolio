{
 "cells": [
  {
   "cell_type": "markdown",
   "metadata": {
    "id": "WUre60UlzRVR"
   },
   "source": [
    "### 텍스트 분류 모델 학습 시키기\n",
    "- 한국어 기사 제목을 바탕으로 기사의 카테고리를 분류하는 텍스트 분류 모델 학습 실습\n",
    "- 출처: LLM을 활용한 실전 AI 애플리케이션 개발"
   ]
  },
  {
   "cell_type": "code",
   "execution_count": 82,
   "metadata": {
    "id": "xEeI0Hzbx8Bo"
   },
   "outputs": [],
   "source": [
    "# 데이터 준비\n",
    "# 데이터 출처: 허깅페이스 KLUE 데이터셋의 YNAT 서브셋: 연합 뉴스 기사의 제목과 기사가 속한 카테고리 정보가 담겨져 있음.\n",
    "# !pip install datasets\n",
    "from datasets import load_dataset\n",
    "klue_tc_train = load_dataset('klue', 'ynat', split='train')\n",
    "klue_tc_eval = load_dataset('klue', 'ynat', split='validation')"
   ]
  },
  {
   "cell_type": "code",
   "execution_count": 83,
   "metadata": {
    "colab": {
     "base_uri": "https://localhost:8080/"
    },
    "id": "WZ0aSz0P01Rc",
    "outputId": "ba8ec7b9-bb7a-4845-851a-b4d40bc44e64"
   },
   "outputs": [
    {
     "data": {
      "text/plain": [
       "{'guid': 'ynat-v1_train_00000',\n",
       " 'title': '유튜브 내달 2일까지 크리에이터 지원 공간 운영',\n",
       " 'label': 3,\n",
       " 'url': 'https://news.naver.com/main/read.nhn?mode=LS2D&mid=shm&sid1=105&sid2=227&oid=001&aid=0008508947',\n",
       " 'date': '2016.06.30. 오전 10:36'}"
      ]
     },
     "execution_count": 83,
     "metadata": {},
     "output_type": "execute_result"
    }
   ],
   "source": [
    "klue_tc_train\n",
    "klue_tc_train[0]"
   ]
  },
  {
   "cell_type": "code",
   "execution_count": 84,
   "metadata": {
    "colab": {
     "base_uri": "https://localhost:8080/"
    },
    "id": "evI28s7d0358",
    "outputId": "38051677-3776-4198-aacf-4d71d5b6bc49"
   },
   "outputs": [
    {
     "data": {
      "text/plain": [
       "['IT과학', '경제', '사회', '생활문화', '세계', '스포츠', '정치']"
      ]
     },
     "execution_count": 84,
     "metadata": {},
     "output_type": "execute_result"
    }
   ],
   "source": [
    "klue_tc_train.features\n",
    "klue_tc_train.features['label'].names"
   ]
  },
  {
   "cell_type": "code",
   "execution_count": 85,
   "metadata": {
    "id": "x14imtcL1kXz"
   },
   "outputs": [],
   "source": [
    "# 불필요한 컬럼 제거\n",
    "klue_tc_train = klue_tc_train.remove_columns(['guid', 'url', 'date'])\n",
    "klue_tc_eval = klue_tc_eval.remove_columns(['guid', 'url', 'date'])"
   ]
  },
  {
   "cell_type": "code",
   "execution_count": 86,
   "metadata": {
    "colab": {
     "base_uri": "https://localhost:8080/"
    },
    "id": "NDA9uqpu38AO",
    "outputId": "aaf88298-c5ee-40be-f511-e507454bf7b6"
   },
   "outputs": [
    {
     "data": {
      "text/plain": [
       "Dataset({\n",
       "    features: ['title', 'label'],\n",
       "    num_rows: 45678\n",
       "})"
      ]
     },
     "execution_count": 86,
     "metadata": {},
     "output_type": "execute_result"
    }
   ],
   "source": [
    "klue_tc_train"
   ]
  },
  {
   "cell_type": "code",
   "execution_count": 167,
   "metadata": {
    "colab": {
     "base_uri": "https://localhost:8080/"
    },
    "id": "XGA0lYeK3_OU",
    "outputId": "ab2d8267-de52-4700-bbac-86f5f9cb2017"
   },
   "outputs": [
    {
     "data": {
      "text/plain": [
       "['IT과학', '경제', '사회', '생활문화', '세계', '스포츠', '정치']"
      ]
     },
     "execution_count": 167,
     "metadata": {},
     "output_type": "execute_result"
    }
   ],
   "source": [
    "klue_tc_train.features['label'].names  # 카테고리 이름과 해당 카테고리 ID 라벨이 연결되어있는 ClassLabel 객체가 존재"
   ]
  },
  {
   "cell_type": "code",
   "execution_count": 88,
   "metadata": {
    "colab": {
     "base_uri": "https://localhost:8080/",
     "height": 36
    },
    "id": "5-DhmkP34rdB",
    "outputId": "ca72774d-5d4d-4618-d3ae-c4b2be49874b"
   },
   "outputs": [
    {
     "data": {
      "application/vnd.google.colaboratory.intrinsic+json": {
       "type": "string"
      },
      "text/plain": [
       "'경제'"
      ]
     },
     "execution_count": 88,
     "metadata": {},
     "output_type": "execute_result"
    }
   ],
   "source": [
    "klue_tc_train.features['label'].int2str(1)  # int2str 메서드에 숫자를 입력하면 해당 ID의 카테고리를 반환"
   ]
  },
  {
   "cell_type": "code",
   "execution_count": 89,
   "metadata": {
    "id": "NdR9-a3x5NCA"
   },
   "outputs": [],
   "source": [
    "# 라벨 ID -> 카테고리 이름으로 변환해서 'label_str'라는 새 컬럼에 추가\n",
    "klue_tc_label = klue_tc_train.features['label']\n",
    "\n",
    "def make_str_label(batch):\n",
    "    batch['label_str'] = klue_tc_label.int2str(batch['label'])\n",
    "    return batch\n",
    "\n",
    "klue_tc_train = klue_tc_train.map(make_str_label, batched=True, batch_size=1000)"
   ]
  },
  {
   "cell_type": "code",
   "execution_count": 90,
   "metadata": {
    "colab": {
     "base_uri": "https://localhost:8080/"
    },
    "id": "SyLgElC06irN",
    "outputId": "d7afd93c-e470-4779-97cd-036e9c57e76c"
   },
   "outputs": [
    {
     "data": {
      "text/plain": [
       "{'title': '트레이드 성사한 잠실구장 두 사령탑 불펜 투수가 필요했다', 'label': 5, 'label_str': '스포츠'}"
      ]
     },
     "execution_count": 90,
     "metadata": {},
     "output_type": "execute_result"
    }
   ],
   "source": [
    "klue_tc_train[100]"
   ]
  },
  {
   "cell_type": "code",
   "execution_count": 102,
   "metadata": {
    "id": "wyGYSr3S6qGP"
   },
   "outputs": [],
   "source": [
    "# 실습을 위해서 train: 10000 / eval: 1000 / test: 1000개만 사용\n",
    "train_dataset = klue_tc_train.train_test_split(test_size=10000, shuffle=True, seed=42)['test'] # 보통 test_size에 분리할 비율을 적는데 정수(10000)를 입력하면 train = (train - 10000)개 / test = 10000개로 분리한 것 중 test만 쓰겠다.(뒤에 ['test'])\n",
    "valid_dataset = klue_tc_train.train_test_split(test_size=1000, shuffle=True, seed=42)['test']  # train 데이터셋 중에 1000개를 랜덤 추출 후 'test'로 분할해서 학습 중 eval 데이터로 사용\n",
    "\n",
    "# 모델 학습 후 성능 평가용 테스트 데이터\n",
    "test_dataset = klue_tc_eval.train_test_split(test_size=1000, shuffle=True, seed=42)['test']  # validation 데이터셋 중 1000개를 'test'로 분할해서 평가용 test 데이터로 사용"
   ]
  },
  {
   "cell_type": "code",
   "execution_count": 103,
   "metadata": {
    "colab": {
     "base_uri": "https://localhost:8080/"
    },
    "id": "NBDJ9lfPCG4l",
    "outputId": "e7c4cf10-3336-4d56-a182-427b962aeb08"
   },
   "outputs": [
    {
     "data": {
      "text/plain": [
       "Dataset({\n",
       "    features: ['title', 'label'],\n",
       "    num_rows: 1000\n",
       "})"
      ]
     },
     "execution_count": 103,
     "metadata": {},
     "output_type": "execute_result"
    }
   ],
   "source": [
    "train_dataset\n",
    "valid_dataset\n",
    "test_dataset"
   ]
  },
  {
   "cell_type": "markdown",
   "metadata": {
    "id": "4y3wl-U_JUE2"
   },
   "source": [
    "### 트레이너 API를 활용한 학습"
   ]
  },
  {
   "cell_type": "code",
   "execution_count": 48,
   "metadata": {
    "colab": {
     "base_uri": "https://localhost:8080/",
     "height": 201,
     "referenced_widgets": [
      "ea4d10427aca4cb787b8515dbfc0fd59",
      "ba07ba26ee544cf7a8d510fb040e6cc0",
      "2e9084cb2af540fa8e06b0c63dcf0efd",
      "0e74d76b6b1642d1928ca58430482145",
      "970d927dcdb34eaf8903d592cff5a70d",
      "2670bb4773da46e5b45deff3bda6da92",
      "150f4406296c4bdb9db31ce0b933b5fa",
      "0d728589aad546d8a1094045f76e41c7",
      "a04073ebd57d4b77ab730b28243f6f59",
      "e49942b17df6424c8600e45e4a3060b3",
      "64bafb5359ab4d9fbd84a9be11ea3c72",
      "c866c3c3c25e42d48154b288e81ebd8d",
      "2ad1f33d43b64bf88709f8251cb73cd7",
      "789ce4c544f74ff0b3049256236d641b",
      "bd298c1f67d74d9da5780c7ac7bd4e79",
      "ef5eae120bd84e49bfbe7d3e0003f217",
      "0187e596b2f0409f92ec5d069cb66f42",
      "80df45d52bbd4753b6b4cdb0ca159d15",
      "73ff6181bb03418484053a066ba95b1b",
      "5fb24bbbb4754b03884f69a2156e090f",
      "e4ebfe69007e4793975e51215dc32918",
      "b2f4948108314314ba96f9b01fc42f9c",
      "16e3526aae2d4a85a586a4b78d909e01",
      "a066d84d3cf742b5b73c9e7eb2753519",
      "4ca4bd2ad4b946f689c41dec648f010f",
      "2ed1479c763f4d93820f67a757289ea0",
      "897eade0825f411cab0fda7037120e63",
      "a267bd1526b54acf9cbeb8a3eeeea8c5",
      "19e63987deec462687a9b6cc308b9298",
      "4bd8a3835a0846fb9109d222aef51e7c",
      "6940bf353a394d57a4eebe60ac814807",
      "c46d1176943f4ae094468650555afc2d",
      "4fccd990cca442f2ba99fc3391171261",
      "b5a43c74150840ec9a615c214857f56b",
      "9473771de30a4c13b5f8116c6012a7e0",
      "aa8c0743d1e14cdd9c653152d17d45b7",
      "349d7285bf2f4d51b720343529372f80",
      "91d056feb89842119fdd1fe14ee49c72",
      "c927c4a9e4534c908c7c8ed20659d71d",
      "2952544d5c5648dda9460cb6941f9235",
      "303368b65f014b728b838014b07dca17",
      "f667ee5aef2e41e69477ab61f6b0dd21",
      "afae4b5129194a51a7092d273fbf56e0",
      "f80b69f8679c403d98941e1b37b36259"
     ]
    },
    "id": "_9rW8RVwLhYY",
    "outputId": "7f739be4-6e6b-4c6c-c0cf-b233567fa91b"
   },
   "outputs": [
    {
     "name": "stderr",
     "output_type": "stream",
     "text": [
      "Some weights of RobertaForSequenceClassification were not initialized from the model checkpoint at klue/roberta-base and are newly initialized: ['classifier.dense.bias', 'classifier.dense.weight', 'classifier.out_proj.bias', 'classifier.out_proj.weight']\n",
      "You should probably TRAIN this model on a down-stream task to be able to use it for predictions and inference.\n"
     ]
    },
    {
     "data": {
      "application/vnd.jupyter.widget-view+json": {
       "model_id": "ea4d10427aca4cb787b8515dbfc0fd59",
       "version_major": 2,
       "version_minor": 0
      },
      "text/plain": [
       "tokenizer_config.json:   0%|          | 0.00/375 [00:00<?, ?B/s]"
      ]
     },
     "metadata": {},
     "output_type": "display_data"
    },
    {
     "data": {
      "application/vnd.jupyter.widget-view+json": {
       "model_id": "c866c3c3c25e42d48154b288e81ebd8d",
       "version_major": 2,
       "version_minor": 0
      },
      "text/plain": [
       "vocab.txt:   0%|          | 0.00/248k [00:00<?, ?B/s]"
      ]
     },
     "metadata": {},
     "output_type": "display_data"
    },
    {
     "data": {
      "application/vnd.jupyter.widget-view+json": {
       "model_id": "16e3526aae2d4a85a586a4b78d909e01",
       "version_major": 2,
       "version_minor": 0
      },
      "text/plain": [
       "tokenizer.json:   0%|          | 0.00/752k [00:00<?, ?B/s]"
      ]
     },
     "metadata": {},
     "output_type": "display_data"
    },
    {
     "data": {
      "application/vnd.jupyter.widget-view+json": {
       "model_id": "b5a43c74150840ec9a615c214857f56b",
       "version_major": 2,
       "version_minor": 0
      },
      "text/plain": [
       "special_tokens_map.json:   0%|          | 0.00/173 [00:00<?, ?B/s]"
      ]
     },
     "metadata": {},
     "output_type": "display_data"
    }
   ],
   "source": [
    "# 트레이너 API를 활용한 학습\n",
    "import torch\n",
    "import numpy as np\n",
    "from transformers import (\n",
    "    Trainer,\n",
    "    TrainingArguments,\n",
    "    AutoModelForSequenceClassification,\n",
    "    AutoTokenizer\n",
    ")\n",
    "\n",
    "def tokenize_func(examples):\n",
    "    return tokenizer(examples[\"title\"], padding=\"max_length\", truncation=True)\n",
    "\n",
    "model_id = \"klue/roberta-base\"\n",
    "model = AutoModelForSequenceClassification.from_pretrained(model_id, num_labels=len(train_dataset.features['label'].names))\n",
    "# \"klue/roberta-base\" 같이 바디만 있는 모델을 헤드(텍스트 분류, 텍스트 재귀적 생성 등)를 포함해서 불러오는 AutoModelForSequenceClassification 라이브러리로 모델을 불러올 경우\n",
    "# 헤드 부분이 랜덤으로 초기화 되어서 분류 헤드의 분류 클래스 수를 알려주기 위해\n",
    "# num_labels=len(train_dataset.features['label'].names) 를 입력해 클래스 수를 전달 모델에 전달 함.\n",
    "\n",
    "tokenizer = AutoTokenizer.from_pretrained(model_id)"
   ]
  },
  {
   "cell_type": "code",
   "execution_count": 50,
   "metadata": {
    "colab": {
     "base_uri": "https://localhost:8080/",
     "height": 113,
     "referenced_widgets": [
      "7f31bb0c270b421cbb76d5565da73ba2",
      "5c492360d97748febf65c1e08f6a1235",
      "933cbd241f5140608f8565f202bdc382",
      "22c8beca14a14c629c9178915678736d",
      "039ba1a5f4e245b2a57f49f3e38b5aea",
      "25f7faa2b1934b558641e1187421bcc5",
      "31942ed6e34647f0b4b1588941089bff",
      "3a2a2612223b45d8ab8a709141f0ba2a",
      "dbe07b630e1a4d169895a82b289912e2",
      "f626ae3b32134a30afd70a18366300a9",
      "997ea2fe6568454ba09ea9079277863a",
      "c457d1d926a64e208f037d9a6020ead8",
      "c564952e7c5b431291947d1100bb907d",
      "975ef38e62ca457ab0f77c65220241c6",
      "22b29cb5b68443228d7b37d6c44566da",
      "a2296169c3714b5cac2dd1f855ceccf9",
      "002fb6acf76c4991b66feb105b717858",
      "eeaa0659f1f64bdd994483ea631e60f7",
      "b29c033bae8f4888860316dfc576442c",
      "a3e8428dbff2472aa4b57a6ed1f7d3bd",
      "e5bb89b8df1b4a7b869226ad8e4bff84",
      "7adff8449544422ab508f25c1c6fb8d8",
      "c08a509123ad402eb5dd68edb6251ae4",
      "3ce9e0899a1244c1800374f2770a4f33",
      "d65accb1eafe4bcb9b558efbfb19483c",
      "44f244473c8b4ced8efa06c57f6ac81e",
      "68bfc93d6d9b4c0b989f27955d6232c4",
      "e9fa4a6d5e814e84be600308af9fdfa4",
      "630b35e7afa64ebbbf3829e20853d278",
      "b6eb1ac5fb2141a2afc190f53f5e515c",
      "24e72176d05b47f6b345d15db7413b61",
      "1584d9dabc044d18a9ca4e7c81006b1d",
      "16ac54bdb6524a43ab20aa894b694660"
     ]
    },
    "id": "Uy0k6mwYPrYR",
    "outputId": "198f3259-9c7c-49a6-8f76-95f7a11169b9"
   },
   "outputs": [
    {
     "data": {
      "application/vnd.jupyter.widget-view+json": {
       "model_id": "7f31bb0c270b421cbb76d5565da73ba2",
       "version_major": 2,
       "version_minor": 0
      },
      "text/plain": [
       "Map:   0%|          | 0/10000 [00:00<?, ? examples/s]"
      ]
     },
     "metadata": {},
     "output_type": "display_data"
    },
    {
     "data": {
      "application/vnd.jupyter.widget-view+json": {
       "model_id": "c457d1d926a64e208f037d9a6020ead8",
       "version_major": 2,
       "version_minor": 0
      },
      "text/plain": [
       "Map:   0%|          | 0/1000 [00:00<?, ? examples/s]"
      ]
     },
     "metadata": {},
     "output_type": "display_data"
    },
    {
     "data": {
      "application/vnd.jupyter.widget-view+json": {
       "model_id": "c08a509123ad402eb5dd68edb6251ae4",
       "version_major": 2,
       "version_minor": 0
      },
      "text/plain": [
       "Map:   0%|          | 0/1000 [00:00<?, ? examples/s]"
      ]
     },
     "metadata": {},
     "output_type": "display_data"
    }
   ],
   "source": [
    "# 데이터셋 토큰화 작업  # 허깅페이스의 map 메서드를 활용해 배치 작업으로 수행\n",
    "train_dataset = train_dataset.map(tokenize_func, batched=True)\n",
    "valid_dataset = valid_dataset.map(tokenize_func, batched=True)\n",
    "test_dataset = test_dataset.map(tokenize_func, batched=True)"
   ]
  },
  {
   "cell_type": "code",
   "execution_count": 54,
   "metadata": {
    "colab": {
     "base_uri": "https://localhost:8080/"
    },
    "id": "vOuJHLsxXarR",
    "outputId": "af229c61-665a-417f-fb23-6d06a3a26263"
   },
   "outputs": [
    {
     "data": {
      "text/plain": [
       "Dataset({\n",
       "    features: ['title', 'label', 'input_ids', 'token_type_ids', 'attention_mask'],\n",
       "    num_rows: 1000\n",
       "})"
      ]
     },
     "execution_count": 54,
     "metadata": {},
     "output_type": "execute_result"
    }
   ],
   "source": [
    "test_dataset\n",
    "# token_type_ids는 BERT 모델에서 문장의 구분 ID (일반적으로 단일 문장이라면 0, 두 개의 문장이면 [0, 0, 0, ..., 1, 1, 1])\n",
    "# attention_mask는 패딩 여부를 나타내는 마스크 (1=실제 토큰, 0=패딩)"
   ]
  },
  {
   "cell_type": "code",
   "execution_count": 51,
   "metadata": {
    "colab": {
     "base_uri": "https://localhost:8080/"
    },
    "id": "IYGWtuMOPgQG",
    "outputId": "a99f24a0-1429-4b6c-ce66-d883b63ca882"
   },
   "outputs": [
    {
     "name": "stderr",
     "output_type": "stream",
     "text": [
      "/usr/local/lib/python3.11/dist-packages/transformers/training_args.py:1575: FutureWarning: `evaluation_strategy` is deprecated and will be removed in version 4.46 of 🤗 Transformers. Use `eval_strategy` instead\n",
      "  warnings.warn(\n"
     ]
    }
   ],
   "source": [
    "# 학습 파라미터 설정\n",
    "training_args = TrainingArguments(\n",
    "    output_dir=\"./results\",\n",
    "    num_train_epochs=1,\n",
    "    per_device_train_batch_size=8,\n",
    "    per_device_eval_batch_size=8,\n",
    "    evaluation_strategy=\"epoch\",\n",
    "    learning_rate=5e-5,\n",
    "    push_to_hub=False,\n",
    "\n",
    ")"
   ]
  },
  {
   "cell_type": "code",
   "execution_count": 55,
   "metadata": {
    "id": "_S9BZa1rUmMn"
   },
   "outputs": [],
   "source": [
    "# 평가 함수 정의\n",
    "def compute_metrics(eval_pred):\n",
    "    logits, labels = eval_pred\n",
    "    predictions = np.argmax(logits, axis=-1)  # 예측 결과 중 가장 큰 값을 갖는 클래스를 np.argmax 함수로 뽑아서 저장\n",
    "    return {\"accuracy\": (predictions == labels).mean()}  # predictions와 정답(label)이 일치하는 비율을 정확도(accuracy)로 결과 딕셔너리에 저장해 반환"
   ]
  },
  {
   "cell_type": "code",
   "execution_count": 56,
   "metadata": {
    "colab": {
     "base_uri": "https://localhost:8080/",
     "height": 464
    },
    "id": "ciqPY5MzdAOa",
    "outputId": "e73c1f2c-899f-43d4-fb3f-0450e8feda67"
   },
   "outputs": [
    {
     "name": "stderr",
     "output_type": "stream",
     "text": [
      "<ipython-input-56-2e3ba26e06e0>:2: FutureWarning: `tokenizer` is deprecated and will be removed in version 5.0.0 for `Trainer.__init__`. Use `processing_class` instead.\n",
      "  trainer = Trainer(\n",
      "\u001b[34m\u001b[1mwandb\u001b[0m: \u001b[33mWARNING\u001b[0m The `run_name` is currently set to the same value as `TrainingArguments.output_dir`. If this was not intended, please specify a different run name by setting the `TrainingArguments.run_name` parameter.\n"
     ]
    },
    {
     "data": {
      "application/javascript": [
       "\n",
       "        window._wandbApiKey = new Promise((resolve, reject) => {\n",
       "            function loadScript(url) {\n",
       "            return new Promise(function(resolve, reject) {\n",
       "                let newScript = document.createElement(\"script\");\n",
       "                newScript.onerror = reject;\n",
       "                newScript.onload = resolve;\n",
       "                document.body.appendChild(newScript);\n",
       "                newScript.src = url;\n",
       "            });\n",
       "            }\n",
       "            loadScript(\"https://cdn.jsdelivr.net/npm/postmate/build/postmate.min.js\").then(() => {\n",
       "            const iframe = document.createElement('iframe')\n",
       "            iframe.style.cssText = \"width:0;height:0;border:none\"\n",
       "            document.body.appendChild(iframe)\n",
       "            const handshake = new Postmate({\n",
       "                container: iframe,\n",
       "                url: 'https://wandb.ai/authorize'\n",
       "            });\n",
       "            const timeout = setTimeout(() => reject(\"Couldn't auto authenticate\"), 5000)\n",
       "            handshake.then(function(child) {\n",
       "                child.on('authorize', data => {\n",
       "                    clearTimeout(timeout)\n",
       "                    resolve(data)\n",
       "                });\n",
       "            });\n",
       "            })\n",
       "        });\n",
       "    "
      ],
      "text/plain": [
       "<IPython.core.display.Javascript object>"
      ]
     },
     "metadata": {},
     "output_type": "display_data"
    },
    {
     "name": "stderr",
     "output_type": "stream",
     "text": [
      "\u001b[34m\u001b[1mwandb\u001b[0m: Logging into wandb.ai. (Learn how to deploy a W&B server locally: https://wandb.me/wandb-server)\n",
      "\u001b[34m\u001b[1mwandb\u001b[0m: You can find your API key in your browser here: https://wandb.ai/authorize\n",
      "wandb: Paste an API key from your profile and hit enter:"
     ]
    },
    {
     "name": "stdout",
     "output_type": "stream",
     "text": [
      " ··········\n"
     ]
    },
    {
     "name": "stderr",
     "output_type": "stream",
     "text": [
      "\u001b[34m\u001b[1mwandb\u001b[0m: \u001b[33mWARNING\u001b[0m If you're specifying your api key in code, ensure this code is not shared publicly.\n",
      "\u001b[34m\u001b[1mwandb\u001b[0m: \u001b[33mWARNING\u001b[0m Consider setting the WANDB_API_KEY environment variable, or running `wandb login` from the command line.\n",
      "\u001b[34m\u001b[1mwandb\u001b[0m: Appending key for api.wandb.ai to your netrc file: /root/.netrc\n",
      "\u001b[34m\u001b[1mwandb\u001b[0m: Currently logged in as: \u001b[33mdgriii0606\u001b[0m (\u001b[33mdg-test\u001b[0m) to \u001b[32mhttps://api.wandb.ai\u001b[0m. Use \u001b[1m`wandb login --relogin`\u001b[0m to force relogin\n",
      "\u001b[34m\u001b[1mwandb\u001b[0m: Using wandb-core as the SDK backend.  Please refer to https://wandb.me/wandb-core for more information.\n"
     ]
    },
    {
     "data": {
      "text/html": [
       "Tracking run with wandb version 0.19.6"
      ],
      "text/plain": [
       "<IPython.core.display.HTML object>"
      ]
     },
     "metadata": {},
     "output_type": "display_data"
    },
    {
     "data": {
      "text/html": [
       "Run data is saved locally in <code>/content/wandb/run-20250217_103837-p618mkfl</code>"
      ],
      "text/plain": [
       "<IPython.core.display.HTML object>"
      ]
     },
     "metadata": {},
     "output_type": "display_data"
    },
    {
     "data": {
      "text/html": [
       "Syncing run <strong><a href='https://wandb.ai/dg-test/huggingface/runs/p618mkfl' target=\"_blank\">./results</a></strong> to <a href='https://wandb.ai/dg-test/huggingface' target=\"_blank\">Weights & Biases</a> (<a href='https://wandb.me/developer-guide' target=\"_blank\">docs</a>)<br>"
      ],
      "text/plain": [
       "<IPython.core.display.HTML object>"
      ]
     },
     "metadata": {},
     "output_type": "display_data"
    },
    {
     "data": {
      "text/html": [
       " View project at <a href='https://wandb.ai/dg-test/huggingface' target=\"_blank\">https://wandb.ai/dg-test/huggingface</a>"
      ],
      "text/plain": [
       "<IPython.core.display.HTML object>"
      ]
     },
     "metadata": {},
     "output_type": "display_data"
    },
    {
     "data": {
      "text/html": [
       " View run at <a href='https://wandb.ai/dg-test/huggingface/runs/p618mkfl' target=\"_blank\">https://wandb.ai/dg-test/huggingface/runs/p618mkfl</a>"
      ],
      "text/plain": [
       "<IPython.core.display.HTML object>"
      ]
     },
     "metadata": {},
     "output_type": "display_data"
    },
    {
     "data": {
      "text/html": [
       "\n",
       "    <div>\n",
       "      \n",
       "      <progress value='1250' max='1250' style='width:300px; height:20px; vertical-align: middle;'></progress>\n",
       "      [1250/1250 03:49, Epoch 1/1]\n",
       "    </div>\n",
       "    <table border=\"1\" class=\"dataframe\">\n",
       "  <thead>\n",
       " <tr style=\"text-align: left;\">\n",
       "      <th>Epoch</th>\n",
       "      <th>Training Loss</th>\n",
       "      <th>Validation Loss</th>\n",
       "      <th>Accuracy</th>\n",
       "    </tr>\n",
       "  </thead>\n",
       "  <tbody>\n",
       "    <tr>\n",
       "      <td>1</td>\n",
       "      <td>0.554900</td>\n",
       "      <td>0.311685</td>\n",
       "      <td>0.905000</td>\n",
       "    </tr>\n",
       "  </tbody>\n",
       "</table><p>"
      ],
      "text/plain": [
       "<IPython.core.display.HTML object>"
      ]
     },
     "metadata": {},
     "output_type": "display_data"
    },
    {
     "data": {
      "text/plain": [
       "TrainOutput(global_step=1250, training_loss=0.5898691162109375, metrics={'train_runtime': 342.7309, 'train_samples_per_second': 29.177, 'train_steps_per_second': 3.647, 'total_flos': 2631228672000000.0, 'train_loss': 0.5898691162109375, 'epoch': 1.0})"
      ]
     },
     "execution_count": 56,
     "metadata": {},
     "output_type": "execute_result"
    }
   ],
   "source": [
    "# 학습 진행\n",
    "trainer = Trainer(\n",
    "    model=model,\n",
    "    args=training_args,\n",
    "    train_dataset=train_dataset,\n",
    "    eval_dataset=valid_dataset,\n",
    "    tokenizer=tokenizer,\n",
    "    compute_metrics=compute_metrics,\n",
    "\n",
    ")\n",
    "\n",
    "trainer.train()"
   ]
  },
  {
   "cell_type": "code",
   "execution_count": 57,
   "metadata": {
    "colab": {
     "base_uri": "https://localhost:8080/",
     "height": 144
    },
    "id": "k_3HG-1MgWQo",
    "outputId": "7b689edc-0752-49ee-f2b4-6710a3a14cc7"
   },
   "outputs": [
    {
     "data": {
      "text/html": [
       "\n",
       "    <div>\n",
       "      \n",
       "      <progress value='125' max='125' style='width:300px; height:20px; vertical-align: middle;'></progress>\n",
       "      [125/125 00:07]\n",
       "    </div>\n",
       "    "
      ],
      "text/plain": [
       "<IPython.core.display.HTML object>"
      ]
     },
     "metadata": {},
     "output_type": "display_data"
    },
    {
     "data": {
      "text/plain": [
       "{'eval_loss': 0.4709104597568512,\n",
       " 'eval_accuracy': 0.856,\n",
       " 'eval_runtime': 7.4177,\n",
       " 'eval_samples_per_second': 134.813,\n",
       " 'eval_steps_per_second': 16.852,\n",
       " 'epoch': 1.0}"
      ]
     },
     "execution_count": 57,
     "metadata": {},
     "output_type": "execute_result"
    }
   ],
   "source": [
    "# test 데이터셋으로 모델 평가\n",
    "trainer.evaluate(test_dataset)  # 정확도: 0.856"
   ]
  },
  {
   "cell_type": "markdown",
   "metadata": {
    "id": "Vnd24VoBhMdo"
   },
   "source": [
    " ### 트레이너 API를 사용하지 않고 학습"
   ]
  },
  {
   "cell_type": "code",
   "execution_count": 68,
   "metadata": {
    "colab": {
     "base_uri": "https://localhost:8080/"
    },
    "id": "IhwqLMtbhJQV",
    "outputId": "71ca205e-69f6-4922-d134-5c2d4eb5c51d"
   },
   "outputs": [
    {
     "name": "stderr",
     "output_type": "stream",
     "text": [
      "Some weights of RobertaForSequenceClassification were not initialized from the model checkpoint at klue/roberta-base and are newly initialized: ['classifier.dense.bias', 'classifier.dense.weight', 'classifier.out_proj.bias', 'classifier.out_proj.weight']\n",
      "You should probably TRAIN this model on a down-stream task to be able to use it for predictions and inference.\n"
     ]
    },
    {
     "data": {
      "text/plain": [
       "RobertaForSequenceClassification(\n",
       "  (roberta): RobertaModel(\n",
       "    (embeddings): RobertaEmbeddings(\n",
       "      (word_embeddings): Embedding(32000, 768, padding_idx=1)\n",
       "      (position_embeddings): Embedding(514, 768, padding_idx=1)\n",
       "      (token_type_embeddings): Embedding(1, 768)\n",
       "      (LayerNorm): LayerNorm((768,), eps=1e-05, elementwise_affine=True)\n",
       "      (dropout): Dropout(p=0.1, inplace=False)\n",
       "    )\n",
       "    (encoder): RobertaEncoder(\n",
       "      (layer): ModuleList(\n",
       "        (0-11): 12 x RobertaLayer(\n",
       "          (attention): RobertaAttention(\n",
       "            (self): RobertaSdpaSelfAttention(\n",
       "              (query): Linear(in_features=768, out_features=768, bias=True)\n",
       "              (key): Linear(in_features=768, out_features=768, bias=True)\n",
       "              (value): Linear(in_features=768, out_features=768, bias=True)\n",
       "              (dropout): Dropout(p=0.1, inplace=False)\n",
       "            )\n",
       "            (output): RobertaSelfOutput(\n",
       "              (dense): Linear(in_features=768, out_features=768, bias=True)\n",
       "              (LayerNorm): LayerNorm((768,), eps=1e-05, elementwise_affine=True)\n",
       "              (dropout): Dropout(p=0.1, inplace=False)\n",
       "            )\n",
       "          )\n",
       "          (intermediate): RobertaIntermediate(\n",
       "            (dense): Linear(in_features=768, out_features=3072, bias=True)\n",
       "            (intermediate_act_fn): GELUActivation()\n",
       "          )\n",
       "          (output): RobertaOutput(\n",
       "            (dense): Linear(in_features=3072, out_features=768, bias=True)\n",
       "            (LayerNorm): LayerNorm((768,), eps=1e-05, elementwise_affine=True)\n",
       "            (dropout): Dropout(p=0.1, inplace=False)\n",
       "          )\n",
       "        )\n",
       "      )\n",
       "    )\n",
       "  )\n",
       "  (classifier): RobertaClassificationHead(\n",
       "    (dense): Linear(in_features=768, out_features=768, bias=True)\n",
       "    (dropout): Dropout(p=0.1, inplace=False)\n",
       "    (out_proj): Linear(in_features=768, out_features=7, bias=True)\n",
       "  )\n",
       ")"
      ]
     },
     "execution_count": 68,
     "metadata": {},
     "output_type": "execute_result"
    }
   ],
   "source": [
    "import torch\n",
    "from tqdm.auto import tqdm\n",
    "from torch.utils.data import DataLoader\n",
    "from transformers import AdamW\n",
    "\n",
    "# 토크나이징 함수  # 제목 컬럼에 대한 토큰화 진행\n",
    "def tokenize_func(examples):\n",
    "    return tokenizer(examples[\"title\"], padding=\"max_length\", truncation=True)\n",
    "\n",
    "# 모델과 토크나이저 불러오기\n",
    "device = torch.device(\"cuda\" if torch.cuda.is_available() else \"cpu\")  # 토치 쿠다 실행 함수를 디바이스에 저장\n",
    "model_id = \"klue/roberta-base\"\n",
    "model = AutoModelForSequenceClassification.from_pretrained(model_id, num_labels=len(train_dataset.features['label'].names))\n",
    "tokenizer = AutoTokenizer.from_pretrained(model_id)\n",
    "model.to(device)  # 트레이너 API와는 다르게 직접 모델을 디바이스(쿠다 사용 GPU)에 옮김."
   ]
  },
  {
   "cell_type": "code",
   "execution_count": 62,
   "metadata": {
    "id": "a1MCH4p5nGGb"
   },
   "outputs": [],
   "source": [
    "# 데이터 전처리 함수\n",
    "def make_dataloader(dataset, batch_size, shuffle=True):\n",
    "    dataset = dataset.map(tokenize_func, batched=True).with_format(\"torch\") # 토큰화 수행\n",
    "    dataset = dataset.rename_column(\"label\", \"labels\") # 'label' 컬럼 이름을 'labels'로 변경\n",
    "    dataset = dataset.remove_columns(column_names=['title']) # 토큰으로 변환 후 필요없는 'title' 텍스트 컬럼 삭제\n",
    "    return DataLoader(dataset, batch_size=batch_size, shuffle=shuffle) # 파이토치에서 제공하는 DataLoader 클래스를 사용해서 데이터셋을 배치 데이터로 만듦."
   ]
  },
  {
   "cell_type": "code",
   "execution_count": 63,
   "metadata": {
    "colab": {
     "base_uri": "https://localhost:8080/",
     "height": 81,
     "referenced_widgets": [
      "077e9f2f5aae4944b7bfd9dada746b54",
      "0462477d48c1468a95b7e0d98bc3abc6",
      "a6b58de399c146f98fcad25bd71a10ce",
      "bc1e84394bec498fa98a3bdb60e90351",
      "b69d31ea29574ad3aff9f97f44ee50ec",
      "64783b501c6645e68fecfc811e160a18",
      "ae0e1361ff4b416d805503813f71894a",
      "1dfa263b935e439dba02525744bc0ad6",
      "4d23c6db721948a7bfd4117e614d3142",
      "f64dbd41ce7b440ab99a9b384dd644e9",
      "bb9b23528f3c4b96b07e7f90c594cb36",
      "7485e5079fa543e3b03a2af46c313cd6",
      "ed9271c69c224f8ea9ed8c8d08381db9",
      "26025447bbfb4d09bec5dbe367b6aa42",
      "79ec24be5f914ba3aa5cedfc1540fc98",
      "1975e127655e4b01a123b8d4e9ba3f5a",
      "15677fba33b447a29d407d07f39d1b01",
      "c9e92a131d6a4457a121d8613953dca1",
      "9aa7355c0400479381915e6e81b61426",
      "87add1dcf5e84886b310c2e3d77eb043",
      "2645264dd9604cf4a61b98c0d63fe442",
      "d1372360530e472c9553d5542005189d"
     ]
    },
    "id": "NAQYIpU-o52v",
    "outputId": "fc889c9a-0bf0-4c76-a22d-fdca3259fa66"
   },
   "outputs": [
    {
     "data": {
      "application/vnd.jupyter.widget-view+json": {
       "model_id": "077e9f2f5aae4944b7bfd9dada746b54",
       "version_major": 2,
       "version_minor": 0
      },
      "text/plain": [
       "Map:   0%|          | 0/1000 [00:00<?, ? examples/s]"
      ]
     },
     "metadata": {},
     "output_type": "display_data"
    },
    {
     "data": {
      "application/vnd.jupyter.widget-view+json": {
       "model_id": "7485e5079fa543e3b03a2af46c313cd6",
       "version_major": 2,
       "version_minor": 0
      },
      "text/plain": [
       "Map:   0%|          | 0/1000 [00:00<?, ? examples/s]"
      ]
     },
     "metadata": {},
     "output_type": "display_data"
    }
   ],
   "source": [
    "# 데이터로더 만들기\n",
    "train_dataloader = make_dataloader(train_dataset, batch_size=8, shuffle=True)\n",
    "valid_dataloader = make_dataloader(valid_dataset, batch_size=8, shuffle=False)\n",
    "test_dataloader = make_dataloader(test_dataset, batch_size=8, shuffle=False)"
   ]
  },
  {
   "cell_type": "code",
   "execution_count": 65,
   "metadata": {
    "id": "oPKTe8dnvQw1"
   },
   "outputs": [],
   "source": [
    "# 학습을 수행하는 함수\n",
    "def train_epoch(model, data_loader, optimizer):\n",
    "    model.train() # 모델 학습\n",
    "    total_loss = 0 # 평균 손실을 구하기 위한 총 손실 누적용 변수, 0으로 총 손실 초기화\n",
    "    for batch in tqdm(data_loader):\n",
    "        optimizer.zero_grad()  # 이전 단계에서 계산된 기울기 초기화(기울기 누적 방지)\n",
    "        input_ids = batch['input_ids'].to(device)  # 모델에 입력할 토큰 아이디\n",
    "        attention_mask = batch['attention_mask'].to(device)  # 모델에 입력할 어텐션 마스크\n",
    "        labels = batch['labels'].to(device)  # 모델에 입력할 레이블\n",
    "        outputs = model(input_ids, attention_mask=attention_mask, labels=labels)  # 모델 계산\n",
    "        loss = outputs.loss  # 모델의 출력에서 손실\n",
    "        loss.backward()  # 손실 역전파\n",
    "        optimizer.step()  # 모델 업데이트\n",
    "        total_loss += loss.item()  # 총 손실 누적\n",
    "    avg_loss = total_loss / len(data_loader) # 총 손실을 데이터 갯수로 나누어서 평균 손실 계산\n",
    "    return avg_loss"
   ]
  },
  {
   "cell_type": "code",
   "execution_count": 66,
   "metadata": {
    "id": "1JioKzjf5Mav"
   },
   "outputs": [],
   "source": [
    "# 평가를 위한 함수\n",
    "# 학습 수행 함수에서 학습 모드 -> 추론 모드로 변경하고, 손실과 함께 출력된 logits 중 가장 큰 값으로 예측한 카테고리 정보 가져와서 실제 정답과 비교해서 정확도 계산\n",
    "def evaluate(model, data_loader):\n",
    "    model.eval()  # 모델 추론\n",
    "    total_loss = 0\n",
    "    predictions = []  # 예측 클래스를 담을 빈 리스트 생성\n",
    "    true_labels = []  # 실제 클래스를 담을 빈 리스트 생성\n",
    "    with torch.no_grad():  # 기울기 계산\n",
    "        for batch in tqdm(data_loader):\n",
    "            input_ids = batch['input_ids'].to(device)\n",
    "            attention_mask = batch['attention_mask'].to(device)\n",
    "            labels = batch['labels'].to(device)\n",
    "            outputs = model(input_ids, attention_mask=attention_mask, labels=labels)\n",
    "\n",
    "            logits = outputs.logits  # 모델의 출력에서 로짓\n",
    "            loss = outputs.loss  # 모델의 출력에서 손실\n",
    "            total_loss += loss.item() # 손실 누적\n",
    "            preds = torch.argmax(logits, dim=-1)  # 최종 출력된 로짓 중 큰 값을 갖는 클래스\n",
    "            predictions.extend(preds.cpu().numpy())  # predictions 리스트에 추가\n",
    "            true_labels.extend(labels.cpu().numpy())  # true_labels 리스트에 추가\n",
    "    avg_loss = total_loss / len(data_loader)\n",
    "    accuracy = np.mean(np.array(predictions) == np.array(true_labels))  # 예측값과 실제값이 같은 비율을 계산\n",
    "    return avg_loss, accuracy"
   ]
  },
  {
   "cell_type": "code",
   "execution_count": 69,
   "metadata": {
    "colab": {
     "base_uri": "https://localhost:8080/",
     "height": 152,
     "referenced_widgets": [
      "a95799b4b43e4113b6b3737bc5941677",
      "4cc841ff65a64a04a635d9517ecfb8ff",
      "75c4f6bc15d2456e85d82976dd3866d2",
      "13bdba249f534700ba0f93e370f7967b",
      "bdf74bfd5e3a4d319db8191e72baa5d9",
      "d9a9314f2aae46799b91d5b1f534fb62",
      "f0f5d38863744d7ea3ab00a078d1f7dd",
      "d44651fe9bd44aea9ee5875b9ac55880",
      "2f9de66ddde045a6a242b1fb9017f553",
      "ee372053970449ad9105df9919803429",
      "ad502f0994d845819fcb9c41fa9c4854",
      "7b2cd83f05fe44ba80c33b7966a58373",
      "11b19c10f0724fecb3d637cfd08ff3d9",
      "d1ae3894147a47d69b98f9059885be06",
      "7ff1769b8fa9475d84fcd546a83df0c0",
      "2ecea2bd7ede4df8b4b3755bd8a9fa26",
      "2c064c5db4be45dd8b01fae41046d549",
      "a1182156fb8d40a7917cc4fc82156ee5",
      "5b3dc3a6d34c40f5940ae482b0edacaf",
      "8b7bc42243884c54b256f4687d27a4ed",
      "a17d2e00875646c0b173d4dedb7950c1",
      "5dfdc7c1c4444d76a73870afcdd93a31"
     ]
    },
    "id": "VqC788m29FT4",
    "outputId": "dfbf9c38-1ec4-4836-df95-1dc964913888"
   },
   "outputs": [
    {
     "name": "stdout",
     "output_type": "stream",
     "text": [
      "Epoch 1/1\n"
     ]
    },
    {
     "data": {
      "application/vnd.jupyter.widget-view+json": {
       "model_id": "a95799b4b43e4113b6b3737bc5941677",
       "version_major": 2,
       "version_minor": 0
      },
      "text/plain": [
       "  0%|          | 0/1250 [00:00<?, ?it/s]"
      ]
     },
     "metadata": {},
     "output_type": "display_data"
    },
    {
     "name": "stdout",
     "output_type": "stream",
     "text": [
      "Training loss: 0.6374597485899925\n"
     ]
    },
    {
     "data": {
      "application/vnd.jupyter.widget-view+json": {
       "model_id": "7b2cd83f05fe44ba80c33b7966a58373",
       "version_major": 2,
       "version_minor": 0
      },
      "text/plain": [
       "  0%|          | 0/125 [00:00<?, ?it/s]"
      ]
     },
     "metadata": {},
     "output_type": "display_data"
    },
    {
     "name": "stdout",
     "output_type": "stream",
     "text": [
      "Validation loss: 0.3188380221128464\n",
      "Validation accuracy: 0.902\n"
     ]
    }
   ],
   "source": [
    "# for문을 활용해 학습 수행  # train_epoch() 학습하고, evaluate()로 성능 평가\n",
    "num_epochs = 1\n",
    "optimizer = AdamW(model.parameters(), lr=5e-5)\n",
    "\n",
    "# 학습 루프 수행\n",
    "for epoch in range(num_epochs):\n",
    "    print(f\"Epoch {epoch + 1}/{num_epochs}\")\n",
    "    train_loss = train_epoch(model, train_dataloader, optimizer)\n",
    "    print(f\"Training loss: {train_loss}\")\n",
    "    valid_loss, valid_accuracy = evaluate(model, valid_dataloader)\n",
    "    print(f\"Validation loss: {valid_loss}\")\n",
    "    print(f\"Validation accuracy: {valid_accuracy}\")"
   ]
  },
  {
   "cell_type": "code",
   "execution_count": 70,
   "metadata": {
    "colab": {
     "base_uri": "https://localhost:8080/",
     "height": 67,
     "referenced_widgets": [
      "f4b6f3715009497fbbb2c154393c105b",
      "9013a74a2e1340bc8c083ec890ccb79c",
      "f0087c1ec902440492fde55411f132b5",
      "c3fa3bca904e446ea22d073432673cd0",
      "a85b4db31a4b4d5ea95dcdf8ffed8707",
      "c07c09b27e174fbcadc00f360c9b6101",
      "5c38ab95d2704c4fb35d0acce5196dc9",
      "7c43a2f10e4543899a05a86801d04147",
      "104873a0402d4eff959f774752a7f3f7",
      "99b5b904b2e441d5b38996d27986af75",
      "dffa95ae1c7d410fa880de9c70a25a6b"
     ]
    },
    "id": "G4PVLWd_Ao3O",
    "outputId": "a4a8a7e0-d8e1-4a13-dc36-115ea896add7"
   },
   "outputs": [
    {
     "data": {
      "application/vnd.jupyter.widget-view+json": {
       "model_id": "f4b6f3715009497fbbb2c154393c105b",
       "version_major": 2,
       "version_minor": 0
      },
      "text/plain": [
       "  0%|          | 0/125 [00:00<?, ?it/s]"
      ]
     },
     "metadata": {},
     "output_type": "display_data"
    },
    {
     "name": "stdout",
     "output_type": "stream",
     "text": [
      "Test accuracy: 0.83\n"
     ]
    }
   ],
   "source": [
    "# 모델 테스트\n",
    "_, test_accuracy = evaluate(model, test_dataloader)\n",
    "print(f\"Test accuracy: {test_accuracy}\")  # 정확도: 0.83"
   ]
  },
  {
   "cell_type": "markdown",
   "metadata": {
    "id": "y20iJMY2BnV5"
   },
   "source": [
    "\n",
    "### 학습한 모델 업로드"
   ]
  },
  {
   "cell_type": "code",
   "execution_count": null,
   "metadata": {
    "id": "xd5RA1r5Bpfn"
   },
   "outputs": [],
   "source": [
    "from huggingface_hub import login\n",
    "\n",
    "login(token=\"****\")"
   ]
  },
  {
   "cell_type": "code",
   "execution_count": 168,
   "metadata": {
    "id": "p1HqV2VwdFRa"
   },
   "outputs": [],
   "source": [
    "# 모델의 예측 아이디와 문자열 레이블을 연결할 데이터를 모델 config에 저장\n",
    "id2label = {i: label for i, label in enumerate(train_dataset.features['label'].names)}\n",
    "label2id = {label: i for i, label in id2label.items()}\n",
    "model.config.id2label = id2label\n",
    "model.config.label2id = label2id"
   ]
  },
  {
   "cell_type": "code",
   "execution_count": 169,
   "metadata": {
    "colab": {
     "base_uri": "https://localhost:8080/",
     "height": 106
    },
    "id": "yiV34sV_D2WV",
    "outputId": "129d24f0-bd04-4220-951a-cda1db4cd03a"
   },
   "outputs": [
    {
     "name": "stderr",
     "output_type": "stream",
     "text": [
      "No files have been modified since last commit. Skipping to prevent empty commit.\n",
      "WARNING:huggingface_hub.hf_api:No files have been modified since last commit. Skipping to prevent empty commit.\n"
     ]
    },
    {
     "data": {
      "application/vnd.google.colaboratory.intrinsic+json": {
       "type": "string"
      },
      "text/plain": [
       "CommitInfo(commit_url='https://huggingface.co/edgeun/results/commit/2cd3750a4fadbfb7e9462c95d62f38e240f0bf7f', commit_message='edgeun/roberta-base-klue-ynat-classification', commit_description='', oid='2cd3750a4fadbfb7e9462c95d62f38e240f0bf7f', pr_url=None, repo_url=RepoUrl('https://huggingface.co/edgeun/results', endpoint='https://huggingface.co', repo_type='model', repo_id='edgeun/results'), pr_revision=None, pr_num=None)"
      ]
     },
     "execution_count": 169,
     "metadata": {},
     "output_type": "execute_result"
    }
   ],
   "source": [
    "repo_id = \"edgeun/roberta-base-klue-ynat-classification\"\n",
    "trainer.push_to_hub(repo_id)  # Trainer를 사용한 경우\n",
    "\n",
    "# # Trainer를 사용하지 않고 직접 학습한 경우\n",
    "# model.push_to_hub(repo_id)\n",
    "# tokenizer.push_to_hub(repo_id)"
   ]
  },
  {
   "cell_type": "markdown",
   "metadata": {
    "id": "puwl7BwsHCNh"
   },
   "source": [
    "### 모델 추론하기\n",
    "- pipeline을 활용한 방법\n",
    "- 직접 모델과 토크나이저를 불러와 활용하는 방법"
   ]
  },
  {
   "cell_type": "code",
   "execution_count": 176,
   "metadata": {
    "colab": {
     "base_uri": "https://localhost:8080/",
     "height": 67,
     "referenced_widgets": [
      "afc26b835cf946c59b14870ac1c3c733",
      "96276399fa144df79bf5db1baa386a2a",
      "91fa8b9acf8d453d885a438ac9dd5b37",
      "cb1d97647af64b6f944de3d494a56833",
      "2b5e7455876b435b8d76e6dcaf51bd42",
      "ab9042269a6c4cdc84d536f633908c8c",
      "7f1a904de2be490399b5712c4ad2be74",
      "e95177f6620042d7b0fc5e8ac7397bba",
      "125b04cc7bca44b296c8dd1f31162a08",
      "1acfcf2e475f4f3c886983799a935ca5",
      "7359f12254aa4fd99624f2712c9626c0"
     ]
    },
    "id": "AFAcAyOaHJXx",
    "outputId": "5f5aa60f-152f-4a9e-ae3f-64aa591cb548"
   },
   "outputs": [
    {
     "data": {
      "application/vnd.jupyter.widget-view+json": {
       "model_id": "afc26b835cf946c59b14870ac1c3c733",
       "version_major": 2,
       "version_minor": 0
      },
      "text/plain": [
       "config.json:   0%|          | 0.00/1.13k [00:00<?, ?B/s]"
      ]
     },
     "metadata": {},
     "output_type": "display_data"
    },
    {
     "name": "stderr",
     "output_type": "stream",
     "text": [
      "Device set to use cuda:0\n"
     ]
    }
   ],
   "source": [
    "# pipeline으로 추론하기\n",
    "from transformers import pipeline\n",
    "\n",
    "model_id = \"edgeun/roberta-base-klue-title-classification\"\n",
    "\n",
    "model_pipeline = pipeline(\"text-classification\", model=model_id)"
   ]
  },
  {
   "cell_type": "code",
   "execution_count": 188,
   "metadata": {
    "colab": {
     "base_uri": "https://localhost:8080/",
     "height": 206
    },
    "id": "vgCd5gRYJwmo",
    "outputId": "746638b9-4cd0-41dd-de00-de39f6776c06"
   },
   "outputs": [
    {
     "data": {
      "application/vnd.google.colaboratory.intrinsic+json": {
       "summary": "{\n  \"name\": \"df\",\n  \"rows\": 5,\n  \"fields\": [\n    {\n      \"column\": \"\\ub274\\uc2a4 \\uc81c\\ubaa9\",\n      \"properties\": {\n        \"dtype\": \"string\",\n        \"num_unique_values\": 5,\n        \"samples\": [\n          \"\\uc65c \\uc218\\uc18c\\ucda9\\uc804\\uc18c\\ub9cc \\ub354 \\uba40\\ub9ac \\ub5a8\\uc5b4\\uc838\\uc57c \\ud558\\ub098 \\ud55c\\uacbd\\uc5f0 \\uaddc\\uc81c\\uac1c\\ud601 \\uac74\\uc758\",\n          \"\\uae30\\uc790\\ud68c\\uacac \\ud558\\ub294 \\uc131 \\uc18c\\uc218\\uc790 \\ub2e8\\uccb4\",\n          \"\\ud56d\\uc751\\uace0\\uc81c \\uc131\\ubd84 \\ucf54\\ub85c\\ub09819\\uc5d0 \\ud6a8\\uacfc\\u2026\\uc138\\ud3ec\\uc2e4\\ud5d8\\uc11c \\ud655\\uc778\"\n        ],\n        \"semantic_type\": \"\",\n        \"description\": \"\"\n      }\n    },\n    {\n      \"column\": \"\\uc608\\uce21 \\ub77c\\ubca8\",\n      \"properties\": {\n        \"dtype\": \"string\",\n        \"num_unique_values\": 3,\n        \"samples\": [\n          \"\\uacbd\\uc81c\",\n          \"\\uc0ac\\ud68c\",\n          \"IT\\uacfc\\ud559\"\n        ],\n        \"semantic_type\": \"\",\n        \"description\": \"\"\n      }\n    },\n    {\n      \"column\": \"\\uc608\\uce21 \\ud655\\ub960\",\n      \"properties\": {\n        \"dtype\": \"number\",\n        \"std\": 0.03156692089288947,\n        \"min\": 0.8996158242225647,\n        \"max\": 0.9769177436828613,\n        \"num_unique_values\": 5,\n        \"samples\": [\n          0.8996158242225647,\n          0.9514636993408203,\n          0.9589913487434387\n        ],\n        \"semantic_type\": \"\",\n        \"description\": \"\"\n      }\n    }\n  ]\n}",
       "type": "dataframe",
       "variable_name": "df"
      },
      "text/html": [
       "\n",
       "  <div id=\"df-5f970489-b47b-4939-8c12-aa3089ae988b\" class=\"colab-df-container\">\n",
       "    <div>\n",
       "<style scoped>\n",
       "    .dataframe tbody tr th:only-of-type {\n",
       "        vertical-align: middle;\n",
       "    }\n",
       "\n",
       "    .dataframe tbody tr th {\n",
       "        vertical-align: top;\n",
       "    }\n",
       "\n",
       "    .dataframe thead th {\n",
       "        text-align: right;\n",
       "    }\n",
       "</style>\n",
       "<table border=\"1\" class=\"dataframe\">\n",
       "  <thead>\n",
       "    <tr style=\"text-align: right;\">\n",
       "      <th></th>\n",
       "      <th>뉴스 제목</th>\n",
       "      <th>예측 라벨</th>\n",
       "      <th>예측 확률</th>\n",
       "    </tr>\n",
       "  </thead>\n",
       "  <tbody>\n",
       "    <tr>\n",
       "      <th>0</th>\n",
       "      <td>5억원 무이자 융자는 되고 7천만원 이사비는 안된다</td>\n",
       "      <td>경제</td>\n",
       "      <td>0.975947</td>\n",
       "    </tr>\n",
       "    <tr>\n",
       "      <th>1</th>\n",
       "      <td>왜 수소충전소만 더 멀리 떨어져야 하나 한경연 규제개혁 건의</td>\n",
       "      <td>사회</td>\n",
       "      <td>0.899616</td>\n",
       "    </tr>\n",
       "    <tr>\n",
       "      <th>2</th>\n",
       "      <td>항응고제 성분 코로나19에 효과…세포실험서 확인</td>\n",
       "      <td>IT과학</td>\n",
       "      <td>0.958991</td>\n",
       "    </tr>\n",
       "    <tr>\n",
       "      <th>3</th>\n",
       "      <td>실거래가 가장 비싼 역세권은 신반포역…3.3㎡당 1억 육박</td>\n",
       "      <td>경제</td>\n",
       "      <td>0.976918</td>\n",
       "    </tr>\n",
       "    <tr>\n",
       "      <th>4</th>\n",
       "      <td>기자회견 하는 성 소수자 단체</td>\n",
       "      <td>사회</td>\n",
       "      <td>0.951464</td>\n",
       "    </tr>\n",
       "  </tbody>\n",
       "</table>\n",
       "</div>\n",
       "    <div class=\"colab-df-buttons\">\n",
       "\n",
       "  <div class=\"colab-df-container\">\n",
       "    <button class=\"colab-df-convert\" onclick=\"convertToInteractive('df-5f970489-b47b-4939-8c12-aa3089ae988b')\"\n",
       "            title=\"Convert this dataframe to an interactive table.\"\n",
       "            style=\"display:none;\">\n",
       "\n",
       "  <svg xmlns=\"http://www.w3.org/2000/svg\" height=\"24px\" viewBox=\"0 -960 960 960\">\n",
       "    <path d=\"M120-120v-720h720v720H120Zm60-500h600v-160H180v160Zm220 220h160v-160H400v160Zm0 220h160v-160H400v160ZM180-400h160v-160H180v160Zm440 0h160v-160H620v160ZM180-180h160v-160H180v160Zm440 0h160v-160H620v160Z\"/>\n",
       "  </svg>\n",
       "    </button>\n",
       "\n",
       "  <style>\n",
       "    .colab-df-container {\n",
       "      display:flex;\n",
       "      gap: 12px;\n",
       "    }\n",
       "\n",
       "    .colab-df-convert {\n",
       "      background-color: #E8F0FE;\n",
       "      border: none;\n",
       "      border-radius: 50%;\n",
       "      cursor: pointer;\n",
       "      display: none;\n",
       "      fill: #1967D2;\n",
       "      height: 32px;\n",
       "      padding: 0 0 0 0;\n",
       "      width: 32px;\n",
       "    }\n",
       "\n",
       "    .colab-df-convert:hover {\n",
       "      background-color: #E2EBFA;\n",
       "      box-shadow: 0px 1px 2px rgba(60, 64, 67, 0.3), 0px 1px 3px 1px rgba(60, 64, 67, 0.15);\n",
       "      fill: #174EA6;\n",
       "    }\n",
       "\n",
       "    .colab-df-buttons div {\n",
       "      margin-bottom: 4px;\n",
       "    }\n",
       "\n",
       "    [theme=dark] .colab-df-convert {\n",
       "      background-color: #3B4455;\n",
       "      fill: #D2E3FC;\n",
       "    }\n",
       "\n",
       "    [theme=dark] .colab-df-convert:hover {\n",
       "      background-color: #434B5C;\n",
       "      box-shadow: 0px 1px 3px 1px rgba(0, 0, 0, 0.15);\n",
       "      filter: drop-shadow(0px 1px 2px rgba(0, 0, 0, 0.3));\n",
       "      fill: #FFFFFF;\n",
       "    }\n",
       "  </style>\n",
       "\n",
       "    <script>\n",
       "      const buttonEl =\n",
       "        document.querySelector('#df-5f970489-b47b-4939-8c12-aa3089ae988b button.colab-df-convert');\n",
       "      buttonEl.style.display =\n",
       "        google.colab.kernel.accessAllowed ? 'block' : 'none';\n",
       "\n",
       "      async function convertToInteractive(key) {\n",
       "        const element = document.querySelector('#df-5f970489-b47b-4939-8c12-aa3089ae988b');\n",
       "        const dataTable =\n",
       "          await google.colab.kernel.invokeFunction('convertToInteractive',\n",
       "                                                    [key], {});\n",
       "        if (!dataTable) return;\n",
       "\n",
       "        const docLinkHtml = 'Like what you see? Visit the ' +\n",
       "          '<a target=\"_blank\" href=https://colab.research.google.com/notebooks/data_table.ipynb>data table notebook</a>'\n",
       "          + ' to learn more about interactive tables.';\n",
       "        element.innerHTML = '';\n",
       "        dataTable['output_type'] = 'display_data';\n",
       "        await google.colab.output.renderOutput(dataTable, element);\n",
       "        const docLink = document.createElement('div');\n",
       "        docLink.innerHTML = docLinkHtml;\n",
       "        element.appendChild(docLink);\n",
       "      }\n",
       "    </script>\n",
       "  </div>\n",
       "\n",
       "\n",
       "<div id=\"df-72683980-61f8-4b72-9cf8-5a946c3b8d50\">\n",
       "  <button class=\"colab-df-quickchart\" onclick=\"quickchart('df-72683980-61f8-4b72-9cf8-5a946c3b8d50')\"\n",
       "            title=\"Suggest charts\"\n",
       "            style=\"display:none;\">\n",
       "\n",
       "<svg xmlns=\"http://www.w3.org/2000/svg\" height=\"24px\"viewBox=\"0 0 24 24\"\n",
       "     width=\"24px\">\n",
       "    <g>\n",
       "        <path d=\"M19 3H5c-1.1 0-2 .9-2 2v14c0 1.1.9 2 2 2h14c1.1 0 2-.9 2-2V5c0-1.1-.9-2-2-2zM9 17H7v-7h2v7zm4 0h-2V7h2v10zm4 0h-2v-4h2v4z\"/>\n",
       "    </g>\n",
       "</svg>\n",
       "  </button>\n",
       "\n",
       "<style>\n",
       "  .colab-df-quickchart {\n",
       "      --bg-color: #E8F0FE;\n",
       "      --fill-color: #1967D2;\n",
       "      --hover-bg-color: #E2EBFA;\n",
       "      --hover-fill-color: #174EA6;\n",
       "      --disabled-fill-color: #AAA;\n",
       "      --disabled-bg-color: #DDD;\n",
       "  }\n",
       "\n",
       "  [theme=dark] .colab-df-quickchart {\n",
       "      --bg-color: #3B4455;\n",
       "      --fill-color: #D2E3FC;\n",
       "      --hover-bg-color: #434B5C;\n",
       "      --hover-fill-color: #FFFFFF;\n",
       "      --disabled-bg-color: #3B4455;\n",
       "      --disabled-fill-color: #666;\n",
       "  }\n",
       "\n",
       "  .colab-df-quickchart {\n",
       "    background-color: var(--bg-color);\n",
       "    border: none;\n",
       "    border-radius: 50%;\n",
       "    cursor: pointer;\n",
       "    display: none;\n",
       "    fill: var(--fill-color);\n",
       "    height: 32px;\n",
       "    padding: 0;\n",
       "    width: 32px;\n",
       "  }\n",
       "\n",
       "  .colab-df-quickchart:hover {\n",
       "    background-color: var(--hover-bg-color);\n",
       "    box-shadow: 0 1px 2px rgba(60, 64, 67, 0.3), 0 1px 3px 1px rgba(60, 64, 67, 0.15);\n",
       "    fill: var(--button-hover-fill-color);\n",
       "  }\n",
       "\n",
       "  .colab-df-quickchart-complete:disabled,\n",
       "  .colab-df-quickchart-complete:disabled:hover {\n",
       "    background-color: var(--disabled-bg-color);\n",
       "    fill: var(--disabled-fill-color);\n",
       "    box-shadow: none;\n",
       "  }\n",
       "\n",
       "  .colab-df-spinner {\n",
       "    border: 2px solid var(--fill-color);\n",
       "    border-color: transparent;\n",
       "    border-bottom-color: var(--fill-color);\n",
       "    animation:\n",
       "      spin 1s steps(1) infinite;\n",
       "  }\n",
       "\n",
       "  @keyframes spin {\n",
       "    0% {\n",
       "      border-color: transparent;\n",
       "      border-bottom-color: var(--fill-color);\n",
       "      border-left-color: var(--fill-color);\n",
       "    }\n",
       "    20% {\n",
       "      border-color: transparent;\n",
       "      border-left-color: var(--fill-color);\n",
       "      border-top-color: var(--fill-color);\n",
       "    }\n",
       "    30% {\n",
       "      border-color: transparent;\n",
       "      border-left-color: var(--fill-color);\n",
       "      border-top-color: var(--fill-color);\n",
       "      border-right-color: var(--fill-color);\n",
       "    }\n",
       "    40% {\n",
       "      border-color: transparent;\n",
       "      border-right-color: var(--fill-color);\n",
       "      border-top-color: var(--fill-color);\n",
       "    }\n",
       "    60% {\n",
       "      border-color: transparent;\n",
       "      border-right-color: var(--fill-color);\n",
       "    }\n",
       "    80% {\n",
       "      border-color: transparent;\n",
       "      border-right-color: var(--fill-color);\n",
       "      border-bottom-color: var(--fill-color);\n",
       "    }\n",
       "    90% {\n",
       "      border-color: transparent;\n",
       "      border-bottom-color: var(--fill-color);\n",
       "    }\n",
       "  }\n",
       "</style>\n",
       "\n",
       "  <script>\n",
       "    async function quickchart(key) {\n",
       "      const quickchartButtonEl =\n",
       "        document.querySelector('#' + key + ' button');\n",
       "      quickchartButtonEl.disabled = true;  // To prevent multiple clicks.\n",
       "      quickchartButtonEl.classList.add('colab-df-spinner');\n",
       "      try {\n",
       "        const charts = await google.colab.kernel.invokeFunction(\n",
       "            'suggestCharts', [key], {});\n",
       "      } catch (error) {\n",
       "        console.error('Error during call to suggestCharts:', error);\n",
       "      }\n",
       "      quickchartButtonEl.classList.remove('colab-df-spinner');\n",
       "      quickchartButtonEl.classList.add('colab-df-quickchart-complete');\n",
       "    }\n",
       "    (() => {\n",
       "      let quickchartButtonEl =\n",
       "        document.querySelector('#df-72683980-61f8-4b72-9cf8-5a946c3b8d50 button');\n",
       "      quickchartButtonEl.style.display =\n",
       "        google.colab.kernel.accessAllowed ? 'block' : 'none';\n",
       "    })();\n",
       "  </script>\n",
       "</div>\n",
       "\n",
       "  <div id=\"id_c1032cfd-b1ba-42b4-a7a1-0b41ac2bf844\">\n",
       "    <style>\n",
       "      .colab-df-generate {\n",
       "        background-color: #E8F0FE;\n",
       "        border: none;\n",
       "        border-radius: 50%;\n",
       "        cursor: pointer;\n",
       "        display: none;\n",
       "        fill: #1967D2;\n",
       "        height: 32px;\n",
       "        padding: 0 0 0 0;\n",
       "        width: 32px;\n",
       "      }\n",
       "\n",
       "      .colab-df-generate:hover {\n",
       "        background-color: #E2EBFA;\n",
       "        box-shadow: 0px 1px 2px rgba(60, 64, 67, 0.3), 0px 1px 3px 1px rgba(60, 64, 67, 0.15);\n",
       "        fill: #174EA6;\n",
       "      }\n",
       "\n",
       "      [theme=dark] .colab-df-generate {\n",
       "        background-color: #3B4455;\n",
       "        fill: #D2E3FC;\n",
       "      }\n",
       "\n",
       "      [theme=dark] .colab-df-generate:hover {\n",
       "        background-color: #434B5C;\n",
       "        box-shadow: 0px 1px 3px 1px rgba(0, 0, 0, 0.15);\n",
       "        filter: drop-shadow(0px 1px 2px rgba(0, 0, 0, 0.3));\n",
       "        fill: #FFFFFF;\n",
       "      }\n",
       "    </style>\n",
       "    <button class=\"colab-df-generate\" onclick=\"generateWithVariable('df')\"\n",
       "            title=\"Generate code using this dataframe.\"\n",
       "            style=\"display:none;\">\n",
       "\n",
       "  <svg xmlns=\"http://www.w3.org/2000/svg\" height=\"24px\"viewBox=\"0 0 24 24\"\n",
       "       width=\"24px\">\n",
       "    <path d=\"M7,19H8.4L18.45,9,17,7.55,7,17.6ZM5,21V16.75L18.45,3.32a2,2,0,0,1,2.83,0l1.4,1.43a1.91,1.91,0,0,1,.58,1.4,1.91,1.91,0,0,1-.58,1.4L9.25,21ZM18.45,9,17,7.55Zm-12,3A5.31,5.31,0,0,0,4.9,8.1,5.31,5.31,0,0,0,1,6.5,5.31,5.31,0,0,0,4.9,4.9,5.31,5.31,0,0,0,6.5,1,5.31,5.31,0,0,0,8.1,4.9,5.31,5.31,0,0,0,12,6.5,5.46,5.46,0,0,0,6.5,12Z\"/>\n",
       "  </svg>\n",
       "    </button>\n",
       "    <script>\n",
       "      (() => {\n",
       "      const buttonEl =\n",
       "        document.querySelector('#id_c1032cfd-b1ba-42b4-a7a1-0b41ac2bf844 button.colab-df-generate');\n",
       "      buttonEl.style.display =\n",
       "        google.colab.kernel.accessAllowed ? 'block' : 'none';\n",
       "\n",
       "      buttonEl.onclick = () => {\n",
       "        google.colab.notebook.generateWithVariable('df');\n",
       "      }\n",
       "      })();\n",
       "    </script>\n",
       "  </div>\n",
       "\n",
       "    </div>\n",
       "  </div>\n"
      ],
      "text/plain": [
       "                               뉴스 제목 예측 라벨     예측 확률\n",
       "0       5억원 무이자 융자는 되고 7천만원 이사비는 안된다    경제  0.975947\n",
       "1  왜 수소충전소만 더 멀리 떨어져야 하나 한경연 규제개혁 건의    사회  0.899616\n",
       "2         항응고제 성분 코로나19에 효과…세포실험서 확인  IT과학  0.958991\n",
       "3   실거래가 가장 비싼 역세권은 신반포역…3.3㎡당 1억 육박    경제  0.976918\n",
       "4                   기자회견 하는 성 소수자 단체    사회  0.951464"
      ]
     },
     "execution_count": 188,
     "metadata": {},
     "output_type": "execute_result"
    }
   ],
   "source": [
    "dataset = load_dataset(\"klue\", \"ynat\", split=\"validation\")\n",
    "\n",
    "title_text = dataset[\"title\"][:5]  # 예시 뉴스 제목 가져오기\n",
    "result = model_pipeline(title_text)\n",
    "\n",
    "# DataFrame 변환\n",
    "import pandas as pd\n",
    "df = pd.DataFrame({\n",
    "    \"뉴스 제목\": title_text,\n",
    "    \"예측 라벨\": [i[\"label\"] for i in result],\n",
    "    \"예측 확률\": [i[\"score\"] for i in result]\n",
    "})\n",
    "\n",
    "df"
   ]
  },
  {
   "cell_type": "markdown",
   "metadata": {
    "id": "Uv7D5dcFZKJ3"
   },
   "source": [
    "### 직접 추론 클래스 생성"
   ]
  },
  {
   "cell_type": "code",
   "execution_count": 185,
   "metadata": {
    "id": "tg0KAvCuZZAd"
   },
   "outputs": [],
   "source": [
    "import torch\n",
    "from torch.nn.functional import softmax\n",
    "from transformers import AutoModelForSequenceClassification, AutoTokenizer\n",
    "\n",
    "class CustomPipeline:\n",
    "    def __init__(self, model_name):\n",
    "        self.model = AutoModelForSequenceClassification.from_pretrained(model_id)\n",
    "        self.tokenizer = AutoTokenizer.from_pretrained(model_id)\n",
    "        self.model.eval()\n",
    "\n",
    "    def __call__(self, texts):\n",
    "        tokenized = self.tokenizer(texts, return_tensors=\"pt\", padding=True, truncation=True)\n",
    "\n",
    "        with torch.no_grad():\n",
    "            outputs = self.model(**tokenized)\n",
    "            logits = outputs.logits\n",
    "\n",
    "        probabilities = softmax(logits, dim=-1)\n",
    "        scores, labels = torch.max(probabilities, dim=-1)\n",
    "        labels_str = [self.model.config.id2label[label_idx] for label_idx in labels.tolist()]\n",
    "\n",
    "        return [{\"label\": label, \"score\": score.item()} for label, score in zip(labels_str, scores)]"
   ]
  },
  {
   "cell_type": "code",
   "execution_count": 186,
   "metadata": {
    "colab": {
     "base_uri": "https://localhost:8080/"
    },
    "id": "w97TJW0sfnDk",
    "outputId": "5ead2508-2fe5-4ca0-c3b1-66f3cd214709"
   },
   "outputs": [
    {
     "data": {
      "text/plain": [
       "[{'label': '경제', 'score': 0.9759466648101807},\n",
       " {'label': '사회', 'score': 0.8996158838272095},\n",
       " {'label': 'IT과학', 'score': 0.9589913487434387},\n",
       " {'label': '경제', 'score': 0.9769177436828613},\n",
       " {'label': '사회', 'score': 0.9514636993408203}]"
      ]
     },
     "execution_count": 186,
     "metadata": {},
     "output_type": "execute_result"
    }
   ],
   "source": [
    "custom_pipeline = CustomPipeline(model_id)\n",
    "custom_pipeline(title_text)"
   ]
  }
 ],
 "metadata": {
  "accelerator": "GPU",
  "colab": {
   "gpuType": "A100",
   "machine_shape": "hm",
   "provenance": []
  },
  "kernelspec": {
   "display_name": "Python 3",
   "name": "python3"
  },
  "language_info": {
   "name": "python"
  }
 },
 "nbformat": 4,
 "nbformat_minor": 0
}
