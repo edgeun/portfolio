{
 "cells": [
  {
   "cell_type": "markdown",
   "id": "63ZtNLrVwMd0",
   "metadata": {
    "id": "63ZtNLrVwMd0"
   },
   "source": [
    "### t5-small-korean Finetuning 실습\n",
    "- 인코더-디코더 구조 특성상 문장 요약 태스크에 적합한 T5 모델로 미세 조정하여 한국어 기사 본문을 요약하는 모델 생성\n",
    "- Causal LM인 Mistral 모델로 생성한 요약 모델과 성능 비교해보기\n",
    "- Base model: \"paust/pko-t5-small\"\n",
    "- 데이터셋 출처: \"daekeun-ml/naver-news-summarization-ko\""
   ]
  },
  {
   "cell_type": "code",
   "execution_count": null,
   "id": "ojsG4bH7OPEX",
   "metadata": {
    "id": "ojsG4bH7OPEX"
   },
   "outputs": [],
   "source": [
    "import torch"
   ]
  },
  {
   "cell_type": "code",
   "execution_count": null,
   "id": "cfc4871c-e460-4d9d-ae6c-0a6450a8858e",
   "metadata": {
    "colab": {
     "base_uri": "https://localhost:8080/",
     "height": 440,
     "referenced_widgets": [
      "93e4789a43ac46f7bf1c8d470fdb9b3a",
      "5088d3a096fa4db09573cac3934023b5",
      "708308ee16554163add0928f971b84c5",
      "211b1aa01d824e358933bf18758f4afe",
      "c03f565067174bd58e7d5d990b39f0bd",
      "4455d1785e1942eb9252ca52ae646947",
      "b7e163286d304ed0aee80fac07d1db0a",
      "c9ad465380734aa290881bad7a2b9a8e",
      "a72cccc2381046b1863612f3f78bcd83",
      "4e8f1c058144432aa6165e382d65a69b",
      "1a83125f436e4b8b9c7d6801f592e45e",
      "d64aa58dd11843a8a5dda00fe9a7be6d",
      "d5985b43a0fe4a73a131b2a933b3e2b2",
      "3339634143e347468b2698c92bb4a020",
      "2c7d57fb79c3450fa52c425cea2cc689",
      "f299face22ae4b06a13686fc69053cc4",
      "264a2392f86d4869a3187ef79fffbd59",
      "59ef1eb4edce4fef961f12f35b7350c7",
      "819b4c07f3df4934a9076b0a1a67857b",
      "9fc4f12652a04f978773af4987dafeb4",
      "f084ca7637114b81a574c0fc01db1f84",
      "958379fe454742fbb28c7e47bdf7e981",
      "a5c4705f4b12428ca943aa5c58ce82da",
      "1b5ab290fdfd4dedbcbef5825fbc5d25",
      "454690adc8ba46278850aad0a748d8d9",
      "d41071380fbf445f828d65df4f5e5082",
      "2d39f3c5c2974b9c9bd3666b33f04d6d",
      "f6a73513d9984b0f858e78919a7669c3",
      "63fbb977f11c4e19baa975c707256cd0",
      "da5ec49210ca43098e04a02104a3b0a2",
      "daed67c34918499fa86a188accf5f169",
      "8b22aef59a184b548a8b9bf3734eb785",
      "be9e0a687f0047dba07874c640e8e30c",
      "b00245f4b4434a22a9c30fc17c06ef21",
      "e798adfbd34d4c68b35c26388b8302ce",
      "81f816285b30479ab86c4fbec6f2f691",
      "6eb301c12d9f4a96b34725b9251836f4",
      "52ff7e9e760841329491eb842e70e44b",
      "a347e232c2c84d338c9fe6145ca3d924",
      "64db36e292154f7881b65b23c945de59",
      "83bf943f76b54dd1a7e2e6f0962da8d2",
      "3f46d2af81f9428abcff025dd2e05b9e",
      "f6bb06cd55f843c3aff251f7e7e5f4a4",
      "cac64a09b3d044de9f660b40650ebf2b",
      "74c00eaca33c4be78d5eb269f0305c3d",
      "1e8ab005743143ee8c2337811dd90813",
      "ec915acd4d0941ca91dafb7218a6b14f",
      "de9c73a5847d457b8347f6ddc3f1d483",
      "c4db7d50a6c6488ebbf257639c8f1c81",
      "49c300cd5757487ba3742c05c2843a96",
      "10930d0d2351407fa3b73723feec573a",
      "26edbce9e276417a9f5963d80fb994d0",
      "dbeb4d18d391499f87be6f9629ba5264",
      "49b7c546b8804bbe9b555b590126bd90",
      "38ac9c4f1c5942489e37dca4e85e1bf6",
      "f5855bcd76504f98ab960491e443a9c3",
      "b5df40f4927842a1bfe4465548438b6d",
      "c77a5d0f2b5f42acb9b87f4aa820f58d",
      "007285f8b7f949128f30e503f259db74",
      "7f71aa9e9e654e57b1e73c94844a4800",
      "dfc1388c165942f392667020b9a22fde",
      "7d6ffe43b6f44fc8a5e6a6a247a69c36",
      "5fb764b2408849f682bba29114c2d039",
      "e93235f26e874dcf9a5583973028f9c5",
      "cc64df16f9c54ad3972cdda87ecbbeac",
      "1e7f3a567dee479faea585c9b88ae1ab",
      "ec41ce2dfde141c4a7d4ed7ec075d1c5",
      "f001f47b26144b40a44b137968b3d3b7",
      "6fc96e5f0cef4b3aa7a91333647d73a8",
      "50e15f436bec494d96f6756b942cfa76",
      "c684704013b340b8abacb515eba37557",
      "6b6d455fd5054123a6d2752f5d4406eb",
      "c9009a5aa3f84ae9b81ea1133eda9bb2",
      "ff8ec4811e024d78a1efe92eae499a73",
      "ca9d8c3e09af47e29705450a69ea8481",
      "5f3b3c9a3e624fb6a179375e870d0820",
      "daea8470baf9442fbf48a22338a13fcb"
     ]
    },
    "id": "cfc4871c-e460-4d9d-ae6c-0a6450a8858e",
    "outputId": "888d3135-ad19-4439-e5ca-73b81d45e1c7"
   },
   "outputs": [
    {
     "name": "stdout",
     "output_type": "stream",
     "text": [
      "\u001b[?25l   \u001b[90m━━━━━━━━━━━━━━━━━━━━━━━━━━━━━━━━━━━━━━━━\u001b[0m \u001b[32m0.0/484.9 kB\u001b[0m \u001b[31m?\u001b[0m eta \u001b[36m-:--:--\u001b[0m\r",
      "\u001b[2K   \u001b[91m━━━━━━━━━━━━━━━━━━━━━━━━━━━\u001b[0m\u001b[91m╸\u001b[0m\u001b[90m━━━━━━━━━━━━\u001b[0m \u001b[32m337.9/484.9 kB\u001b[0m \u001b[31m10.5 MB/s\u001b[0m eta \u001b[36m0:00:01\u001b[0m\r",
      "\u001b[2K   \u001b[90m━━━━━━━━━━━━━━━━━━━━━━━━━━━━━━━━━━━━━━━━\u001b[0m \u001b[32m484.9/484.9 kB\u001b[0m \u001b[31m7.1 MB/s\u001b[0m eta \u001b[36m0:00:00\u001b[0m\n",
      "\u001b[?25h\u001b[?25l   \u001b[90m━━━━━━━━━━━━━━━━━━━━━━━━━━━━━━━━━━━━━━━━\u001b[0m \u001b[32m0.0/116.3 kB\u001b[0m \u001b[31m?\u001b[0m eta \u001b[36m-:--:--\u001b[0m\r",
      "\u001b[2K   \u001b[90m━━━━━━━━━━━━━━━━━━━━━━━━━━━━━━━━━━━━━━━━\u001b[0m \u001b[32m116.3/116.3 kB\u001b[0m \u001b[31m7.4 MB/s\u001b[0m eta \u001b[36m0:00:00\u001b[0m\n",
      "\u001b[2K   \u001b[90m━━━━━━━━━━━━━━━━━━━━━━━━━━━━━━━━━━━━━━━━\u001b[0m \u001b[32m143.5/143.5 kB\u001b[0m \u001b[31m10.5 MB/s\u001b[0m eta \u001b[36m0:00:00\u001b[0m\n",
      "\u001b[2K   \u001b[90m━━━━━━━━━━━━━━━━━━━━━━━━━━━━━━━━━━━━━━━━\u001b[0m \u001b[32m194.8/194.8 kB\u001b[0m \u001b[31m16.2 MB/s\u001b[0m eta \u001b[36m0:00:00\u001b[0m\n",
      "\u001b[?25h"
     ]
    },
    {
     "name": "stderr",
     "output_type": "stream",
     "text": [
      "/usr/local/lib/python3.11/dist-packages/huggingface_hub/utils/_auth.py:94: UserWarning: \n",
      "The secret `HF_TOKEN` does not exist in your Colab secrets.\n",
      "To authenticate with the Hugging Face Hub, create a token in your settings tab (https://huggingface.co/settings/tokens), set it as secret in your Google Colab and restart your session.\n",
      "You will be able to reuse this secret in all of your notebooks.\n",
      "Please note that authentication is recommended but still optional to access public models or datasets.\n",
      "  warnings.warn(\n"
     ]
    },
    {
     "data": {
      "application/vnd.jupyter.widget-view+json": {
       "model_id": "93e4789a43ac46f7bf1c8d470fdb9b3a",
       "version_major": 2,
       "version_minor": 0
      },
      "text/plain": [
       "README.md:   0%|          | 0.00/787 [00:00<?, ?B/s]"
      ]
     },
     "metadata": {},
     "output_type": "display_data"
    },
    {
     "data": {
      "application/vnd.jupyter.widget-view+json": {
       "model_id": "d64aa58dd11843a8a5dda00fe9a7be6d",
       "version_major": 2,
       "version_minor": 0
      },
      "text/plain": [
       "train.csv:   0%|          | 0.00/66.3M [00:00<?, ?B/s]"
      ]
     },
     "metadata": {},
     "output_type": "display_data"
    },
    {
     "data": {
      "application/vnd.jupyter.widget-view+json": {
       "model_id": "a5c4705f4b12428ca943aa5c58ce82da",
       "version_major": 2,
       "version_minor": 0
      },
      "text/plain": [
       "validation.csv:   0%|          | 0.00/7.45M [00:00<?, ?B/s]"
      ]
     },
     "metadata": {},
     "output_type": "display_data"
    },
    {
     "data": {
      "application/vnd.jupyter.widget-view+json": {
       "model_id": "b00245f4b4434a22a9c30fc17c06ef21",
       "version_major": 2,
       "version_minor": 0
      },
      "text/plain": [
       "test.csv:   0%|          | 0.00/8.17M [00:00<?, ?B/s]"
      ]
     },
     "metadata": {},
     "output_type": "display_data"
    },
    {
     "data": {
      "application/vnd.jupyter.widget-view+json": {
       "model_id": "74c00eaca33c4be78d5eb269f0305c3d",
       "version_major": 2,
       "version_minor": 0
      },
      "text/plain": [
       "Generating train split:   0%|          | 0/22194 [00:00<?, ? examples/s]"
      ]
     },
     "metadata": {},
     "output_type": "display_data"
    },
    {
     "data": {
      "application/vnd.jupyter.widget-view+json": {
       "model_id": "f5855bcd76504f98ab960491e443a9c3",
       "version_major": 2,
       "version_minor": 0
      },
      "text/plain": [
       "Generating validation split:   0%|          | 0/2466 [00:00<?, ? examples/s]"
      ]
     },
     "metadata": {},
     "output_type": "display_data"
    },
    {
     "data": {
      "application/vnd.jupyter.widget-view+json": {
       "model_id": "ec41ce2dfde141c4a7d4ed7ec075d1c5",
       "version_major": 2,
       "version_minor": 0
      },
      "text/plain": [
       "Generating test split:   0%|          | 0/2740 [00:00<?, ? examples/s]"
      ]
     },
     "metadata": {},
     "output_type": "display_data"
    }
   ],
   "source": [
    "# 데이터셋 로드 및 샘플링\n",
    "!pip install datasets -qqq\n",
    "from datasets import load_dataset\n",
    "train_dataset = load_dataset(\"daekeun-ml/naver-news-summarization-ko\", split='train').shuffle(seed=42).select(range(2000))\n",
    "eval_dataset = load_dataset(\"daekeun-ml/naver-news-summarization-ko\", split='validation').shuffle(seed=42).select(range(200))\n",
    "test_dataset = load_dataset(\"daekeun-ml/naver-news-summarization-ko\", split='test').shuffle(seed=42).select(range(200))"
   ]
  },
  {
   "cell_type": "code",
   "execution_count": null,
   "id": "JXYgMsKBl6Mw",
   "metadata": {
    "id": "JXYgMsKBl6Mw"
   },
   "outputs": [],
   "source": [
    "# 불필요한 컬럼 제거\n",
    "train_dataset = train_dataset.remove_columns(['date', 'category', 'press', 'title', 'link'])\n",
    "eval_dataset = eval_dataset.remove_columns(['date', 'category', 'press', 'title', 'link'])\n",
    "test_dataset = test_dataset.remove_columns(['date', 'category', 'press', 'title', 'link'])"
   ]
  },
  {
   "cell_type": "code",
   "execution_count": null,
   "id": "l6Midm-cm8dO",
   "metadata": {
    "colab": {
     "base_uri": "https://localhost:8080/"
    },
    "id": "l6Midm-cm8dO",
    "outputId": "5c303c49-056d-4887-e853-f02895035efa"
   },
   "outputs": [
    {
     "name": "stdout",
     "output_type": "stream",
     "text": [
      "Dataset({\n",
      "    features: ['document', 'summary'],\n",
      "    num_rows: 2000\n",
      "}) Dataset({\n",
      "    features: ['document', 'summary'],\n",
      "    num_rows: 200\n",
      "}) Dataset({\n",
      "    features: ['document', 'summary'],\n",
      "    num_rows: 200\n",
      "})\n"
     ]
    }
   ],
   "source": [
    "print(train_dataset, eval_dataset, test_dataset)"
   ]
  },
  {
   "cell_type": "code",
   "execution_count": null,
   "id": "JJfBdN9AJ8Ya",
   "metadata": {
    "id": "JJfBdN9AJ8Ya"
   },
   "outputs": [],
   "source": [
    "# 데이터 전처리 함수\n",
    "def preprocess_function(examples):\n",
    "    # inputs 텍스트 앞에 \"summarize: \"을 붙임 (T5 학습 및 추론 형식)\n",
    "    inputs = [\"summarize: \" + doc for doc in examples[\"document\"]]\n",
    "    # 정답은 요약문 가져옴\n",
    "    targets = examples[\"summary\"]\n",
    "\n",
    "    # 먼저 모델 학습용 inputs에 위에서 가져온 \"summarize: \" + 본문을 토큰화해서 저장\n",
    "    model_inputs = tokenizer(inputs, max_length=512, padding=\"max_length\", truncation=True)\n",
    "\n",
    "    # 요약문 토큰화해서 라벨에 저장\n",
    "    labels = tokenizer(targets, max_length=128, padding=\"max_length\", truncation=True)\n",
    "\n",
    "    # 라벨의 토큰 id 중 패딩 토큰을 -100으로 변경해야 함 (그래야 Loss 계산에서 무시됨)  # 생성된 정답 토큰 중 패딩 토큰을 -> -100 으로 변경\n",
    "    labels[\"input_ids\"] = [ [-100 if token == tokenizer.pad_token_id else token for token in label] for label in labels[\"input_ids\"] ]\n",
    "\n",
    "    # 라벨의 토큰 id를 모델 inputs의 'label'로 지정\n",
    "    model_inputs[\"labels\"] = labels[\"input_ids\"]\n",
    "    return model_inputs"
   ]
  },
  {
   "cell_type": "code",
   "execution_count": null,
   "id": "1IvNZUTsNGH_",
   "metadata": {
    "colab": {
     "base_uri": "https://localhost:8080/",
     "height": 183,
     "referenced_widgets": [
      "894f6f2fac1d4c3eaeb056d1135cfc16",
      "8553c331c44540c59900923fbb3e8d6d",
      "1d3fc5abdebb48cc9a08ff1689acd2ba",
      "099f5f017d1c462a86445aa4b87bb478",
      "30fb21c834274e3993168482923f6660",
      "abc99c79253a4c1cb0caf4521bf15ae5",
      "deb69f08fbab4ab287f4380a8ea93666",
      "76425704f6124e3e896686b148e6a6f0",
      "71e59496cc1b4d258be900ce07bf44e1",
      "1958469b1a4444279ac2a42f51b090f3",
      "198dfb1a021e4b4db5c6c0baec782868",
      "6c33f315241047c3adb2b42cf37739e2",
      "402214cc6dfd44499fa81a95c35d455e",
      "a7dda95ba4fd4c4b9df05b9c2b1dfea8",
      "780162aa7f7f4f2cb20cc97a0e6d07f5",
      "70706fe0902a4215b64f3c1e12ab8070",
      "af0c9b5f51c245aaa6be2e9cec7a41cf",
      "e9973a84261347ee9ca1ca91fc40121f",
      "966ce41aa2cd46da870a4ab69dc96590",
      "6effb837656640ab9408a3196060a805",
      "db7eb8b3ad2a478d9c96a5befacda11f",
      "db6e6d1879d7433899762c230ab7aea8",
      "f6e637110a7c4beda2267a5a0fa738ca",
      "a71683e88e734ede8eec3296cdcb2e42",
      "3c6a4724c6fa456b81c724eb3e39ee7d",
      "adffa18d1880448388b5109914ae55da",
      "83a515f7d3e54848991b1fa0897ce271",
      "c1aee1e489c84521bcfae5f71a9b5588",
      "df0f110157de4f7eae16f428c5df385a",
      "0abb359b4cda4a2180fad52ba68f150f",
      "16c1883914b34d7fb3d4d91b04bb0700",
      "04a6f2d6f29f4bd997004e7fd083a21c",
      "0c070de783214264b7158fee2aad920b",
      "805a716a01ff41fdb690035234c8d83e",
      "4673969dab4746c9a422428e3e70973a",
      "e3ed972bee9a4ef8bfd8b86c99779dfe",
      "14c0b7135cb5451196951fc1d53e83a1",
      "336f44b133cf4af48348266597f04edb",
      "ce22347d85ba44aabb85d146066f610d",
      "368e20dfe20543c19c31ae4e556ad62f",
      "705a15b86ddf45148c5614d7f5c00e42",
      "bb8bb1e7998f4dc7b4bb1e852a1e90a8",
      "8333b41535a443fa9b52c916e5b328bf",
      "6f12b1aa60af4ffebad5f54d6ef5f20c"
     ]
    },
    "id": "1IvNZUTsNGH_",
    "outputId": "0e100018-0006-4d0d-f2df-c531abb8e1d2"
   },
   "outputs": [
    {
     "name": "stderr",
     "output_type": "stream",
     "text": [
      "The cache for model files in Transformers v4.22.0 has been updated. Migrating your old cache. This is a one-time only operation. You can interrupt this and resume the migration later on by calling `transformers.utils.move_cache()`.\n"
     ]
    },
    {
     "data": {
      "application/vnd.jupyter.widget-view+json": {
       "model_id": "894f6f2fac1d4c3eaeb056d1135cfc16",
       "version_major": 2,
       "version_minor": 0
      },
      "text/plain": [
       "0it [00:00, ?it/s]"
      ]
     },
     "metadata": {},
     "output_type": "display_data"
    },
    {
     "data": {
      "application/vnd.jupyter.widget-view+json": {
       "model_id": "6c33f315241047c3adb2b42cf37739e2",
       "version_major": 2,
       "version_minor": 0
      },
      "text/plain": [
       "tokenizer_config.json:   0%|          | 0.00/1.95k [00:00<?, ?B/s]"
      ]
     },
     "metadata": {},
     "output_type": "display_data"
    },
    {
     "data": {
      "application/vnd.jupyter.widget-view+json": {
       "model_id": "f6e637110a7c4beda2267a5a0fa738ca",
       "version_major": 2,
       "version_minor": 0
      },
      "text/plain": [
       "tokenizer.json:   0%|          | 0.00/2.92M [00:00<?, ?B/s]"
      ]
     },
     "metadata": {},
     "output_type": "display_data"
    },
    {
     "data": {
      "application/vnd.jupyter.widget-view+json": {
       "model_id": "805a716a01ff41fdb690035234c8d83e",
       "version_major": 2,
       "version_minor": 0
      },
      "text/plain": [
       "special_tokens_map.json:   0%|          | 0.00/1.79k [00:00<?, ?B/s]"
      ]
     },
     "metadata": {},
     "output_type": "display_data"
    }
   ],
   "source": [
    "# 토크나이저 설정\n",
    "from transformers import AutoTokenizer\n",
    "\n",
    "model_id = \"paust/pko-t5-small\"\n",
    "tokenizer = AutoTokenizer.from_pretrained(model_id)"
   ]
  },
  {
   "cell_type": "code",
   "execution_count": null,
   "id": "UaUMSq64MxgM",
   "metadata": {
    "colab": {
     "base_uri": "https://localhost:8080/",
     "height": 113,
     "referenced_widgets": [
      "5d9f69a1cb70420293386dc32be20bee",
      "edb77b7ba3a744fc93c8a9fc2e23875a",
      "77aa322f8d3c41c98e6db7d0f4e14606",
      "5516220ed6ec48a588fa187f972045da",
      "e1572908fd9b41f2b842722a443b97fa",
      "a12a0cb851f142a3beb691431ae1e2df",
      "bad7e892069b45deb085bb9771981767",
      "ee64010a56a048458a6b61b95c6e634e",
      "e48ead2020664c2abf032c6fe94d4a79",
      "fdca39636e4d4cfb97d9a1c147cf20d4",
      "b34fc90f22a34ff193afeed806e97a11",
      "62092d6b771a4f65936bc68f158e8319",
      "40252af9e807494c8d51aea08d148080",
      "1976fdc233a646b8853b21391703ae6a",
      "164cdf56ac334f03bbfeb55b9e405ee6",
      "5c75515eb45e4e21929a129865fde37e",
      "aa934b217f1948e9a1f24ede59917bd0",
      "6344054e7bc349efa9b2ce2bab04d269",
      "aebf9dc298b24787bc18e1fe58f4f850",
      "7cdf9d90b0214a6d8901fd4b0b498295",
      "ce15abe04e99490684e63be943d00e2b",
      "ccdf3694220446beab95523c45f913d4",
      "06e8edee361b40dbaa6d44d93f512d29",
      "4d0762a1f766410c87a864e573439495",
      "5c5c12eebf9c4e839595a2751aabe99f",
      "fa805a62ea0b4fd8bc9e02c62a0d3055",
      "68c998867a794557a17b18b00a0240ee",
      "00f1d0b6dab8471990b70bf4465e1a61",
      "88f4c80df21a445a9b63197991375b6c",
      "212f39aa1c1f42398c010dd080ffff42",
      "66d9b94ee1914fa0ab64aebbc7e8a56b",
      "dd59f8bf4ab04f59ba243a6168f9fcf0",
      "a00a566430e34950bcaa80d2d926c1db"
     ]
    },
    "id": "UaUMSq64MxgM",
    "outputId": "a7304acd-d055-4462-b4c5-9dcfffbd5297"
   },
   "outputs": [
    {
     "data": {
      "application/vnd.jupyter.widget-view+json": {
       "model_id": "5d9f69a1cb70420293386dc32be20bee",
       "version_major": 2,
       "version_minor": 0
      },
      "text/plain": [
       "Map:   0%|          | 0/2000 [00:00<?, ? examples/s]"
      ]
     },
     "metadata": {},
     "output_type": "display_data"
    },
    {
     "data": {
      "application/vnd.jupyter.widget-view+json": {
       "model_id": "62092d6b771a4f65936bc68f158e8319",
       "version_major": 2,
       "version_minor": 0
      },
      "text/plain": [
       "Map:   0%|          | 0/200 [00:00<?, ? examples/s]"
      ]
     },
     "metadata": {},
     "output_type": "display_data"
    },
    {
     "data": {
      "application/vnd.jupyter.widget-view+json": {
       "model_id": "06e8edee361b40dbaa6d44d93f512d29",
       "version_major": 2,
       "version_minor": 0
      },
      "text/plain": [
       "Map:   0%|          | 0/200 [00:00<?, ? examples/s]"
      ]
     },
     "metadata": {},
     "output_type": "display_data"
    }
   ],
   "source": [
    "# train, val, test 데이터셋 전처리 수행\n",
    "train_dataset = train_dataset.map(preprocess_function, batched=True)\n",
    "eval_dataset = eval_dataset.map(preprocess_function, batched=True)\n",
    "test_dataset = test_dataset.map(preprocess_function, batched=True)"
   ]
  },
  {
   "cell_type": "code",
   "execution_count": null,
   "id": "7d8ef4bf-afc7-4c13-b910-3d5d1c5c2634",
   "metadata": {
    "id": "7d8ef4bf-afc7-4c13-b910-3d5d1c5c2634"
   },
   "outputs": [],
   "source": [
    "# 허깅페이스 로그인\n",
    "from huggingface_hub import login\n",
    "\n",
    "# 허깅페이스 허브 로그인\n",
    "token = \"****\"  # 허깅페이스 액세스 토큰 입력\n",
    "login(token=token)"
   ]
  },
  {
   "cell_type": "code",
   "execution_count": null,
   "id": "ab55eb2e-a41a-4bb5-8572-2ac02320f22c",
   "metadata": {
    "colab": {
     "base_uri": "https://localhost:8080/"
    },
    "id": "ab55eb2e-a41a-4bb5-8572-2ac02320f22c",
    "outputId": "66a8953e-b4cf-432e-a3cf-f5374c8d834a"
   },
   "outputs": [
    {
     "name": "stdout",
     "output_type": "stream",
     "text": [
      "\u001b[?25l   \u001b[90m━━━━━━━━━━━━━━━━━━━━━━━━━━━━━━━━━━━━━━━━\u001b[0m \u001b[32m0.0/84.0 kB\u001b[0m \u001b[31m?\u001b[0m eta \u001b[36m-:--:--\u001b[0m\r",
      "\u001b[2K   \u001b[90m━━━━━━━━━━━━━━━━━━━━━━━━━━━━━━━━━━━━━━━━\u001b[0m \u001b[32m84.0/84.0 kB\u001b[0m \u001b[31m2.2 MB/s\u001b[0m eta \u001b[36m0:00:00\u001b[0m\n",
      "\u001b[?25h  Preparing metadata (setup.py) ... \u001b[?25l\u001b[?25hdone\n",
      "  Building wheel for rouge_score (setup.py) ... \u001b[?25l\u001b[?25hdone\n"
     ]
    }
   ],
   "source": [
    "!pip install evaluate -qqq\n",
    "!pip install rouge_score -qqq\n",
    "from transformers import AutoModelForSeq2SeqLM, Seq2SeqTrainingArguments, Seq2SeqTrainer, DataCollatorForSeq2Seq\n",
    "from peft import prepare_model_for_kbit_training, LoraConfig, get_peft_model, AutoPeftModelForSeq2SeqLM\n",
    "import evaluate\n",
    "from tqdm import tqdm\n",
    "import numpy as np\n",
    "import rouge_score"
   ]
  },
  {
   "cell_type": "code",
   "execution_count": null,
   "id": "oSz5bOaSxpU4",
   "metadata": {
    "colab": {
     "base_uri": "https://localhost:8080/",
     "height": 113,
     "referenced_widgets": [
      "dc379a47afe149ebbd0ee70dc2d7a280",
      "4cfb403e162d4a6da817d33a78b9c3e2",
      "2073842ce33e4d689c02522f767d9560",
      "b1b96a928a0848a796e685cc27dc7539",
      "14c31c85fef249bfb7b7afa55f3ab545",
      "251a0a4354fb41b0aec034e854241568",
      "e5267691ab284bd7b1924aa7457416d9",
      "6504d65365c341d3b77e400c0f01f28a",
      "dc5288fa22ec4cf8b09e6d0cbe158951",
      "6ac9fef2c415450fb04d1d768ba2eb86",
      "b2a16d1c5063449b89d6cbda45cd2ed0",
      "de18d7babd594c7daa4be2c2c4992810",
      "d508a679799946758d73f2a704893a6c",
      "6c3902fb22814a33a30d03852f6df90f",
      "4e18054a6b8b4bd48dc4c43f94940094",
      "930cffe82a0448dba6bedb031256180e",
      "f7d72b6d294e449ea6ac9ab01a30e752",
      "b7833cd6974748f6a4648e21de45b2d5",
      "285a6ff3cc6e4d65b0acf416de64dc40",
      "8ed4f8ae10684fc8a5c00b37c8cdcbab",
      "5e60302c270d4dcdbb7973929e96eecf",
      "93c89c2506744c13b0ea201c4d289454",
      "744ef9d85f9f442ebc5da1e36980912c",
      "cc13ef155345472d81eb9bcaf6b540c0",
      "b83d03759a6c458189cc3d82e486d9ba",
      "e03f3dfb0b24444c9f7b91015309fc1e",
      "7a1fdedb547d48d1851b61be3127532a",
      "051d466156484cb69c14d844115ad7a0",
      "167055e86ff24c9eaae66ae831300ca8",
      "40fea5cdead840a2ab4f29fba0613a72",
      "d8bf2066589f45bda000e9e450cb47b1",
      "a93331767b9d49aaa6afbfea8bb06341",
      "5e457b117bd245aa9026a4ec9ab9f44f"
     ]
    },
    "id": "oSz5bOaSxpU4",
    "outputId": "5f59f950-7a1b-42be-f434-5e41fd731098"
   },
   "outputs": [
    {
     "data": {
      "application/vnd.jupyter.widget-view+json": {
       "model_id": "dc379a47afe149ebbd0ee70dc2d7a280",
       "version_major": 2,
       "version_minor": 0
      },
      "text/plain": [
       "config.json:   0%|          | 0.00/726 [00:00<?, ?B/s]"
      ]
     },
     "metadata": {},
     "output_type": "display_data"
    },
    {
     "data": {
      "application/vnd.jupyter.widget-view+json": {
       "model_id": "de18d7babd594c7daa4be2c2c4992810",
       "version_major": 2,
       "version_minor": 0
      },
      "text/plain": [
       "pytorch_model.bin:   0%|          | 0.00/383M [00:00<?, ?B/s]"
      ]
     },
     "metadata": {},
     "output_type": "display_data"
    },
    {
     "data": {
      "application/vnd.jupyter.widget-view+json": {
       "model_id": "744ef9d85f9f442ebc5da1e36980912c",
       "version_major": 2,
       "version_minor": 0
      },
      "text/plain": [
       "model.safetensors:   0%|          | 0.00/383M [00:00<?, ?B/s]"
      ]
     },
     "metadata": {},
     "output_type": "display_data"
    }
   ],
   "source": [
    "# 모델 불러오기\n",
    "model = AutoModelForSeq2SeqLM.from_pretrained(model_id, device_map=\"auto\")\n",
    "# model = prepare_model_for_kbit_training(model)"
   ]
  },
  {
   "cell_type": "code",
   "execution_count": null,
   "id": "FUAV2cp7okUy",
   "metadata": {
    "id": "FUAV2cp7okUy"
   },
   "outputs": [],
   "source": [
    "# 로라 config 설정 및 모델에 결합\n",
    "lora_config = LoraConfig(\n",
    "    r=16,\n",
    "    lora_alpha=32,\n",
    "    target_modules=[\"q\", \"v\", \"k\", \"o\", \"wi\", \"wo\"],\n",
    "    lora_dropout=0.05,\n",
    "    bias=\"none\",\n",
    "    task_type=\"SEQ_2_SEQ_LM\"\n",
    ")\n",
    "\n",
    "model = get_peft_model(model, lora_config)"
   ]
  },
  {
   "cell_type": "code",
   "execution_count": null,
   "id": "LtCqN2TeFSeC",
   "metadata": {
    "colab": {
     "base_uri": "https://localhost:8080/",
     "height": 211
    },
    "id": "LtCqN2TeFSeC",
    "outputId": "572ff293-9a97-4256-c0ea-24338fd6401f"
   },
   "outputs": [
    {
     "name": "stderr",
     "output_type": "stream",
     "text": [
      "\u001b[34m\u001b[1mwandb\u001b[0m: \u001b[33mWARNING\u001b[0m If you're specifying your api key in code, ensure this code is not shared publicly.\n",
      "\u001b[34m\u001b[1mwandb\u001b[0m: \u001b[33mWARNING\u001b[0m Consider setting the WANDB_API_KEY environment variable, or running `wandb login` from the command line.\n",
      "\u001b[34m\u001b[1mwandb\u001b[0m: Appending key for api.wandb.ai to your netrc file: /root/.netrc\n",
      "\u001b[34m\u001b[1mwandb\u001b[0m: Currently logged in as: \u001b[33mdgriii0606\u001b[0m (\u001b[33mdg-test\u001b[0m) to \u001b[32mhttps://api.wandb.ai\u001b[0m. Use \u001b[1m`wandb login --relogin`\u001b[0m to force relogin\n",
      "\u001b[34m\u001b[1mwandb\u001b[0m: Using wandb-core as the SDK backend.  Please refer to https://wandb.me/wandb-core for more information.\n"
     ]
    },
    {
     "data": {
      "text/html": [
       "Tracking run with wandb version 0.19.6"
      ],
      "text/plain": [
       "<IPython.core.display.HTML object>"
      ]
     },
     "metadata": {},
     "output_type": "display_data"
    },
    {
     "data": {
      "text/html": [
       "Run data is saved locally in <code>/content/wandb/run-20250218_204328-z60yoxnu</code>"
      ],
      "text/plain": [
       "<IPython.core.display.HTML object>"
      ]
     },
     "metadata": {},
     "output_type": "display_data"
    },
    {
     "data": {
      "text/html": [
       "Syncing run <strong><a href='https://wandb.ai/dg-test/t5-small-korean-news-summarizer/runs/z60yoxnu?apiKey=77a08abc9cfd76e4b78603826bd7a863487240ac' target=\"_blank\">avid-brook-13</a></strong> to <a href='https://wandb.ai/dg-test/t5-small-korean-news-summarizer?apiKey=77a08abc9cfd76e4b78603826bd7a863487240ac' target=\"_blank\">Weights & Biases</a> (<a href='https://wandb.me/developer-guide' target=\"_blank\">docs</a>)<br>"
      ],
      "text/plain": [
       "<IPython.core.display.HTML object>"
      ]
     },
     "metadata": {},
     "output_type": "display_data"
    },
    {
     "data": {
      "text/html": [
       " View project at <a href='https://wandb.ai/dg-test/t5-small-korean-news-summarizer?apiKey=77a08abc9cfd76e4b78603826bd7a863487240ac' target=\"_blank\">https://wandb.ai/dg-test/t5-small-korean-news-summarizer?apiKey=77a08abc9cfd76e4b78603826bd7a863487240ac</a>"
      ],
      "text/plain": [
       "<IPython.core.display.HTML object>"
      ]
     },
     "metadata": {},
     "output_type": "display_data"
    },
    {
     "data": {
      "text/html": [
       " View run at <a href='https://wandb.ai/dg-test/t5-small-korean-news-summarizer/runs/z60yoxnu?apiKey=77a08abc9cfd76e4b78603826bd7a863487240ac' target=\"_blank\">https://wandb.ai/dg-test/t5-small-korean-news-summarizer/runs/z60yoxnu?apiKey=77a08abc9cfd76e4b78603826bd7a863487240ac</a>"
      ],
      "text/plain": [
       "<IPython.core.display.HTML object>"
      ]
     },
     "metadata": {},
     "output_type": "display_data"
    },
    {
     "data": {
      "text/html": [
       "Do NOT share these links with anyone. They can be used to claim your runs."
      ],
      "text/plain": [
       "<IPython.core.display.HTML object>"
      ]
     },
     "metadata": {},
     "output_type": "display_data"
    }
   ],
   "source": [
    "# wandb 설정\n",
    "import wandb\n",
    "wandb.login(key='77a08abc9cfd76e4b78603826bd7a863487240ac')\n",
    "run = wandb.init(project='t5-small-korean-news-summarizer', job_type='training', anonymous='allow')"
   ]
  },
  {
   "cell_type": "code",
   "execution_count": null,
   "id": "d0440468-1698-4ec6-a8bd-b55635abee15",
   "metadata": {
    "colab": {
     "base_uri": "https://localhost:8080/"
    },
    "id": "d0440468-1698-4ec6-a8bd-b55635abee15",
    "outputId": "ffd3f660-dc24-4fb6-f727-674dca76aecf"
   },
   "outputs": [
    {
     "name": "stderr",
     "output_type": "stream",
     "text": [
      "/usr/local/lib/python3.11/dist-packages/transformers/training_args.py:1575: FutureWarning: `evaluation_strategy` is deprecated and will be removed in version 4.46 of 🤗 Transformers. Use `eval_strategy` instead\n",
      "  warnings.warn(\n"
     ]
    }
   ],
   "source": [
    "# 학습 어규먼트 설정\n",
    "training_args = Seq2SeqTrainingArguments(\n",
    "    output_dir=\"korean-news-summarizer\",\n",
    "    learning_rate=3e-4,\n",
    "    num_train_epochs=1,\n",
    "    per_device_train_batch_size=8,\n",
    "    per_device_eval_batch_size=8,\n",
    "    warmup_steps=500,\n",
    "    weight_decay=0.01,\n",
    "    save_strategy=\"epoch\",\n",
    "    evaluation_strategy=\"epoch\",\n",
    "    logging_dir=\"logs\",\n",
    "    logging_strategy=\"steps\",\n",
    "    logging_steps=10,\n",
    "    report_to=\"wandb\",\n",
    "    predict_with_generate=True\n",
    ")"
   ]
  },
  {
   "cell_type": "code",
   "execution_count": null,
   "id": "3F-ygBsanbdQ",
   "metadata": {
    "id": "3F-ygBsanbdQ"
   },
   "outputs": [],
   "source": [
    "# 평가 메트릭 함수 생성\n",
    "rouge = evaluate.load('rouge')\n",
    "\n",
    "def compute_metrics(eval_pred):\n",
    "    predictions, labels = eval_pred\n",
    "\n",
    "    # 각 배열을 Python 리스트로 변환\n",
    "    predictions = predictions.tolist()\n",
    "    labels = labels.tolist()\n",
    "\n",
    "    # 위에서 패딩 토큰 -> -100 처리한 부분을 다시 원래 패딩 토큰으로 변환  # labels중 -100을 패딩 토큰(pad_token_id)으로 변환\n",
    "    labels = [ [tokenizer.pad_token_id if token == -100 else token for token in label] for label in labels ]  # 2차원 배열에 대한 리스트 컴프리헨션\n",
    "\n",
    "    # batch_decode로 한 번에 디코딩  # 배치 단위로 디코딩\n",
    "    decoded_preds = tokenizer.batch_decode(predictions, skip_special_tokens=True)\n",
    "    decoded_labels = tokenizer.batch_decode(labels, skip_special_tokens=True)\n",
    "\n",
    "    # ROUGE 점수 계산\n",
    "    rouge_scores = rouge.compute(predictions=decoded_preds, references=decoded_labels, use_aggregator=True)\n",
    "\n",
    "    return rouge_scores"
   ]
  },
  {
   "cell_type": "code",
   "execution_count": null,
   "id": "851966c3-6648-4f4e-88d8-40043557a4be",
   "metadata": {
    "colab": {
     "base_uri": "https://localhost:8080/"
    },
    "id": "851966c3-6648-4f4e-88d8-40043557a4be",
    "outputId": "5abb9cd2-cd2e-4624-bcea-b5cd3d92d36a"
   },
   "outputs": [
    {
     "name": "stderr",
     "output_type": "stream",
     "text": [
      "<ipython-input-57-e7a1550888f5>:2: FutureWarning: `tokenizer` is deprecated and will be removed in version 5.0.0 for `Seq2SeqTrainer.__init__`. Use `processing_class` instead.\n",
      "  trainer = Seq2SeqTrainer(\n"
     ]
    }
   ],
   "source": [
    "# 트레이너 설정\n",
    "trainer = Seq2SeqTrainer(\n",
    "    model=model,\n",
    "    args=training_args,\n",
    "    train_dataset=train_dataset,\n",
    "    eval_dataset=eval_dataset,\n",
    "    tokenizer=tokenizer,\n",
    "    data_collator=DataCollatorForSeq2Seq(tokenizer=tokenizer),\n",
    "    compute_metrics=compute_metrics\n",
    "\n",
    ")"
   ]
  },
  {
   "cell_type": "code",
   "execution_count": null,
   "id": "2Eq7mV72YcwU",
   "metadata": {
    "colab": {
     "base_uri": "https://localhost:8080/",
     "height": 142
    },
    "id": "2Eq7mV72YcwU",
    "outputId": "69f99ede-d4e6-430e-8872-b33b18226c7a"
   },
   "outputs": [
    {
     "data": {
      "text/html": [
       "\n",
       "    <div>\n",
       "      \n",
       "      <progress value='250' max='250' style='width:300px; height:20px; vertical-align: middle;'></progress>\n",
       "      [250/250 00:50, Epoch 1/1]\n",
       "    </div>\n",
       "    <table border=\"1\" class=\"dataframe\">\n",
       "  <thead>\n",
       " <tr style=\"text-align: left;\">\n",
       "      <th>Epoch</th>\n",
       "      <th>Training Loss</th>\n",
       "      <th>Validation Loss</th>\n",
       "      <th>Rouge1</th>\n",
       "      <th>Rouge2</th>\n",
       "      <th>Rougel</th>\n",
       "      <th>Rougelsum</th>\n",
       "    </tr>\n",
       "  </thead>\n",
       "  <tbody>\n",
       "    <tr>\n",
       "      <td>1</td>\n",
       "      <td>0.695600</td>\n",
       "      <td>0.720194</td>\n",
       "      <td>0.305070</td>\n",
       "      <td>0.082279</td>\n",
       "      <td>0.296962</td>\n",
       "      <td>0.296996</td>\n",
       "    </tr>\n",
       "  </tbody>\n",
       "</table><p>"
      ],
      "text/plain": [
       "<IPython.core.display.HTML object>"
      ]
     },
     "metadata": {},
     "output_type": "display_data"
    },
    {
     "data": {
      "text/plain": [
       "TrainOutput(global_step=250, training_loss=0.6835206832885742, metrics={'train_runtime': 51.1865, 'train_samples_per_second': 39.073, 'train_steps_per_second': 4.884, 'total_flos': 439999266816000.0, 'train_loss': 0.6835206832885742, 'epoch': 1.0})"
      ]
     },
     "execution_count": 47,
     "metadata": {},
     "output_type": "execute_result"
    }
   ],
   "source": [
    "trainer.train()"
   ]
  },
  {
   "cell_type": "code",
   "execution_count": null,
   "id": "mrH9_mMo5jTv",
   "metadata": {
    "colab": {
     "base_uri": "https://localhost:8080/",
     "height": 198
    },
    "id": "mrH9_mMo5jTv",
    "outputId": "97c8a89a-474e-41ba-f3ae-1e281a949f76"
   },
   "outputs": [
    {
     "data": {
      "text/html": [
       "\n",
       "    <div>\n",
       "      \n",
       "      <progress value='25' max='25' style='width:300px; height:20px; vertical-align: middle;'></progress>\n",
       "      [25/25 00:12]\n",
       "    </div>\n",
       "    "
      ],
      "text/plain": [
       "<IPython.core.display.HTML object>"
      ]
     },
     "metadata": {},
     "output_type": "display_data"
    },
    {
     "data": {
      "text/plain": [
       "{'eval_loss': 0.6840291023254395,\n",
       " 'eval_model_preparation_time': 0.0142,\n",
       " 'eval_rouge1': 0.2581140851107954,\n",
       " 'eval_rouge2': 0.06744222444222445,\n",
       " 'eval_rougeL': 0.25196706254272033,\n",
       " 'eval_rougeLsum': 0.25144132804330155,\n",
       " 'eval_runtime': 13.0397,\n",
       " 'eval_samples_per_second': 15.338,\n",
       " 'eval_steps_per_second': 1.917}"
      ]
     },
     "execution_count": 58,
     "metadata": {},
     "output_type": "execute_result"
    }
   ],
   "source": [
    "# 테스트 데이터셋 평가\n",
    "trainer.evaluate(test_dataset)"
   ]
  },
  {
   "cell_type": "code",
   "execution_count": null,
   "id": "47qqflXT6sCy",
   "metadata": {
    "id": "47qqflXT6sCy"
   },
   "outputs": [],
   "source": [
    "sample_text = \"\"\"\n",
    "\n",
    "정월대보름(2월12일)을 앞두고 서민들의 시름이 깊어지고 있다.\n",
    "고물가 장기화에 장바구니 가격 부담이 갈수록 커지는 가운데 정월대보름에 챙겨먹는 오곡밥과 부럼 등 재료 가격마저 크게 올랐기 때문이다. 대형마트는 국산 재료 값이 급등하자 일부 품목을 수입산으로 대체하고 있다.\n",
    "10일 대형마트 업계에 따르면 오곡밥 주재료인 붉은팥, 찹쌀, 서리태, 수수, 차조 등 국산 잡곡 시세가 일제히 상승했다.\n",
    "특히 잡곡밥에 들어가는 붉은팥 가격이 전년 대비 50%가량 뛰었고 찹쌀도 23% 이상 급등했다. 부럼 재료인 은행과 땅콩 가격 역시 17%가량 올랐다. 국산 건나물도 상황은 마찬가지다.\n",
    "호박과 고구마순의 가격이 각각 20%, 10% 이상 뛰었고 기획상품으로 내놓는 건나물 4종 세트 역시 전년 대비 평균 5~10% 올랐다.\n",
    "유통업계에서는 정월대보름 주요 품목 가격이 오른 이유로 재배 면적 축소에 따른 생산량 감소, 폭염 등 이상기후로 인한 작황 부진, 고물가 장기화에 집밥 수요 급증 등의 영향 등을 꼽고 있다.\n",
    "이에 따라 대형마트들은 고객들의 장바구니 물가 부담을 덜어주기 위해 일부 품목을 수입산으로 대체하고 있다.\n",
    "붉은팥과 호두, 땅콩 등이 대표적이다.\n",
    "롯데마트는 오는 12일까지 캐나다·페루산 붉은팥을 1㎏·1.2㎏들이 1봉당 각각 7990원에 선보인다.\n",
    "또 중국산 볶음 피땅콩(450g)과 미국산 피호두(미국산·300g)를 2개 이상 구매하면 개당 2000원 할인한 각각 5990원에 판다.\n",
    "홈플러스는 같은 기간 캐나다산 붉은팥을 1봉(600ｇ)당 9990원에 팔고 1봉을 사면 1봉을 덤으로 주는 ‘1+1’ 행사를 연다.\n",
    "또 미국산 호두(300g)와 중국산 볶음피땅콩(500g)을 4990원에 내놓고, 미국산 피스타치오(100g)를 포함, 대보름 부럼세트(총 280ｇ)를 6990원에 판매한다.\n",
    "이마트 역시 미국산 피호두(300ｇ)와 중국산 볶음 피땅콩(480ｇ)을 25% 할인한 5235원에 내놓는다.\n",
    "한편 한국물가정보가 발표한 정월 대보름 주요 10개 품목 가격을 보면 전통시장의 합산 가격은 지난해 대비 6.2% 오른 13만9700원, 대형마트는 8.0% 오른 18만5220원으로 나타났다.\n",
    "가격 상승 폭이 가장 큰 품목은 오곡밥 재료 중 붉은팥으로 1되(800g)가 전통시장에서는 전년 대비 45.5% 오른 1만6000원, 대형마트에서는 45.0% 오른 2만1920원이었다.\n",
    "찹쌀은 1되(800g) 가격이 전통시장 기준 3200원으로 지난해보다 23.1% 올랐고, 대형마트에서는 5040원으로 28.6% 뛰었다.\n",
    "검정콩 1되(720g)는 지난해보다 전통시장·대형마트 판매 가격이 각각 7.1%, 5.2% 올랐다.\n",
    "부럼 재료 중에서는 은행과 땅콩 가격이 크게 올랐다. 은행 1되(600g) 가격은 전통시장 7000원, 대형마트 9840원으로 지난해보다 각각 16.7%, 15.2% 뛰었다.\n",
    "땅콩 1되(400g)는 전통시장 가격이 1만원으로 지난해보다 11.1% 올랐고, 대형마트는 1만3560원으로 13.4% 인상됐다.\n",
    "\n",
    "\"\"\""
   ]
  },
  {
   "cell_type": "code",
   "execution_count": null,
   "id": "ltrugxyf84Da",
   "metadata": {
    "id": "ltrugxyf84Da"
   },
   "outputs": [],
   "source": [
    "# t5 인풋 형식으로 인풋 텍스트 저장해서 토크나이저로 토큰화\n",
    "input_text = \"summarize: \" + sample_text\n",
    "inputs = tokenizer(input_text, return_tensors=\"pt\", max_length=1024, truncation=True).to(\"cuda\")\n",
    "\n",
    "# 아웃풋 생성하고 아웃풋 다시 디코딩\n",
    "outputs = model.generate(**inputs, max_length=128, num_beams=3, temperature=0.7)\n",
    "summary = tokenizer.decode(outputs[0], skip_special_tokens=True)"
   ]
  },
  {
   "cell_type": "code",
   "execution_count": null,
   "id": "I1vPjzwK9bp-",
   "metadata": {
    "colab": {
     "base_uri": "https://localhost:8080/",
     "height": 54
    },
    "id": "I1vPjzwK9bp-",
    "outputId": "91e15605-4f9a-4173-db07-8fb9703030f6"
   },
   "outputs": [
    {
     "data": {
      "application/vnd.google.colaboratory.intrinsic+json": {
       "type": "string"
      },
      "text/plain": [
       "'10일 대형마트 업계에 따르면 오곡밥 주재료인 붉은팥, 찹쌀, 서리태, 수수, 차조 등 국산 잡곡 시세가 일제히 상승하며 오곡밥과 부럼 등 재료 가격마저 크게 올랐기 때문에 일부 품목을 수입산으로 대체하고 있다.'"
      ]
     },
     "execution_count": 72,
     "metadata": {},
     "output_type": "execute_result"
    }
   ],
   "source": [
    "summary"
   ]
  },
  {
   "cell_type": "code",
   "execution_count": null,
   "id": "4mZJ_n7i-kHE",
   "metadata": {
    "colab": {
     "base_uri": "https://localhost:8080/"
    },
    "id": "4mZJ_n7i-kHE",
    "outputId": "8acab5d8-97d7-4ff7-8f32-dd411e07b028"
   },
   "outputs": [
    {
     "data": {
      "text/plain": [
       "('merged-summarizer/tokenizer_config.json',\n",
       " 'merged-summarizer/special_tokens_map.json',\n",
       " 'merged-summarizer/tokenizer.json')"
      ]
     },
     "execution_count": 73,
     "metadata": {},
     "output_type": "execute_result"
    }
   ],
   "source": [
    "# 베이스 모델과 병합\n",
    "merged_model = model.merge_and_unload()\n",
    "merged_model.save_pretrained(\"merged-summarizer\")\n",
    "tokenizer.save_pretrained(\"merged-summarizer\")"
   ]
  },
  {
   "cell_type": "code",
   "execution_count": null,
   "id": "ETC3CKPr-ocG",
   "metadata": {
    "colab": {
     "base_uri": "https://localhost:8080/",
     "height": 170,
     "referenced_widgets": [
      "2f4b445e1fa74858b3651b8ff0ae0fd4",
      "713c0548944b49f4994efac5e2510762",
      "f08ec274792c46ed8538b7bddc10193e",
      "4ffe0c300aab44429efbd15ca06fe5a7",
      "c8601cddf7f743f0bb764f6e2005677c",
      "a28be5a8bc3a4bd1b27e413e53cc1664",
      "e560d960e7a24b37b9a86ded731b1a4e",
      "4108654f581349b4933e40e0af85582b",
      "771d355668aa498088b14370d409d02a",
      "4fe93d14a65842a4a0321df9c92ea285",
      "4875d5b2a9094ba7ba05df48b6449c18",
      "b5c0aa33e4f64595aa3fce65afe156fb",
      "f6bba8646b4140a59b91fc7813421aa6",
      "f71222e5b80c4b7ea69c50f4051281db",
      "691de5b9aca94a04aa9cd7e549f1848d",
      "2a269567a7954656a956511e538827db",
      "28348a193c834526951fe971a4501532",
      "71636c99f49746198a200aeebaedfa19",
      "3876006b30d44df991a0172c2b91aa67",
      "ab8ef8523dba4d759d3cd7232a436ae4",
      "0b8957199ff84f7096edab74a31f458f",
      "4063732d33d446e08b79b22b4979c003"
     ]
    },
    "id": "ETC3CKPr-ocG",
    "outputId": "052940ae-0b1d-4459-82c0-358cf19be796"
   },
   "outputs": [
    {
     "data": {
      "application/vnd.jupyter.widget-view+json": {
       "model_id": "2f4b445e1fa74858b3651b8ff0ae0fd4",
       "version_major": 2,
       "version_minor": 0
      },
      "text/plain": [
       "model.safetensors:   0%|          | 0.00/383M [00:00<?, ?B/s]"
      ]
     },
     "metadata": {},
     "output_type": "display_data"
    },
    {
     "data": {
      "application/vnd.jupyter.widget-view+json": {
       "model_id": "b5c0aa33e4f64595aa3fce65afe156fb",
       "version_major": 2,
       "version_minor": 0
      },
      "text/plain": [
       "README.md:   0%|          | 0.00/5.17k [00:00<?, ?B/s]"
      ]
     },
     "metadata": {},
     "output_type": "display_data"
    },
    {
     "data": {
      "application/vnd.google.colaboratory.intrinsic+json": {
       "type": "string"
      },
      "text/plain": [
       "CommitInfo(commit_url='https://huggingface.co/edgeun/t5-small-korean-news-summarizer/commit/d1ee52e8d35453e0f0a8364354500f29bcbbdaba', commit_message='Upload tokenizer', commit_description='', oid='d1ee52e8d35453e0f0a8364354500f29bcbbdaba', pr_url=None, repo_url=RepoUrl('https://huggingface.co/edgeun/t5-small-korean-news-summarizer', endpoint='https://huggingface.co', repo_type='model', repo_id='edgeun/t5-small-korean-news-summarizer'), pr_revision=None, pr_num=None)"
      ]
     },
     "execution_count": 74,
     "metadata": {},
     "output_type": "execute_result"
    }
   ],
   "source": [
    "from huggingface_hub import HfApi\n",
    "\n",
    "api = HfApi()\n",
    "\n",
    "repo_id = \"edgeun/t5-small-korean-news-summarizer\"\n",
    "api.create_repo(repo_id, private=False)\n",
    "\n",
    "merged_model.push_to_hub(repo_id)\n",
    "tokenizer.push_to_hub(repo_id)"
   ]
  }
 ],
 "metadata": {
  "accelerator": "GPU",
  "colab": {
   "gpuType": "A100",
   "machine_shape": "hm",
   "provenance": []
  },
  "kernelspec": {
   "display_name": "Python 3 (ipykernel)",
   "language": "python",
   "name": "python3"
  },
  "language_info": {
   "codemirror_mode": {
    "name": "ipython",
    "version": 3
   },
   "file_extension": ".py",
   "mimetype": "text/x-python",
   "name": "python",
   "nbconvert_exporter": "python",
   "pygments_lexer": "ipython3",
   "version": "3.10.12"
  }
 },
 "nbformat": 4,
 "nbformat_minor": 5
}
